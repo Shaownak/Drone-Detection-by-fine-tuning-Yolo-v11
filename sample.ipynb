{
 "cells": [
  {
   "cell_type": "code",
   "execution_count": 1,
   "id": "initial_id",
   "metadata": {
    "collapsed": true,
    "ExecuteTime": {
     "end_time": "2025-02-16T14:07:59.716295Z",
     "start_time": "2025-02-16T14:07:57.880135Z"
    }
   },
   "outputs": [
    {
     "name": "stdout",
     "output_type": "stream",
     "text": [
      "True\n"
     ]
    }
   ],
   "source": [
    "import torch\n",
    "print(torch.cuda.is_available())  # Should return True if GPU is available"
   ]
  },
  {
   "cell_type": "code",
   "outputs": [
    {
     "name": "stdout",
     "output_type": "stream",
     "text": [
      "NVIDIA GeForce RTX 3060\n"
     ]
    }
   ],
   "source": [
    "print(torch.cuda.get_device_name(0))  # Prints the name of your GPU"
   ],
   "metadata": {
    "collapsed": false,
    "ExecuteTime": {
     "end_time": "2025-02-16T14:08:02.290253Z",
     "start_time": "2025-02-16T14:08:02.277743Z"
    }
   },
   "id": "dde7f22bb182f9a5",
   "execution_count": 2
  },
  {
   "cell_type": "code",
   "outputs": [],
   "source": [
    "!pip install ultralytics roboflow --quiet"
   ],
   "metadata": {
    "collapsed": false,
    "ExecuteTime": {
     "end_time": "2025-02-16T12:36:01.306749Z",
     "start_time": "2025-02-16T12:35:44.510755Z"
    }
   },
   "id": "8e6c1e97380c0d30",
   "execution_count": 3
  },
  {
   "cell_type": "code",
   "outputs": [
    {
     "name": "stdout",
     "output_type": "stream",
     "text": [
      "Using device: cuda\n"
     ]
    }
   ],
   "source": [
    "import torch\n",
    "\n",
    "# Check if GPU is available\n",
    "device = \"cuda\" if torch.cuda.is_available() else \"cpu\"\n",
    "print(f\"Using device: {device}\")\n"
   ],
   "metadata": {
    "collapsed": false,
    "ExecuteTime": {
     "end_time": "2025-02-16T14:08:11.906806Z",
     "start_time": "2025-02-16T14:08:11.892293Z"
    }
   },
   "id": "52a1ca8814a7265f",
   "execution_count": 3
  },
  {
   "cell_type": "code",
   "outputs": [
    {
     "name": "stdout",
     "output_type": "stream",
     "text": [
      "Requirement already satisfied: roboflow in c:\\users\\user\\anaconda3\\envs\\cv_cuda\\lib\\site-packages (1.1.54)\n",
      "Requirement already satisfied: certifi in c:\\users\\user\\anaconda3\\envs\\cv_cuda\\lib\\site-packages (from roboflow) (2024.2.2)\n",
      "Requirement already satisfied: idna==3.7 in c:\\users\\user\\anaconda3\\envs\\cv_cuda\\lib\\site-packages (from roboflow) (3.7)\n",
      "Requirement already satisfied: cycler in c:\\users\\user\\anaconda3\\envs\\cv_cuda\\lib\\site-packages (from roboflow) (0.12.1)\n",
      "Requirement already satisfied: kiwisolver>=1.3.1 in c:\\users\\user\\anaconda3\\envs\\cv_cuda\\lib\\site-packages (from roboflow) (1.4.5)\n",
      "Requirement already satisfied: matplotlib in c:\\users\\user\\anaconda3\\envs\\cv_cuda\\lib\\site-packages (from roboflow) (3.7.5)\n",
      "Requirement already satisfied: numpy>=1.18.5 in c:\\users\\user\\anaconda3\\envs\\cv_cuda\\lib\\site-packages (from roboflow) (1.23.5)\n",
      "Requirement already satisfied: opencv-python-headless==4.10.0.84 in c:\\users\\user\\anaconda3\\envs\\cv_cuda\\lib\\site-packages (from roboflow) (4.10.0.84)\n",
      "Requirement already satisfied: Pillow>=7.1.2 in c:\\users\\user\\anaconda3\\envs\\cv_cuda\\lib\\site-packages (from roboflow) (10.2.0)\n",
      "Requirement already satisfied: python-dateutil in c:\\users\\user\\anaconda3\\envs\\cv_cuda\\lib\\site-packages (from roboflow) (2.8.2)\n",
      "Requirement already satisfied: python-dotenv in c:\\users\\user\\anaconda3\\envs\\cv_cuda\\lib\\site-packages (from roboflow) (1.0.1)\n",
      "Requirement already satisfied: requests in c:\\users\\user\\anaconda3\\envs\\cv_cuda\\lib\\site-packages (from roboflow) (2.31.0)\n",
      "Requirement already satisfied: six in c:\\users\\user\\anaconda3\\envs\\cv_cuda\\lib\\site-packages (from roboflow) (1.16.0)\n",
      "Requirement already satisfied: urllib3>=1.26.6 in c:\\users\\user\\anaconda3\\envs\\cv_cuda\\lib\\site-packages (from roboflow) (2.1.0)\n",
      "Requirement already satisfied: tqdm>=4.41.0 in c:\\users\\user\\anaconda3\\envs\\cv_cuda\\lib\\site-packages (from roboflow) (4.66.2)\n",
      "Requirement already satisfied: PyYAML>=5.3.1 in c:\\users\\user\\anaconda3\\envs\\cv_cuda\\lib\\site-packages (from roboflow) (6.0.1)\n",
      "Requirement already satisfied: requests-toolbelt in c:\\users\\user\\anaconda3\\envs\\cv_cuda\\lib\\site-packages (from roboflow) (1.0.0)\n",
      "Requirement already satisfied: filetype in c:\\users\\user\\anaconda3\\envs\\cv_cuda\\lib\\site-packages (from roboflow) (1.2.0)\n",
      "Requirement already satisfied: colorama in c:\\users\\user\\anaconda3\\envs\\cv_cuda\\lib\\site-packages (from tqdm>=4.41.0->roboflow) (0.4.6)\n",
      "Requirement already satisfied: contourpy>=1.0.1 in c:\\users\\user\\anaconda3\\envs\\cv_cuda\\lib\\site-packages (from matplotlib->roboflow) (1.1.1)\n",
      "Requirement already satisfied: fonttools>=4.22.0 in c:\\users\\user\\anaconda3\\envs\\cv_cuda\\lib\\site-packages (from matplotlib->roboflow) (4.50.0)\n",
      "Requirement already satisfied: packaging>=20.0 in c:\\users\\user\\anaconda3\\envs\\cv_cuda\\lib\\site-packages (from matplotlib->roboflow) (23.2)\n",
      "Requirement already satisfied: pyparsing>=2.3.1 in c:\\users\\user\\anaconda3\\envs\\cv_cuda\\lib\\site-packages (from matplotlib->roboflow) (3.1.2)\n",
      "Requirement already satisfied: importlib-resources>=3.2.0 in c:\\users\\user\\anaconda3\\envs\\cv_cuda\\lib\\site-packages (from matplotlib->roboflow) (6.1.1)\n",
      "Requirement already satisfied: charset-normalizer<4,>=2 in c:\\users\\user\\anaconda3\\envs\\cv_cuda\\lib\\site-packages (from requests->roboflow) (2.0.4)\n",
      "Requirement already satisfied: zipp>=3.1.0 in c:\\users\\user\\anaconda3\\envs\\cv_cuda\\lib\\site-packages (from importlib-resources>=3.2.0->matplotlib->roboflow) (3.17.0)\n",
      "loading Roboflow workspace...\n",
      "loading Roboflow project...\n"
     ]
    },
    {
     "name": "stderr",
     "output_type": "stream",
     "text": [
      "Downloading Dataset Version Zip in DRONES_NEW-4 to yolov8:: 100%|██████████| 986124/986124 [03:42<00:00, 4423.48it/s]"
     ]
    },
    {
     "name": "stdout",
     "output_type": "stream",
     "text": []
    },
    {
     "name": "stderr",
     "output_type": "stream",
     "text": [
      "\n",
      "Extracting Dataset Version Zip to DRONES_NEW-4 in yolov8:: 100%|██████████| 46008/46008 [00:34<00:00, 1333.80it/s]\n"
     ]
    },
    {
     "name": "stdout",
     "output_type": "stream",
     "text": [
      "Creating new Ultralytics Settings v0.0.6 file  \n",
      "View Ultralytics Settings with 'yolo settings' or at 'C:\\Users\\USER\\AppData\\Roaming\\Ultralytics\\settings.json'\n",
      "Update Settings with 'yolo settings key=value', i.e. 'yolo settings runs_dir=path/to/dir'. For help see https://docs.ultralytics.com/quickstart/#ultralytics-settings.\n",
      "Dataset downloaded to: G:\\Drone Detection\\untitled\\DRONES_NEW-4\n"
     ]
    }
   ],
   "source": [
    "!pip install roboflow\n",
    "\n",
    "from roboflow import Roboflow\n",
    "rf = Roboflow(api_key=\"mTGWOgMQ8m2ColTefypf\")\n",
    "project = rf.workspace(\"tracker-qjlj1\").project(\"drones_new\")\n",
    "version = project.version(4)\n",
    "dataset = version.download(\"yolov8\")\n",
    "\n",
    "# Get dataset path\n",
    "DATASET_PATH = dataset.location\n",
    "print(f\"Dataset downloaded to: {DATASET_PATH}\")               "
   ],
   "metadata": {
    "collapsed": false,
    "ExecuteTime": {
     "end_time": "2025-02-16T12:46:28.035219Z",
     "start_time": "2025-02-16T12:41:59.489800Z"
    }
   },
   "id": "3a8740fe13b3336c",
   "execution_count": 5
  },
  {
   "cell_type": "code",
   "outputs": [],
   "source": [
    "DATASET_PATH = r\"G:\\Drone Detection\\untitled\\DRONES_NEW-4\""
   ],
   "metadata": {
    "collapsed": false,
    "ExecuteTime": {
     "end_time": "2025-02-16T14:09:05.937174Z",
     "start_time": "2025-02-16T14:09:05.925663Z"
    }
   },
   "id": "a12c15dc6c820594",
   "execution_count": 6
  },
  {
   "cell_type": "code",
   "outputs": [
    {
     "name": "stdout",
     "output_type": "stream",
     "text": [
      "{'names': ['drone'], 'nc': 1, 'roboflow': {'license': 'CC BY 4.0', 'project': 'drones_new', 'url': 'https://universe.roboflow.com/tracker-qjlj1/drones_new/dataset/4', 'version': 4, 'workspace': 'tracker-qjlj1'}, 'test': '../test/images', 'train': '../train/images', 'val': '../valid/images'}\n"
     ]
    }
   ],
   "source": [
    "import yaml\n",
    "\n",
    "# Path to dataset YAML\n",
    "yaml_path = f\"{DATASET_PATH}/data.yaml\"\n",
    "\n",
    "# Read YAML file\n",
    "with open(yaml_path, 'r') as f:\n",
    "    data_yaml = yaml.safe_load(f)\n",
    "\n",
    "# Print dataset details\n",
    "print(data_yaml)\n"
   ],
   "metadata": {
    "collapsed": false,
    "ExecuteTime": {
     "end_time": "2025-02-16T14:09:09.234245Z",
     "start_time": "2025-02-16T14:09:09.208223Z"
    }
   },
   "id": "65e65789e864ce66",
   "execution_count": 7
  },
  {
   "cell_type": "code",
   "outputs": [],
   "source": [
    "from ultralytics import YOLO\n",
    "\n",
    "# Load YOLOv8 model\n",
    "model = YOLO(\"yolov8s.yaml\")  # Change based on your model\n",
    "\n",
    "# Check max batch size for available memory\n",
    "# model.tune(data=\"{DATASET_PATH}/data.yaml\", epochs=1)"
   ],
   "metadata": {
    "collapsed": false,
    "ExecuteTime": {
     "end_time": "2025-02-16T13:03:17.643359Z",
     "start_time": "2025-02-16T13:03:17.506737Z"
    }
   },
   "id": "738ee0016a9be046",
   "execution_count": 13
  },
  {
   "cell_type": "code",
   "outputs": [
    {
     "data": {
      "text/plain": "'G:\\\\Drone Detection\\\\untitled\\\\DRONES_NEW-4'"
     },
     "execution_count": 14,
     "metadata": {},
     "output_type": "execute_result"
    }
   ],
   "source": [
    "DATASET_PATH"
   ],
   "metadata": {
    "collapsed": false,
    "ExecuteTime": {
     "end_time": "2025-02-16T13:03:22.074383Z",
     "start_time": "2025-02-16T13:03:22.065374Z"
    }
   },
   "id": "97a3731550732b72",
   "execution_count": 14
  },
  {
   "cell_type": "code",
   "outputs": [
    {
     "name": "stdout",
     "output_type": "stream",
     "text": [
      "\u001B[34m\u001B[1mTuner: \u001B[0mInitialized Tuner instance with 'tune_dir=runs\\detect\\tune4'\n",
      "\u001B[34m\u001B[1mTuner: \u001B[0m Learn about tuning at https://docs.ultralytics.com/guides/hyperparameter-tuning\n",
      "\u001B[34m\u001B[1mTuner: \u001B[0mStarting iteration 1/50 with hyperparameters: {'lr0': 0.01, 'lrf': 0.01, 'momentum': 0.937, 'weight_decay': 0.0005, 'warmup_epochs': 3.0, 'warmup_momentum': 0.8, 'box': 7.5, 'cls': 0.5, 'dfl': 1.5, 'hsv_h': 0.015, 'hsv_s': 0.7, 'hsv_v': 0.4, 'degrees': 0.0, 'translate': 0.1, 'scale': 0.5, 'shear': 0.0, 'perspective': 0.0, 'flipud': 0.0, 'fliplr': 0.5, 'bgr': 0.0, 'mosaic': 1.0, 'mixup': 0.0, 'copy_paste': 0.0}\n",
      "WARNING  training failure for hyperparameter tuning iteration 1\n",
      "Command 'yolo train task=detect mode=train model=yolov8s.yaml data=G:\\Drone Detection\\untitled\\DRONES_NEW-4/data.yaml epochs=3 time=None patience=100 batch=16 imgsz=640 save=True save_period=-1 cache=False device=None workers=8 project=None name=None exist_ok=False pretrained=True optimizer=auto verbose=True seed=0 deterministic=True single_cls=False rect=False cos_lr=False close_mosaic=10 resume=False amp=True fraction=1.0 profile=False freeze=None multi_scale=False overlap_mask=True mask_ratio=4 dropout=0.0 val=True split=val save_json=False save_hybrid=False conf=None iou=0.7 max_det=300 half=False dnn=False plots=True source=None vid_stride=1 stream_buffer=False visualize=False augment=False agnostic_nms=False classes=None retina_masks=False embed=None show=False save_frames=False save_txt=False save_conf=False save_crop=False show_labels=True show_conf=True show_boxes=True line_width=None format=torchscript keras=False optimize=False int8=False dynamic=False simplify=True opset=None workspace=None nms=False lr0=0.01 lrf=0.01 momentum=0.937 weight_decay=0.0005 warmup_epochs=3.0 warmup_momentum=0.8 warmup_bias_lr=0.1 box=7.5 cls=0.5 dfl=1.5 pose=12.0 kobj=1.0 nbs=64 hsv_h=0.015 hsv_s=0.7 hsv_v=0.4 degrees=0.0 translate=0.1 scale=0.5 shear=0.0 perspective=0.0 flipud=0.0 fliplr=0.5 bgr=0.0 mosaic=1.0 mixup=0.0 copy_paste=0.0 copy_paste_mode=flip auto_augment=randaugment erasing=0.4 crop_fraction=1.0 cfg=None tracker=botsort.yaml' returned non-zero exit status 1.\n",
      "Saved runs\\detect\\tune4\\tune_scatter_plots.png\n",
      "Saved runs\\detect\\tune4\\tune_fitness.png\n",
      "\n",
      "\u001B[34m\u001B[1mTuner: \u001B[0m1/50 iterations complete  (4.16s)\n",
      "\u001B[34m\u001B[1mTuner: \u001B[0mResults saved to \u001B[1mruns\\detect\\tune4\u001B[0m\n",
      "\u001B[34m\u001B[1mTuner: \u001B[0mBest fitness=0.0 observed at iteration 1\n",
      "\u001B[34m\u001B[1mTuner: \u001B[0mBest fitness metrics are {}\n",
      "\u001B[34m\u001B[1mTuner: \u001B[0mBest fitness model is runs\\detect\\train71\n",
      "\u001B[34m\u001B[1mTuner: \u001B[0mBest fitness hyperparameters are printed below.\n",
      "\n",
      "Printing '\u001B[1m\u001B[30mruns\\detect\\tune4\\best_hyperparameters.yaml\u001B[0m'\n",
      "\n",
      "lr0: 0.01\n",
      "lrf: 0.01\n",
      "momentum: 0.937\n",
      "weight_decay: 0.0005\n",
      "warmup_epochs: 3.0\n",
      "warmup_momentum: 0.8\n",
      "box: 7.5\n",
      "cls: 0.5\n",
      "dfl: 1.5\n",
      "hsv_h: 0.015\n",
      "hsv_s: 0.7\n",
      "hsv_v: 0.4\n",
      "degrees: 0.0\n",
      "translate: 0.1\n",
      "scale: 0.5\n",
      "shear: 0.0\n",
      "perspective: 0.0\n",
      "flipud: 0.0\n",
      "fliplr: 0.5\n",
      "bgr: 0.0\n",
      "mosaic: 1.0\n",
      "mixup: 0.0\n",
      "copy_paste: 0.0\n",
      "\n",
      "\u001B[34m\u001B[1mTuner: \u001B[0mStarting iteration 2/50 with hyperparameters: {'lr0': 0.01141, 'lrf': 0.01129, 'momentum': 0.95906, 'weight_decay': 0.00053, 'warmup_epochs': 2.75037, 'warmup_momentum': 0.83874, 'box': 7.03905, 'cls': 0.50774, 'dfl': 1.5, 'hsv_h': 0.01318, 'hsv_s': 0.73058, 'hsv_v': 0.39374, 'degrees': 0.0, 'translate': 0.12286, 'scale': 0.44401, 'shear': 0.0, 'perspective': 0.0, 'flipud': 0.0, 'fliplr': 0.5, 'bgr': 0.0, 'mosaic': 1.0, 'mixup': 0.0, 'copy_paste': 0.0}\n",
      "WARNING  training failure for hyperparameter tuning iteration 2\n",
      "Command 'yolo train task=detect mode=train model=yolov8s.yaml data=G:\\Drone Detection\\untitled\\DRONES_NEW-4/data.yaml epochs=3 time=None patience=100 batch=16 imgsz=640 save=True save_period=-1 cache=False device=None workers=8 project=None name=None exist_ok=False pretrained=True optimizer=auto verbose=True seed=0 deterministic=True single_cls=False rect=False cos_lr=False close_mosaic=10 resume=False amp=True fraction=1.0 profile=False freeze=None multi_scale=False overlap_mask=True mask_ratio=4 dropout=0.0 val=True split=val save_json=False save_hybrid=False conf=None iou=0.7 max_det=300 half=False dnn=False plots=True source=None vid_stride=1 stream_buffer=False visualize=False augment=False agnostic_nms=False classes=None retina_masks=False embed=None show=False save_frames=False save_txt=False save_conf=False save_crop=False show_labels=True show_conf=True show_boxes=True line_width=None format=torchscript keras=False optimize=False int8=False dynamic=False simplify=True opset=None workspace=None nms=False lr0=0.01141 lrf=0.01129 momentum=0.95906 weight_decay=0.00053 warmup_epochs=2.75037 warmup_momentum=0.83874 warmup_bias_lr=0.1 box=7.03905 cls=0.50774 dfl=1.5 pose=12.0 kobj=1.0 nbs=64 hsv_h=0.01318 hsv_s=0.73058 hsv_v=0.39374 degrees=0.0 translate=0.12286 scale=0.44401 shear=0.0 perspective=0.0 flipud=0.0 fliplr=0.5 bgr=0.0 mosaic=1.0 mixup=0.0 copy_paste=0.0 copy_paste_mode=flip auto_augment=randaugment erasing=0.4 crop_fraction=1.0 cfg=None tracker=botsort.yaml' returned non-zero exit status 1.\n",
      "Saved runs\\detect\\tune4\\tune_scatter_plots.png\n",
      "Saved runs\\detect\\tune4\\tune_fitness.png\n",
      "\n",
      "\u001B[34m\u001B[1mTuner: \u001B[0m2/50 iterations complete  (9.91s)\n",
      "\u001B[34m\u001B[1mTuner: \u001B[0mResults saved to \u001B[1mruns\\detect\\tune4\u001B[0m\n",
      "\u001B[34m\u001B[1mTuner: \u001B[0mBest fitness=0.0 observed at iteration 1\n",
      "\u001B[34m\u001B[1mTuner: \u001B[0mBest fitness metrics are {}\n",
      "\u001B[34m\u001B[1mTuner: \u001B[0mBest fitness model is runs\\detect\\train71\n",
      "\u001B[34m\u001B[1mTuner: \u001B[0mBest fitness hyperparameters are printed below.\n",
      "\n",
      "Printing '\u001B[1m\u001B[30mruns\\detect\\tune4\\best_hyperparameters.yaml\u001B[0m'\n",
      "\n",
      "lr0: 0.01\n",
      "lrf: 0.01\n",
      "momentum: 0.937\n",
      "weight_decay: 0.0005\n",
      "warmup_epochs: 3.0\n",
      "warmup_momentum: 0.8\n",
      "box: 7.5\n",
      "cls: 0.5\n",
      "dfl: 1.5\n",
      "hsv_h: 0.015\n",
      "hsv_s: 0.7\n",
      "hsv_v: 0.4\n",
      "degrees: 0.0\n",
      "translate: 0.1\n",
      "scale: 0.5\n",
      "shear: 0.0\n",
      "perspective: 0.0\n",
      "flipud: 0.0\n",
      "fliplr: 0.5\n",
      "bgr: 0.0\n",
      "mosaic: 1.0\n",
      "mixup: 0.0\n",
      "copy_paste: 0.0\n",
      "\n",
      "\u001B[34m\u001B[1mTuner: \u001B[0mStarting iteration 3/50 with hyperparameters: {'lr0': 0.0092, 'lrf': 0.01486, 'momentum': 0.98, 'weight_decay': 0.00063, 'warmup_epochs': 2.55161, 'warmup_momentum': 0.83874, 'box': 7.40579, 'cls': 0.50774, 'dfl': 1.61333, 'hsv_h': 0.01577, 'hsv_s': 0.72705, 'hsv_v': 0.39374, 'degrees': 0.0, 'translate': 0.11894, 'scale': 0.42199, 'shear': 0.0, 'perspective': 0.0, 'flipud': 0.0, 'fliplr': 0.42554, 'bgr': 0.0, 'mosaic': 0.96942, 'mixup': 0.0, 'copy_paste': 0.0}\n",
      "WARNING  training failure for hyperparameter tuning iteration 3\n",
      "Command 'yolo train task=detect mode=train model=yolov8s.yaml data=G:\\Drone Detection\\untitled\\DRONES_NEW-4/data.yaml epochs=3 time=None patience=100 batch=16 imgsz=640 save=True save_period=-1 cache=False device=None workers=8 project=None name=None exist_ok=False pretrained=True optimizer=auto verbose=True seed=0 deterministic=True single_cls=False rect=False cos_lr=False close_mosaic=10 resume=False amp=True fraction=1.0 profile=False freeze=None multi_scale=False overlap_mask=True mask_ratio=4 dropout=0.0 val=True split=val save_json=False save_hybrid=False conf=None iou=0.7 max_det=300 half=False dnn=False plots=True source=None vid_stride=1 stream_buffer=False visualize=False augment=False agnostic_nms=False classes=None retina_masks=False embed=None show=False save_frames=False save_txt=False save_conf=False save_crop=False show_labels=True show_conf=True show_boxes=True line_width=None format=torchscript keras=False optimize=False int8=False dynamic=False simplify=True opset=None workspace=None nms=False lr0=0.0092 lrf=0.01486 momentum=0.98 weight_decay=0.00063 warmup_epochs=2.55161 warmup_momentum=0.83874 warmup_bias_lr=0.1 box=7.40579 cls=0.50774 dfl=1.61333 pose=12.0 kobj=1.0 nbs=64 hsv_h=0.01577 hsv_s=0.72705 hsv_v=0.39374 degrees=0.0 translate=0.11894 scale=0.42199 shear=0.0 perspective=0.0 flipud=0.0 fliplr=0.42554 bgr=0.0 mosaic=0.96942 mixup=0.0 copy_paste=0.0 copy_paste_mode=flip auto_augment=randaugment erasing=0.4 crop_fraction=1.0 cfg=None tracker=botsort.yaml' returned non-zero exit status 1.\n",
      "Saved runs\\detect\\tune4\\tune_scatter_plots.png\n",
      "Saved runs\\detect\\tune4\\tune_fitness.png\n",
      "\n",
      "\u001B[34m\u001B[1mTuner: \u001B[0m3/50 iterations complete  (13.93s)\n",
      "\u001B[34m\u001B[1mTuner: \u001B[0mResults saved to \u001B[1mruns\\detect\\tune4\u001B[0m\n",
      "\u001B[34m\u001B[1mTuner: \u001B[0mBest fitness=0.0 observed at iteration 1\n",
      "\u001B[34m\u001B[1mTuner: \u001B[0mBest fitness metrics are {}\n",
      "\u001B[34m\u001B[1mTuner: \u001B[0mBest fitness model is runs\\detect\\train71\n",
      "\u001B[34m\u001B[1mTuner: \u001B[0mBest fitness hyperparameters are printed below.\n",
      "\n",
      "Printing '\u001B[1m\u001B[30mruns\\detect\\tune4\\best_hyperparameters.yaml\u001B[0m'\n",
      "\n",
      "lr0: 0.01\n",
      "lrf: 0.01\n",
      "momentum: 0.937\n",
      "weight_decay: 0.0005\n",
      "warmup_epochs: 3.0\n",
      "warmup_momentum: 0.8\n",
      "box: 7.5\n",
      "cls: 0.5\n",
      "dfl: 1.5\n",
      "hsv_h: 0.015\n",
      "hsv_s: 0.7\n",
      "hsv_v: 0.4\n",
      "degrees: 0.0\n",
      "translate: 0.1\n",
      "scale: 0.5\n",
      "shear: 0.0\n",
      "perspective: 0.0\n",
      "flipud: 0.0\n",
      "fliplr: 0.5\n",
      "bgr: 0.0\n",
      "mosaic: 1.0\n",
      "mixup: 0.0\n",
      "copy_paste: 0.0\n",
      "\n",
      "\u001B[34m\u001B[1mTuner: \u001B[0mStarting iteration 4/50 with hyperparameters: {'lr0': 0.01105, 'lrf': 0.01129, 'momentum': 0.97892, 'weight_decay': 0.00053, 'warmup_epochs': 2.71959, 'warmup_momentum': 0.86359, 'box': 7.01599, 'cls': 0.54414, 'dfl': 1.63826, 'hsv_h': 0.01254, 'hsv_s': 0.72958, 'hsv_v': 0.41516, 'degrees': 0.0, 'translate': 0.12286, 'scale': 0.44609, 'shear': 0.0, 'perspective': 0.0, 'flipud': 0.0, 'fliplr': 0.50559, 'bgr': 0.0, 'mosaic': 1.0, 'mixup': 0.0, 'copy_paste': 0.0}\n",
      "WARNING  training failure for hyperparameter tuning iteration 4\n",
      "Command 'yolo train task=detect mode=train model=yolov8s.yaml data=G:\\Drone Detection\\untitled\\DRONES_NEW-4/data.yaml epochs=3 time=None patience=100 batch=16 imgsz=640 save=True save_period=-1 cache=False device=None workers=8 project=None name=None exist_ok=False pretrained=True optimizer=auto verbose=True seed=0 deterministic=True single_cls=False rect=False cos_lr=False close_mosaic=10 resume=False amp=True fraction=1.0 profile=False freeze=None multi_scale=False overlap_mask=True mask_ratio=4 dropout=0.0 val=True split=val save_json=False save_hybrid=False conf=None iou=0.7 max_det=300 half=False dnn=False plots=True source=None vid_stride=1 stream_buffer=False visualize=False augment=False agnostic_nms=False classes=None retina_masks=False embed=None show=False save_frames=False save_txt=False save_conf=False save_crop=False show_labels=True show_conf=True show_boxes=True line_width=None format=torchscript keras=False optimize=False int8=False dynamic=False simplify=True opset=None workspace=None nms=False lr0=0.01105 lrf=0.01129 momentum=0.97892 weight_decay=0.00053 warmup_epochs=2.71959 warmup_momentum=0.86359 warmup_bias_lr=0.1 box=7.01599 cls=0.54414 dfl=1.63826 pose=12.0 kobj=1.0 nbs=64 hsv_h=0.01254 hsv_s=0.72958 hsv_v=0.41516 degrees=0.0 translate=0.12286 scale=0.44609 shear=0.0 perspective=0.0 flipud=0.0 fliplr=0.50559 bgr=0.0 mosaic=1.0 mixup=0.0 copy_paste=0.0 copy_paste_mode=flip auto_augment=randaugment erasing=0.4 crop_fraction=1.0 cfg=None tracker=botsort.yaml' returned non-zero exit status 1.\n",
      "Saved runs\\detect\\tune4\\tune_scatter_plots.png\n",
      "Saved runs\\detect\\tune4\\tune_fitness.png\n",
      "\n",
      "\u001B[34m\u001B[1mTuner: \u001B[0m4/50 iterations complete  (18.16s)\n",
      "\u001B[34m\u001B[1mTuner: \u001B[0mResults saved to \u001B[1mruns\\detect\\tune4\u001B[0m\n",
      "\u001B[34m\u001B[1mTuner: \u001B[0mBest fitness=0.0 observed at iteration 1\n",
      "\u001B[34m\u001B[1mTuner: \u001B[0mBest fitness metrics are {}\n",
      "\u001B[34m\u001B[1mTuner: \u001B[0mBest fitness model is runs\\detect\\train71\n",
      "\u001B[34m\u001B[1mTuner: \u001B[0mBest fitness hyperparameters are printed below.\n",
      "\n",
      "Printing '\u001B[1m\u001B[30mruns\\detect\\tune4\\best_hyperparameters.yaml\u001B[0m'\n",
      "\n",
      "lr0: 0.01\n",
      "lrf: 0.01\n",
      "momentum: 0.937\n",
      "weight_decay: 0.0005\n",
      "warmup_epochs: 3.0\n",
      "warmup_momentum: 0.8\n",
      "box: 7.5\n",
      "cls: 0.5\n",
      "dfl: 1.5\n",
      "hsv_h: 0.015\n",
      "hsv_s: 0.7\n",
      "hsv_v: 0.4\n",
      "degrees: 0.0\n",
      "translate: 0.1\n",
      "scale: 0.5\n",
      "shear: 0.0\n",
      "perspective: 0.0\n",
      "flipud: 0.0\n",
      "fliplr: 0.5\n",
      "bgr: 0.0\n",
      "mosaic: 1.0\n",
      "mixup: 0.0\n",
      "copy_paste: 0.0\n",
      "\n",
      "\u001B[34m\u001B[1mTuner: \u001B[0mStarting iteration 5/50 with hyperparameters: {'lr0': 0.01141, 'lrf': 0.01129, 'momentum': 0.97683, 'weight_decay': 0.00053, 'warmup_epochs': 2.38149, 'warmup_momentum': 0.91116, 'box': 6.84165, 'cls': 0.49894, 'dfl': 1.5, 'hsv_h': 0.01292, 'hsv_s': 0.6854, 'hsv_v': 0.40441, 'degrees': 0.0, 'translate': 0.13866, 'scale': 0.44401, 'shear': 0.0, 'perspective': 0.0, 'flipud': 0.0, 'fliplr': 0.45815, 'bgr': 0.0, 'mosaic': 1.0, 'mixup': 0.0, 'copy_paste': 0.0}\n",
      "WARNING  training failure for hyperparameter tuning iteration 5\n",
      "Command 'yolo train task=detect mode=train model=yolov8s.yaml data=G:\\Drone Detection\\untitled\\DRONES_NEW-4/data.yaml epochs=3 time=None patience=100 batch=16 imgsz=640 save=True save_period=-1 cache=False device=None workers=8 project=None name=None exist_ok=False pretrained=True optimizer=auto verbose=True seed=0 deterministic=True single_cls=False rect=False cos_lr=False close_mosaic=10 resume=False amp=True fraction=1.0 profile=False freeze=None multi_scale=False overlap_mask=True mask_ratio=4 dropout=0.0 val=True split=val save_json=False save_hybrid=False conf=None iou=0.7 max_det=300 half=False dnn=False plots=True source=None vid_stride=1 stream_buffer=False visualize=False augment=False agnostic_nms=False classes=None retina_masks=False embed=None show=False save_frames=False save_txt=False save_conf=False save_crop=False show_labels=True show_conf=True show_boxes=True line_width=None format=torchscript keras=False optimize=False int8=False dynamic=False simplify=True opset=None workspace=None nms=False lr0=0.01141 lrf=0.01129 momentum=0.97683 weight_decay=0.00053 warmup_epochs=2.38149 warmup_momentum=0.91116 warmup_bias_lr=0.1 box=6.84165 cls=0.49894 dfl=1.5 pose=12.0 kobj=1.0 nbs=64 hsv_h=0.01292 hsv_s=0.6854 hsv_v=0.40441 degrees=0.0 translate=0.13866 scale=0.44401 shear=0.0 perspective=0.0 flipud=0.0 fliplr=0.45815 bgr=0.0 mosaic=1.0 mixup=0.0 copy_paste=0.0 copy_paste_mode=flip auto_augment=randaugment erasing=0.4 crop_fraction=1.0 cfg=None tracker=botsort.yaml' returned non-zero exit status 1.\n",
      "Saved runs\\detect\\tune4\\tune_scatter_plots.png\n",
      "Saved runs\\detect\\tune4\\tune_fitness.png\n",
      "\n",
      "\u001B[34m\u001B[1mTuner: \u001B[0m5/50 iterations complete  (22.24s)\n",
      "\u001B[34m\u001B[1mTuner: \u001B[0mResults saved to \u001B[1mruns\\detect\\tune4\u001B[0m\n",
      "\u001B[34m\u001B[1mTuner: \u001B[0mBest fitness=0.0 observed at iteration 1\n",
      "\u001B[34m\u001B[1mTuner: \u001B[0mBest fitness metrics are {}\n",
      "\u001B[34m\u001B[1mTuner: \u001B[0mBest fitness model is runs\\detect\\train71\n",
      "\u001B[34m\u001B[1mTuner: \u001B[0mBest fitness hyperparameters are printed below.\n",
      "\n",
      "Printing '\u001B[1m\u001B[30mruns\\detect\\tune4\\best_hyperparameters.yaml\u001B[0m'\n",
      "\n",
      "lr0: 0.01\n",
      "lrf: 0.01\n",
      "momentum: 0.937\n",
      "weight_decay: 0.0005\n",
      "warmup_epochs: 3.0\n",
      "warmup_momentum: 0.8\n",
      "box: 7.5\n",
      "cls: 0.5\n",
      "dfl: 1.5\n",
      "hsv_h: 0.015\n",
      "hsv_s: 0.7\n",
      "hsv_v: 0.4\n",
      "degrees: 0.0\n",
      "translate: 0.1\n",
      "scale: 0.5\n",
      "shear: 0.0\n",
      "perspective: 0.0\n",
      "flipud: 0.0\n",
      "fliplr: 0.5\n",
      "bgr: 0.0\n",
      "mosaic: 1.0\n",
      "mixup: 0.0\n",
      "copy_paste: 0.0\n",
      "\n",
      "\u001B[34m\u001B[1mTuner: \u001B[0mStarting iteration 6/50 with hyperparameters: {'lr0': 0.0092, 'lrf': 0.01497, 'momentum': 0.98, 'weight_decay': 0.00061, 'warmup_epochs': 2.51586, 'warmup_momentum': 0.85422, 'box': 7.40903, 'cls': 0.50199, 'dfl': 1.55941, 'hsv_h': 0.01589, 'hsv_s': 0.72549, 'hsv_v': 0.37477, 'degrees': 0.0, 'translate': 0.11962, 'scale': 0.40724, 'shear': 0.0, 'perspective': 0.0, 'flipud': 0.0, 'fliplr': 0.41628, 'bgr': 0.0, 'mosaic': 0.96942, 'mixup': 0.0, 'copy_paste': 0.0}\n",
      "WARNING  training failure for hyperparameter tuning iteration 6\n",
      "Command 'yolo train task=detect mode=train model=yolov8s.yaml data=G:\\Drone Detection\\untitled\\DRONES_NEW-4/data.yaml epochs=3 time=None patience=100 batch=16 imgsz=640 save=True save_period=-1 cache=False device=None workers=8 project=None name=None exist_ok=False pretrained=True optimizer=auto verbose=True seed=0 deterministic=True single_cls=False rect=False cos_lr=False close_mosaic=10 resume=False amp=True fraction=1.0 profile=False freeze=None multi_scale=False overlap_mask=True mask_ratio=4 dropout=0.0 val=True split=val save_json=False save_hybrid=False conf=None iou=0.7 max_det=300 half=False dnn=False plots=True source=None vid_stride=1 stream_buffer=False visualize=False augment=False agnostic_nms=False classes=None retina_masks=False embed=None show=False save_frames=False save_txt=False save_conf=False save_crop=False show_labels=True show_conf=True show_boxes=True line_width=None format=torchscript keras=False optimize=False int8=False dynamic=False simplify=True opset=None workspace=None nms=False lr0=0.0092 lrf=0.01497 momentum=0.98 weight_decay=0.00061 warmup_epochs=2.51586 warmup_momentum=0.85422 warmup_bias_lr=0.1 box=7.40903 cls=0.50199 dfl=1.55941 pose=12.0 kobj=1.0 nbs=64 hsv_h=0.01589 hsv_s=0.72549 hsv_v=0.37477 degrees=0.0 translate=0.11962 scale=0.40724 shear=0.0 perspective=0.0 flipud=0.0 fliplr=0.41628 bgr=0.0 mosaic=0.96942 mixup=0.0 copy_paste=0.0 copy_paste_mode=flip auto_augment=randaugment erasing=0.4 crop_fraction=1.0 cfg=None tracker=botsort.yaml' returned non-zero exit status 1.\n",
      "Saved runs\\detect\\tune4\\tune_scatter_plots.png\n",
      "Saved runs\\detect\\tune4\\tune_fitness.png\n",
      "\n",
      "\u001B[34m\u001B[1mTuner: \u001B[0m6/50 iterations complete  (26.46s)\n",
      "\u001B[34m\u001B[1mTuner: \u001B[0mResults saved to \u001B[1mruns\\detect\\tune4\u001B[0m\n",
      "\u001B[34m\u001B[1mTuner: \u001B[0mBest fitness=0.0 observed at iteration 1\n",
      "\u001B[34m\u001B[1mTuner: \u001B[0mBest fitness metrics are {}\n",
      "\u001B[34m\u001B[1mTuner: \u001B[0mBest fitness model is runs\\detect\\train71\n",
      "\u001B[34m\u001B[1mTuner: \u001B[0mBest fitness hyperparameters are printed below.\n",
      "\n",
      "Printing '\u001B[1m\u001B[30mruns\\detect\\tune4\\best_hyperparameters.yaml\u001B[0m'\n",
      "\n",
      "lr0: 0.01\n",
      "lrf: 0.01\n",
      "momentum: 0.937\n",
      "weight_decay: 0.0005\n",
      "warmup_epochs: 3.0\n",
      "warmup_momentum: 0.8\n",
      "box: 7.5\n",
      "cls: 0.5\n",
      "dfl: 1.5\n",
      "hsv_h: 0.015\n",
      "hsv_s: 0.7\n",
      "hsv_v: 0.4\n",
      "degrees: 0.0\n",
      "translate: 0.1\n",
      "scale: 0.5\n",
      "shear: 0.0\n",
      "perspective: 0.0\n",
      "flipud: 0.0\n",
      "fliplr: 0.5\n",
      "bgr: 0.0\n",
      "mosaic: 1.0\n",
      "mixup: 0.0\n",
      "copy_paste: 0.0\n",
      "\n",
      "\u001B[34m\u001B[1mTuner: \u001B[0mStarting iteration 7/50 with hyperparameters: {'lr0': 0.01062, 'lrf': 0.00995, 'momentum': 0.93174, 'weight_decay': 0.0005, 'warmup_epochs': 3.0, 'warmup_momentum': 0.8, 'box': 7.2491, 'cls': 0.51193, 'dfl': 1.47676, 'hsv_h': 0.01514, 'hsv_s': 0.70705, 'hsv_v': 0.40409, 'degrees': 0.0, 'translate': 0.10203, 'scale': 0.50256, 'shear': 0.0, 'perspective': 0.0, 'flipud': 0.0, 'fliplr': 0.49639, 'bgr': 0.0, 'mosaic': 1.0, 'mixup': 0.0, 'copy_paste': 0.0}\n",
      "WARNING  training failure for hyperparameter tuning iteration 7\n",
      "Command 'yolo train task=detect mode=train model=yolov8s.yaml data=G:\\Drone Detection\\untitled\\DRONES_NEW-4/data.yaml epochs=3 time=None patience=100 batch=16 imgsz=640 save=True save_period=-1 cache=False device=None workers=8 project=None name=None exist_ok=False pretrained=True optimizer=auto verbose=True seed=0 deterministic=True single_cls=False rect=False cos_lr=False close_mosaic=10 resume=False amp=True fraction=1.0 profile=False freeze=None multi_scale=False overlap_mask=True mask_ratio=4 dropout=0.0 val=True split=val save_json=False save_hybrid=False conf=None iou=0.7 max_det=300 half=False dnn=False plots=True source=None vid_stride=1 stream_buffer=False visualize=False augment=False agnostic_nms=False classes=None retina_masks=False embed=None show=False save_frames=False save_txt=False save_conf=False save_crop=False show_labels=True show_conf=True show_boxes=True line_width=None format=torchscript keras=False optimize=False int8=False dynamic=False simplify=True opset=None workspace=None nms=False lr0=0.01062 lrf=0.00995 momentum=0.93174 weight_decay=0.0005 warmup_epochs=3.0 warmup_momentum=0.8 warmup_bias_lr=0.1 box=7.2491 cls=0.51193 dfl=1.47676 pose=12.0 kobj=1.0 nbs=64 hsv_h=0.01514 hsv_s=0.70705 hsv_v=0.40409 degrees=0.0 translate=0.10203 scale=0.50256 shear=0.0 perspective=0.0 flipud=0.0 fliplr=0.49639 bgr=0.0 mosaic=1.0 mixup=0.0 copy_paste=0.0 copy_paste_mode=flip auto_augment=randaugment erasing=0.4 crop_fraction=1.0 cfg=None tracker=botsort.yaml' returned non-zero exit status 1.\n",
      "Saved runs\\detect\\tune4\\tune_scatter_plots.png\n",
      "Saved runs\\detect\\tune4\\tune_fitness.png\n",
      "\n",
      "\u001B[34m\u001B[1mTuner: \u001B[0m7/50 iterations complete  (30.49s)\n",
      "\u001B[34m\u001B[1mTuner: \u001B[0mResults saved to \u001B[1mruns\\detect\\tune4\u001B[0m\n",
      "\u001B[34m\u001B[1mTuner: \u001B[0mBest fitness=0.0 observed at iteration 1\n",
      "\u001B[34m\u001B[1mTuner: \u001B[0mBest fitness metrics are {}\n",
      "\u001B[34m\u001B[1mTuner: \u001B[0mBest fitness model is runs\\detect\\train71\n",
      "\u001B[34m\u001B[1mTuner: \u001B[0mBest fitness hyperparameters are printed below.\n",
      "\n",
      "Printing '\u001B[1m\u001B[30mruns\\detect\\tune4\\best_hyperparameters.yaml\u001B[0m'\n",
      "\n",
      "lr0: 0.01\n",
      "lrf: 0.01\n",
      "momentum: 0.937\n",
      "weight_decay: 0.0005\n",
      "warmup_epochs: 3.0\n",
      "warmup_momentum: 0.8\n",
      "box: 7.5\n",
      "cls: 0.5\n",
      "dfl: 1.5\n",
      "hsv_h: 0.015\n",
      "hsv_s: 0.7\n",
      "hsv_v: 0.4\n",
      "degrees: 0.0\n",
      "translate: 0.1\n",
      "scale: 0.5\n",
      "shear: 0.0\n",
      "perspective: 0.0\n",
      "flipud: 0.0\n",
      "fliplr: 0.5\n",
      "bgr: 0.0\n",
      "mosaic: 1.0\n",
      "mixup: 0.0\n",
      "copy_paste: 0.0\n",
      "\n",
      "\u001B[34m\u001B[1mTuner: \u001B[0mStarting iteration 8/50 with hyperparameters: {'lr0': 0.0092, 'lrf': 0.01486, 'momentum': 0.9533, 'weight_decay': 0.00061, 'warmup_epochs': 2.55161, 'warmup_momentum': 0.89263, 'box': 6.44879, 'cls': 0.50397, 'dfl': 1.73265, 'hsv_h': 0.01577, 'hsv_s': 0.72477, 'hsv_v': 0.39374, 'degrees': 0.0, 'translate': 0.10312, 'scale': 0.50789, 'shear': 0.0, 'perspective': 0.0, 'flipud': 0.0, 'fliplr': 0.52105, 'bgr': 0.0, 'mosaic': 0.88499, 'mixup': 0.0, 'copy_paste': 0.0}\n",
      "WARNING  training failure for hyperparameter tuning iteration 8\n",
      "Command 'yolo train task=detect mode=train model=yolov8s.yaml data=G:\\Drone Detection\\untitled\\DRONES_NEW-4/data.yaml epochs=3 time=None patience=100 batch=16 imgsz=640 save=True save_period=-1 cache=False device=None workers=8 project=None name=None exist_ok=False pretrained=True optimizer=auto verbose=True seed=0 deterministic=True single_cls=False rect=False cos_lr=False close_mosaic=10 resume=False amp=True fraction=1.0 profile=False freeze=None multi_scale=False overlap_mask=True mask_ratio=4 dropout=0.0 val=True split=val save_json=False save_hybrid=False conf=None iou=0.7 max_det=300 half=False dnn=False plots=True source=None vid_stride=1 stream_buffer=False visualize=False augment=False agnostic_nms=False classes=None retina_masks=False embed=None show=False save_frames=False save_txt=False save_conf=False save_crop=False show_labels=True show_conf=True show_boxes=True line_width=None format=torchscript keras=False optimize=False int8=False dynamic=False simplify=True opset=None workspace=None nms=False lr0=0.0092 lrf=0.01486 momentum=0.9533 weight_decay=0.00061 warmup_epochs=2.55161 warmup_momentum=0.89263 warmup_bias_lr=0.1 box=6.44879 cls=0.50397 dfl=1.73265 pose=12.0 kobj=1.0 nbs=64 hsv_h=0.01577 hsv_s=0.72477 hsv_v=0.39374 degrees=0.0 translate=0.10312 scale=0.50789 shear=0.0 perspective=0.0 flipud=0.0 fliplr=0.52105 bgr=0.0 mosaic=0.88499 mixup=0.0 copy_paste=0.0 copy_paste_mode=flip auto_augment=randaugment erasing=0.4 crop_fraction=1.0 cfg=None tracker=botsort.yaml' returned non-zero exit status 1.\n",
      "Saved runs\\detect\\tune4\\tune_scatter_plots.png\n",
      "Saved runs\\detect\\tune4\\tune_fitness.png\n",
      "\n",
      "\u001B[34m\u001B[1mTuner: \u001B[0m8/50 iterations complete  (34.52s)\n",
      "\u001B[34m\u001B[1mTuner: \u001B[0mResults saved to \u001B[1mruns\\detect\\tune4\u001B[0m\n",
      "\u001B[34m\u001B[1mTuner: \u001B[0mBest fitness=0.0 observed at iteration 1\n",
      "\u001B[34m\u001B[1mTuner: \u001B[0mBest fitness metrics are {}\n",
      "\u001B[34m\u001B[1mTuner: \u001B[0mBest fitness model is runs\\detect\\train71\n",
      "\u001B[34m\u001B[1mTuner: \u001B[0mBest fitness hyperparameters are printed below.\n",
      "\n",
      "Printing '\u001B[1m\u001B[30mruns\\detect\\tune4\\best_hyperparameters.yaml\u001B[0m'\n",
      "\n",
      "lr0: 0.01\n",
      "lrf: 0.01\n",
      "momentum: 0.937\n",
      "weight_decay: 0.0005\n",
      "warmup_epochs: 3.0\n",
      "warmup_momentum: 0.8\n",
      "box: 7.5\n",
      "cls: 0.5\n",
      "dfl: 1.5\n",
      "hsv_h: 0.015\n",
      "hsv_s: 0.7\n",
      "hsv_v: 0.4\n",
      "degrees: 0.0\n",
      "translate: 0.1\n",
      "scale: 0.5\n",
      "shear: 0.0\n",
      "perspective: 0.0\n",
      "flipud: 0.0\n",
      "fliplr: 0.5\n",
      "bgr: 0.0\n",
      "mosaic: 1.0\n",
      "mixup: 0.0\n",
      "copy_paste: 0.0\n",
      "\n",
      "\u001B[34m\u001B[1mTuner: \u001B[0mStarting iteration 9/50 with hyperparameters: {'lr0': 0.01141, 'lrf': 0.01135, 'momentum': 0.96164, 'weight_decay': 0.00053, 'warmup_epochs': 2.75037, 'warmup_momentum': 0.84133, 'box': 7.06348, 'cls': 0.50774, 'dfl': 1.50373, 'hsv_h': 0.01295, 'hsv_s': 0.73058, 'hsv_v': 0.39135, 'degrees': 0.0, 'translate': 0.12286, 'scale': 0.43906, 'shear': 0.0, 'perspective': 0.0, 'flipud': 0.0, 'fliplr': 0.50305, 'bgr': 0.0, 'mosaic': 0.99926, 'mixup': 0.0, 'copy_paste': 0.0}\n",
      "WARNING  training failure for hyperparameter tuning iteration 9\n",
      "Command 'yolo train task=detect mode=train model=yolov8s.yaml data=G:\\Drone Detection\\untitled\\DRONES_NEW-4/data.yaml epochs=3 time=None patience=100 batch=16 imgsz=640 save=True save_period=-1 cache=False device=None workers=8 project=None name=None exist_ok=False pretrained=True optimizer=auto verbose=True seed=0 deterministic=True single_cls=False rect=False cos_lr=False close_mosaic=10 resume=False amp=True fraction=1.0 profile=False freeze=None multi_scale=False overlap_mask=True mask_ratio=4 dropout=0.0 val=True split=val save_json=False save_hybrid=False conf=None iou=0.7 max_det=300 half=False dnn=False plots=True source=None vid_stride=1 stream_buffer=False visualize=False augment=False agnostic_nms=False classes=None retina_masks=False embed=None show=False save_frames=False save_txt=False save_conf=False save_crop=False show_labels=True show_conf=True show_boxes=True line_width=None format=torchscript keras=False optimize=False int8=False dynamic=False simplify=True opset=None workspace=None nms=False lr0=0.01141 lrf=0.01135 momentum=0.96164 weight_decay=0.00053 warmup_epochs=2.75037 warmup_momentum=0.84133 warmup_bias_lr=0.1 box=7.06348 cls=0.50774 dfl=1.50373 pose=12.0 kobj=1.0 nbs=64 hsv_h=0.01295 hsv_s=0.73058 hsv_v=0.39135 degrees=0.0 translate=0.12286 scale=0.43906 shear=0.0 perspective=0.0 flipud=0.0 fliplr=0.50305 bgr=0.0 mosaic=0.99926 mixup=0.0 copy_paste=0.0 copy_paste_mode=flip auto_augment=randaugment erasing=0.4 crop_fraction=1.0 cfg=None tracker=botsort.yaml' returned non-zero exit status 1.\n",
      "Saved runs\\detect\\tune4\\tune_scatter_plots.png\n",
      "Saved runs\\detect\\tune4\\tune_fitness.png\n",
      "\n",
      "\u001B[34m\u001B[1mTuner: \u001B[0m9/50 iterations complete  (38.75s)\n",
      "\u001B[34m\u001B[1mTuner: \u001B[0mResults saved to \u001B[1mruns\\detect\\tune4\u001B[0m\n",
      "\u001B[34m\u001B[1mTuner: \u001B[0mBest fitness=0.0 observed at iteration 1\n",
      "\u001B[34m\u001B[1mTuner: \u001B[0mBest fitness metrics are {}\n",
      "\u001B[34m\u001B[1mTuner: \u001B[0mBest fitness model is runs\\detect\\train71\n",
      "\u001B[34m\u001B[1mTuner: \u001B[0mBest fitness hyperparameters are printed below.\n",
      "\n",
      "Printing '\u001B[1m\u001B[30mruns\\detect\\tune4\\best_hyperparameters.yaml\u001B[0m'\n",
      "\n",
      "lr0: 0.01\n",
      "lrf: 0.01\n",
      "momentum: 0.937\n",
      "weight_decay: 0.0005\n",
      "warmup_epochs: 3.0\n",
      "warmup_momentum: 0.8\n",
      "box: 7.5\n",
      "cls: 0.5\n",
      "dfl: 1.5\n",
      "hsv_h: 0.015\n",
      "hsv_s: 0.7\n",
      "hsv_v: 0.4\n",
      "degrees: 0.0\n",
      "translate: 0.1\n",
      "scale: 0.5\n",
      "shear: 0.0\n",
      "perspective: 0.0\n",
      "flipud: 0.0\n",
      "fliplr: 0.5\n",
      "bgr: 0.0\n",
      "mosaic: 1.0\n",
      "mixup: 0.0\n",
      "copy_paste: 0.0\n",
      "\n",
      "\u001B[34m\u001B[1mTuner: \u001B[0mStarting iteration 10/50 with hyperparameters: {'lr0': 0.01031, 'lrf': 0.00806, 'momentum': 0.88383, 'weight_decay': 0.00043, 'warmup_epochs': 3.1386, 'warmup_momentum': 0.8, 'box': 7.85484, 'cls': 0.45226, 'dfl': 1.44915, 'hsv_h': 0.015, 'hsv_s': 0.7, 'hsv_v': 0.44999, 'degrees': 0.0, 'translate': 0.09833, 'scale': 0.52294, 'shear': 0.0, 'perspective': 0.0, 'flipud': 0.0, 'fliplr': 0.5, 'bgr': 0.0, 'mosaic': 0.98322, 'mixup': 0.0, 'copy_paste': 0.0}\n",
      "WARNING  training failure for hyperparameter tuning iteration 10\n",
      "Command 'yolo train task=detect mode=train model=yolov8s.yaml data=G:\\Drone Detection\\untitled\\DRONES_NEW-4/data.yaml epochs=3 time=None patience=100 batch=16 imgsz=640 save=True save_period=-1 cache=False device=None workers=8 project=None name=None exist_ok=False pretrained=True optimizer=auto verbose=True seed=0 deterministic=True single_cls=False rect=False cos_lr=False close_mosaic=10 resume=False amp=True fraction=1.0 profile=False freeze=None multi_scale=False overlap_mask=True mask_ratio=4 dropout=0.0 val=True split=val save_json=False save_hybrid=False conf=None iou=0.7 max_det=300 half=False dnn=False plots=True source=None vid_stride=1 stream_buffer=False visualize=False augment=False agnostic_nms=False classes=None retina_masks=False embed=None show=False save_frames=False save_txt=False save_conf=False save_crop=False show_labels=True show_conf=True show_boxes=True line_width=None format=torchscript keras=False optimize=False int8=False dynamic=False simplify=True opset=None workspace=None nms=False lr0=0.01031 lrf=0.00806 momentum=0.88383 weight_decay=0.00043 warmup_epochs=3.1386 warmup_momentum=0.8 warmup_bias_lr=0.1 box=7.85484 cls=0.45226 dfl=1.44915 pose=12.0 kobj=1.0 nbs=64 hsv_h=0.015 hsv_s=0.7 hsv_v=0.44999 degrees=0.0 translate=0.09833 scale=0.52294 shear=0.0 perspective=0.0 flipud=0.0 fliplr=0.5 bgr=0.0 mosaic=0.98322 mixup=0.0 copy_paste=0.0 copy_paste_mode=flip auto_augment=randaugment erasing=0.4 crop_fraction=1.0 cfg=None tracker=botsort.yaml' returned non-zero exit status 1.\n",
      "Saved runs\\detect\\tune4\\tune_scatter_plots.png\n",
      "Saved runs\\detect\\tune4\\tune_fitness.png\n",
      "\n",
      "\u001B[34m\u001B[1mTuner: \u001B[0m10/50 iterations complete  (42.71s)\n",
      "\u001B[34m\u001B[1mTuner: \u001B[0mResults saved to \u001B[1mruns\\detect\\tune4\u001B[0m\n",
      "\u001B[34m\u001B[1mTuner: \u001B[0mBest fitness=0.0 observed at iteration 1\n",
      "\u001B[34m\u001B[1mTuner: \u001B[0mBest fitness metrics are {}\n",
      "\u001B[34m\u001B[1mTuner: \u001B[0mBest fitness model is runs\\detect\\train71\n",
      "\u001B[34m\u001B[1mTuner: \u001B[0mBest fitness hyperparameters are printed below.\n",
      "\n",
      "Printing '\u001B[1m\u001B[30mruns\\detect\\tune4\\best_hyperparameters.yaml\u001B[0m'\n",
      "\n",
      "lr0: 0.01\n",
      "lrf: 0.01\n",
      "momentum: 0.937\n",
      "weight_decay: 0.0005\n",
      "warmup_epochs: 3.0\n",
      "warmup_momentum: 0.8\n",
      "box: 7.5\n",
      "cls: 0.5\n",
      "dfl: 1.5\n",
      "hsv_h: 0.015\n",
      "hsv_s: 0.7\n",
      "hsv_v: 0.4\n",
      "degrees: 0.0\n",
      "translate: 0.1\n",
      "scale: 0.5\n",
      "shear: 0.0\n",
      "perspective: 0.0\n",
      "flipud: 0.0\n",
      "fliplr: 0.5\n",
      "bgr: 0.0\n",
      "mosaic: 1.0\n",
      "mixup: 0.0\n",
      "copy_paste: 0.0\n",
      "\n",
      "\u001B[34m\u001B[1mTuner: \u001B[0mStarting iteration 11/50 with hyperparameters: {'lr0': 0.01101, 'lrf': 0.00962, 'momentum': 0.95542, 'weight_decay': 0.0005, 'warmup_epochs': 3.39367, 'warmup_momentum': 0.85186, 'box': 7.5, 'cls': 0.5, 'dfl': 1.56474, 'hsv_h': 0.01542, 'hsv_s': 0.69197, 'hsv_v': 0.39137, 'degrees': 0.0, 'translate': 0.10207, 'scale': 0.44596, 'shear': 0.0, 'perspective': 0.0, 'flipud': 0.0, 'fliplr': 0.54139, 'bgr': 0.0, 'mosaic': 0.99457, 'mixup': 0.0, 'copy_paste': 0.0}\n",
      "WARNING  training failure for hyperparameter tuning iteration 11\n",
      "Command 'yolo train task=detect mode=train model=yolov8s.yaml data=G:\\Drone Detection\\untitled\\DRONES_NEW-4/data.yaml epochs=3 time=None patience=100 batch=16 imgsz=640 save=True save_period=-1 cache=False device=None workers=8 project=None name=None exist_ok=False pretrained=True optimizer=auto verbose=True seed=0 deterministic=True single_cls=False rect=False cos_lr=False close_mosaic=10 resume=False amp=True fraction=1.0 profile=False freeze=None multi_scale=False overlap_mask=True mask_ratio=4 dropout=0.0 val=True split=val save_json=False save_hybrid=False conf=None iou=0.7 max_det=300 half=False dnn=False plots=True source=None vid_stride=1 stream_buffer=False visualize=False augment=False agnostic_nms=False classes=None retina_masks=False embed=None show=False save_frames=False save_txt=False save_conf=False save_crop=False show_labels=True show_conf=True show_boxes=True line_width=None format=torchscript keras=False optimize=False int8=False dynamic=False simplify=True opset=None workspace=None nms=False lr0=0.01101 lrf=0.00962 momentum=0.95542 weight_decay=0.0005 warmup_epochs=3.39367 warmup_momentum=0.85186 warmup_bias_lr=0.1 box=7.5 cls=0.5 dfl=1.56474 pose=12.0 kobj=1.0 nbs=64 hsv_h=0.01542 hsv_s=0.69197 hsv_v=0.39137 degrees=0.0 translate=0.10207 scale=0.44596 shear=0.0 perspective=0.0 flipud=0.0 fliplr=0.54139 bgr=0.0 mosaic=0.99457 mixup=0.0 copy_paste=0.0 copy_paste_mode=flip auto_augment=randaugment erasing=0.4 crop_fraction=1.0 cfg=None tracker=botsort.yaml' returned non-zero exit status 1.\n",
      "Saved runs\\detect\\tune4\\tune_scatter_plots.png\n",
      "Saved runs\\detect\\tune4\\tune_fitness.png\n",
      "\n",
      "\u001B[34m\u001B[1mTuner: \u001B[0m11/50 iterations complete  (46.69s)\n",
      "\u001B[34m\u001B[1mTuner: \u001B[0mResults saved to \u001B[1mruns\\detect\\tune4\u001B[0m\n",
      "\u001B[34m\u001B[1mTuner: \u001B[0mBest fitness=0.0 observed at iteration 1\n",
      "\u001B[34m\u001B[1mTuner: \u001B[0mBest fitness metrics are {}\n",
      "\u001B[34m\u001B[1mTuner: \u001B[0mBest fitness model is runs\\detect\\train71\n",
      "\u001B[34m\u001B[1mTuner: \u001B[0mBest fitness hyperparameters are printed below.\n",
      "\n",
      "Printing '\u001B[1m\u001B[30mruns\\detect\\tune4\\best_hyperparameters.yaml\u001B[0m'\n",
      "\n",
      "lr0: 0.01\n",
      "lrf: 0.01\n",
      "momentum: 0.937\n",
      "weight_decay: 0.0005\n",
      "warmup_epochs: 3.0\n",
      "warmup_momentum: 0.8\n",
      "box: 7.5\n",
      "cls: 0.5\n",
      "dfl: 1.5\n",
      "hsv_h: 0.015\n",
      "hsv_s: 0.7\n",
      "hsv_v: 0.4\n",
      "degrees: 0.0\n",
      "translate: 0.1\n",
      "scale: 0.5\n",
      "shear: 0.0\n",
      "perspective: 0.0\n",
      "flipud: 0.0\n",
      "fliplr: 0.5\n",
      "bgr: 0.0\n",
      "mosaic: 1.0\n",
      "mixup: 0.0\n",
      "copy_paste: 0.0\n",
      "\n",
      "\u001B[34m\u001B[1mTuner: \u001B[0mStarting iteration 12/50 with hyperparameters: {'lr0': 0.00936, 'lrf': 0.01508, 'momentum': 0.98, 'weight_decay': 0.00071, 'warmup_epochs': 2.55161, 'warmup_momentum': 0.75344, 'box': 7.79527, 'cls': 0.49984, 'dfl': 1.45115, 'hsv_h': 0.01465, 'hsv_s': 0.78311, 'hsv_v': 0.37837, 'degrees': 0.0, 'translate': 0.11894, 'scale': 0.4342, 'shear': 0.0, 'perspective': 0.0, 'flipud': 0.0, 'fliplr': 0.42754, 'bgr': 0.0, 'mosaic': 0.90749, 'mixup': 0.0, 'copy_paste': 0.0}\n",
      "WARNING  training failure for hyperparameter tuning iteration 12\n",
      "Command 'yolo train task=detect mode=train model=yolov8s.yaml data=G:\\Drone Detection\\untitled\\DRONES_NEW-4/data.yaml epochs=3 time=None patience=100 batch=16 imgsz=640 save=True save_period=-1 cache=False device=None workers=8 project=None name=None exist_ok=False pretrained=True optimizer=auto verbose=True seed=0 deterministic=True single_cls=False rect=False cos_lr=False close_mosaic=10 resume=False amp=True fraction=1.0 profile=False freeze=None multi_scale=False overlap_mask=True mask_ratio=4 dropout=0.0 val=True split=val save_json=False save_hybrid=False conf=None iou=0.7 max_det=300 half=False dnn=False plots=True source=None vid_stride=1 stream_buffer=False visualize=False augment=False agnostic_nms=False classes=None retina_masks=False embed=None show=False save_frames=False save_txt=False save_conf=False save_crop=False show_labels=True show_conf=True show_boxes=True line_width=None format=torchscript keras=False optimize=False int8=False dynamic=False simplify=True opset=None workspace=None nms=False lr0=0.00936 lrf=0.01508 momentum=0.98 weight_decay=0.00071 warmup_epochs=2.55161 warmup_momentum=0.75344 warmup_bias_lr=0.1 box=7.79527 cls=0.49984 dfl=1.45115 pose=12.0 kobj=1.0 nbs=64 hsv_h=0.01465 hsv_s=0.78311 hsv_v=0.37837 degrees=0.0 translate=0.11894 scale=0.4342 shear=0.0 perspective=0.0 flipud=0.0 fliplr=0.42754 bgr=0.0 mosaic=0.90749 mixup=0.0 copy_paste=0.0 copy_paste_mode=flip auto_augment=randaugment erasing=0.4 crop_fraction=1.0 cfg=None tracker=botsort.yaml' returned non-zero exit status 1.\n",
      "Saved runs\\detect\\tune4\\tune_scatter_plots.png\n",
      "Saved runs\\detect\\tune4\\tune_fitness.png\n",
      "\n",
      "\u001B[34m\u001B[1mTuner: \u001B[0m12/50 iterations complete  (50.70s)\n",
      "\u001B[34m\u001B[1mTuner: \u001B[0mResults saved to \u001B[1mruns\\detect\\tune4\u001B[0m\n",
      "\u001B[34m\u001B[1mTuner: \u001B[0mBest fitness=0.0 observed at iteration 1\n",
      "\u001B[34m\u001B[1mTuner: \u001B[0mBest fitness metrics are {}\n",
      "\u001B[34m\u001B[1mTuner: \u001B[0mBest fitness model is runs\\detect\\train71\n",
      "\u001B[34m\u001B[1mTuner: \u001B[0mBest fitness hyperparameters are printed below.\n",
      "\n",
      "Printing '\u001B[1m\u001B[30mruns\\detect\\tune4\\best_hyperparameters.yaml\u001B[0m'\n",
      "\n",
      "lr0: 0.01\n",
      "lrf: 0.01\n",
      "momentum: 0.937\n",
      "weight_decay: 0.0005\n",
      "warmup_epochs: 3.0\n",
      "warmup_momentum: 0.8\n",
      "box: 7.5\n",
      "cls: 0.5\n",
      "dfl: 1.5\n",
      "hsv_h: 0.015\n",
      "hsv_s: 0.7\n",
      "hsv_v: 0.4\n",
      "degrees: 0.0\n",
      "translate: 0.1\n",
      "scale: 0.5\n",
      "shear: 0.0\n",
      "perspective: 0.0\n",
      "flipud: 0.0\n",
      "fliplr: 0.5\n",
      "bgr: 0.0\n",
      "mosaic: 1.0\n",
      "mixup: 0.0\n",
      "copy_paste: 0.0\n",
      "\n",
      "\u001B[34m\u001B[1mTuner: \u001B[0mStarting iteration 13/50 with hyperparameters: {'lr0': 0.01069, 'lrf': 0.01129, 'momentum': 0.97986, 'weight_decay': 0.00053, 'warmup_epochs': 2.71959, 'warmup_momentum': 0.82538, 'box': 7.03664, 'cls': 0.52735, 'dfl': 1.59411, 'hsv_h': 0.01249, 'hsv_s': 0.73396, 'hsv_v': 0.41516, 'degrees': 0.0, 'translate': 0.11885, 'scale': 0.44609, 'shear': 0.0, 'perspective': 0.0, 'flipud': 0.0, 'fliplr': 0.50581, 'bgr': 0.0, 'mosaic': 1.0, 'mixup': 0.0, 'copy_paste': 0.0}\n",
      "WARNING  training failure for hyperparameter tuning iteration 13\n",
      "Command 'yolo train task=detect mode=train model=yolov8s.yaml data=G:\\Drone Detection\\untitled\\DRONES_NEW-4/data.yaml epochs=3 time=None patience=100 batch=16 imgsz=640 save=True save_period=-1 cache=False device=None workers=8 project=None name=None exist_ok=False pretrained=True optimizer=auto verbose=True seed=0 deterministic=True single_cls=False rect=False cos_lr=False close_mosaic=10 resume=False amp=True fraction=1.0 profile=False freeze=None multi_scale=False overlap_mask=True mask_ratio=4 dropout=0.0 val=True split=val save_json=False save_hybrid=False conf=None iou=0.7 max_det=300 half=False dnn=False plots=True source=None vid_stride=1 stream_buffer=False visualize=False augment=False agnostic_nms=False classes=None retina_masks=False embed=None show=False save_frames=False save_txt=False save_conf=False save_crop=False show_labels=True show_conf=True show_boxes=True line_width=None format=torchscript keras=False optimize=False int8=False dynamic=False simplify=True opset=None workspace=None nms=False lr0=0.01069 lrf=0.01129 momentum=0.97986 weight_decay=0.00053 warmup_epochs=2.71959 warmup_momentum=0.82538 warmup_bias_lr=0.1 box=7.03664 cls=0.52735 dfl=1.59411 pose=12.0 kobj=1.0 nbs=64 hsv_h=0.01249 hsv_s=0.73396 hsv_v=0.41516 degrees=0.0 translate=0.11885 scale=0.44609 shear=0.0 perspective=0.0 flipud=0.0 fliplr=0.50581 bgr=0.0 mosaic=1.0 mixup=0.0 copy_paste=0.0 copy_paste_mode=flip auto_augment=randaugment erasing=0.4 crop_fraction=1.0 cfg=None tracker=botsort.yaml' returned non-zero exit status 1.\n",
      "Saved runs\\detect\\tune4\\tune_scatter_plots.png\n",
      "Saved runs\\detect\\tune4\\tune_fitness.png\n",
      "\n",
      "\u001B[34m\u001B[1mTuner: \u001B[0m13/50 iterations complete  (54.98s)\n",
      "\u001B[34m\u001B[1mTuner: \u001B[0mResults saved to \u001B[1mruns\\detect\\tune4\u001B[0m\n",
      "\u001B[34m\u001B[1mTuner: \u001B[0mBest fitness=0.0 observed at iteration 1\n",
      "\u001B[34m\u001B[1mTuner: \u001B[0mBest fitness metrics are {}\n",
      "\u001B[34m\u001B[1mTuner: \u001B[0mBest fitness model is runs\\detect\\train71\n",
      "\u001B[34m\u001B[1mTuner: \u001B[0mBest fitness hyperparameters are printed below.\n",
      "\n",
      "Printing '\u001B[1m\u001B[30mruns\\detect\\tune4\\best_hyperparameters.yaml\u001B[0m'\n",
      "\n",
      "lr0: 0.01\n",
      "lrf: 0.01\n",
      "momentum: 0.937\n",
      "weight_decay: 0.0005\n",
      "warmup_epochs: 3.0\n",
      "warmup_momentum: 0.8\n",
      "box: 7.5\n",
      "cls: 0.5\n",
      "dfl: 1.5\n",
      "hsv_h: 0.015\n",
      "hsv_s: 0.7\n",
      "hsv_v: 0.4\n",
      "degrees: 0.0\n",
      "translate: 0.1\n",
      "scale: 0.5\n",
      "shear: 0.0\n",
      "perspective: 0.0\n",
      "flipud: 0.0\n",
      "fliplr: 0.5\n",
      "bgr: 0.0\n",
      "mosaic: 1.0\n",
      "mixup: 0.0\n",
      "copy_paste: 0.0\n",
      "\n",
      "\u001B[34m\u001B[1mTuner: \u001B[0mStarting iteration 14/50 with hyperparameters: {'lr0': 0.00967, 'lrf': 0.00994, 'momentum': 0.94526, 'weight_decay': 0.00049, 'warmup_epochs': 3.0, 'warmup_momentum': 0.84612, 'box': 7.18274, 'cls': 0.4975, 'dfl': 1.62398, 'hsv_h': 0.01455, 'hsv_s': 0.6213, 'hsv_v': 0.38096, 'degrees': 0.0, 'translate': 0.10427, 'scale': 0.5, 'shear': 0.0, 'perspective': 0.0, 'flipud': 0.0, 'fliplr': 0.49044, 'bgr': 0.0, 'mosaic': 0.9029, 'mixup': 0.0, 'copy_paste': 0.0}\n",
      "WARNING  training failure for hyperparameter tuning iteration 14\n",
      "Command 'yolo train task=detect mode=train model=yolov8s.yaml data=G:\\Drone Detection\\untitled\\DRONES_NEW-4/data.yaml epochs=3 time=None patience=100 batch=16 imgsz=640 save=True save_period=-1 cache=False device=None workers=8 project=None name=None exist_ok=False pretrained=True optimizer=auto verbose=True seed=0 deterministic=True single_cls=False rect=False cos_lr=False close_mosaic=10 resume=False amp=True fraction=1.0 profile=False freeze=None multi_scale=False overlap_mask=True mask_ratio=4 dropout=0.0 val=True split=val save_json=False save_hybrid=False conf=None iou=0.7 max_det=300 half=False dnn=False plots=True source=None vid_stride=1 stream_buffer=False visualize=False augment=False agnostic_nms=False classes=None retina_masks=False embed=None show=False save_frames=False save_txt=False save_conf=False save_crop=False show_labels=True show_conf=True show_boxes=True line_width=None format=torchscript keras=False optimize=False int8=False dynamic=False simplify=True opset=None workspace=None nms=False lr0=0.00967 lrf=0.00994 momentum=0.94526 weight_decay=0.00049 warmup_epochs=3.0 warmup_momentum=0.84612 warmup_bias_lr=0.1 box=7.18274 cls=0.4975 dfl=1.62398 pose=12.0 kobj=1.0 nbs=64 hsv_h=0.01455 hsv_s=0.6213 hsv_v=0.38096 degrees=0.0 translate=0.10427 scale=0.5 shear=0.0 perspective=0.0 flipud=0.0 fliplr=0.49044 bgr=0.0 mosaic=0.9029 mixup=0.0 copy_paste=0.0 copy_paste_mode=flip auto_augment=randaugment erasing=0.4 crop_fraction=1.0 cfg=None tracker=botsort.yaml' returned non-zero exit status 1.\n",
      "Saved runs\\detect\\tune4\\tune_scatter_plots.png\n",
      "Saved runs\\detect\\tune4\\tune_fitness.png\n",
      "\n",
      "\u001B[34m\u001B[1mTuner: \u001B[0m14/50 iterations complete  (59.03s)\n",
      "\u001B[34m\u001B[1mTuner: \u001B[0mResults saved to \u001B[1mruns\\detect\\tune4\u001B[0m\n",
      "\u001B[34m\u001B[1mTuner: \u001B[0mBest fitness=0.0 observed at iteration 1\n",
      "\u001B[34m\u001B[1mTuner: \u001B[0mBest fitness metrics are {}\n",
      "\u001B[34m\u001B[1mTuner: \u001B[0mBest fitness model is runs\\detect\\train71\n",
      "\u001B[34m\u001B[1mTuner: \u001B[0mBest fitness hyperparameters are printed below.\n",
      "\n",
      "Printing '\u001B[1m\u001B[30mruns\\detect\\tune4\\best_hyperparameters.yaml\u001B[0m'\n",
      "\n",
      "lr0: 0.01\n",
      "lrf: 0.01\n",
      "momentum: 0.937\n",
      "weight_decay: 0.0005\n",
      "warmup_epochs: 3.0\n",
      "warmup_momentum: 0.8\n",
      "box: 7.5\n",
      "cls: 0.5\n",
      "dfl: 1.5\n",
      "hsv_h: 0.015\n",
      "hsv_s: 0.7\n",
      "hsv_v: 0.4\n",
      "degrees: 0.0\n",
      "translate: 0.1\n",
      "scale: 0.5\n",
      "shear: 0.0\n",
      "perspective: 0.0\n",
      "flipud: 0.0\n",
      "fliplr: 0.5\n",
      "bgr: 0.0\n",
      "mosaic: 1.0\n",
      "mixup: 0.0\n",
      "copy_paste: 0.0\n",
      "\n",
      "\u001B[34m\u001B[1mTuner: \u001B[0mStarting iteration 15/50 with hyperparameters: {'lr0': 0.01146, 'lrf': 0.01155, 'momentum': 0.95385, 'weight_decay': 0.00053, 'warmup_epochs': 2.75037, 'warmup_momentum': 0.82564, 'box': 6.98262, 'cls': 0.50701, 'dfl': 1.54347, 'hsv_h': 0.0132, 'hsv_s': 0.72847, 'hsv_v': 0.39855, 'degrees': 0.0, 'translate': 0.12286, 'scale': 0.44783, 'shear': 0.0, 'perspective': 0.0, 'flipud': 0.0, 'fliplr': 0.47995, 'bgr': 0.0, 'mosaic': 0.94146, 'mixup': 0.0, 'copy_paste': 0.0}\n",
      "WARNING  training failure for hyperparameter tuning iteration 15\n",
      "Command 'yolo train task=detect mode=train model=yolov8s.yaml data=G:\\Drone Detection\\untitled\\DRONES_NEW-4/data.yaml epochs=3 time=None patience=100 batch=16 imgsz=640 save=True save_period=-1 cache=False device=None workers=8 project=None name=None exist_ok=False pretrained=True optimizer=auto verbose=True seed=0 deterministic=True single_cls=False rect=False cos_lr=False close_mosaic=10 resume=False amp=True fraction=1.0 profile=False freeze=None multi_scale=False overlap_mask=True mask_ratio=4 dropout=0.0 val=True split=val save_json=False save_hybrid=False conf=None iou=0.7 max_det=300 half=False dnn=False plots=True source=None vid_stride=1 stream_buffer=False visualize=False augment=False agnostic_nms=False classes=None retina_masks=False embed=None show=False save_frames=False save_txt=False save_conf=False save_crop=False show_labels=True show_conf=True show_boxes=True line_width=None format=torchscript keras=False optimize=False int8=False dynamic=False simplify=True opset=None workspace=None nms=False lr0=0.01146 lrf=0.01155 momentum=0.95385 weight_decay=0.00053 warmup_epochs=2.75037 warmup_momentum=0.82564 warmup_bias_lr=0.1 box=6.98262 cls=0.50701 dfl=1.54347 pose=12.0 kobj=1.0 nbs=64 hsv_h=0.0132 hsv_s=0.72847 hsv_v=0.39855 degrees=0.0 translate=0.12286 scale=0.44783 shear=0.0 perspective=0.0 flipud=0.0 fliplr=0.47995 bgr=0.0 mosaic=0.94146 mixup=0.0 copy_paste=0.0 copy_paste_mode=flip auto_augment=randaugment erasing=0.4 crop_fraction=1.0 cfg=None tracker=botsort.yaml' returned non-zero exit status 1.\n",
      "Saved runs\\detect\\tune4\\tune_scatter_plots.png\n",
      "Saved runs\\detect\\tune4\\tune_fitness.png\n",
      "\n",
      "\u001B[34m\u001B[1mTuner: \u001B[0m15/50 iterations complete  (62.99s)\n",
      "\u001B[34m\u001B[1mTuner: \u001B[0mResults saved to \u001B[1mruns\\detect\\tune4\u001B[0m\n",
      "\u001B[34m\u001B[1mTuner: \u001B[0mBest fitness=0.0 observed at iteration 1\n",
      "\u001B[34m\u001B[1mTuner: \u001B[0mBest fitness metrics are {}\n",
      "\u001B[34m\u001B[1mTuner: \u001B[0mBest fitness model is runs\\detect\\train71\n",
      "\u001B[34m\u001B[1mTuner: \u001B[0mBest fitness hyperparameters are printed below.\n",
      "\n",
      "Printing '\u001B[1m\u001B[30mruns\\detect\\tune4\\best_hyperparameters.yaml\u001B[0m'\n",
      "\n",
      "lr0: 0.01\n",
      "lrf: 0.01\n",
      "momentum: 0.937\n",
      "weight_decay: 0.0005\n",
      "warmup_epochs: 3.0\n",
      "warmup_momentum: 0.8\n",
      "box: 7.5\n",
      "cls: 0.5\n",
      "dfl: 1.5\n",
      "hsv_h: 0.015\n",
      "hsv_s: 0.7\n",
      "hsv_v: 0.4\n",
      "degrees: 0.0\n",
      "translate: 0.1\n",
      "scale: 0.5\n",
      "shear: 0.0\n",
      "perspective: 0.0\n",
      "flipud: 0.0\n",
      "fliplr: 0.5\n",
      "bgr: 0.0\n",
      "mosaic: 1.0\n",
      "mixup: 0.0\n",
      "copy_paste: 0.0\n",
      "\n",
      "\u001B[34m\u001B[1mTuner: \u001B[0mStarting iteration 16/50 with hyperparameters: {'lr0': 0.00974, 'lrf': 0.01163, 'momentum': 0.95018, 'weight_decay': 0.00053, 'warmup_epochs': 3.53559, 'warmup_momentum': 0.8, 'box': 7.75634, 'cls': 0.56069, 'dfl': 1.32024, 'hsv_h': 0.01593, 'hsv_s': 0.71304, 'hsv_v': 0.3773, 'degrees': 0.0, 'translate': 0.09837, 'scale': 0.50682, 'shear': 0.0, 'perspective': 0.0, 'flipud': 0.0, 'fliplr': 0.47669, 'bgr': 0.0, 'mosaic': 1.0, 'mixup': 0.0, 'copy_paste': 0.0}\n",
      "WARNING  training failure for hyperparameter tuning iteration 16\n",
      "Command 'yolo train task=detect mode=train model=yolov8s.yaml data=G:\\Drone Detection\\untitled\\DRONES_NEW-4/data.yaml epochs=3 time=None patience=100 batch=16 imgsz=640 save=True save_period=-1 cache=False device=None workers=8 project=None name=None exist_ok=False pretrained=True optimizer=auto verbose=True seed=0 deterministic=True single_cls=False rect=False cos_lr=False close_mosaic=10 resume=False amp=True fraction=1.0 profile=False freeze=None multi_scale=False overlap_mask=True mask_ratio=4 dropout=0.0 val=True split=val save_json=False save_hybrid=False conf=None iou=0.7 max_det=300 half=False dnn=False plots=True source=None vid_stride=1 stream_buffer=False visualize=False augment=False agnostic_nms=False classes=None retina_masks=False embed=None show=False save_frames=False save_txt=False save_conf=False save_crop=False show_labels=True show_conf=True show_boxes=True line_width=None format=torchscript keras=False optimize=False int8=False dynamic=False simplify=True opset=None workspace=None nms=False lr0=0.00974 lrf=0.01163 momentum=0.95018 weight_decay=0.00053 warmup_epochs=3.53559 warmup_momentum=0.8 warmup_bias_lr=0.1 box=7.75634 cls=0.56069 dfl=1.32024 pose=12.0 kobj=1.0 nbs=64 hsv_h=0.01593 hsv_s=0.71304 hsv_v=0.3773 degrees=0.0 translate=0.09837 scale=0.50682 shear=0.0 perspective=0.0 flipud=0.0 fliplr=0.47669 bgr=0.0 mosaic=1.0 mixup=0.0 copy_paste=0.0 copy_paste_mode=flip auto_augment=randaugment erasing=0.4 crop_fraction=1.0 cfg=None tracker=botsort.yaml' returned non-zero exit status 1.\n",
      "Saved runs\\detect\\tune4\\tune_scatter_plots.png\n",
      "Saved runs\\detect\\tune4\\tune_fitness.png\n",
      "\n",
      "\u001B[34m\u001B[1mTuner: \u001B[0m16/50 iterations complete  (66.99s)\n",
      "\u001B[34m\u001B[1mTuner: \u001B[0mResults saved to \u001B[1mruns\\detect\\tune4\u001B[0m\n",
      "\u001B[34m\u001B[1mTuner: \u001B[0mBest fitness=0.0 observed at iteration 1\n",
      "\u001B[34m\u001B[1mTuner: \u001B[0mBest fitness metrics are {}\n",
      "\u001B[34m\u001B[1mTuner: \u001B[0mBest fitness model is runs\\detect\\train71\n",
      "\u001B[34m\u001B[1mTuner: \u001B[0mBest fitness hyperparameters are printed below.\n",
      "\n",
      "Printing '\u001B[1m\u001B[30mruns\\detect\\tune4\\best_hyperparameters.yaml\u001B[0m'\n",
      "\n",
      "lr0: 0.01\n",
      "lrf: 0.01\n",
      "momentum: 0.937\n",
      "weight_decay: 0.0005\n",
      "warmup_epochs: 3.0\n",
      "warmup_momentum: 0.8\n",
      "box: 7.5\n",
      "cls: 0.5\n",
      "dfl: 1.5\n",
      "hsv_h: 0.015\n",
      "hsv_s: 0.7\n",
      "hsv_v: 0.4\n",
      "degrees: 0.0\n",
      "translate: 0.1\n",
      "scale: 0.5\n",
      "shear: 0.0\n",
      "perspective: 0.0\n",
      "flipud: 0.0\n",
      "fliplr: 0.5\n",
      "bgr: 0.0\n",
      "mosaic: 1.0\n",
      "mixup: 0.0\n",
      "copy_paste: 0.0\n",
      "\n",
      "\u001B[34m\u001B[1mTuner: \u001B[0mStarting iteration 17/50 with hyperparameters: {'lr0': 0.01141, 'lrf': 0.01151, 'momentum': 0.97827, 'weight_decay': 0.0006, 'warmup_epochs': 2.57654, 'warmup_momentum': 0.91116, 'box': 5.47455, 'cls': 0.48889, 'dfl': 1.53845, 'hsv_h': 0.01132, 'hsv_s': 0.64162, 'hsv_v': 0.34422, 'degrees': 0.0, 'translate': 0.13067, 'scale': 0.34349, 'shear': 0.0, 'perspective': 0.0, 'flipud': 0.0, 'fliplr': 0.45815, 'bgr': 0.0, 'mosaic': 1.0, 'mixup': 0.0, 'copy_paste': 0.0}\n",
      "WARNING  training failure for hyperparameter tuning iteration 17\n",
      "Command 'yolo train task=detect mode=train model=yolov8s.yaml data=G:\\Drone Detection\\untitled\\DRONES_NEW-4/data.yaml epochs=3 time=None patience=100 batch=16 imgsz=640 save=True save_period=-1 cache=False device=None workers=8 project=None name=None exist_ok=False pretrained=True optimizer=auto verbose=True seed=0 deterministic=True single_cls=False rect=False cos_lr=False close_mosaic=10 resume=False amp=True fraction=1.0 profile=False freeze=None multi_scale=False overlap_mask=True mask_ratio=4 dropout=0.0 val=True split=val save_json=False save_hybrid=False conf=None iou=0.7 max_det=300 half=False dnn=False plots=True source=None vid_stride=1 stream_buffer=False visualize=False augment=False agnostic_nms=False classes=None retina_masks=False embed=None show=False save_frames=False save_txt=False save_conf=False save_crop=False show_labels=True show_conf=True show_boxes=True line_width=None format=torchscript keras=False optimize=False int8=False dynamic=False simplify=True opset=None workspace=None nms=False lr0=0.01141 lrf=0.01151 momentum=0.97827 weight_decay=0.0006 warmup_epochs=2.57654 warmup_momentum=0.91116 warmup_bias_lr=0.1 box=5.47455 cls=0.48889 dfl=1.53845 pose=12.0 kobj=1.0 nbs=64 hsv_h=0.01132 hsv_s=0.64162 hsv_v=0.34422 degrees=0.0 translate=0.13067 scale=0.34349 shear=0.0 perspective=0.0 flipud=0.0 fliplr=0.45815 bgr=0.0 mosaic=1.0 mixup=0.0 copy_paste=0.0 copy_paste_mode=flip auto_augment=randaugment erasing=0.4 crop_fraction=1.0 cfg=None tracker=botsort.yaml' returned non-zero exit status 1.\n",
      "Saved runs\\detect\\tune4\\tune_scatter_plots.png\n",
      "Saved runs\\detect\\tune4\\tune_fitness.png\n",
      "\n",
      "\u001B[34m\u001B[1mTuner: \u001B[0m17/50 iterations complete  (70.99s)\n",
      "\u001B[34m\u001B[1mTuner: \u001B[0mResults saved to \u001B[1mruns\\detect\\tune4\u001B[0m\n",
      "\u001B[34m\u001B[1mTuner: \u001B[0mBest fitness=0.0 observed at iteration 1\n",
      "\u001B[34m\u001B[1mTuner: \u001B[0mBest fitness metrics are {}\n",
      "\u001B[34m\u001B[1mTuner: \u001B[0mBest fitness model is runs\\detect\\train71\n",
      "\u001B[34m\u001B[1mTuner: \u001B[0mBest fitness hyperparameters are printed below.\n",
      "\n",
      "Printing '\u001B[1m\u001B[30mruns\\detect\\tune4\\best_hyperparameters.yaml\u001B[0m'\n",
      "\n",
      "lr0: 0.01\n",
      "lrf: 0.01\n",
      "momentum: 0.937\n",
      "weight_decay: 0.0005\n",
      "warmup_epochs: 3.0\n",
      "warmup_momentum: 0.8\n",
      "box: 7.5\n",
      "cls: 0.5\n",
      "dfl: 1.5\n",
      "hsv_h: 0.015\n",
      "hsv_s: 0.7\n",
      "hsv_v: 0.4\n",
      "degrees: 0.0\n",
      "translate: 0.1\n",
      "scale: 0.5\n",
      "shear: 0.0\n",
      "perspective: 0.0\n",
      "flipud: 0.0\n",
      "fliplr: 0.5\n",
      "bgr: 0.0\n",
      "mosaic: 1.0\n",
      "mixup: 0.0\n",
      "copy_paste: 0.0\n",
      "\n",
      "\u001B[34m\u001B[1mTuner: \u001B[0mStarting iteration 18/50 with hyperparameters: {'lr0': 0.01051, 'lrf': 0.01119, 'momentum': 0.97974, 'weight_decay': 0.00054, 'warmup_epochs': 2.75111, 'warmup_momentum': 0.83886, 'box': 7.06571, 'cls': 0.52735, 'dfl': 1.62395, 'hsv_h': 0.01253, 'hsv_s': 0.71926, 'hsv_v': 0.4097, 'degrees': 0.0, 'translate': 0.11812, 'scale': 0.45164, 'shear': 0.0, 'perspective': 0.0, 'flipud': 0.0, 'fliplr': 0.50565, 'bgr': 0.0, 'mosaic': 0.9958, 'mixup': 0.0, 'copy_paste': 0.0}\n",
      "WARNING  training failure for hyperparameter tuning iteration 18\n",
      "Command 'yolo train task=detect mode=train model=yolov8s.yaml data=G:\\Drone Detection\\untitled\\DRONES_NEW-4/data.yaml epochs=3 time=None patience=100 batch=16 imgsz=640 save=True save_period=-1 cache=False device=None workers=8 project=None name=None exist_ok=False pretrained=True optimizer=auto verbose=True seed=0 deterministic=True single_cls=False rect=False cos_lr=False close_mosaic=10 resume=False amp=True fraction=1.0 profile=False freeze=None multi_scale=False overlap_mask=True mask_ratio=4 dropout=0.0 val=True split=val save_json=False save_hybrid=False conf=None iou=0.7 max_det=300 half=False dnn=False plots=True source=None vid_stride=1 stream_buffer=False visualize=False augment=False agnostic_nms=False classes=None retina_masks=False embed=None show=False save_frames=False save_txt=False save_conf=False save_crop=False show_labels=True show_conf=True show_boxes=True line_width=None format=torchscript keras=False optimize=False int8=False dynamic=False simplify=True opset=None workspace=None nms=False lr0=0.01051 lrf=0.01119 momentum=0.97974 weight_decay=0.00054 warmup_epochs=2.75111 warmup_momentum=0.83886 warmup_bias_lr=0.1 box=7.06571 cls=0.52735 dfl=1.62395 pose=12.0 kobj=1.0 nbs=64 hsv_h=0.01253 hsv_s=0.71926 hsv_v=0.4097 degrees=0.0 translate=0.11812 scale=0.45164 shear=0.0 perspective=0.0 flipud=0.0 fliplr=0.50565 bgr=0.0 mosaic=0.9958 mixup=0.0 copy_paste=0.0 copy_paste_mode=flip auto_augment=randaugment erasing=0.4 crop_fraction=1.0 cfg=None tracker=botsort.yaml' returned non-zero exit status 1.\n",
      "Saved runs\\detect\\tune4\\tune_scatter_plots.png\n",
      "Saved runs\\detect\\tune4\\tune_fitness.png\n",
      "\n",
      "\u001B[34m\u001B[1mTuner: \u001B[0m18/50 iterations complete  (75.44s)\n",
      "\u001B[34m\u001B[1mTuner: \u001B[0mResults saved to \u001B[1mruns\\detect\\tune4\u001B[0m\n",
      "\u001B[34m\u001B[1mTuner: \u001B[0mBest fitness=0.0 observed at iteration 1\n",
      "\u001B[34m\u001B[1mTuner: \u001B[0mBest fitness metrics are {}\n",
      "\u001B[34m\u001B[1mTuner: \u001B[0mBest fitness model is runs\\detect\\train71\n",
      "\u001B[34m\u001B[1mTuner: \u001B[0mBest fitness hyperparameters are printed below.\n",
      "\n",
      "Printing '\u001B[1m\u001B[30mruns\\detect\\tune4\\best_hyperparameters.yaml\u001B[0m'\n",
      "\n",
      "lr0: 0.01\n",
      "lrf: 0.01\n",
      "momentum: 0.937\n",
      "weight_decay: 0.0005\n",
      "warmup_epochs: 3.0\n",
      "warmup_momentum: 0.8\n",
      "box: 7.5\n",
      "cls: 0.5\n",
      "dfl: 1.5\n",
      "hsv_h: 0.015\n",
      "hsv_s: 0.7\n",
      "hsv_v: 0.4\n",
      "degrees: 0.0\n",
      "translate: 0.1\n",
      "scale: 0.5\n",
      "shear: 0.0\n",
      "perspective: 0.0\n",
      "flipud: 0.0\n",
      "fliplr: 0.5\n",
      "bgr: 0.0\n",
      "mosaic: 1.0\n",
      "mixup: 0.0\n",
      "copy_paste: 0.0\n",
      "\n",
      "\u001B[34m\u001B[1mTuner: \u001B[0mStarting iteration 19/50 with hyperparameters: {'lr0': 0.01142, 'lrf': 0.01155, 'momentum': 0.95385, 'weight_decay': 0.00054, 'warmup_epochs': 2.75037, 'warmup_momentum': 0.83862, 'box': 7.11061, 'cls': 0.51504, 'dfl': 1.56777, 'hsv_h': 0.01311, 'hsv_s': 0.73889, 'hsv_v': 0.39655, 'degrees': 0.0, 'translate': 0.12227, 'scale': 0.44783, 'shear': 0.0, 'perspective': 0.0, 'flipud': 0.0, 'fliplr': 0.47871, 'bgr': 0.0, 'mosaic': 0.95255, 'mixup': 0.0, 'copy_paste': 0.0}\n",
      "WARNING  training failure for hyperparameter tuning iteration 19\n",
      "Command 'yolo train task=detect mode=train model=yolov8s.yaml data=G:\\Drone Detection\\untitled\\DRONES_NEW-4/data.yaml epochs=3 time=None patience=100 batch=16 imgsz=640 save=True save_period=-1 cache=False device=None workers=8 project=None name=None exist_ok=False pretrained=True optimizer=auto verbose=True seed=0 deterministic=True single_cls=False rect=False cos_lr=False close_mosaic=10 resume=False amp=True fraction=1.0 profile=False freeze=None multi_scale=False overlap_mask=True mask_ratio=4 dropout=0.0 val=True split=val save_json=False save_hybrid=False conf=None iou=0.7 max_det=300 half=False dnn=False plots=True source=None vid_stride=1 stream_buffer=False visualize=False augment=False agnostic_nms=False classes=None retina_masks=False embed=None show=False save_frames=False save_txt=False save_conf=False save_crop=False show_labels=True show_conf=True show_boxes=True line_width=None format=torchscript keras=False optimize=False int8=False dynamic=False simplify=True opset=None workspace=None nms=False lr0=0.01142 lrf=0.01155 momentum=0.95385 weight_decay=0.00054 warmup_epochs=2.75037 warmup_momentum=0.83862 warmup_bias_lr=0.1 box=7.11061 cls=0.51504 dfl=1.56777 pose=12.0 kobj=1.0 nbs=64 hsv_h=0.01311 hsv_s=0.73889 hsv_v=0.39655 degrees=0.0 translate=0.12227 scale=0.44783 shear=0.0 perspective=0.0 flipud=0.0 fliplr=0.47871 bgr=0.0 mosaic=0.95255 mixup=0.0 copy_paste=0.0 copy_paste_mode=flip auto_augment=randaugment erasing=0.4 crop_fraction=1.0 cfg=None tracker=botsort.yaml' returned non-zero exit status 1.\n",
      "Saved runs\\detect\\tune4\\tune_scatter_plots.png\n",
      "Saved runs\\detect\\tune4\\tune_fitness.png\n",
      "\n",
      "\u001B[34m\u001B[1mTuner: \u001B[0m19/50 iterations complete  (79.49s)\n",
      "\u001B[34m\u001B[1mTuner: \u001B[0mResults saved to \u001B[1mruns\\detect\\tune4\u001B[0m\n",
      "\u001B[34m\u001B[1mTuner: \u001B[0mBest fitness=0.0 observed at iteration 1\n",
      "\u001B[34m\u001B[1mTuner: \u001B[0mBest fitness metrics are {}\n",
      "\u001B[34m\u001B[1mTuner: \u001B[0mBest fitness model is runs\\detect\\train71\n",
      "\u001B[34m\u001B[1mTuner: \u001B[0mBest fitness hyperparameters are printed below.\n",
      "\n",
      "Printing '\u001B[1m\u001B[30mruns\\detect\\tune4\\best_hyperparameters.yaml\u001B[0m'\n",
      "\n",
      "lr0: 0.01\n",
      "lrf: 0.01\n",
      "momentum: 0.937\n",
      "weight_decay: 0.0005\n",
      "warmup_epochs: 3.0\n",
      "warmup_momentum: 0.8\n",
      "box: 7.5\n",
      "cls: 0.5\n",
      "dfl: 1.5\n",
      "hsv_h: 0.015\n",
      "hsv_s: 0.7\n",
      "hsv_v: 0.4\n",
      "degrees: 0.0\n",
      "translate: 0.1\n",
      "scale: 0.5\n",
      "shear: 0.0\n",
      "perspective: 0.0\n",
      "flipud: 0.0\n",
      "fliplr: 0.5\n",
      "bgr: 0.0\n",
      "mosaic: 1.0\n",
      "mixup: 0.0\n",
      "copy_paste: 0.0\n",
      "\n",
      "\u001B[34m\u001B[1mTuner: \u001B[0mStarting iteration 20/50 with hyperparameters: {'lr0': 0.00929, 'lrf': 0.00914, 'momentum': 0.92042, 'weight_decay': 0.00049, 'warmup_epochs': 2.45534, 'warmup_momentum': 0.7278, 'box': 5.89846, 'cls': 0.4975, 'dfl': 1.81303, 'hsv_h': 0.01455, 'hsv_s': 0.61538, 'hsv_v': 0.38096, 'degrees': 0.0, 'translate': 0.10903, 'scale': 0.49987, 'shear': 0.0, 'perspective': 0.0, 'flipud': 0.0, 'fliplr': 0.49044, 'bgr': 0.0, 'mosaic': 0.93248, 'mixup': 0.0, 'copy_paste': 0.0}\n",
      "WARNING  training failure for hyperparameter tuning iteration 20\n",
      "Command 'yolo train task=detect mode=train model=yolov8s.yaml data=G:\\Drone Detection\\untitled\\DRONES_NEW-4/data.yaml epochs=3 time=None patience=100 batch=16 imgsz=640 save=True save_period=-1 cache=False device=None workers=8 project=None name=None exist_ok=False pretrained=True optimizer=auto verbose=True seed=0 deterministic=True single_cls=False rect=False cos_lr=False close_mosaic=10 resume=False amp=True fraction=1.0 profile=False freeze=None multi_scale=False overlap_mask=True mask_ratio=4 dropout=0.0 val=True split=val save_json=False save_hybrid=False conf=None iou=0.7 max_det=300 half=False dnn=False plots=True source=None vid_stride=1 stream_buffer=False visualize=False augment=False agnostic_nms=False classes=None retina_masks=False embed=None show=False save_frames=False save_txt=False save_conf=False save_crop=False show_labels=True show_conf=True show_boxes=True line_width=None format=torchscript keras=False optimize=False int8=False dynamic=False simplify=True opset=None workspace=None nms=False lr0=0.00929 lrf=0.00914 momentum=0.92042 weight_decay=0.00049 warmup_epochs=2.45534 warmup_momentum=0.7278 warmup_bias_lr=0.1 box=5.89846 cls=0.4975 dfl=1.81303 pose=12.0 kobj=1.0 nbs=64 hsv_h=0.01455 hsv_s=0.61538 hsv_v=0.38096 degrees=0.0 translate=0.10903 scale=0.49987 shear=0.0 perspective=0.0 flipud=0.0 fliplr=0.49044 bgr=0.0 mosaic=0.93248 mixup=0.0 copy_paste=0.0 copy_paste_mode=flip auto_augment=randaugment erasing=0.4 crop_fraction=1.0 cfg=None tracker=botsort.yaml' returned non-zero exit status 1.\n",
      "Saved runs\\detect\\tune4\\tune_scatter_plots.png\n",
      "Saved runs\\detect\\tune4\\tune_fitness.png\n",
      "\n",
      "\u001B[34m\u001B[1mTuner: \u001B[0m20/50 iterations complete  (83.61s)\n",
      "\u001B[34m\u001B[1mTuner: \u001B[0mResults saved to \u001B[1mruns\\detect\\tune4\u001B[0m\n",
      "\u001B[34m\u001B[1mTuner: \u001B[0mBest fitness=0.0 observed at iteration 1\n",
      "\u001B[34m\u001B[1mTuner: \u001B[0mBest fitness metrics are {}\n",
      "\u001B[34m\u001B[1mTuner: \u001B[0mBest fitness model is runs\\detect\\train71\n",
      "\u001B[34m\u001B[1mTuner: \u001B[0mBest fitness hyperparameters are printed below.\n",
      "\n",
      "Printing '\u001B[1m\u001B[30mruns\\detect\\tune4\\best_hyperparameters.yaml\u001B[0m'\n",
      "\n",
      "lr0: 0.01\n",
      "lrf: 0.01\n",
      "momentum: 0.937\n",
      "weight_decay: 0.0005\n",
      "warmup_epochs: 3.0\n",
      "warmup_momentum: 0.8\n",
      "box: 7.5\n",
      "cls: 0.5\n",
      "dfl: 1.5\n",
      "hsv_h: 0.015\n",
      "hsv_s: 0.7\n",
      "hsv_v: 0.4\n",
      "degrees: 0.0\n",
      "translate: 0.1\n",
      "scale: 0.5\n",
      "shear: 0.0\n",
      "perspective: 0.0\n",
      "flipud: 0.0\n",
      "fliplr: 0.5\n",
      "bgr: 0.0\n",
      "mosaic: 1.0\n",
      "mixup: 0.0\n",
      "copy_paste: 0.0\n",
      "\n",
      "\u001B[34m\u001B[1mTuner: \u001B[0mStarting iteration 21/50 with hyperparameters: {'lr0': 0.01191, 'lrf': 0.01074, 'momentum': 0.95739, 'weight_decay': 0.00053, 'warmup_epochs': 3.53559, 'warmup_momentum': 0.95, 'box': 10.03796, 'cls': 0.65852, 'dfl': 1.52527, 'hsv_h': 0.01568, 'hsv_s': 0.58567, 'hsv_v': 0.47743, 'degrees': 0.0, 'translate': 0.09837, 'scale': 0.50682, 'shear': 0.0, 'perspective': 0.0, 'flipud': 0.0, 'fliplr': 0.4485, 'bgr': 0.0, 'mosaic': 1.0, 'mixup': 0.0, 'copy_paste': 0.0}\n",
      "WARNING  training failure for hyperparameter tuning iteration 21\n",
      "Command 'yolo train task=detect mode=train model=yolov8s.yaml data=G:\\Drone Detection\\untitled\\DRONES_NEW-4/data.yaml epochs=3 time=None patience=100 batch=16 imgsz=640 save=True save_period=-1 cache=False device=None workers=8 project=None name=None exist_ok=False pretrained=True optimizer=auto verbose=True seed=0 deterministic=True single_cls=False rect=False cos_lr=False close_mosaic=10 resume=False amp=True fraction=1.0 profile=False freeze=None multi_scale=False overlap_mask=True mask_ratio=4 dropout=0.0 val=True split=val save_json=False save_hybrid=False conf=None iou=0.7 max_det=300 half=False dnn=False plots=True source=None vid_stride=1 stream_buffer=False visualize=False augment=False agnostic_nms=False classes=None retina_masks=False embed=None show=False save_frames=False save_txt=False save_conf=False save_crop=False show_labels=True show_conf=True show_boxes=True line_width=None format=torchscript keras=False optimize=False int8=False dynamic=False simplify=True opset=None workspace=None nms=False lr0=0.01191 lrf=0.01074 momentum=0.95739 weight_decay=0.00053 warmup_epochs=3.53559 warmup_momentum=0.95 warmup_bias_lr=0.1 box=10.03796 cls=0.65852 dfl=1.52527 pose=12.0 kobj=1.0 nbs=64 hsv_h=0.01568 hsv_s=0.58567 hsv_v=0.47743 degrees=0.0 translate=0.09837 scale=0.50682 shear=0.0 perspective=0.0 flipud=0.0 fliplr=0.4485 bgr=0.0 mosaic=1.0 mixup=0.0 copy_paste=0.0 copy_paste_mode=flip auto_augment=randaugment erasing=0.4 crop_fraction=1.0 cfg=None tracker=botsort.yaml' returned non-zero exit status 1.\n",
      "Saved runs\\detect\\tune4\\tune_scatter_plots.png\n",
      "Saved runs\\detect\\tune4\\tune_fitness.png\n",
      "\n",
      "\u001B[34m\u001B[1mTuner: \u001B[0m21/50 iterations complete  (87.61s)\n",
      "\u001B[34m\u001B[1mTuner: \u001B[0mResults saved to \u001B[1mruns\\detect\\tune4\u001B[0m\n",
      "\u001B[34m\u001B[1mTuner: \u001B[0mBest fitness=0.0 observed at iteration 1\n",
      "\u001B[34m\u001B[1mTuner: \u001B[0mBest fitness metrics are {}\n",
      "\u001B[34m\u001B[1mTuner: \u001B[0mBest fitness model is runs\\detect\\train71\n",
      "\u001B[34m\u001B[1mTuner: \u001B[0mBest fitness hyperparameters are printed below.\n",
      "\n",
      "Printing '\u001B[1m\u001B[30mruns\\detect\\tune4\\best_hyperparameters.yaml\u001B[0m'\n",
      "\n",
      "lr0: 0.01\n",
      "lrf: 0.01\n",
      "momentum: 0.937\n",
      "weight_decay: 0.0005\n",
      "warmup_epochs: 3.0\n",
      "warmup_momentum: 0.8\n",
      "box: 7.5\n",
      "cls: 0.5\n",
      "dfl: 1.5\n",
      "hsv_h: 0.015\n",
      "hsv_s: 0.7\n",
      "hsv_v: 0.4\n",
      "degrees: 0.0\n",
      "translate: 0.1\n",
      "scale: 0.5\n",
      "shear: 0.0\n",
      "perspective: 0.0\n",
      "flipud: 0.0\n",
      "fliplr: 0.5\n",
      "bgr: 0.0\n",
      "mosaic: 1.0\n",
      "mixup: 0.0\n",
      "copy_paste: 0.0\n",
      "\n",
      "\u001B[34m\u001B[1mTuner: \u001B[0mStarting iteration 22/50 with hyperparameters: {'lr0': 0.01056, 'lrf': 0.01151, 'momentum': 0.98, 'weight_decay': 0.00058, 'warmup_epochs': 2.57654, 'warmup_momentum': 0.86853, 'box': 5.38284, 'cls': 0.51787, 'dfl': 1.6289, 'hsv_h': 0.01091, 'hsv_s': 0.63081, 'hsv_v': 0.31787, 'degrees': 0.0, 'translate': 0.13174, 'scale': 0.34349, 'shear': 0.0, 'perspective': 0.0, 'flipud': 0.0, 'fliplr': 0.44076, 'bgr': 0.0, 'mosaic': 0.92163, 'mixup': 0.0, 'copy_paste': 0.0}\n",
      "WARNING  training failure for hyperparameter tuning iteration 22\n",
      "Command 'yolo train task=detect mode=train model=yolov8s.yaml data=G:\\Drone Detection\\untitled\\DRONES_NEW-4/data.yaml epochs=3 time=None patience=100 batch=16 imgsz=640 save=True save_period=-1 cache=False device=None workers=8 project=None name=None exist_ok=False pretrained=True optimizer=auto verbose=True seed=0 deterministic=True single_cls=False rect=False cos_lr=False close_mosaic=10 resume=False amp=True fraction=1.0 profile=False freeze=None multi_scale=False overlap_mask=True mask_ratio=4 dropout=0.0 val=True split=val save_json=False save_hybrid=False conf=None iou=0.7 max_det=300 half=False dnn=False plots=True source=None vid_stride=1 stream_buffer=False visualize=False augment=False agnostic_nms=False classes=None retina_masks=False embed=None show=False save_frames=False save_txt=False save_conf=False save_crop=False show_labels=True show_conf=True show_boxes=True line_width=None format=torchscript keras=False optimize=False int8=False dynamic=False simplify=True opset=None workspace=None nms=False lr0=0.01056 lrf=0.01151 momentum=0.98 weight_decay=0.00058 warmup_epochs=2.57654 warmup_momentum=0.86853 warmup_bias_lr=0.1 box=5.38284 cls=0.51787 dfl=1.6289 pose=12.0 kobj=1.0 nbs=64 hsv_h=0.01091 hsv_s=0.63081 hsv_v=0.31787 degrees=0.0 translate=0.13174 scale=0.34349 shear=0.0 perspective=0.0 flipud=0.0 fliplr=0.44076 bgr=0.0 mosaic=0.92163 mixup=0.0 copy_paste=0.0 copy_paste_mode=flip auto_augment=randaugment erasing=0.4 crop_fraction=1.0 cfg=None tracker=botsort.yaml' returned non-zero exit status 1.\n",
      "Saved runs\\detect\\tune4\\tune_scatter_plots.png\n",
      "Saved runs\\detect\\tune4\\tune_fitness.png\n",
      "\n",
      "\u001B[34m\u001B[1mTuner: \u001B[0m22/50 iterations complete  (91.66s)\n",
      "\u001B[34m\u001B[1mTuner: \u001B[0mResults saved to \u001B[1mruns\\detect\\tune4\u001B[0m\n",
      "\u001B[34m\u001B[1mTuner: \u001B[0mBest fitness=0.0 observed at iteration 1\n",
      "\u001B[34m\u001B[1mTuner: \u001B[0mBest fitness metrics are {}\n",
      "\u001B[34m\u001B[1mTuner: \u001B[0mBest fitness model is runs\\detect\\train71\n",
      "\u001B[34m\u001B[1mTuner: \u001B[0mBest fitness hyperparameters are printed below.\n",
      "\n",
      "Printing '\u001B[1m\u001B[30mruns\\detect\\tune4\\best_hyperparameters.yaml\u001B[0m'\n",
      "\n",
      "lr0: 0.01\n",
      "lrf: 0.01\n",
      "momentum: 0.937\n",
      "weight_decay: 0.0005\n",
      "warmup_epochs: 3.0\n",
      "warmup_momentum: 0.8\n",
      "box: 7.5\n",
      "cls: 0.5\n",
      "dfl: 1.5\n",
      "hsv_h: 0.015\n",
      "hsv_s: 0.7\n",
      "hsv_v: 0.4\n",
      "degrees: 0.0\n",
      "translate: 0.1\n",
      "scale: 0.5\n",
      "shear: 0.0\n",
      "perspective: 0.0\n",
      "flipud: 0.0\n",
      "fliplr: 0.5\n",
      "bgr: 0.0\n",
      "mosaic: 1.0\n",
      "mixup: 0.0\n",
      "copy_paste: 0.0\n",
      "\n",
      "\u001B[34m\u001B[1mTuner: \u001B[0mStarting iteration 23/50 with hyperparameters: {'lr0': 0.01206, 'lrf': 0.01155, 'momentum': 0.95385, 'weight_decay': 0.00052, 'warmup_epochs': 2.75274, 'warmup_momentum': 0.84745, 'box': 7.05746, 'cls': 0.51817, 'dfl': 1.57939, 'hsv_h': 0.01362, 'hsv_s': 0.73889, 'hsv_v': 0.37781, 'degrees': 0.0, 'translate': 0.12885, 'scale': 0.41268, 'shear': 0.0, 'perspective': 0.0, 'flipud': 0.0, 'fliplr': 0.45051, 'bgr': 0.0, 'mosaic': 0.91815, 'mixup': 0.0, 'copy_paste': 0.0}\n",
      "WARNING  training failure for hyperparameter tuning iteration 23\n",
      "Command 'yolo train task=detect mode=train model=yolov8s.yaml data=G:\\Drone Detection\\untitled\\DRONES_NEW-4/data.yaml epochs=3 time=None patience=100 batch=16 imgsz=640 save=True save_period=-1 cache=False device=None workers=8 project=None name=None exist_ok=False pretrained=True optimizer=auto verbose=True seed=0 deterministic=True single_cls=False rect=False cos_lr=False close_mosaic=10 resume=False amp=True fraction=1.0 profile=False freeze=None multi_scale=False overlap_mask=True mask_ratio=4 dropout=0.0 val=True split=val save_json=False save_hybrid=False conf=None iou=0.7 max_det=300 half=False dnn=False plots=True source=None vid_stride=1 stream_buffer=False visualize=False augment=False agnostic_nms=False classes=None retina_masks=False embed=None show=False save_frames=False save_txt=False save_conf=False save_crop=False show_labels=True show_conf=True show_boxes=True line_width=None format=torchscript keras=False optimize=False int8=False dynamic=False simplify=True opset=None workspace=None nms=False lr0=0.01206 lrf=0.01155 momentum=0.95385 weight_decay=0.00052 warmup_epochs=2.75274 warmup_momentum=0.84745 warmup_bias_lr=0.1 box=7.05746 cls=0.51817 dfl=1.57939 pose=12.0 kobj=1.0 nbs=64 hsv_h=0.01362 hsv_s=0.73889 hsv_v=0.37781 degrees=0.0 translate=0.12885 scale=0.41268 shear=0.0 perspective=0.0 flipud=0.0 fliplr=0.45051 bgr=0.0 mosaic=0.91815 mixup=0.0 copy_paste=0.0 copy_paste_mode=flip auto_augment=randaugment erasing=0.4 crop_fraction=1.0 cfg=None tracker=botsort.yaml' returned non-zero exit status 1.\n",
      "Saved runs\\detect\\tune4\\tune_scatter_plots.png\n",
      "Saved runs\\detect\\tune4\\tune_fitness.png\n",
      "\n",
      "\u001B[34m\u001B[1mTuner: \u001B[0m23/50 iterations complete  (96.20s)\n",
      "\u001B[34m\u001B[1mTuner: \u001B[0mResults saved to \u001B[1mruns\\detect\\tune4\u001B[0m\n",
      "\u001B[34m\u001B[1mTuner: \u001B[0mBest fitness=0.0 observed at iteration 1\n",
      "\u001B[34m\u001B[1mTuner: \u001B[0mBest fitness metrics are {}\n",
      "\u001B[34m\u001B[1mTuner: \u001B[0mBest fitness model is runs\\detect\\train71\n",
      "\u001B[34m\u001B[1mTuner: \u001B[0mBest fitness hyperparameters are printed below.\n",
      "\n",
      "Printing '\u001B[1m\u001B[30mruns\\detect\\tune4\\best_hyperparameters.yaml\u001B[0m'\n",
      "\n",
      "lr0: 0.01\n",
      "lrf: 0.01\n",
      "momentum: 0.937\n",
      "weight_decay: 0.0005\n",
      "warmup_epochs: 3.0\n",
      "warmup_momentum: 0.8\n",
      "box: 7.5\n",
      "cls: 0.5\n",
      "dfl: 1.5\n",
      "hsv_h: 0.015\n",
      "hsv_s: 0.7\n",
      "hsv_v: 0.4\n",
      "degrees: 0.0\n",
      "translate: 0.1\n",
      "scale: 0.5\n",
      "shear: 0.0\n",
      "perspective: 0.0\n",
      "flipud: 0.0\n",
      "fliplr: 0.5\n",
      "bgr: 0.0\n",
      "mosaic: 1.0\n",
      "mixup: 0.0\n",
      "copy_paste: 0.0\n",
      "\n",
      "\u001B[34m\u001B[1mTuner: \u001B[0mStarting iteration 24/50 with hyperparameters: {'lr0': 0.01099, 'lrf': 0.01155, 'momentum': 0.98, 'weight_decay': 0.00048, 'warmup_epochs': 2.75037, 'warmup_momentum': 0.83862, 'box': 5.61209, 'cls': 0.51504, 'dfl': 1.43915, 'hsv_h': 0.01233, 'hsv_s': 0.76891, 'hsv_v': 0.39655, 'degrees': 0.0, 'translate': 0.12227, 'scale': 0.44783, 'shear': 0.0, 'perspective': 0.0, 'flipud': 0.0, 'fliplr': 0.62669, 'bgr': 0.0, 'mosaic': 1.0, 'mixup': 0.0, 'copy_paste': 0.0}\n",
      "WARNING  training failure for hyperparameter tuning iteration 24\n",
      "Command 'yolo train task=detect mode=train model=yolov8s.yaml data=G:\\Drone Detection\\untitled\\DRONES_NEW-4/data.yaml epochs=3 time=None patience=100 batch=16 imgsz=640 save=True save_period=-1 cache=False device=None workers=8 project=None name=None exist_ok=False pretrained=True optimizer=auto verbose=True seed=0 deterministic=True single_cls=False rect=False cos_lr=False close_mosaic=10 resume=False amp=True fraction=1.0 profile=False freeze=None multi_scale=False overlap_mask=True mask_ratio=4 dropout=0.0 val=True split=val save_json=False save_hybrid=False conf=None iou=0.7 max_det=300 half=False dnn=False plots=True source=None vid_stride=1 stream_buffer=False visualize=False augment=False agnostic_nms=False classes=None retina_masks=False embed=None show=False save_frames=False save_txt=False save_conf=False save_crop=False show_labels=True show_conf=True show_boxes=True line_width=None format=torchscript keras=False optimize=False int8=False dynamic=False simplify=True opset=None workspace=None nms=False lr0=0.01099 lrf=0.01155 momentum=0.98 weight_decay=0.00048 warmup_epochs=2.75037 warmup_momentum=0.83862 warmup_bias_lr=0.1 box=5.61209 cls=0.51504 dfl=1.43915 pose=12.0 kobj=1.0 nbs=64 hsv_h=0.01233 hsv_s=0.76891 hsv_v=0.39655 degrees=0.0 translate=0.12227 scale=0.44783 shear=0.0 perspective=0.0 flipud=0.0 fliplr=0.62669 bgr=0.0 mosaic=1.0 mixup=0.0 copy_paste=0.0 copy_paste_mode=flip auto_augment=randaugment erasing=0.4 crop_fraction=1.0 cfg=None tracker=botsort.yaml' returned non-zero exit status 1.\n",
      "Saved runs\\detect\\tune4\\tune_scatter_plots.png\n",
      "Saved runs\\detect\\tune4\\tune_fitness.png\n",
      "\n",
      "\u001B[34m\u001B[1mTuner: \u001B[0m24/50 iterations complete  (100.20s)\n",
      "\u001B[34m\u001B[1mTuner: \u001B[0mResults saved to \u001B[1mruns\\detect\\tune4\u001B[0m\n",
      "\u001B[34m\u001B[1mTuner: \u001B[0mBest fitness=0.0 observed at iteration 1\n",
      "\u001B[34m\u001B[1mTuner: \u001B[0mBest fitness metrics are {}\n",
      "\u001B[34m\u001B[1mTuner: \u001B[0mBest fitness model is runs\\detect\\train71\n",
      "\u001B[34m\u001B[1mTuner: \u001B[0mBest fitness hyperparameters are printed below.\n",
      "\n",
      "Printing '\u001B[1m\u001B[30mruns\\detect\\tune4\\best_hyperparameters.yaml\u001B[0m'\n",
      "\n",
      "lr0: 0.01\n",
      "lrf: 0.01\n",
      "momentum: 0.937\n",
      "weight_decay: 0.0005\n",
      "warmup_epochs: 3.0\n",
      "warmup_momentum: 0.8\n",
      "box: 7.5\n",
      "cls: 0.5\n",
      "dfl: 1.5\n",
      "hsv_h: 0.015\n",
      "hsv_s: 0.7\n",
      "hsv_v: 0.4\n",
      "degrees: 0.0\n",
      "translate: 0.1\n",
      "scale: 0.5\n",
      "shear: 0.0\n",
      "perspective: 0.0\n",
      "flipud: 0.0\n",
      "fliplr: 0.5\n",
      "bgr: 0.0\n",
      "mosaic: 1.0\n",
      "mixup: 0.0\n",
      "copy_paste: 0.0\n",
      "\n",
      "\u001B[34m\u001B[1mTuner: \u001B[0mStarting iteration 25/50 with hyperparameters: {'lr0': 0.0111, 'lrf': 0.00799, 'momentum': 0.97561, 'weight_decay': 0.00052, 'warmup_epochs': 2.57654, 'warmup_momentum': 0.95, 'box': 4.52644, 'cls': 0.48814, 'dfl': 2.04796, 'hsv_h': 0.00899, 'hsv_s': 0.66713, 'hsv_v': 0.31787, 'degrees': 0.0, 'translate': 0.11983, 'scale': 0.38771, 'shear': 0.0, 'perspective': 0.0, 'flipud': 0.0, 'fliplr': 0.44076, 'bgr': 0.0, 'mosaic': 0.92418, 'mixup': 0.0, 'copy_paste': 0.0}\n",
      "WARNING  training failure for hyperparameter tuning iteration 25\n",
      "Command 'yolo train task=detect mode=train model=yolov8s.yaml data=G:\\Drone Detection\\untitled\\DRONES_NEW-4/data.yaml epochs=3 time=None patience=100 batch=16 imgsz=640 save=True save_period=-1 cache=False device=None workers=8 project=None name=None exist_ok=False pretrained=True optimizer=auto verbose=True seed=0 deterministic=True single_cls=False rect=False cos_lr=False close_mosaic=10 resume=False amp=True fraction=1.0 profile=False freeze=None multi_scale=False overlap_mask=True mask_ratio=4 dropout=0.0 val=True split=val save_json=False save_hybrid=False conf=None iou=0.7 max_det=300 half=False dnn=False plots=True source=None vid_stride=1 stream_buffer=False visualize=False augment=False agnostic_nms=False classes=None retina_masks=False embed=None show=False save_frames=False save_txt=False save_conf=False save_crop=False show_labels=True show_conf=True show_boxes=True line_width=None format=torchscript keras=False optimize=False int8=False dynamic=False simplify=True opset=None workspace=None nms=False lr0=0.0111 lrf=0.00799 momentum=0.97561 weight_decay=0.00052 warmup_epochs=2.57654 warmup_momentum=0.95 warmup_bias_lr=0.1 box=4.52644 cls=0.48814 dfl=2.04796 pose=12.0 kobj=1.0 nbs=64 hsv_h=0.00899 hsv_s=0.66713 hsv_v=0.31787 degrees=0.0 translate=0.11983 scale=0.38771 shear=0.0 perspective=0.0 flipud=0.0 fliplr=0.44076 bgr=0.0 mosaic=0.92418 mixup=0.0 copy_paste=0.0 copy_paste_mode=flip auto_augment=randaugment erasing=0.4 crop_fraction=1.0 cfg=None tracker=botsort.yaml' returned non-zero exit status 1.\n",
      "Saved runs\\detect\\tune4\\tune_scatter_plots.png\n",
      "Saved runs\\detect\\tune4\\tune_fitness.png\n",
      "\n",
      "\u001B[34m\u001B[1mTuner: \u001B[0m25/50 iterations complete  (104.46s)\n",
      "\u001B[34m\u001B[1mTuner: \u001B[0mResults saved to \u001B[1mruns\\detect\\tune4\u001B[0m\n",
      "\u001B[34m\u001B[1mTuner: \u001B[0mBest fitness=0.0 observed at iteration 1\n",
      "\u001B[34m\u001B[1mTuner: \u001B[0mBest fitness metrics are {}\n",
      "\u001B[34m\u001B[1mTuner: \u001B[0mBest fitness model is runs\\detect\\train71\n",
      "\u001B[34m\u001B[1mTuner: \u001B[0mBest fitness hyperparameters are printed below.\n",
      "\n",
      "Printing '\u001B[1m\u001B[30mruns\\detect\\tune4\\best_hyperparameters.yaml\u001B[0m'\n",
      "\n",
      "lr0: 0.01\n",
      "lrf: 0.01\n",
      "momentum: 0.937\n",
      "weight_decay: 0.0005\n",
      "warmup_epochs: 3.0\n",
      "warmup_momentum: 0.8\n",
      "box: 7.5\n",
      "cls: 0.5\n",
      "dfl: 1.5\n",
      "hsv_h: 0.015\n",
      "hsv_s: 0.7\n",
      "hsv_v: 0.4\n",
      "degrees: 0.0\n",
      "translate: 0.1\n",
      "scale: 0.5\n",
      "shear: 0.0\n",
      "perspective: 0.0\n",
      "flipud: 0.0\n",
      "fliplr: 0.5\n",
      "bgr: 0.0\n",
      "mosaic: 1.0\n",
      "mixup: 0.0\n",
      "copy_paste: 0.0\n",
      "\n",
      "\u001B[34m\u001B[1mTuner: \u001B[0mStarting iteration 26/50 with hyperparameters: {'lr0': 0.00929, 'lrf': 0.00928, 'momentum': 0.91067, 'weight_decay': 0.00049, 'warmup_epochs': 2.47577, 'warmup_momentum': 0.7474, 'box': 5.9599, 'cls': 0.51919, 'dfl': 1.85625, 'hsv_h': 0.01455, 'hsv_s': 0.59545, 'hsv_v': 0.38096, 'degrees': 0.0, 'translate': 0.10914, 'scale': 0.51126, 'shear': 0.0, 'perspective': 0.0, 'flipud': 0.0, 'fliplr': 0.50196, 'bgr': 0.0, 'mosaic': 0.93723, 'mixup': 0.0, 'copy_paste': 0.0}\n",
      "WARNING  training failure for hyperparameter tuning iteration 26\n",
      "Command 'yolo train task=detect mode=train model=yolov8s.yaml data=G:\\Drone Detection\\untitled\\DRONES_NEW-4/data.yaml epochs=3 time=None patience=100 batch=16 imgsz=640 save=True save_period=-1 cache=False device=None workers=8 project=None name=None exist_ok=False pretrained=True optimizer=auto verbose=True seed=0 deterministic=True single_cls=False rect=False cos_lr=False close_mosaic=10 resume=False amp=True fraction=1.0 profile=False freeze=None multi_scale=False overlap_mask=True mask_ratio=4 dropout=0.0 val=True split=val save_json=False save_hybrid=False conf=None iou=0.7 max_det=300 half=False dnn=False plots=True source=None vid_stride=1 stream_buffer=False visualize=False augment=False agnostic_nms=False classes=None retina_masks=False embed=None show=False save_frames=False save_txt=False save_conf=False save_crop=False show_labels=True show_conf=True show_boxes=True line_width=None format=torchscript keras=False optimize=False int8=False dynamic=False simplify=True opset=None workspace=None nms=False lr0=0.00929 lrf=0.00928 momentum=0.91067 weight_decay=0.00049 warmup_epochs=2.47577 warmup_momentum=0.7474 warmup_bias_lr=0.1 box=5.9599 cls=0.51919 dfl=1.85625 pose=12.0 kobj=1.0 nbs=64 hsv_h=0.01455 hsv_s=0.59545 hsv_v=0.38096 degrees=0.0 translate=0.10914 scale=0.51126 shear=0.0 perspective=0.0 flipud=0.0 fliplr=0.50196 bgr=0.0 mosaic=0.93723 mixup=0.0 copy_paste=0.0 copy_paste_mode=flip auto_augment=randaugment erasing=0.4 crop_fraction=1.0 cfg=None tracker=botsort.yaml' returned non-zero exit status 1.\n",
      "Saved runs\\detect\\tune4\\tune_scatter_plots.png\n",
      "Saved runs\\detect\\tune4\\tune_fitness.png\n",
      "\n",
      "\u001B[34m\u001B[1mTuner: \u001B[0m26/50 iterations complete  (108.50s)\n",
      "\u001B[34m\u001B[1mTuner: \u001B[0mResults saved to \u001B[1mruns\\detect\\tune4\u001B[0m\n",
      "\u001B[34m\u001B[1mTuner: \u001B[0mBest fitness=0.0 observed at iteration 1\n",
      "\u001B[34m\u001B[1mTuner: \u001B[0mBest fitness metrics are {}\n",
      "\u001B[34m\u001B[1mTuner: \u001B[0mBest fitness model is runs\\detect\\train71\n",
      "\u001B[34m\u001B[1mTuner: \u001B[0mBest fitness hyperparameters are printed below.\n",
      "\n",
      "Printing '\u001B[1m\u001B[30mruns\\detect\\tune4\\best_hyperparameters.yaml\u001B[0m'\n",
      "\n",
      "lr0: 0.01\n",
      "lrf: 0.01\n",
      "momentum: 0.937\n",
      "weight_decay: 0.0005\n",
      "warmup_epochs: 3.0\n",
      "warmup_momentum: 0.8\n",
      "box: 7.5\n",
      "cls: 0.5\n",
      "dfl: 1.5\n",
      "hsv_h: 0.015\n",
      "hsv_s: 0.7\n",
      "hsv_v: 0.4\n",
      "degrees: 0.0\n",
      "translate: 0.1\n",
      "scale: 0.5\n",
      "shear: 0.0\n",
      "perspective: 0.0\n",
      "flipud: 0.0\n",
      "fliplr: 0.5\n",
      "bgr: 0.0\n",
      "mosaic: 1.0\n",
      "mixup: 0.0\n",
      "copy_paste: 0.0\n",
      "\n",
      "\u001B[34m\u001B[1mTuner: \u001B[0mStarting iteration 27/50 with hyperparameters: {'lr0': 0.01152, 'lrf': 0.01065, 'momentum': 0.95666, 'weight_decay': 0.0005, 'warmup_epochs': 2.75037, 'warmup_momentum': 0.8028, 'box': 5.46816, 'cls': 0.50848, 'dfl': 1.39469, 'hsv_h': 0.01233, 'hsv_s': 0.77248, 'hsv_v': 0.40359, 'degrees': 0.0, 'translate': 0.12227, 'scale': 0.42459, 'shear': 0.0, 'perspective': 0.0, 'flipud': 0.0, 'fliplr': 0.62669, 'bgr': 0.0, 'mosaic': 0.98733, 'mixup': 0.0, 'copy_paste': 0.0}\n",
      "WARNING  training failure for hyperparameter tuning iteration 27\n",
      "Command 'yolo train task=detect mode=train model=yolov8s.yaml data=G:\\Drone Detection\\untitled\\DRONES_NEW-4/data.yaml epochs=3 time=None patience=100 batch=16 imgsz=640 save=True save_period=-1 cache=False device=None workers=8 project=None name=None exist_ok=False pretrained=True optimizer=auto verbose=True seed=0 deterministic=True single_cls=False rect=False cos_lr=False close_mosaic=10 resume=False amp=True fraction=1.0 profile=False freeze=None multi_scale=False overlap_mask=True mask_ratio=4 dropout=0.0 val=True split=val save_json=False save_hybrid=False conf=None iou=0.7 max_det=300 half=False dnn=False plots=True source=None vid_stride=1 stream_buffer=False visualize=False augment=False agnostic_nms=False classes=None retina_masks=False embed=None show=False save_frames=False save_txt=False save_conf=False save_crop=False show_labels=True show_conf=True show_boxes=True line_width=None format=torchscript keras=False optimize=False int8=False dynamic=False simplify=True opset=None workspace=None nms=False lr0=0.01152 lrf=0.01065 momentum=0.95666 weight_decay=0.0005 warmup_epochs=2.75037 warmup_momentum=0.8028 warmup_bias_lr=0.1 box=5.46816 cls=0.50848 dfl=1.39469 pose=12.0 kobj=1.0 nbs=64 hsv_h=0.01233 hsv_s=0.77248 hsv_v=0.40359 degrees=0.0 translate=0.12227 scale=0.42459 shear=0.0 perspective=0.0 flipud=0.0 fliplr=0.62669 bgr=0.0 mosaic=0.98733 mixup=0.0 copy_paste=0.0 copy_paste_mode=flip auto_augment=randaugment erasing=0.4 crop_fraction=1.0 cfg=None tracker=botsort.yaml' returned non-zero exit status 1.\n",
      "Saved runs\\detect\\tune4\\tune_scatter_plots.png\n",
      "Saved runs\\detect\\tune4\\tune_fitness.png\n",
      "\n",
      "\u001B[34m\u001B[1mTuner: \u001B[0m27/50 iterations complete  (112.58s)\n",
      "\u001B[34m\u001B[1mTuner: \u001B[0mResults saved to \u001B[1mruns\\detect\\tune4\u001B[0m\n",
      "\u001B[34m\u001B[1mTuner: \u001B[0mBest fitness=0.0 observed at iteration 1\n",
      "\u001B[34m\u001B[1mTuner: \u001B[0mBest fitness metrics are {}\n",
      "\u001B[34m\u001B[1mTuner: \u001B[0mBest fitness model is runs\\detect\\train71\n",
      "\u001B[34m\u001B[1mTuner: \u001B[0mBest fitness hyperparameters are printed below.\n",
      "\n",
      "Printing '\u001B[1m\u001B[30mruns\\detect\\tune4\\best_hyperparameters.yaml\u001B[0m'\n",
      "\n",
      "lr0: 0.01\n",
      "lrf: 0.01\n",
      "momentum: 0.937\n",
      "weight_decay: 0.0005\n",
      "warmup_epochs: 3.0\n",
      "warmup_momentum: 0.8\n",
      "box: 7.5\n",
      "cls: 0.5\n",
      "dfl: 1.5\n",
      "hsv_h: 0.015\n",
      "hsv_s: 0.7\n",
      "hsv_v: 0.4\n",
      "degrees: 0.0\n",
      "translate: 0.1\n",
      "scale: 0.5\n",
      "shear: 0.0\n",
      "perspective: 0.0\n",
      "flipud: 0.0\n",
      "fliplr: 0.5\n",
      "bgr: 0.0\n",
      "mosaic: 1.0\n",
      "mixup: 0.0\n",
      "copy_paste: 0.0\n",
      "\n",
      "\u001B[34m\u001B[1mTuner: \u001B[0mStarting iteration 28/50 with hyperparameters: {'lr0': 0.01159, 'lrf': 0.00803, 'momentum': 0.97561, 'weight_decay': 0.00054, 'warmup_epochs': 2.57654, 'warmup_momentum': 0.95, 'box': 4.37018, 'cls': 0.46478, 'dfl': 2.16077, 'hsv_h': 0.00893, 'hsv_s': 0.65851, 'hsv_v': 0.31787, 'degrees': 0.0, 'translate': 0.11983, 'scale': 0.38771, 'shear': 0.0, 'perspective': 0.0, 'flipud': 0.0, 'fliplr': 0.39822, 'bgr': 0.0, 'mosaic': 0.98399, 'mixup': 0.0, 'copy_paste': 0.0}\n",
      "WARNING  training failure for hyperparameter tuning iteration 28\n",
      "Command 'yolo train task=detect mode=train model=yolov8s.yaml data=G:\\Drone Detection\\untitled\\DRONES_NEW-4/data.yaml epochs=3 time=None patience=100 batch=16 imgsz=640 save=True save_period=-1 cache=False device=None workers=8 project=None name=None exist_ok=False pretrained=True optimizer=auto verbose=True seed=0 deterministic=True single_cls=False rect=False cos_lr=False close_mosaic=10 resume=False amp=True fraction=1.0 profile=False freeze=None multi_scale=False overlap_mask=True mask_ratio=4 dropout=0.0 val=True split=val save_json=False save_hybrid=False conf=None iou=0.7 max_det=300 half=False dnn=False plots=True source=None vid_stride=1 stream_buffer=False visualize=False augment=False agnostic_nms=False classes=None retina_masks=False embed=None show=False save_frames=False save_txt=False save_conf=False save_crop=False show_labels=True show_conf=True show_boxes=True line_width=None format=torchscript keras=False optimize=False int8=False dynamic=False simplify=True opset=None workspace=None nms=False lr0=0.01159 lrf=0.00803 momentum=0.97561 weight_decay=0.00054 warmup_epochs=2.57654 warmup_momentum=0.95 warmup_bias_lr=0.1 box=4.37018 cls=0.46478 dfl=2.16077 pose=12.0 kobj=1.0 nbs=64 hsv_h=0.00893 hsv_s=0.65851 hsv_v=0.31787 degrees=0.0 translate=0.11983 scale=0.38771 shear=0.0 perspective=0.0 flipud=0.0 fliplr=0.39822 bgr=0.0 mosaic=0.98399 mixup=0.0 copy_paste=0.0 copy_paste_mode=flip auto_augment=randaugment erasing=0.4 crop_fraction=1.0 cfg=None tracker=botsort.yaml' returned non-zero exit status 1.\n",
      "Saved runs\\detect\\tune4\\tune_scatter_plots.png\n",
      "Saved runs\\detect\\tune4\\tune_fitness.png\n",
      "\n",
      "\u001B[34m\u001B[1mTuner: \u001B[0m28/50 iterations complete  (116.66s)\n",
      "\u001B[34m\u001B[1mTuner: \u001B[0mResults saved to \u001B[1mruns\\detect\\tune4\u001B[0m\n",
      "\u001B[34m\u001B[1mTuner: \u001B[0mBest fitness=0.0 observed at iteration 1\n",
      "\u001B[34m\u001B[1mTuner: \u001B[0mBest fitness metrics are {}\n",
      "\u001B[34m\u001B[1mTuner: \u001B[0mBest fitness model is runs\\detect\\train71\n",
      "\u001B[34m\u001B[1mTuner: \u001B[0mBest fitness hyperparameters are printed below.\n",
      "\n",
      "Printing '\u001B[1m\u001B[30mruns\\detect\\tune4\\best_hyperparameters.yaml\u001B[0m'\n",
      "\n",
      "lr0: 0.01\n",
      "lrf: 0.01\n",
      "momentum: 0.937\n",
      "weight_decay: 0.0005\n",
      "warmup_epochs: 3.0\n",
      "warmup_momentum: 0.8\n",
      "box: 7.5\n",
      "cls: 0.5\n",
      "dfl: 1.5\n",
      "hsv_h: 0.015\n",
      "hsv_s: 0.7\n",
      "hsv_v: 0.4\n",
      "degrees: 0.0\n",
      "translate: 0.1\n",
      "scale: 0.5\n",
      "shear: 0.0\n",
      "perspective: 0.0\n",
      "flipud: 0.0\n",
      "fliplr: 0.5\n",
      "bgr: 0.0\n",
      "mosaic: 1.0\n",
      "mixup: 0.0\n",
      "copy_paste: 0.0\n",
      "\n",
      "\u001B[34m\u001B[1mTuner: \u001B[0mStarting iteration 29/50 with hyperparameters: {'lr0': 0.0119, 'lrf': 0.00799, 'momentum': 0.96257, 'weight_decay': 0.00055, 'warmup_epochs': 2.61696, 'warmup_momentum': 0.95, 'box': 4.35499, 'cls': 0.43105, 'dfl': 2.24688, 'hsv_h': 0.00851, 'hsv_s': 0.67974, 'hsv_v': 0.3433, 'degrees': 0.0, 'translate': 0.13601, 'scale': 0.38771, 'shear': 0.0, 'perspective': 0.0, 'flipud': 0.0, 'fliplr': 0.44076, 'bgr': 0.0, 'mosaic': 0.95352, 'mixup': 0.0, 'copy_paste': 0.0}\n",
      "WARNING  training failure for hyperparameter tuning iteration 29\n",
      "Command 'yolo train task=detect mode=train model=yolov8s.yaml data=G:\\Drone Detection\\untitled\\DRONES_NEW-4/data.yaml epochs=3 time=None patience=100 batch=16 imgsz=640 save=True save_period=-1 cache=False device=None workers=8 project=None name=None exist_ok=False pretrained=True optimizer=auto verbose=True seed=0 deterministic=True single_cls=False rect=False cos_lr=False close_mosaic=10 resume=False amp=True fraction=1.0 profile=False freeze=None multi_scale=False overlap_mask=True mask_ratio=4 dropout=0.0 val=True split=val save_json=False save_hybrid=False conf=None iou=0.7 max_det=300 half=False dnn=False plots=True source=None vid_stride=1 stream_buffer=False visualize=False augment=False agnostic_nms=False classes=None retina_masks=False embed=None show=False save_frames=False save_txt=False save_conf=False save_crop=False show_labels=True show_conf=True show_boxes=True line_width=None format=torchscript keras=False optimize=False int8=False dynamic=False simplify=True opset=None workspace=None nms=False lr0=0.0119 lrf=0.00799 momentum=0.96257 weight_decay=0.00055 warmup_epochs=2.61696 warmup_momentum=0.95 warmup_bias_lr=0.1 box=4.35499 cls=0.43105 dfl=2.24688 pose=12.0 kobj=1.0 nbs=64 hsv_h=0.00851 hsv_s=0.67974 hsv_v=0.3433 degrees=0.0 translate=0.13601 scale=0.38771 shear=0.0 perspective=0.0 flipud=0.0 fliplr=0.44076 bgr=0.0 mosaic=0.95352 mixup=0.0 copy_paste=0.0 copy_paste_mode=flip auto_augment=randaugment erasing=0.4 crop_fraction=1.0 cfg=None tracker=botsort.yaml' returned non-zero exit status 1.\n",
      "Saved runs\\detect\\tune4\\tune_scatter_plots.png\n",
      "Saved runs\\detect\\tune4\\tune_fitness.png\n",
      "\n",
      "\u001B[34m\u001B[1mTuner: \u001B[0m29/50 iterations complete  (120.69s)\n",
      "\u001B[34m\u001B[1mTuner: \u001B[0mResults saved to \u001B[1mruns\\detect\\tune4\u001B[0m\n",
      "\u001B[34m\u001B[1mTuner: \u001B[0mBest fitness=0.0 observed at iteration 1\n",
      "\u001B[34m\u001B[1mTuner: \u001B[0mBest fitness metrics are {}\n",
      "\u001B[34m\u001B[1mTuner: \u001B[0mBest fitness model is runs\\detect\\train71\n",
      "\u001B[34m\u001B[1mTuner: \u001B[0mBest fitness hyperparameters are printed below.\n",
      "\n",
      "Printing '\u001B[1m\u001B[30mruns\\detect\\tune4\\best_hyperparameters.yaml\u001B[0m'\n",
      "\n",
      "lr0: 0.01\n",
      "lrf: 0.01\n",
      "momentum: 0.937\n",
      "weight_decay: 0.0005\n",
      "warmup_epochs: 3.0\n",
      "warmup_momentum: 0.8\n",
      "box: 7.5\n",
      "cls: 0.5\n",
      "dfl: 1.5\n",
      "hsv_h: 0.015\n",
      "hsv_s: 0.7\n",
      "hsv_v: 0.4\n",
      "degrees: 0.0\n",
      "translate: 0.1\n",
      "scale: 0.5\n",
      "shear: 0.0\n",
      "perspective: 0.0\n",
      "flipud: 0.0\n",
      "fliplr: 0.5\n",
      "bgr: 0.0\n",
      "mosaic: 1.0\n",
      "mixup: 0.0\n",
      "copy_paste: 0.0\n",
      "\n",
      "\u001B[34m\u001B[1mTuner: \u001B[0mStarting iteration 30/50 with hyperparameters: {'lr0': 0.0106, 'lrf': 0.01015, 'momentum': 0.9051, 'weight_decay': 0.00051, 'warmup_epochs': 3.59309, 'warmup_momentum': 0.86261, 'box': 6.71151, 'cls': 0.47329, 'dfl': 1.1247, 'hsv_h': 0.01335, 'hsv_s': 0.7, 'hsv_v': 0.4, 'degrees': 0.0, 'translate': 0.09327, 'scale': 0.53662, 'shear': 0.0, 'perspective': 0.0, 'flipud': 0.0, 'fliplr': 0.5, 'bgr': 0.0, 'mosaic': 0.9923, 'mixup': 0.0, 'copy_paste': 0.0}\n",
      "WARNING  training failure for hyperparameter tuning iteration 30\n",
      "Command 'yolo train task=detect mode=train model=yolov8s.yaml data=G:\\Drone Detection\\untitled\\DRONES_NEW-4/data.yaml epochs=3 time=None patience=100 batch=16 imgsz=640 save=True save_period=-1 cache=False device=None workers=8 project=None name=None exist_ok=False pretrained=True optimizer=auto verbose=True seed=0 deterministic=True single_cls=False rect=False cos_lr=False close_mosaic=10 resume=False amp=True fraction=1.0 profile=False freeze=None multi_scale=False overlap_mask=True mask_ratio=4 dropout=0.0 val=True split=val save_json=False save_hybrid=False conf=None iou=0.7 max_det=300 half=False dnn=False plots=True source=None vid_stride=1 stream_buffer=False visualize=False augment=False agnostic_nms=False classes=None retina_masks=False embed=None show=False save_frames=False save_txt=False save_conf=False save_crop=False show_labels=True show_conf=True show_boxes=True line_width=None format=torchscript keras=False optimize=False int8=False dynamic=False simplify=True opset=None workspace=None nms=False lr0=0.0106 lrf=0.01015 momentum=0.9051 weight_decay=0.00051 warmup_epochs=3.59309 warmup_momentum=0.86261 warmup_bias_lr=0.1 box=6.71151 cls=0.47329 dfl=1.1247 pose=12.0 kobj=1.0 nbs=64 hsv_h=0.01335 hsv_s=0.7 hsv_v=0.4 degrees=0.0 translate=0.09327 scale=0.53662 shear=0.0 perspective=0.0 flipud=0.0 fliplr=0.5 bgr=0.0 mosaic=0.9923 mixup=0.0 copy_paste=0.0 copy_paste_mode=flip auto_augment=randaugment erasing=0.4 crop_fraction=1.0 cfg=None tracker=botsort.yaml' returned non-zero exit status 1.\n",
      "Saved runs\\detect\\tune4\\tune_scatter_plots.png\n",
      "Saved runs\\detect\\tune4\\tune_fitness.png\n",
      "\n",
      "\u001B[34m\u001B[1mTuner: \u001B[0m30/50 iterations complete  (125.28s)\n",
      "\u001B[34m\u001B[1mTuner: \u001B[0mResults saved to \u001B[1mruns\\detect\\tune4\u001B[0m\n",
      "\u001B[34m\u001B[1mTuner: \u001B[0mBest fitness=0.0 observed at iteration 1\n",
      "\u001B[34m\u001B[1mTuner: \u001B[0mBest fitness metrics are {}\n",
      "\u001B[34m\u001B[1mTuner: \u001B[0mBest fitness model is runs\\detect\\train71\n",
      "\u001B[34m\u001B[1mTuner: \u001B[0mBest fitness hyperparameters are printed below.\n",
      "\n",
      "Printing '\u001B[1m\u001B[30mruns\\detect\\tune4\\best_hyperparameters.yaml\u001B[0m'\n",
      "\n",
      "lr0: 0.01\n",
      "lrf: 0.01\n",
      "momentum: 0.937\n",
      "weight_decay: 0.0005\n",
      "warmup_epochs: 3.0\n",
      "warmup_momentum: 0.8\n",
      "box: 7.5\n",
      "cls: 0.5\n",
      "dfl: 1.5\n",
      "hsv_h: 0.015\n",
      "hsv_s: 0.7\n",
      "hsv_v: 0.4\n",
      "degrees: 0.0\n",
      "translate: 0.1\n",
      "scale: 0.5\n",
      "shear: 0.0\n",
      "perspective: 0.0\n",
      "flipud: 0.0\n",
      "fliplr: 0.5\n",
      "bgr: 0.0\n",
      "mosaic: 1.0\n",
      "mixup: 0.0\n",
      "copy_paste: 0.0\n",
      "\n",
      "\u001B[34m\u001B[1mTuner: \u001B[0mStarting iteration 31/50 with hyperparameters: {'lr0': 0.00929, 'lrf': 0.01158, 'momentum': 0.84946, 'weight_decay': 0.00049, 'warmup_epochs': 1.76539, 'warmup_momentum': 0.7474, 'box': 5.87296, 'cls': 0.64699, 'dfl': 1.85625, 'hsv_h': 0.01215, 'hsv_s': 0.67794, 'hsv_v': 0.28511, 'degrees': 0.0, 'translate': 0.0976, 'scale': 0.51126, 'shear': 0.0, 'perspective': 0.0, 'flipud': 0.0, 'fliplr': 0.56006, 'bgr': 0.0, 'mosaic': 0.68961, 'mixup': 0.0, 'copy_paste': 0.0}\n",
      "WARNING  training failure for hyperparameter tuning iteration 31\n",
      "Command 'yolo train task=detect mode=train model=yolov8s.yaml data=G:\\Drone Detection\\untitled\\DRONES_NEW-4/data.yaml epochs=3 time=None patience=100 batch=16 imgsz=640 save=True save_period=-1 cache=False device=None workers=8 project=None name=None exist_ok=False pretrained=True optimizer=auto verbose=True seed=0 deterministic=True single_cls=False rect=False cos_lr=False close_mosaic=10 resume=False amp=True fraction=1.0 profile=False freeze=None multi_scale=False overlap_mask=True mask_ratio=4 dropout=0.0 val=True split=val save_json=False save_hybrid=False conf=None iou=0.7 max_det=300 half=False dnn=False plots=True source=None vid_stride=1 stream_buffer=False visualize=False augment=False agnostic_nms=False classes=None retina_masks=False embed=None show=False save_frames=False save_txt=False save_conf=False save_crop=False show_labels=True show_conf=True show_boxes=True line_width=None format=torchscript keras=False optimize=False int8=False dynamic=False simplify=True opset=None workspace=None nms=False lr0=0.00929 lrf=0.01158 momentum=0.84946 weight_decay=0.00049 warmup_epochs=1.76539 warmup_momentum=0.7474 warmup_bias_lr=0.1 box=5.87296 cls=0.64699 dfl=1.85625 pose=12.0 kobj=1.0 nbs=64 hsv_h=0.01215 hsv_s=0.67794 hsv_v=0.28511 degrees=0.0 translate=0.0976 scale=0.51126 shear=0.0 perspective=0.0 flipud=0.0 fliplr=0.56006 bgr=0.0 mosaic=0.68961 mixup=0.0 copy_paste=0.0 copy_paste_mode=flip auto_augment=randaugment erasing=0.4 crop_fraction=1.0 cfg=None tracker=botsort.yaml' returned non-zero exit status 1.\n",
      "Saved runs\\detect\\tune4\\tune_scatter_plots.png\n",
      "Saved runs\\detect\\tune4\\tune_fitness.png\n",
      "\n",
      "\u001B[34m\u001B[1mTuner: \u001B[0m31/50 iterations complete  (129.32s)\n",
      "\u001B[34m\u001B[1mTuner: \u001B[0mResults saved to \u001B[1mruns\\detect\\tune4\u001B[0m\n",
      "\u001B[34m\u001B[1mTuner: \u001B[0mBest fitness=0.0 observed at iteration 1\n",
      "\u001B[34m\u001B[1mTuner: \u001B[0mBest fitness metrics are {}\n",
      "\u001B[34m\u001B[1mTuner: \u001B[0mBest fitness model is runs\\detect\\train71\n",
      "\u001B[34m\u001B[1mTuner: \u001B[0mBest fitness hyperparameters are printed below.\n",
      "\n",
      "Printing '\u001B[1m\u001B[30mruns\\detect\\tune4\\best_hyperparameters.yaml\u001B[0m'\n",
      "\n",
      "lr0: 0.01\n",
      "lrf: 0.01\n",
      "momentum: 0.937\n",
      "weight_decay: 0.0005\n",
      "warmup_epochs: 3.0\n",
      "warmup_momentum: 0.8\n",
      "box: 7.5\n",
      "cls: 0.5\n",
      "dfl: 1.5\n",
      "hsv_h: 0.015\n",
      "hsv_s: 0.7\n",
      "hsv_v: 0.4\n",
      "degrees: 0.0\n",
      "translate: 0.1\n",
      "scale: 0.5\n",
      "shear: 0.0\n",
      "perspective: 0.0\n",
      "flipud: 0.0\n",
      "fliplr: 0.5\n",
      "bgr: 0.0\n",
      "mosaic: 1.0\n",
      "mixup: 0.0\n",
      "copy_paste: 0.0\n",
      "\n",
      "\u001B[34m\u001B[1mTuner: \u001B[0mStarting iteration 32/50 with hyperparameters: {'lr0': 0.01, 'lrf': 0.00845, 'momentum': 0.98, 'weight_decay': 0.00045, 'warmup_epochs': 3.0, 'warmup_momentum': 0.80955, 'box': 7.5, 'cls': 0.50004, 'dfl': 1.60668, 'hsv_h': 0.01459, 'hsv_s': 0.79025, 'hsv_v': 0.40364, 'degrees': 0.0, 'translate': 0.09542, 'scale': 0.5, 'shear': 0.0, 'perspective': 0.0, 'flipud': 0.0, 'fliplr': 0.50497, 'bgr': 0.0, 'mosaic': 1.0, 'mixup': 0.0, 'copy_paste': 0.0}\n",
      "WARNING  training failure for hyperparameter tuning iteration 32\n",
      "Command 'yolo train task=detect mode=train model=yolov8s.yaml data=G:\\Drone Detection\\untitled\\DRONES_NEW-4/data.yaml epochs=3 time=None patience=100 batch=16 imgsz=640 save=True save_period=-1 cache=False device=None workers=8 project=None name=None exist_ok=False pretrained=True optimizer=auto verbose=True seed=0 deterministic=True single_cls=False rect=False cos_lr=False close_mosaic=10 resume=False amp=True fraction=1.0 profile=False freeze=None multi_scale=False overlap_mask=True mask_ratio=4 dropout=0.0 val=True split=val save_json=False save_hybrid=False conf=None iou=0.7 max_det=300 half=False dnn=False plots=True source=None vid_stride=1 stream_buffer=False visualize=False augment=False agnostic_nms=False classes=None retina_masks=False embed=None show=False save_frames=False save_txt=False save_conf=False save_crop=False show_labels=True show_conf=True show_boxes=True line_width=None format=torchscript keras=False optimize=False int8=False dynamic=False simplify=True opset=None workspace=None nms=False lr0=0.01 lrf=0.00845 momentum=0.98 weight_decay=0.00045 warmup_epochs=3.0 warmup_momentum=0.80955 warmup_bias_lr=0.1 box=7.5 cls=0.50004 dfl=1.60668 pose=12.0 kobj=1.0 nbs=64 hsv_h=0.01459 hsv_s=0.79025 hsv_v=0.40364 degrees=0.0 translate=0.09542 scale=0.5 shear=0.0 perspective=0.0 flipud=0.0 fliplr=0.50497 bgr=0.0 mosaic=1.0 mixup=0.0 copy_paste=0.0 copy_paste_mode=flip auto_augment=randaugment erasing=0.4 crop_fraction=1.0 cfg=None tracker=botsort.yaml' returned non-zero exit status 1.\n",
      "Saved runs\\detect\\tune4\\tune_scatter_plots.png\n",
      "Saved runs\\detect\\tune4\\tune_fitness.png\n",
      "\n",
      "\u001B[34m\u001B[1mTuner: \u001B[0m32/50 iterations complete  (133.31s)\n",
      "\u001B[34m\u001B[1mTuner: \u001B[0mResults saved to \u001B[1mruns\\detect\\tune4\u001B[0m\n",
      "\u001B[34m\u001B[1mTuner: \u001B[0mBest fitness=0.0 observed at iteration 1\n",
      "\u001B[34m\u001B[1mTuner: \u001B[0mBest fitness metrics are {}\n",
      "\u001B[34m\u001B[1mTuner: \u001B[0mBest fitness model is runs\\detect\\train71\n",
      "\u001B[34m\u001B[1mTuner: \u001B[0mBest fitness hyperparameters are printed below.\n",
      "\n",
      "Printing '\u001B[1m\u001B[30mruns\\detect\\tune4\\best_hyperparameters.yaml\u001B[0m'\n",
      "\n",
      "lr0: 0.01\n",
      "lrf: 0.01\n",
      "momentum: 0.937\n",
      "weight_decay: 0.0005\n",
      "warmup_epochs: 3.0\n",
      "warmup_momentum: 0.8\n",
      "box: 7.5\n",
      "cls: 0.5\n",
      "dfl: 1.5\n",
      "hsv_h: 0.015\n",
      "hsv_s: 0.7\n",
      "hsv_v: 0.4\n",
      "degrees: 0.0\n",
      "translate: 0.1\n",
      "scale: 0.5\n",
      "shear: 0.0\n",
      "perspective: 0.0\n",
      "flipud: 0.0\n",
      "fliplr: 0.5\n",
      "bgr: 0.0\n",
      "mosaic: 1.0\n",
      "mixup: 0.0\n",
      "copy_paste: 0.0\n",
      "\n",
      "\u001B[34m\u001B[1mTuner: \u001B[0mStarting iteration 33/50 with hyperparameters: {'lr0': 0.01, 'lrf': 0.01024, 'momentum': 0.937, 'weight_decay': 0.00048, 'warmup_epochs': 3.42372, 'warmup_momentum': 0.851, 'box': 7.5, 'cls': 0.54006, 'dfl': 1.5814, 'hsv_h': 0.01568, 'hsv_s': 0.69714, 'hsv_v': 0.35651, 'degrees': 0.0, 'translate': 0.09125, 'scale': 0.4694, 'shear': 0.0, 'perspective': 0.0, 'flipud': 0.0, 'fliplr': 0.46125, 'bgr': 0.0, 'mosaic': 0.9448, 'mixup': 0.0, 'copy_paste': 0.0}\n",
      "WARNING  training failure for hyperparameter tuning iteration 33\n",
      "Command 'yolo train task=detect mode=train model=yolov8s.yaml data=G:\\Drone Detection\\untitled\\DRONES_NEW-4/data.yaml epochs=3 time=None patience=100 batch=16 imgsz=640 save=True save_period=-1 cache=False device=None workers=8 project=None name=None exist_ok=False pretrained=True optimizer=auto verbose=True seed=0 deterministic=True single_cls=False rect=False cos_lr=False close_mosaic=10 resume=False amp=True fraction=1.0 profile=False freeze=None multi_scale=False overlap_mask=True mask_ratio=4 dropout=0.0 val=True split=val save_json=False save_hybrid=False conf=None iou=0.7 max_det=300 half=False dnn=False plots=True source=None vid_stride=1 stream_buffer=False visualize=False augment=False agnostic_nms=False classes=None retina_masks=False embed=None show=False save_frames=False save_txt=False save_conf=False save_crop=False show_labels=True show_conf=True show_boxes=True line_width=None format=torchscript keras=False optimize=False int8=False dynamic=False simplify=True opset=None workspace=None nms=False lr0=0.01 lrf=0.01024 momentum=0.937 weight_decay=0.00048 warmup_epochs=3.42372 warmup_momentum=0.851 warmup_bias_lr=0.1 box=7.5 cls=0.54006 dfl=1.5814 pose=12.0 kobj=1.0 nbs=64 hsv_h=0.01568 hsv_s=0.69714 hsv_v=0.35651 degrees=0.0 translate=0.09125 scale=0.4694 shear=0.0 perspective=0.0 flipud=0.0 fliplr=0.46125 bgr=0.0 mosaic=0.9448 mixup=0.0 copy_paste=0.0 copy_paste_mode=flip auto_augment=randaugment erasing=0.4 crop_fraction=1.0 cfg=None tracker=botsort.yaml' returned non-zero exit status 1.\n",
      "Saved runs\\detect\\tune4\\tune_scatter_plots.png\n",
      "Saved runs\\detect\\tune4\\tune_fitness.png\n",
      "\n",
      "\u001B[34m\u001B[1mTuner: \u001B[0m33/50 iterations complete  (137.36s)\n",
      "\u001B[34m\u001B[1mTuner: \u001B[0mResults saved to \u001B[1mruns\\detect\\tune4\u001B[0m\n",
      "\u001B[34m\u001B[1mTuner: \u001B[0mBest fitness=0.0 observed at iteration 1\n",
      "\u001B[34m\u001B[1mTuner: \u001B[0mBest fitness metrics are {}\n",
      "\u001B[34m\u001B[1mTuner: \u001B[0mBest fitness model is runs\\detect\\train71\n",
      "\u001B[34m\u001B[1mTuner: \u001B[0mBest fitness hyperparameters are printed below.\n",
      "\n",
      "Printing '\u001B[1m\u001B[30mruns\\detect\\tune4\\best_hyperparameters.yaml\u001B[0m'\n",
      "\n",
      "lr0: 0.01\n",
      "lrf: 0.01\n",
      "momentum: 0.937\n",
      "weight_decay: 0.0005\n",
      "warmup_epochs: 3.0\n",
      "warmup_momentum: 0.8\n",
      "box: 7.5\n",
      "cls: 0.5\n",
      "dfl: 1.5\n",
      "hsv_h: 0.015\n",
      "hsv_s: 0.7\n",
      "hsv_v: 0.4\n",
      "degrees: 0.0\n",
      "translate: 0.1\n",
      "scale: 0.5\n",
      "shear: 0.0\n",
      "perspective: 0.0\n",
      "flipud: 0.0\n",
      "fliplr: 0.5\n",
      "bgr: 0.0\n",
      "mosaic: 1.0\n",
      "mixup: 0.0\n",
      "copy_paste: 0.0\n",
      "\n",
      "\u001B[34m\u001B[1mTuner: \u001B[0mStarting iteration 34/50 with hyperparameters: {'lr0': 0.00968, 'lrf': 0.00997, 'momentum': 0.94033, 'weight_decay': 0.00049, 'warmup_epochs': 3.00291, 'warmup_momentum': 0.8, 'box': 7.44154, 'cls': 0.49945, 'dfl': 1.52128, 'hsv_h': 0.015, 'hsv_s': 0.69459, 'hsv_v': 0.4, 'degrees': 0.0, 'translate': 0.1, 'scale': 0.49637, 'shear': 0.0, 'perspective': 0.0, 'flipud': 0.0, 'fliplr': 0.49806, 'bgr': 0.0, 'mosaic': 1.0, 'mixup': 0.0, 'copy_paste': 0.0}\n",
      "WARNING  training failure for hyperparameter tuning iteration 34\n",
      "Command 'yolo train task=detect mode=train model=yolov8s.yaml data=G:\\Drone Detection\\untitled\\DRONES_NEW-4/data.yaml epochs=3 time=None patience=100 batch=16 imgsz=640 save=True save_period=-1 cache=False device=None workers=8 project=None name=None exist_ok=False pretrained=True optimizer=auto verbose=True seed=0 deterministic=True single_cls=False rect=False cos_lr=False close_mosaic=10 resume=False amp=True fraction=1.0 profile=False freeze=None multi_scale=False overlap_mask=True mask_ratio=4 dropout=0.0 val=True split=val save_json=False save_hybrid=False conf=None iou=0.7 max_det=300 half=False dnn=False plots=True source=None vid_stride=1 stream_buffer=False visualize=False augment=False agnostic_nms=False classes=None retina_masks=False embed=None show=False save_frames=False save_txt=False save_conf=False save_crop=False show_labels=True show_conf=True show_boxes=True line_width=None format=torchscript keras=False optimize=False int8=False dynamic=False simplify=True opset=None workspace=None nms=False lr0=0.00968 lrf=0.00997 momentum=0.94033 weight_decay=0.00049 warmup_epochs=3.00291 warmup_momentum=0.8 warmup_bias_lr=0.1 box=7.44154 cls=0.49945 dfl=1.52128 pose=12.0 kobj=1.0 nbs=64 hsv_h=0.015 hsv_s=0.69459 hsv_v=0.4 degrees=0.0 translate=0.1 scale=0.49637 shear=0.0 perspective=0.0 flipud=0.0 fliplr=0.49806 bgr=0.0 mosaic=1.0 mixup=0.0 copy_paste=0.0 copy_paste_mode=flip auto_augment=randaugment erasing=0.4 crop_fraction=1.0 cfg=None tracker=botsort.yaml' returned non-zero exit status 1.\n",
      "Saved runs\\detect\\tune4\\tune_scatter_plots.png\n",
      "Saved runs\\detect\\tune4\\tune_fitness.png\n",
      "\n",
      "\u001B[34m\u001B[1mTuner: \u001B[0m34/50 iterations complete  (141.39s)\n",
      "\u001B[34m\u001B[1mTuner: \u001B[0mResults saved to \u001B[1mruns\\detect\\tune4\u001B[0m\n",
      "\u001B[34m\u001B[1mTuner: \u001B[0mBest fitness=0.0 observed at iteration 1\n",
      "\u001B[34m\u001B[1mTuner: \u001B[0mBest fitness metrics are {}\n",
      "\u001B[34m\u001B[1mTuner: \u001B[0mBest fitness model is runs\\detect\\train71\n",
      "\u001B[34m\u001B[1mTuner: \u001B[0mBest fitness hyperparameters are printed below.\n",
      "\n",
      "Printing '\u001B[1m\u001B[30mruns\\detect\\tune4\\best_hyperparameters.yaml\u001B[0m'\n",
      "\n",
      "lr0: 0.01\n",
      "lrf: 0.01\n",
      "momentum: 0.937\n",
      "weight_decay: 0.0005\n",
      "warmup_epochs: 3.0\n",
      "warmup_momentum: 0.8\n",
      "box: 7.5\n",
      "cls: 0.5\n",
      "dfl: 1.5\n",
      "hsv_h: 0.015\n",
      "hsv_s: 0.7\n",
      "hsv_v: 0.4\n",
      "degrees: 0.0\n",
      "translate: 0.1\n",
      "scale: 0.5\n",
      "shear: 0.0\n",
      "perspective: 0.0\n",
      "flipud: 0.0\n",
      "fliplr: 0.5\n",
      "bgr: 0.0\n",
      "mosaic: 1.0\n",
      "mixup: 0.0\n",
      "copy_paste: 0.0\n",
      "\n",
      "\u001B[34m\u001B[1mTuner: \u001B[0mStarting iteration 35/50 with hyperparameters: {'lr0': 0.01003, 'lrf': 0.01015, 'momentum': 0.90536, 'weight_decay': 0.00049, 'warmup_epochs': 3.30244, 'warmup_momentum': 0.86261, 'box': 6.49711, 'cls': 0.45373, 'dfl': 1.03918, 'hsv_h': 0.01376, 'hsv_s': 0.6865, 'hsv_v': 0.4065, 'degrees': 0.0, 'translate': 0.08876, 'scale': 0.55853, 'shear': 0.0, 'perspective': 0.0, 'flipud': 0.0, 'fliplr': 0.5, 'bgr': 0.0, 'mosaic': 1.0, 'mixup': 0.0, 'copy_paste': 0.0}\n",
      "WARNING  training failure for hyperparameter tuning iteration 35\n",
      "Command 'yolo train task=detect mode=train model=yolov8s.yaml data=G:\\Drone Detection\\untitled\\DRONES_NEW-4/data.yaml epochs=3 time=None patience=100 batch=16 imgsz=640 save=True save_period=-1 cache=False device=None workers=8 project=None name=None exist_ok=False pretrained=True optimizer=auto verbose=True seed=0 deterministic=True single_cls=False rect=False cos_lr=False close_mosaic=10 resume=False amp=True fraction=1.0 profile=False freeze=None multi_scale=False overlap_mask=True mask_ratio=4 dropout=0.0 val=True split=val save_json=False save_hybrid=False conf=None iou=0.7 max_det=300 half=False dnn=False plots=True source=None vid_stride=1 stream_buffer=False visualize=False augment=False agnostic_nms=False classes=None retina_masks=False embed=None show=False save_frames=False save_txt=False save_conf=False save_crop=False show_labels=True show_conf=True show_boxes=True line_width=None format=torchscript keras=False optimize=False int8=False dynamic=False simplify=True opset=None workspace=None nms=False lr0=0.01003 lrf=0.01015 momentum=0.90536 weight_decay=0.00049 warmup_epochs=3.30244 warmup_momentum=0.86261 warmup_bias_lr=0.1 box=6.49711 cls=0.45373 dfl=1.03918 pose=12.0 kobj=1.0 nbs=64 hsv_h=0.01376 hsv_s=0.6865 hsv_v=0.4065 degrees=0.0 translate=0.08876 scale=0.55853 shear=0.0 perspective=0.0 flipud=0.0 fliplr=0.5 bgr=0.0 mosaic=1.0 mixup=0.0 copy_paste=0.0 copy_paste_mode=flip auto_augment=randaugment erasing=0.4 crop_fraction=1.0 cfg=None tracker=botsort.yaml' returned non-zero exit status 1.\n",
      "Saved runs\\detect\\tune4\\tune_scatter_plots.png\n",
      "Saved runs\\detect\\tune4\\tune_fitness.png\n",
      "\n",
      "\u001B[34m\u001B[1mTuner: \u001B[0m35/50 iterations complete  (145.48s)\n",
      "\u001B[34m\u001B[1mTuner: \u001B[0mResults saved to \u001B[1mruns\\detect\\tune4\u001B[0m\n",
      "\u001B[34m\u001B[1mTuner: \u001B[0mBest fitness=0.0 observed at iteration 1\n",
      "\u001B[34m\u001B[1mTuner: \u001B[0mBest fitness metrics are {}\n",
      "\u001B[34m\u001B[1mTuner: \u001B[0mBest fitness model is runs\\detect\\train71\n",
      "\u001B[34m\u001B[1mTuner: \u001B[0mBest fitness hyperparameters are printed below.\n",
      "\n",
      "Printing '\u001B[1m\u001B[30mruns\\detect\\tune4\\best_hyperparameters.yaml\u001B[0m'\n",
      "\n",
      "lr0: 0.01\n",
      "lrf: 0.01\n",
      "momentum: 0.937\n",
      "weight_decay: 0.0005\n",
      "warmup_epochs: 3.0\n",
      "warmup_momentum: 0.8\n",
      "box: 7.5\n",
      "cls: 0.5\n",
      "dfl: 1.5\n",
      "hsv_h: 0.015\n",
      "hsv_s: 0.7\n",
      "hsv_v: 0.4\n",
      "degrees: 0.0\n",
      "translate: 0.1\n",
      "scale: 0.5\n",
      "shear: 0.0\n",
      "perspective: 0.0\n",
      "flipud: 0.0\n",
      "fliplr: 0.5\n",
      "bgr: 0.0\n",
      "mosaic: 1.0\n",
      "mixup: 0.0\n",
      "copy_paste: 0.0\n",
      "\n",
      "\u001B[34m\u001B[1mTuner: \u001B[0mStarting iteration 36/50 with hyperparameters: {'lr0': 0.00997, 'lrf': 0.00998, 'momentum': 0.93895, 'weight_decay': 0.00049, 'warmup_epochs': 3.01897, 'warmup_momentum': 0.80072, 'box': 7.43901, 'cls': 0.49914, 'dfl': 1.4998, 'hsv_h': 0.01504, 'hsv_s': 0.69221, 'hsv_v': 0.4, 'degrees': 0.0, 'translate': 0.09932, 'scale': 0.5, 'shear': 0.0, 'perspective': 0.0, 'flipud': 0.0, 'fliplr': 0.50188, 'bgr': 0.0, 'mosaic': 1.0, 'mixup': 0.0, 'copy_paste': 0.0}\n",
      "WARNING  training failure for hyperparameter tuning iteration 36\n",
      "Command 'yolo train task=detect mode=train model=yolov8s.yaml data=G:\\Drone Detection\\untitled\\DRONES_NEW-4/data.yaml epochs=3 time=None patience=100 batch=16 imgsz=640 save=True save_period=-1 cache=False device=None workers=8 project=None name=None exist_ok=False pretrained=True optimizer=auto verbose=True seed=0 deterministic=True single_cls=False rect=False cos_lr=False close_mosaic=10 resume=False amp=True fraction=1.0 profile=False freeze=None multi_scale=False overlap_mask=True mask_ratio=4 dropout=0.0 val=True split=val save_json=False save_hybrid=False conf=None iou=0.7 max_det=300 half=False dnn=False plots=True source=None vid_stride=1 stream_buffer=False visualize=False augment=False agnostic_nms=False classes=None retina_masks=False embed=None show=False save_frames=False save_txt=False save_conf=False save_crop=False show_labels=True show_conf=True show_boxes=True line_width=None format=torchscript keras=False optimize=False int8=False dynamic=False simplify=True opset=None workspace=None nms=False lr0=0.00997 lrf=0.00998 momentum=0.93895 weight_decay=0.00049 warmup_epochs=3.01897 warmup_momentum=0.80072 warmup_bias_lr=0.1 box=7.43901 cls=0.49914 dfl=1.4998 pose=12.0 kobj=1.0 nbs=64 hsv_h=0.01504 hsv_s=0.69221 hsv_v=0.4 degrees=0.0 translate=0.09932 scale=0.5 shear=0.0 perspective=0.0 flipud=0.0 fliplr=0.50188 bgr=0.0 mosaic=1.0 mixup=0.0 copy_paste=0.0 copy_paste_mode=flip auto_augment=randaugment erasing=0.4 crop_fraction=1.0 cfg=None tracker=botsort.yaml' returned non-zero exit status 1.\n",
      "Saved runs\\detect\\tune4\\tune_scatter_plots.png\n",
      "Saved runs\\detect\\tune4\\tune_fitness.png\n",
      "\n",
      "\u001B[34m\u001B[1mTuner: \u001B[0m36/50 iterations complete  (149.48s)\n",
      "\u001B[34m\u001B[1mTuner: \u001B[0mResults saved to \u001B[1mruns\\detect\\tune4\u001B[0m\n",
      "\u001B[34m\u001B[1mTuner: \u001B[0mBest fitness=0.0 observed at iteration 1\n",
      "\u001B[34m\u001B[1mTuner: \u001B[0mBest fitness metrics are {}\n",
      "\u001B[34m\u001B[1mTuner: \u001B[0mBest fitness model is runs\\detect\\train71\n",
      "\u001B[34m\u001B[1mTuner: \u001B[0mBest fitness hyperparameters are printed below.\n",
      "\n",
      "Printing '\u001B[1m\u001B[30mruns\\detect\\tune4\\best_hyperparameters.yaml\u001B[0m'\n",
      "\n",
      "lr0: 0.01\n",
      "lrf: 0.01\n",
      "momentum: 0.937\n",
      "weight_decay: 0.0005\n",
      "warmup_epochs: 3.0\n",
      "warmup_momentum: 0.8\n",
      "box: 7.5\n",
      "cls: 0.5\n",
      "dfl: 1.5\n",
      "hsv_h: 0.015\n",
      "hsv_s: 0.7\n",
      "hsv_v: 0.4\n",
      "degrees: 0.0\n",
      "translate: 0.1\n",
      "scale: 0.5\n",
      "shear: 0.0\n",
      "perspective: 0.0\n",
      "flipud: 0.0\n",
      "fliplr: 0.5\n",
      "bgr: 0.0\n",
      "mosaic: 1.0\n",
      "mixup: 0.0\n",
      "copy_paste: 0.0\n",
      "\n",
      "\u001B[34m\u001B[1mTuner: \u001B[0mStarting iteration 37/50 with hyperparameters: {'lr0': 0.00978, 'lrf': 0.01151, 'momentum': 0.96501, 'weight_decay': 0.00056, 'warmup_epochs': 2.57654, 'warmup_momentum': 0.7681, 'box': 5.38284, 'cls': 0.61418, 'dfl': 1.67467, 'hsv_h': 0.01234, 'hsv_s': 0.71015, 'hsv_v': 0.3643, 'degrees': 0.0, 'translate': 0.15292, 'scale': 0.32486, 'shear': 0.0, 'perspective': 0.0, 'flipud': 0.0, 'fliplr': 0.3678, 'bgr': 0.0, 'mosaic': 0.85532, 'mixup': 0.0, 'copy_paste': 0.0}\n",
      "WARNING  training failure for hyperparameter tuning iteration 37\n",
      "Command 'yolo train task=detect mode=train model=yolov8s.yaml data=G:\\Drone Detection\\untitled\\DRONES_NEW-4/data.yaml epochs=3 time=None patience=100 batch=16 imgsz=640 save=True save_period=-1 cache=False device=None workers=8 project=None name=None exist_ok=False pretrained=True optimizer=auto verbose=True seed=0 deterministic=True single_cls=False rect=False cos_lr=False close_mosaic=10 resume=False amp=True fraction=1.0 profile=False freeze=None multi_scale=False overlap_mask=True mask_ratio=4 dropout=0.0 val=True split=val save_json=False save_hybrid=False conf=None iou=0.7 max_det=300 half=False dnn=False plots=True source=None vid_stride=1 stream_buffer=False visualize=False augment=False agnostic_nms=False classes=None retina_masks=False embed=None show=False save_frames=False save_txt=False save_conf=False save_crop=False show_labels=True show_conf=True show_boxes=True line_width=None format=torchscript keras=False optimize=False int8=False dynamic=False simplify=True opset=None workspace=None nms=False lr0=0.00978 lrf=0.01151 momentum=0.96501 weight_decay=0.00056 warmup_epochs=2.57654 warmup_momentum=0.7681 warmup_bias_lr=0.1 box=5.38284 cls=0.61418 dfl=1.67467 pose=12.0 kobj=1.0 nbs=64 hsv_h=0.01234 hsv_s=0.71015 hsv_v=0.3643 degrees=0.0 translate=0.15292 scale=0.32486 shear=0.0 perspective=0.0 flipud=0.0 fliplr=0.3678 bgr=0.0 mosaic=0.85532 mixup=0.0 copy_paste=0.0 copy_paste_mode=flip auto_augment=randaugment erasing=0.4 crop_fraction=1.0 cfg=None tracker=botsort.yaml' returned non-zero exit status 1.\n",
      "Saved runs\\detect\\tune4\\tune_scatter_plots.png\n",
      "Saved runs\\detect\\tune4\\tune_fitness.png\n",
      "\n",
      "\u001B[34m\u001B[1mTuner: \u001B[0m37/50 iterations complete  (153.55s)\n",
      "\u001B[34m\u001B[1mTuner: \u001B[0mResults saved to \u001B[1mruns\\detect\\tune4\u001B[0m\n",
      "\u001B[34m\u001B[1mTuner: \u001B[0mBest fitness=0.0 observed at iteration 1\n",
      "\u001B[34m\u001B[1mTuner: \u001B[0mBest fitness metrics are {}\n",
      "\u001B[34m\u001B[1mTuner: \u001B[0mBest fitness model is runs\\detect\\train71\n",
      "\u001B[34m\u001B[1mTuner: \u001B[0mBest fitness hyperparameters are printed below.\n",
      "\n",
      "Printing '\u001B[1m\u001B[30mruns\\detect\\tune4\\best_hyperparameters.yaml\u001B[0m'\n",
      "\n",
      "lr0: 0.01\n",
      "lrf: 0.01\n",
      "momentum: 0.937\n",
      "weight_decay: 0.0005\n",
      "warmup_epochs: 3.0\n",
      "warmup_momentum: 0.8\n",
      "box: 7.5\n",
      "cls: 0.5\n",
      "dfl: 1.5\n",
      "hsv_h: 0.015\n",
      "hsv_s: 0.7\n",
      "hsv_v: 0.4\n",
      "degrees: 0.0\n",
      "translate: 0.1\n",
      "scale: 0.5\n",
      "shear: 0.0\n",
      "perspective: 0.0\n",
      "flipud: 0.0\n",
      "fliplr: 0.5\n",
      "bgr: 0.0\n",
      "mosaic: 1.0\n",
      "mixup: 0.0\n",
      "copy_paste: 0.0\n",
      "\n",
      "\u001B[34m\u001B[1mTuner: \u001B[0mStarting iteration 38/50 with hyperparameters: {'lr0': 0.01081, 'lrf': 0.01164, 'momentum': 0.98, 'weight_decay': 0.00061, 'warmup_epochs': 2.51442, 'warmup_momentum': 0.85832, 'box': 5.38284, 'cls': 0.52314, 'dfl': 1.60653, 'hsv_h': 0.01091, 'hsv_s': 0.6314, 'hsv_v': 0.31046, 'degrees': 0.0, 'translate': 0.13874, 'scale': 0.33763, 'shear': 0.0, 'perspective': 0.0, 'flipud': 0.0, 'fliplr': 0.43258, 'bgr': 0.0, 'mosaic': 0.92163, 'mixup': 0.0, 'copy_paste': 0.0}\n",
      "WARNING  training failure for hyperparameter tuning iteration 38\n",
      "Command 'yolo train task=detect mode=train model=yolov8s.yaml data=G:\\Drone Detection\\untitled\\DRONES_NEW-4/data.yaml epochs=3 time=None patience=100 batch=16 imgsz=640 save=True save_period=-1 cache=False device=None workers=8 project=None name=None exist_ok=False pretrained=True optimizer=auto verbose=True seed=0 deterministic=True single_cls=False rect=False cos_lr=False close_mosaic=10 resume=False amp=True fraction=1.0 profile=False freeze=None multi_scale=False overlap_mask=True mask_ratio=4 dropout=0.0 val=True split=val save_json=False save_hybrid=False conf=None iou=0.7 max_det=300 half=False dnn=False plots=True source=None vid_stride=1 stream_buffer=False visualize=False augment=False agnostic_nms=False classes=None retina_masks=False embed=None show=False save_frames=False save_txt=False save_conf=False save_crop=False show_labels=True show_conf=True show_boxes=True line_width=None format=torchscript keras=False optimize=False int8=False dynamic=False simplify=True opset=None workspace=None nms=False lr0=0.01081 lrf=0.01164 momentum=0.98 weight_decay=0.00061 warmup_epochs=2.51442 warmup_momentum=0.85832 warmup_bias_lr=0.1 box=5.38284 cls=0.52314 dfl=1.60653 pose=12.0 kobj=1.0 nbs=64 hsv_h=0.01091 hsv_s=0.6314 hsv_v=0.31046 degrees=0.0 translate=0.13874 scale=0.33763 shear=0.0 perspective=0.0 flipud=0.0 fliplr=0.43258 bgr=0.0 mosaic=0.92163 mixup=0.0 copy_paste=0.0 copy_paste_mode=flip auto_augment=randaugment erasing=0.4 crop_fraction=1.0 cfg=None tracker=botsort.yaml' returned non-zero exit status 1.\n",
      "Saved runs\\detect\\tune4\\tune_scatter_plots.png\n",
      "Saved runs\\detect\\tune4\\tune_fitness.png\n",
      "\n",
      "\u001B[34m\u001B[1mTuner: \u001B[0m38/50 iterations complete  (157.60s)\n",
      "\u001B[34m\u001B[1mTuner: \u001B[0mResults saved to \u001B[1mruns\\detect\\tune4\u001B[0m\n",
      "\u001B[34m\u001B[1mTuner: \u001B[0mBest fitness=0.0 observed at iteration 1\n",
      "\u001B[34m\u001B[1mTuner: \u001B[0mBest fitness metrics are {}\n",
      "\u001B[34m\u001B[1mTuner: \u001B[0mBest fitness model is runs\\detect\\train71\n",
      "\u001B[34m\u001B[1mTuner: \u001B[0mBest fitness hyperparameters are printed below.\n",
      "\n",
      "Printing '\u001B[1m\u001B[30mruns\\detect\\tune4\\best_hyperparameters.yaml\u001B[0m'\n",
      "\n",
      "lr0: 0.01\n",
      "lrf: 0.01\n",
      "momentum: 0.937\n",
      "weight_decay: 0.0005\n",
      "warmup_epochs: 3.0\n",
      "warmup_momentum: 0.8\n",
      "box: 7.5\n",
      "cls: 0.5\n",
      "dfl: 1.5\n",
      "hsv_h: 0.015\n",
      "hsv_s: 0.7\n",
      "hsv_v: 0.4\n",
      "degrees: 0.0\n",
      "translate: 0.1\n",
      "scale: 0.5\n",
      "shear: 0.0\n",
      "perspective: 0.0\n",
      "flipud: 0.0\n",
      "fliplr: 0.5\n",
      "bgr: 0.0\n",
      "mosaic: 1.0\n",
      "mixup: 0.0\n",
      "copy_paste: 0.0\n",
      "\n",
      "\u001B[34m\u001B[1mTuner: \u001B[0mStarting iteration 39/50 with hyperparameters: {'lr0': 0.00965, 'lrf': 0.01009, 'momentum': 0.98, 'weight_decay': 0.00058, 'warmup_epochs': 2.85949, 'warmup_momentum': 0.71118, 'box': 5.54896, 'cls': 0.53702, 'dfl': 1.53707, 'hsv_h': 0.01333, 'hsv_s': 0.76891, 'hsv_v': 0.39655, 'degrees': 0.0, 'translate': 0.12331, 'scale': 0.46819, 'shear': 0.0, 'perspective': 0.0, 'flipud': 0.0, 'fliplr': 0.57126, 'bgr': 0.0, 'mosaic': 1.0, 'mixup': 0.0, 'copy_paste': 0.0}\n",
      "WARNING  training failure for hyperparameter tuning iteration 39\n",
      "Command 'yolo train task=detect mode=train model=yolov8s.yaml data=G:\\Drone Detection\\untitled\\DRONES_NEW-4/data.yaml epochs=3 time=None patience=100 batch=16 imgsz=640 save=True save_period=-1 cache=False device=None workers=8 project=None name=None exist_ok=False pretrained=True optimizer=auto verbose=True seed=0 deterministic=True single_cls=False rect=False cos_lr=False close_mosaic=10 resume=False amp=True fraction=1.0 profile=False freeze=None multi_scale=False overlap_mask=True mask_ratio=4 dropout=0.0 val=True split=val save_json=False save_hybrid=False conf=None iou=0.7 max_det=300 half=False dnn=False plots=True source=None vid_stride=1 stream_buffer=False visualize=False augment=False agnostic_nms=False classes=None retina_masks=False embed=None show=False save_frames=False save_txt=False save_conf=False save_crop=False show_labels=True show_conf=True show_boxes=True line_width=None format=torchscript keras=False optimize=False int8=False dynamic=False simplify=True opset=None workspace=None nms=False lr0=0.00965 lrf=0.01009 momentum=0.98 weight_decay=0.00058 warmup_epochs=2.85949 warmup_momentum=0.71118 warmup_bias_lr=0.1 box=5.54896 cls=0.53702 dfl=1.53707 pose=12.0 kobj=1.0 nbs=64 hsv_h=0.01333 hsv_s=0.76891 hsv_v=0.39655 degrees=0.0 translate=0.12331 scale=0.46819 shear=0.0 perspective=0.0 flipud=0.0 fliplr=0.57126 bgr=0.0 mosaic=1.0 mixup=0.0 copy_paste=0.0 copy_paste_mode=flip auto_augment=randaugment erasing=0.4 crop_fraction=1.0 cfg=None tracker=botsort.yaml' returned non-zero exit status 1.\n",
      "Saved runs\\detect\\tune4\\tune_scatter_plots.png\n",
      "Saved runs\\detect\\tune4\\tune_fitness.png\n",
      "\n",
      "\u001B[34m\u001B[1mTuner: \u001B[0m39/50 iterations complete  (162.46s)\n",
      "\u001B[34m\u001B[1mTuner: \u001B[0mResults saved to \u001B[1mruns\\detect\\tune4\u001B[0m\n",
      "\u001B[34m\u001B[1mTuner: \u001B[0mBest fitness=0.0 observed at iteration 1\n",
      "\u001B[34m\u001B[1mTuner: \u001B[0mBest fitness metrics are {}\n",
      "\u001B[34m\u001B[1mTuner: \u001B[0mBest fitness model is runs\\detect\\train71\n",
      "\u001B[34m\u001B[1mTuner: \u001B[0mBest fitness hyperparameters are printed below.\n",
      "\n",
      "Printing '\u001B[1m\u001B[30mruns\\detect\\tune4\\best_hyperparameters.yaml\u001B[0m'\n",
      "\n",
      "lr0: 0.01\n",
      "lrf: 0.01\n",
      "momentum: 0.937\n",
      "weight_decay: 0.0005\n",
      "warmup_epochs: 3.0\n",
      "warmup_momentum: 0.8\n",
      "box: 7.5\n",
      "cls: 0.5\n",
      "dfl: 1.5\n",
      "hsv_h: 0.015\n",
      "hsv_s: 0.7\n",
      "hsv_v: 0.4\n",
      "degrees: 0.0\n",
      "translate: 0.1\n",
      "scale: 0.5\n",
      "shear: 0.0\n",
      "perspective: 0.0\n",
      "flipud: 0.0\n",
      "fliplr: 0.5\n",
      "bgr: 0.0\n",
      "mosaic: 1.0\n",
      "mixup: 0.0\n",
      "copy_paste: 0.0\n",
      "\n",
      "\u001B[34m\u001B[1mTuner: \u001B[0mStarting iteration 40/50 with hyperparameters: {'lr0': 0.01063, 'lrf': 0.01273, 'momentum': 0.97509, 'weight_decay': 0.00057, 'warmup_epochs': 2.72269, 'warmup_momentum': 0.86853, 'box': 5.34997, 'cls': 0.49987, 'dfl': 1.69394, 'hsv_h': 0.01087, 'hsv_s': 0.66617, 'hsv_v': 0.33726, 'degrees': 0.0, 'translate': 0.12496, 'scale': 0.36941, 'shear': 0.0, 'perspective': 0.0, 'flipud': 0.0, 'fliplr': 0.44076, 'bgr': 0.0, 'mosaic': 0.94481, 'mixup': 0.0, 'copy_paste': 0.0}\n",
      "WARNING  training failure for hyperparameter tuning iteration 40\n",
      "Command 'yolo train task=detect mode=train model=yolov8s.yaml data=G:\\Drone Detection\\untitled\\DRONES_NEW-4/data.yaml epochs=3 time=None patience=100 batch=16 imgsz=640 save=True save_period=-1 cache=False device=None workers=8 project=None name=None exist_ok=False pretrained=True optimizer=auto verbose=True seed=0 deterministic=True single_cls=False rect=False cos_lr=False close_mosaic=10 resume=False amp=True fraction=1.0 profile=False freeze=None multi_scale=False overlap_mask=True mask_ratio=4 dropout=0.0 val=True split=val save_json=False save_hybrid=False conf=None iou=0.7 max_det=300 half=False dnn=False plots=True source=None vid_stride=1 stream_buffer=False visualize=False augment=False agnostic_nms=False classes=None retina_masks=False embed=None show=False save_frames=False save_txt=False save_conf=False save_crop=False show_labels=True show_conf=True show_boxes=True line_width=None format=torchscript keras=False optimize=False int8=False dynamic=False simplify=True opset=None workspace=None nms=False lr0=0.01063 lrf=0.01273 momentum=0.97509 weight_decay=0.00057 warmup_epochs=2.72269 warmup_momentum=0.86853 warmup_bias_lr=0.1 box=5.34997 cls=0.49987 dfl=1.69394 pose=12.0 kobj=1.0 nbs=64 hsv_h=0.01087 hsv_s=0.66617 hsv_v=0.33726 degrees=0.0 translate=0.12496 scale=0.36941 shear=0.0 perspective=0.0 flipud=0.0 fliplr=0.44076 bgr=0.0 mosaic=0.94481 mixup=0.0 copy_paste=0.0 copy_paste_mode=flip auto_augment=randaugment erasing=0.4 crop_fraction=1.0 cfg=None tracker=botsort.yaml' returned non-zero exit status 1.\n",
      "Saved runs\\detect\\tune4\\tune_scatter_plots.png\n",
      "Saved runs\\detect\\tune4\\tune_fitness.png\n",
      "\n",
      "\u001B[34m\u001B[1mTuner: \u001B[0m40/50 iterations complete  (166.52s)\n",
      "\u001B[34m\u001B[1mTuner: \u001B[0mResults saved to \u001B[1mruns\\detect\\tune4\u001B[0m\n",
      "\u001B[34m\u001B[1mTuner: \u001B[0mBest fitness=0.0 observed at iteration 1\n",
      "\u001B[34m\u001B[1mTuner: \u001B[0mBest fitness metrics are {}\n",
      "\u001B[34m\u001B[1mTuner: \u001B[0mBest fitness model is runs\\detect\\train71\n",
      "\u001B[34m\u001B[1mTuner: \u001B[0mBest fitness hyperparameters are printed below.\n",
      "\n",
      "Printing '\u001B[1m\u001B[30mruns\\detect\\tune4\\best_hyperparameters.yaml\u001B[0m'\n",
      "\n",
      "lr0: 0.01\n",
      "lrf: 0.01\n",
      "momentum: 0.937\n",
      "weight_decay: 0.0005\n",
      "warmup_epochs: 3.0\n",
      "warmup_momentum: 0.8\n",
      "box: 7.5\n",
      "cls: 0.5\n",
      "dfl: 1.5\n",
      "hsv_h: 0.015\n",
      "hsv_s: 0.7\n",
      "hsv_v: 0.4\n",
      "degrees: 0.0\n",
      "translate: 0.1\n",
      "scale: 0.5\n",
      "shear: 0.0\n",
      "perspective: 0.0\n",
      "flipud: 0.0\n",
      "fliplr: 0.5\n",
      "bgr: 0.0\n",
      "mosaic: 1.0\n",
      "mixup: 0.0\n",
      "copy_paste: 0.0\n",
      "\n",
      "\u001B[34m\u001B[1mTuner: \u001B[0mStarting iteration 41/50 with hyperparameters: {'lr0': 0.01206, 'lrf': 0.01155, 'momentum': 0.94853, 'weight_decay': 0.00051, 'warmup_epochs': 2.7656, 'warmup_momentum': 0.86285, 'box': 7.2055, 'cls': 0.52845, 'dfl': 1.57939, 'hsv_h': 0.01336, 'hsv_s': 0.75691, 'hsv_v': 0.38315, 'degrees': 0.0, 'translate': 0.12542, 'scale': 0.41247, 'shear': 0.0, 'perspective': 0.0, 'flipud': 0.0, 'fliplr': 0.45476, 'bgr': 0.0, 'mosaic': 0.89892, 'mixup': 0.0, 'copy_paste': 0.0}\n",
      "WARNING  training failure for hyperparameter tuning iteration 41\n",
      "Command 'yolo train task=detect mode=train model=yolov8s.yaml data=G:\\Drone Detection\\untitled\\DRONES_NEW-4/data.yaml epochs=3 time=None patience=100 batch=16 imgsz=640 save=True save_period=-1 cache=False device=None workers=8 project=None name=None exist_ok=False pretrained=True optimizer=auto verbose=True seed=0 deterministic=True single_cls=False rect=False cos_lr=False close_mosaic=10 resume=False amp=True fraction=1.0 profile=False freeze=None multi_scale=False overlap_mask=True mask_ratio=4 dropout=0.0 val=True split=val save_json=False save_hybrid=False conf=None iou=0.7 max_det=300 half=False dnn=False plots=True source=None vid_stride=1 stream_buffer=False visualize=False augment=False agnostic_nms=False classes=None retina_masks=False embed=None show=False save_frames=False save_txt=False save_conf=False save_crop=False show_labels=True show_conf=True show_boxes=True line_width=None format=torchscript keras=False optimize=False int8=False dynamic=False simplify=True opset=None workspace=None nms=False lr0=0.01206 lrf=0.01155 momentum=0.94853 weight_decay=0.00051 warmup_epochs=2.7656 warmup_momentum=0.86285 warmup_bias_lr=0.1 box=7.2055 cls=0.52845 dfl=1.57939 pose=12.0 kobj=1.0 nbs=64 hsv_h=0.01336 hsv_s=0.75691 hsv_v=0.38315 degrees=0.0 translate=0.12542 scale=0.41247 shear=0.0 perspective=0.0 flipud=0.0 fliplr=0.45476 bgr=0.0 mosaic=0.89892 mixup=0.0 copy_paste=0.0 copy_paste_mode=flip auto_augment=randaugment erasing=0.4 crop_fraction=1.0 cfg=None tracker=botsort.yaml' returned non-zero exit status 1.\n",
      "Saved runs\\detect\\tune4\\tune_scatter_plots.png\n",
      "Saved runs\\detect\\tune4\\tune_fitness.png\n",
      "\n",
      "\u001B[34m\u001B[1mTuner: \u001B[0m41/50 iterations complete  (170.68s)\n",
      "\u001B[34m\u001B[1mTuner: \u001B[0mResults saved to \u001B[1mruns\\detect\\tune4\u001B[0m\n",
      "\u001B[34m\u001B[1mTuner: \u001B[0mBest fitness=0.0 observed at iteration 1\n",
      "\u001B[34m\u001B[1mTuner: \u001B[0mBest fitness metrics are {}\n",
      "\u001B[34m\u001B[1mTuner: \u001B[0mBest fitness model is runs\\detect\\train71\n",
      "\u001B[34m\u001B[1mTuner: \u001B[0mBest fitness hyperparameters are printed below.\n",
      "Printing '\u001B[1m\u001B[30mruns\\detect\\tune4\\best_hyperparameters.yaml\u001B[0m'\n",
      "\n",
      "lr0: 0.01\n",
      "lrf: 0.01\n",
      "momentum: 0.937\n",
      "weight_decay: 0.0005\n",
      "warmup_epochs: 3.0\n",
      "warmup_momentum: 0.8\n",
      "box: 7.5\n",
      "cls: 0.5\n",
      "dfl: 1.5\n",
      "hsv_h: 0.015\n",
      "hsv_s: 0.7\n",
      "hsv_v: 0.4\n",
      "degrees: 0.0\n",
      "translate: 0.1\n",
      "scale: 0.5\n",
      "shear: 0.0\n",
      "perspective: 0.0\n",
      "flipud: 0.0\n",
      "fliplr: 0.5\n",
      "bgr: 0.0\n",
      "mosaic: 1.0\n",
      "mixup: 0.0\n",
      "copy_paste: 0.0\n",
      "\n",
      "\u001B[34m\u001B[1mTuner: \u001B[0mStarting iteration 42/50 with hyperparameters: {'lr0': 0.01025, 'lrf': 0.00641, 'momentum': 0.90276, 'weight_decay': 0.00052, 'warmup_epochs': 3.45409, 'warmup_momentum': 0.65999, 'box': 6.74431, 'cls': 0.50111, 'dfl': 1.73554, 'hsv_h': 0.015, 'hsv_s': 0.88272, 'hsv_v': 0.50059, 'degrees': 0.0, 'translate': 0.08311, 'scale': 0.47258, 'shear': 0.0, 'perspective': 0.0, 'flipud': 0.0, 'fliplr': 0.46147, 'bgr': 0.0, 'mosaic': 1.0, 'mixup': 0.0, 'copy_paste': 0.0}\n",
      "WARNING  training failure for hyperparameter tuning iteration 42\n",
      "Command 'yolo train task=detect mode=train model=yolov8s.yaml data=G:\\Drone Detection\\untitled\\DRONES_NEW-4/data.yaml epochs=3 time=None patience=100 batch=16 imgsz=640 save=True save_period=-1 cache=False device=None workers=8 project=None name=None exist_ok=False pretrained=True optimizer=auto verbose=True seed=0 deterministic=True single_cls=False rect=False cos_lr=False close_mosaic=10 resume=False amp=True fraction=1.0 profile=False freeze=None multi_scale=False overlap_mask=True mask_ratio=4 dropout=0.0 val=True split=val save_json=False save_hybrid=False conf=None iou=0.7 max_det=300 half=False dnn=False plots=True source=None vid_stride=1 stream_buffer=False visualize=False augment=False agnostic_nms=False classes=None retina_masks=False embed=None show=False save_frames=False save_txt=False save_conf=False save_crop=False show_labels=True show_conf=True show_boxes=True line_width=None format=torchscript keras=False optimize=False int8=False dynamic=False simplify=True opset=None workspace=None nms=False lr0=0.01025 lrf=0.00641 momentum=0.90276 weight_decay=0.00052 warmup_epochs=3.45409 warmup_momentum=0.65999 warmup_bias_lr=0.1 box=6.74431 cls=0.50111 dfl=1.73554 pose=12.0 kobj=1.0 nbs=64 hsv_h=0.015 hsv_s=0.88272 hsv_v=0.50059 degrees=0.0 translate=0.08311 scale=0.47258 shear=0.0 perspective=0.0 flipud=0.0 fliplr=0.46147 bgr=0.0 mosaic=1.0 mixup=0.0 copy_paste=0.0 copy_paste_mode=flip auto_augment=randaugment erasing=0.4 crop_fraction=1.0 cfg=None tracker=botsort.yaml' returned non-zero exit status 1.\n",
      "Saved runs\\detect\\tune4\\tune_scatter_plots.png\n",
      "Saved runs\\detect\\tune4\\tune_fitness.png\n",
      "\n",
      "\u001B[34m\u001B[1mTuner: \u001B[0m42/50 iterations complete  (174.75s)\n",
      "\u001B[34m\u001B[1mTuner: \u001B[0mResults saved to \u001B[1mruns\\detect\\tune4\u001B[0m\n",
      "\u001B[34m\u001B[1mTuner: \u001B[0mBest fitness=0.0 observed at iteration 1\n",
      "\u001B[34m\u001B[1mTuner: \u001B[0mBest fitness metrics are {}\n",
      "\u001B[34m\u001B[1mTuner: \u001B[0mBest fitness model is runs\\detect\\train71\n",
      "\u001B[34m\u001B[1mTuner: \u001B[0mBest fitness hyperparameters are printed below.\n",
      "\n",
      "Printing '\u001B[1m\u001B[30mruns\\detect\\tune4\\best_hyperparameters.yaml\u001B[0m'\n",
      "\n",
      "lr0: 0.01\n",
      "lrf: 0.01\n",
      "momentum: 0.937\n",
      "weight_decay: 0.0005\n",
      "warmup_epochs: 3.0\n",
      "warmup_momentum: 0.8\n",
      "box: 7.5\n",
      "cls: 0.5\n",
      "dfl: 1.5\n",
      "hsv_h: 0.015\n",
      "hsv_s: 0.7\n",
      "hsv_v: 0.4\n",
      "degrees: 0.0\n",
      "translate: 0.1\n",
      "scale: 0.5\n",
      "shear: 0.0\n",
      "perspective: 0.0\n",
      "flipud: 0.0\n",
      "fliplr: 0.5\n",
      "bgr: 0.0\n",
      "mosaic: 1.0\n",
      "mixup: 0.0\n",
      "copy_paste: 0.0\n",
      "\n",
      "\u001B[34m\u001B[1mTuner: \u001B[0mStarting iteration 43/50 with hyperparameters: {'lr0': 0.00922, 'lrf': 0.00926, 'momentum': 0.90868, 'weight_decay': 0.00049, 'warmup_epochs': 2.40388, 'warmup_momentum': 0.74122, 'box': 5.96463, 'cls': 0.52921, 'dfl': 1.85625, 'hsv_h': 0.01422, 'hsv_s': 0.59233, 'hsv_v': 0.37313, 'degrees': 0.0, 'translate': 0.10914, 'scale': 0.48704, 'shear': 0.0, 'perspective': 0.0, 'flipud': 0.0, 'fliplr': 0.50852, 'bgr': 0.0, 'mosaic': 0.92707, 'mixup': 0.0, 'copy_paste': 0.0}\n",
      "WARNING  training failure for hyperparameter tuning iteration 43\n",
      "Command 'yolo train task=detect mode=train model=yolov8s.yaml data=G:\\Drone Detection\\untitled\\DRONES_NEW-4/data.yaml epochs=3 time=None patience=100 batch=16 imgsz=640 save=True save_period=-1 cache=False device=None workers=8 project=None name=None exist_ok=False pretrained=True optimizer=auto verbose=True seed=0 deterministic=True single_cls=False rect=False cos_lr=False close_mosaic=10 resume=False amp=True fraction=1.0 profile=False freeze=None multi_scale=False overlap_mask=True mask_ratio=4 dropout=0.0 val=True split=val save_json=False save_hybrid=False conf=None iou=0.7 max_det=300 half=False dnn=False plots=True source=None vid_stride=1 stream_buffer=False visualize=False augment=False agnostic_nms=False classes=None retina_masks=False embed=None show=False save_frames=False save_txt=False save_conf=False save_crop=False show_labels=True show_conf=True show_boxes=True line_width=None format=torchscript keras=False optimize=False int8=False dynamic=False simplify=True opset=None workspace=None nms=False lr0=0.00922 lrf=0.00926 momentum=0.90868 weight_decay=0.00049 warmup_epochs=2.40388 warmup_momentum=0.74122 warmup_bias_lr=0.1 box=5.96463 cls=0.52921 dfl=1.85625 pose=12.0 kobj=1.0 nbs=64 hsv_h=0.01422 hsv_s=0.59233 hsv_v=0.37313 degrees=0.0 translate=0.10914 scale=0.48704 shear=0.0 perspective=0.0 flipud=0.0 fliplr=0.50852 bgr=0.0 mosaic=0.92707 mixup=0.0 copy_paste=0.0 copy_paste_mode=flip auto_augment=randaugment erasing=0.4 crop_fraction=1.0 cfg=None tracker=botsort.yaml' returned non-zero exit status 1.\n",
      "Saved runs\\detect\\tune4\\tune_scatter_plots.png\n",
      "Saved runs\\detect\\tune4\\tune_fitness.png\n",
      "\n",
      "\u001B[34m\u001B[1mTuner: \u001B[0m43/50 iterations complete  (178.87s)\n",
      "\u001B[34m\u001B[1mTuner: \u001B[0mResults saved to \u001B[1mruns\\detect\\tune4\u001B[0m\n",
      "\u001B[34m\u001B[1mTuner: \u001B[0mBest fitness=0.0 observed at iteration 1\n",
      "\u001B[34m\u001B[1mTuner: \u001B[0mBest fitness metrics are {}\n",
      "\u001B[34m\u001B[1mTuner: \u001B[0mBest fitness model is runs\\detect\\train71\n",
      "\u001B[34m\u001B[1mTuner: \u001B[0mBest fitness hyperparameters are printed below.\n",
      "\n",
      "Printing '\u001B[1m\u001B[30mruns\\detect\\tune4\\best_hyperparameters.yaml\u001B[0m'\n",
      "\n",
      "lr0: 0.01\n",
      "lrf: 0.01\n",
      "momentum: 0.937\n",
      "weight_decay: 0.0005\n",
      "warmup_epochs: 3.0\n",
      "warmup_momentum: 0.8\n",
      "box: 7.5\n",
      "cls: 0.5\n",
      "dfl: 1.5\n",
      "hsv_h: 0.015\n",
      "hsv_s: 0.7\n",
      "hsv_v: 0.4\n",
      "degrees: 0.0\n",
      "translate: 0.1\n",
      "scale: 0.5\n",
      "shear: 0.0\n",
      "perspective: 0.0\n",
      "flipud: 0.0\n",
      "fliplr: 0.5\n",
      "bgr: 0.0\n",
      "mosaic: 1.0\n",
      "mixup: 0.0\n",
      "copy_paste: 0.0\n",
      "\n",
      "\u001B[34m\u001B[1mTuner: \u001B[0mStarting iteration 44/50 with hyperparameters: {'lr0': 0.00903, 'lrf': 0.00927, 'momentum': 0.78242, 'weight_decay': 0.00058, 'warmup_epochs': 2.7293, 'warmup_momentum': 0.7518, 'box': 5.06726, 'cls': 0.41628, 'dfl': 1.85625, 'hsv_h': 0.01566, 'hsv_s': 0.59545, 'hsv_v': 0.38096, 'degrees': 0.0, 'translate': 0.10534, 'scale': 0.60863, 'shear': 0.0, 'perspective': 0.0, 'flipud': 0.0, 'fliplr': 0.44241, 'bgr': 0.0, 'mosaic': 0.78344, 'mixup': 0.0, 'copy_paste': 0.0}\n",
      "WARNING  training failure for hyperparameter tuning iteration 44\n",
      "Command 'yolo train task=detect mode=train model=yolov8s.yaml data=G:\\Drone Detection\\untitled\\DRONES_NEW-4/data.yaml epochs=3 time=None patience=100 batch=16 imgsz=640 save=True save_period=-1 cache=False device=None workers=8 project=None name=None exist_ok=False pretrained=True optimizer=auto verbose=True seed=0 deterministic=True single_cls=False rect=False cos_lr=False close_mosaic=10 resume=False amp=True fraction=1.0 profile=False freeze=None multi_scale=False overlap_mask=True mask_ratio=4 dropout=0.0 val=True split=val save_json=False save_hybrid=False conf=None iou=0.7 max_det=300 half=False dnn=False plots=True source=None vid_stride=1 stream_buffer=False visualize=False augment=False agnostic_nms=False classes=None retina_masks=False embed=None show=False save_frames=False save_txt=False save_conf=False save_crop=False show_labels=True show_conf=True show_boxes=True line_width=None format=torchscript keras=False optimize=False int8=False dynamic=False simplify=True opset=None workspace=None nms=False lr0=0.00903 lrf=0.00927 momentum=0.78242 weight_decay=0.00058 warmup_epochs=2.7293 warmup_momentum=0.7518 warmup_bias_lr=0.1 box=5.06726 cls=0.41628 dfl=1.85625 pose=12.0 kobj=1.0 nbs=64 hsv_h=0.01566 hsv_s=0.59545 hsv_v=0.38096 degrees=0.0 translate=0.10534 scale=0.60863 shear=0.0 perspective=0.0 flipud=0.0 fliplr=0.44241 bgr=0.0 mosaic=0.78344 mixup=0.0 copy_paste=0.0 copy_paste_mode=flip auto_augment=randaugment erasing=0.4 crop_fraction=1.0 cfg=None tracker=botsort.yaml' returned non-zero exit status 1.\n",
      "Saved runs\\detect\\tune4\\tune_scatter_plots.png\n",
      "Saved runs\\detect\\tune4\\tune_fitness.png\n",
      "\n",
      "\u001B[34m\u001B[1mTuner: \u001B[0m44/50 iterations complete  (183.00s)\n",
      "\u001B[34m\u001B[1mTuner: \u001B[0mResults saved to \u001B[1mruns\\detect\\tune4\u001B[0m\n",
      "\u001B[34m\u001B[1mTuner: \u001B[0mBest fitness=0.0 observed at iteration 1\n",
      "\u001B[34m\u001B[1mTuner: \u001B[0mBest fitness metrics are {}\n",
      "\u001B[34m\u001B[1mTuner: \u001B[0mBest fitness model is runs\\detect\\train71\n",
      "\u001B[34m\u001B[1mTuner: \u001B[0mBest fitness hyperparameters are printed below.\n",
      "\n",
      "Printing '\u001B[1m\u001B[30mruns\\detect\\tune4\\best_hyperparameters.yaml\u001B[0m'\n",
      "\n",
      "lr0: 0.01\n",
      "lrf: 0.01\n",
      "momentum: 0.937\n",
      "weight_decay: 0.0005\n",
      "warmup_epochs: 3.0\n",
      "warmup_momentum: 0.8\n",
      "box: 7.5\n",
      "cls: 0.5\n",
      "dfl: 1.5\n",
      "hsv_h: 0.015\n",
      "hsv_s: 0.7\n",
      "hsv_v: 0.4\n",
      "degrees: 0.0\n",
      "translate: 0.1\n",
      "scale: 0.5\n",
      "shear: 0.0\n",
      "perspective: 0.0\n",
      "flipud: 0.0\n",
      "fliplr: 0.5\n",
      "bgr: 0.0\n",
      "mosaic: 1.0\n",
      "mixup: 0.0\n",
      "copy_paste: 0.0\n",
      "\n",
      "\u001B[34m\u001B[1mTuner: \u001B[0mStarting iteration 45/50 with hyperparameters: {'lr0': 0.00892, 'lrf': 0.00928, 'momentum': 0.9116, 'weight_decay': 0.00049, 'warmup_epochs': 2.4152, 'warmup_momentum': 0.72775, 'box': 6.12562, 'cls': 0.5263, 'dfl': 1.85625, 'hsv_h': 0.01455, 'hsv_s': 0.59545, 'hsv_v': 0.36934, 'degrees': 0.0, 'translate': 0.10765, 'scale': 0.51229, 'shear': 0.0, 'perspective': 0.0, 'flipud': 0.0, 'fliplr': 0.48705, 'bgr': 0.0, 'mosaic': 0.934, 'mixup': 0.0, 'copy_paste': 0.0}\n",
      "WARNING  training failure for hyperparameter tuning iteration 45\n",
      "Command 'yolo train task=detect mode=train model=yolov8s.yaml data=G:\\Drone Detection\\untitled\\DRONES_NEW-4/data.yaml epochs=3 time=None patience=100 batch=16 imgsz=640 save=True save_period=-1 cache=False device=None workers=8 project=None name=None exist_ok=False pretrained=True optimizer=auto verbose=True seed=0 deterministic=True single_cls=False rect=False cos_lr=False close_mosaic=10 resume=False amp=True fraction=1.0 profile=False freeze=None multi_scale=False overlap_mask=True mask_ratio=4 dropout=0.0 val=True split=val save_json=False save_hybrid=False conf=None iou=0.7 max_det=300 half=False dnn=False plots=True source=None vid_stride=1 stream_buffer=False visualize=False augment=False agnostic_nms=False classes=None retina_masks=False embed=None show=False save_frames=False save_txt=False save_conf=False save_crop=False show_labels=True show_conf=True show_boxes=True line_width=None format=torchscript keras=False optimize=False int8=False dynamic=False simplify=True opset=None workspace=None nms=False lr0=0.00892 lrf=0.00928 momentum=0.9116 weight_decay=0.00049 warmup_epochs=2.4152 warmup_momentum=0.72775 warmup_bias_lr=0.1 box=6.12562 cls=0.5263 dfl=1.85625 pose=12.0 kobj=1.0 nbs=64 hsv_h=0.01455 hsv_s=0.59545 hsv_v=0.36934 degrees=0.0 translate=0.10765 scale=0.51229 shear=0.0 perspective=0.0 flipud=0.0 fliplr=0.48705 bgr=0.0 mosaic=0.934 mixup=0.0 copy_paste=0.0 copy_paste_mode=flip auto_augment=randaugment erasing=0.4 crop_fraction=1.0 cfg=None tracker=botsort.yaml' returned non-zero exit status 1.\n",
      "Saved runs\\detect\\tune4\\tune_scatter_plots.png\n",
      "Saved runs\\detect\\tune4\\tune_fitness.png\n",
      "\n",
      "\u001B[34m\u001B[1mTuner: \u001B[0m45/50 iterations complete  (187.19s)\n",
      "\u001B[34m\u001B[1mTuner: \u001B[0mResults saved to \u001B[1mruns\\detect\\tune4\u001B[0m\n",
      "\u001B[34m\u001B[1mTuner: \u001B[0mBest fitness=0.0 observed at iteration 1\n",
      "\u001B[34m\u001B[1mTuner: \u001B[0mBest fitness metrics are {}\n",
      "\u001B[34m\u001B[1mTuner: \u001B[0mBest fitness model is runs\\detect\\train71\n",
      "\u001B[34m\u001B[1mTuner: \u001B[0mBest fitness hyperparameters are printed below.\n",
      "\n",
      "Printing '\u001B[1m\u001B[30mruns\\detect\\tune4\\best_hyperparameters.yaml\u001B[0m'\n",
      "\n",
      "lr0: 0.01\n",
      "lrf: 0.01\n",
      "momentum: 0.937\n",
      "weight_decay: 0.0005\n",
      "warmup_epochs: 3.0\n",
      "warmup_momentum: 0.8\n",
      "box: 7.5\n",
      "cls: 0.5\n",
      "dfl: 1.5\n",
      "hsv_h: 0.015\n",
      "hsv_s: 0.7\n",
      "hsv_v: 0.4\n",
      "degrees: 0.0\n",
      "translate: 0.1\n",
      "scale: 0.5\n",
      "shear: 0.0\n",
      "perspective: 0.0\n",
      "flipud: 0.0\n",
      "fliplr: 0.5\n",
      "bgr: 0.0\n",
      "mosaic: 1.0\n",
      "mixup: 0.0\n",
      "copy_paste: 0.0\n",
      "\n",
      "\u001B[34m\u001B[1mTuner: \u001B[0mStarting iteration 46/50 with hyperparameters: {'lr0': 0.00925, 'lrf': 0.01, 'momentum': 0.89709, 'weight_decay': 0.00046, 'warmup_epochs': 3.0, 'warmup_momentum': 0.74024, 'box': 7.0119, 'cls': 0.50744, 'dfl': 1.53833, 'hsv_h': 0.01598, 'hsv_s': 0.57901, 'hsv_v': 0.36626, 'degrees': 0.0, 'translate': 0.08778, 'scale': 0.50627, 'shear': 0.0, 'perspective': 0.0, 'flipud': 0.0, 'fliplr': 0.50629, 'bgr': 0.0, 'mosaic': 1.0, 'mixup': 0.0, 'copy_paste': 0.0}\n",
      "WARNING  training failure for hyperparameter tuning iteration 46\n",
      "Command 'yolo train task=detect mode=train model=yolov8s.yaml data=G:\\Drone Detection\\untitled\\DRONES_NEW-4/data.yaml epochs=3 time=None patience=100 batch=16 imgsz=640 save=True save_period=-1 cache=False device=None workers=8 project=None name=None exist_ok=False pretrained=True optimizer=auto verbose=True seed=0 deterministic=True single_cls=False rect=False cos_lr=False close_mosaic=10 resume=False amp=True fraction=1.0 profile=False freeze=None multi_scale=False overlap_mask=True mask_ratio=4 dropout=0.0 val=True split=val save_json=False save_hybrid=False conf=None iou=0.7 max_det=300 half=False dnn=False plots=True source=None vid_stride=1 stream_buffer=False visualize=False augment=False agnostic_nms=False classes=None retina_masks=False embed=None show=False save_frames=False save_txt=False save_conf=False save_crop=False show_labels=True show_conf=True show_boxes=True line_width=None format=torchscript keras=False optimize=False int8=False dynamic=False simplify=True opset=None workspace=None nms=False lr0=0.00925 lrf=0.01 momentum=0.89709 weight_decay=0.00046 warmup_epochs=3.0 warmup_momentum=0.74024 warmup_bias_lr=0.1 box=7.0119 cls=0.50744 dfl=1.53833 pose=12.0 kobj=1.0 nbs=64 hsv_h=0.01598 hsv_s=0.57901 hsv_v=0.36626 degrees=0.0 translate=0.08778 scale=0.50627 shear=0.0 perspective=0.0 flipud=0.0 fliplr=0.50629 bgr=0.0 mosaic=1.0 mixup=0.0 copy_paste=0.0 copy_paste_mode=flip auto_augment=randaugment erasing=0.4 crop_fraction=1.0 cfg=None tracker=botsort.yaml' returned non-zero exit status 1.\n",
      "Saved runs\\detect\\tune4\\tune_scatter_plots.png\n",
      "Saved runs\\detect\\tune4\\tune_fitness.png\n",
      "\n",
      "\u001B[34m\u001B[1mTuner: \u001B[0m46/50 iterations complete  (191.33s)\n",
      "\u001B[34m\u001B[1mTuner: \u001B[0mResults saved to \u001B[1mruns\\detect\\tune4\u001B[0m\n",
      "\u001B[34m\u001B[1mTuner: \u001B[0mBest fitness=0.0 observed at iteration 1\n",
      "\u001B[34m\u001B[1mTuner: \u001B[0mBest fitness metrics are {}\n",
      "\u001B[34m\u001B[1mTuner: \u001B[0mBest fitness model is runs\\detect\\train71\n",
      "\u001B[34m\u001B[1mTuner: \u001B[0mBest fitness hyperparameters are printed below.\n",
      "\n",
      "Printing '\u001B[1m\u001B[30mruns\\detect\\tune4\\best_hyperparameters.yaml\u001B[0m'\n",
      "\n",
      "lr0: 0.01\n",
      "lrf: 0.01\n",
      "momentum: 0.937\n",
      "weight_decay: 0.0005\n",
      "warmup_epochs: 3.0\n",
      "warmup_momentum: 0.8\n",
      "box: 7.5\n",
      "cls: 0.5\n",
      "dfl: 1.5\n",
      "hsv_h: 0.015\n",
      "hsv_s: 0.7\n",
      "hsv_v: 0.4\n",
      "degrees: 0.0\n",
      "translate: 0.1\n",
      "scale: 0.5\n",
      "shear: 0.0\n",
      "perspective: 0.0\n",
      "flipud: 0.0\n",
      "fliplr: 0.5\n",
      "bgr: 0.0\n",
      "mosaic: 1.0\n",
      "mixup: 0.0\n",
      "copy_paste: 0.0\n",
      "\n",
      "\u001B[34m\u001B[1mTuner: \u001B[0mStarting iteration 47/50 with hyperparameters: {'lr0': 0.01114, 'lrf': 0.00851, 'momentum': 0.96436, 'weight_decay': 0.00054, 'warmup_epochs': 2.62162, 'warmup_momentum': 0.95, 'box': 4.41912, 'cls': 0.41789, 'dfl': 2.22637, 'hsv_h': 0.00931, 'hsv_s': 0.69189, 'hsv_v': 0.31787, 'degrees': 0.0, 'translate': 0.12859, 'scale': 0.38771, 'shear': 0.0, 'perspective': 0.0, 'flipud': 0.0, 'fliplr': 0.38451, 'bgr': 0.0, 'mosaic': 0.79872, 'mixup': 0.0, 'copy_paste': 0.0}\n",
      "WARNING  training failure for hyperparameter tuning iteration 47\n",
      "Command 'yolo train task=detect mode=train model=yolov8s.yaml data=G:\\Drone Detection\\untitled\\DRONES_NEW-4/data.yaml epochs=3 time=None patience=100 batch=16 imgsz=640 save=True save_period=-1 cache=False device=None workers=8 project=None name=None exist_ok=False pretrained=True optimizer=auto verbose=True seed=0 deterministic=True single_cls=False rect=False cos_lr=False close_mosaic=10 resume=False amp=True fraction=1.0 profile=False freeze=None multi_scale=False overlap_mask=True mask_ratio=4 dropout=0.0 val=True split=val save_json=False save_hybrid=False conf=None iou=0.7 max_det=300 half=False dnn=False plots=True source=None vid_stride=1 stream_buffer=False visualize=False augment=False agnostic_nms=False classes=None retina_masks=False embed=None show=False save_frames=False save_txt=False save_conf=False save_crop=False show_labels=True show_conf=True show_boxes=True line_width=None format=torchscript keras=False optimize=False int8=False dynamic=False simplify=True opset=None workspace=None nms=False lr0=0.01114 lrf=0.00851 momentum=0.96436 weight_decay=0.00054 warmup_epochs=2.62162 warmup_momentum=0.95 warmup_bias_lr=0.1 box=4.41912 cls=0.41789 dfl=2.22637 pose=12.0 kobj=1.0 nbs=64 hsv_h=0.00931 hsv_s=0.69189 hsv_v=0.31787 degrees=0.0 translate=0.12859 scale=0.38771 shear=0.0 perspective=0.0 flipud=0.0 fliplr=0.38451 bgr=0.0 mosaic=0.79872 mixup=0.0 copy_paste=0.0 copy_paste_mode=flip auto_augment=randaugment erasing=0.4 crop_fraction=1.0 cfg=None tracker=botsort.yaml' returned non-zero exit status 1.\n",
      "Saved runs\\detect\\tune4\\tune_scatter_plots.png\n",
      "Saved runs\\detect\\tune4\\tune_fitness.png\n",
      "\n",
      "\u001B[34m\u001B[1mTuner: \u001B[0m47/50 iterations complete  (195.41s)\n",
      "\u001B[34m\u001B[1mTuner: \u001B[0mResults saved to \u001B[1mruns\\detect\\tune4\u001B[0m\n",
      "\u001B[34m\u001B[1mTuner: \u001B[0mBest fitness=0.0 observed at iteration 1\n",
      "\u001B[34m\u001B[1mTuner: \u001B[0mBest fitness metrics are {}\n",
      "\u001B[34m\u001B[1mTuner: \u001B[0mBest fitness model is runs\\detect\\train71\n",
      "\u001B[34m\u001B[1mTuner: \u001B[0mBest fitness hyperparameters are printed below.\n",
      "\n",
      "Printing '\u001B[1m\u001B[30mruns\\detect\\tune4\\best_hyperparameters.yaml\u001B[0m'\n",
      "\n",
      "lr0: 0.01\n",
      "lrf: 0.01\n",
      "momentum: 0.937\n",
      "weight_decay: 0.0005\n",
      "warmup_epochs: 3.0\n",
      "warmup_momentum: 0.8\n",
      "box: 7.5\n",
      "cls: 0.5\n",
      "dfl: 1.5\n",
      "hsv_h: 0.015\n",
      "hsv_s: 0.7\n",
      "hsv_v: 0.4\n",
      "degrees: 0.0\n",
      "translate: 0.1\n",
      "scale: 0.5\n",
      "shear: 0.0\n",
      "perspective: 0.0\n",
      "flipud: 0.0\n",
      "fliplr: 0.5\n",
      "bgr: 0.0\n",
      "mosaic: 1.0\n",
      "mixup: 0.0\n",
      "copy_paste: 0.0\n",
      "\n",
      "\u001B[34m\u001B[1mTuner: \u001B[0mStarting iteration 48/50 with hyperparameters: {'lr0': 0.00763, 'lrf': 0.00779, 'momentum': 0.89682, 'weight_decay': 0.00049, 'warmup_epochs': 2.15437, 'warmup_momentum': 0.7474, 'box': 5.68285, 'cls': 0.50824, 'dfl': 2.33832, 'hsv_h': 0.01764, 'hsv_s': 0.59545, 'hsv_v': 0.41154, 'degrees': 0.0, 'translate': 0.12641, 'scale': 0.51126, 'shear': 0.0, 'perspective': 0.0, 'flipud': 0.0, 'fliplr': 0.49527, 'bgr': 0.0, 'mosaic': 0.89811, 'mixup': 0.0, 'copy_paste': 0.0}\n",
      "WARNING  training failure for hyperparameter tuning iteration 48\n",
      "Command 'yolo train task=detect mode=train model=yolov8s.yaml data=G:\\Drone Detection\\untitled\\DRONES_NEW-4/data.yaml epochs=3 time=None patience=100 batch=16 imgsz=640 save=True save_period=-1 cache=False device=None workers=8 project=None name=None exist_ok=False pretrained=True optimizer=auto verbose=True seed=0 deterministic=True single_cls=False rect=False cos_lr=False close_mosaic=10 resume=False amp=True fraction=1.0 profile=False freeze=None multi_scale=False overlap_mask=True mask_ratio=4 dropout=0.0 val=True split=val save_json=False save_hybrid=False conf=None iou=0.7 max_det=300 half=False dnn=False plots=True source=None vid_stride=1 stream_buffer=False visualize=False augment=False agnostic_nms=False classes=None retina_masks=False embed=None show=False save_frames=False save_txt=False save_conf=False save_crop=False show_labels=True show_conf=True show_boxes=True line_width=None format=torchscript keras=False optimize=False int8=False dynamic=False simplify=True opset=None workspace=None nms=False lr0=0.00763 lrf=0.00779 momentum=0.89682 weight_decay=0.00049 warmup_epochs=2.15437 warmup_momentum=0.7474 warmup_bias_lr=0.1 box=5.68285 cls=0.50824 dfl=2.33832 pose=12.0 kobj=1.0 nbs=64 hsv_h=0.01764 hsv_s=0.59545 hsv_v=0.41154 degrees=0.0 translate=0.12641 scale=0.51126 shear=0.0 perspective=0.0 flipud=0.0 fliplr=0.49527 bgr=0.0 mosaic=0.89811 mixup=0.0 copy_paste=0.0 copy_paste_mode=flip auto_augment=randaugment erasing=0.4 crop_fraction=1.0 cfg=None tracker=botsort.yaml' returned non-zero exit status 1.\n",
      "Saved runs\\detect\\tune4\\tune_scatter_plots.png\n",
      "Saved runs\\detect\\tune4\\tune_fitness.png\n",
      "\n",
      "\u001B[34m\u001B[1mTuner: \u001B[0m48/50 iterations complete  (199.38s)\n",
      "\u001B[34m\u001B[1mTuner: \u001B[0mResults saved to \u001B[1mruns\\detect\\tune4\u001B[0m\n",
      "\u001B[34m\u001B[1mTuner: \u001B[0mBest fitness=0.0 observed at iteration 1\n",
      "\u001B[34m\u001B[1mTuner: \u001B[0mBest fitness metrics are {}\n",
      "\u001B[34m\u001B[1mTuner: \u001B[0mBest fitness model is runs\\detect\\train71\n",
      "\u001B[34m\u001B[1mTuner: \u001B[0mBest fitness hyperparameters are printed below.\n",
      "\n",
      "Printing '\u001B[1m\u001B[30mruns\\detect\\tune4\\best_hyperparameters.yaml\u001B[0m'\n",
      "\n",
      "lr0: 0.01\n",
      "lrf: 0.01\n",
      "momentum: 0.937\n",
      "weight_decay: 0.0005\n",
      "warmup_epochs: 3.0\n",
      "warmup_momentum: 0.8\n",
      "box: 7.5\n",
      "cls: 0.5\n",
      "dfl: 1.5\n",
      "hsv_h: 0.015\n",
      "hsv_s: 0.7\n",
      "hsv_v: 0.4\n",
      "degrees: 0.0\n",
      "translate: 0.1\n",
      "scale: 0.5\n",
      "shear: 0.0\n",
      "perspective: 0.0\n",
      "flipud: 0.0\n",
      "fliplr: 0.5\n",
      "bgr: 0.0\n",
      "mosaic: 1.0\n",
      "mixup: 0.0\n",
      "copy_paste: 0.0\n",
      "\n",
      "\u001B[34m\u001B[1mTuner: \u001B[0mStarting iteration 49/50 with hyperparameters: {'lr0': 0.01174, 'lrf': 0.00785, 'momentum': 0.96334, 'weight_decay': 0.00055, 'warmup_epochs': 2.64249, 'warmup_momentum': 0.95, 'box': 4.07431, 'cls': 0.44765, 'dfl': 2.25099, 'hsv_h': 0.00804, 'hsv_s': 0.67974, 'hsv_v': 0.33409, 'degrees': 0.0, 'translate': 0.13769, 'scale': 0.38771, 'shear': 0.0, 'perspective': 0.0, 'flipud': 0.0, 'fliplr': 0.42281, 'bgr': 0.0, 'mosaic': 0.91831, 'mixup': 0.0, 'copy_paste': 0.0}\n",
      "WARNING  training failure for hyperparameter tuning iteration 49\n",
      "Command 'yolo train task=detect mode=train model=yolov8s.yaml data=G:\\Drone Detection\\untitled\\DRONES_NEW-4/data.yaml epochs=3 time=None patience=100 batch=16 imgsz=640 save=True save_period=-1 cache=False device=None workers=8 project=None name=None exist_ok=False pretrained=True optimizer=auto verbose=True seed=0 deterministic=True single_cls=False rect=False cos_lr=False close_mosaic=10 resume=False amp=True fraction=1.0 profile=False freeze=None multi_scale=False overlap_mask=True mask_ratio=4 dropout=0.0 val=True split=val save_json=False save_hybrid=False conf=None iou=0.7 max_det=300 half=False dnn=False plots=True source=None vid_stride=1 stream_buffer=False visualize=False augment=False agnostic_nms=False classes=None retina_masks=False embed=None show=False save_frames=False save_txt=False save_conf=False save_crop=False show_labels=True show_conf=True show_boxes=True line_width=None format=torchscript keras=False optimize=False int8=False dynamic=False simplify=True opset=None workspace=None nms=False lr0=0.01174 lrf=0.00785 momentum=0.96334 weight_decay=0.00055 warmup_epochs=2.64249 warmup_momentum=0.95 warmup_bias_lr=0.1 box=4.07431 cls=0.44765 dfl=2.25099 pose=12.0 kobj=1.0 nbs=64 hsv_h=0.00804 hsv_s=0.67974 hsv_v=0.33409 degrees=0.0 translate=0.13769 scale=0.38771 shear=0.0 perspective=0.0 flipud=0.0 fliplr=0.42281 bgr=0.0 mosaic=0.91831 mixup=0.0 copy_paste=0.0 copy_paste_mode=flip auto_augment=randaugment erasing=0.4 crop_fraction=1.0 cfg=None tracker=botsort.yaml' returned non-zero exit status 1.\n",
      "Saved runs\\detect\\tune4\\tune_scatter_plots.png\n",
      "Saved runs\\detect\\tune4\\tune_fitness.png\n",
      "\n",
      "\u001B[34m\u001B[1mTuner: \u001B[0m49/50 iterations complete  (203.43s)\n",
      "\u001B[34m\u001B[1mTuner: \u001B[0mResults saved to \u001B[1mruns\\detect\\tune4\u001B[0m\n",
      "\u001B[34m\u001B[1mTuner: \u001B[0mBest fitness=0.0 observed at iteration 1\n",
      "\u001B[34m\u001B[1mTuner: \u001B[0mBest fitness metrics are {}\n",
      "\u001B[34m\u001B[1mTuner: \u001B[0mBest fitness model is runs\\detect\\train71\n",
      "\u001B[34m\u001B[1mTuner: \u001B[0mBest fitness hyperparameters are printed below.\n",
      "\n",
      "Printing '\u001B[1m\u001B[30mruns\\detect\\tune4\\best_hyperparameters.yaml\u001B[0m'\n",
      "\n",
      "lr0: 0.01\n",
      "lrf: 0.01\n",
      "momentum: 0.937\n",
      "weight_decay: 0.0005\n",
      "warmup_epochs: 3.0\n",
      "warmup_momentum: 0.8\n",
      "box: 7.5\n",
      "cls: 0.5\n",
      "dfl: 1.5\n",
      "hsv_h: 0.015\n",
      "hsv_s: 0.7\n",
      "hsv_v: 0.4\n",
      "degrees: 0.0\n",
      "translate: 0.1\n",
      "scale: 0.5\n",
      "shear: 0.0\n",
      "perspective: 0.0\n",
      "flipud: 0.0\n",
      "fliplr: 0.5\n",
      "bgr: 0.0\n",
      "mosaic: 1.0\n",
      "mixup: 0.0\n",
      "copy_paste: 0.0\n",
      "\n",
      "\u001B[34m\u001B[1mTuner: \u001B[0mStarting iteration 50/50 with hyperparameters: {'lr0': 0.01342, 'lrf': 0.00747, 'momentum': 0.95914, 'weight_decay': 0.00063, 'warmup_epochs': 2.56799, 'warmup_momentum': 0.95, 'box': 4.35499, 'cls': 0.34805, 'dfl': 2.17534, 'hsv_h': 0.00802, 'hsv_s': 0.79947, 'hsv_v': 0.3433, 'degrees': 0.0, 'translate': 0.13601, 'scale': 0.35296, 'shear': 0.0, 'perspective': 0.0, 'flipud': 0.0, 'fliplr': 0.35806, 'bgr': 0.0, 'mosaic': 0.85451, 'mixup': 0.0, 'copy_paste': 0.0}\n",
      "WARNING  training failure for hyperparameter tuning iteration 50\n",
      "Command 'yolo train task=detect mode=train model=yolov8s.yaml data=G:\\Drone Detection\\untitled\\DRONES_NEW-4/data.yaml epochs=3 time=None patience=100 batch=16 imgsz=640 save=True save_period=-1 cache=False device=None workers=8 project=None name=None exist_ok=False pretrained=True optimizer=auto verbose=True seed=0 deterministic=True single_cls=False rect=False cos_lr=False close_mosaic=10 resume=False amp=True fraction=1.0 profile=False freeze=None multi_scale=False overlap_mask=True mask_ratio=4 dropout=0.0 val=True split=val save_json=False save_hybrid=False conf=None iou=0.7 max_det=300 half=False dnn=False plots=True source=None vid_stride=1 stream_buffer=False visualize=False augment=False agnostic_nms=False classes=None retina_masks=False embed=None show=False save_frames=False save_txt=False save_conf=False save_crop=False show_labels=True show_conf=True show_boxes=True line_width=None format=torchscript keras=False optimize=False int8=False dynamic=False simplify=True opset=None workspace=None nms=False lr0=0.01342 lrf=0.00747 momentum=0.95914 weight_decay=0.00063 warmup_epochs=2.56799 warmup_momentum=0.95 warmup_bias_lr=0.1 box=4.35499 cls=0.34805 dfl=2.17534 pose=12.0 kobj=1.0 nbs=64 hsv_h=0.00802 hsv_s=0.79947 hsv_v=0.3433 degrees=0.0 translate=0.13601 scale=0.35296 shear=0.0 perspective=0.0 flipud=0.0 fliplr=0.35806 bgr=0.0 mosaic=0.85451 mixup=0.0 copy_paste=0.0 copy_paste_mode=flip auto_augment=randaugment erasing=0.4 crop_fraction=1.0 cfg=None tracker=botsort.yaml' returned non-zero exit status 1.\n",
      "Saved runs\\detect\\tune4\\tune_scatter_plots.png\n",
      "Saved runs\\detect\\tune4\\tune_fitness.png\n",
      "\n",
      "\u001B[34m\u001B[1mTuner: \u001B[0m50/50 iterations complete  (208.49s)\n",
      "\u001B[34m\u001B[1mTuner: \u001B[0mResults saved to \u001B[1mruns\\detect\\tune4\u001B[0m\n",
      "\u001B[34m\u001B[1mTuner: \u001B[0mBest fitness=0.0 observed at iteration 1\n",
      "\u001B[34m\u001B[1mTuner: \u001B[0mBest fitness metrics are {}\n",
      "\u001B[34m\u001B[1mTuner: \u001B[0mBest fitness model is runs\\detect\\train71\n",
      "\u001B[34m\u001B[1mTuner: \u001B[0mBest fitness hyperparameters are printed below.\n",
      "\n",
      "Printing '\u001B[1m\u001B[30mruns\\detect\\tune4\\best_hyperparameters.yaml\u001B[0m'\n",
      "\n",
      "lr0: 0.01\n",
      "lrf: 0.01\n",
      "momentum: 0.937\n",
      "weight_decay: 0.0005\n",
      "warmup_epochs: 3.0\n",
      "warmup_momentum: 0.8\n",
      "box: 7.5\n",
      "cls: 0.5\n",
      "dfl: 1.5\n",
      "hsv_h: 0.015\n",
      "hsv_s: 0.7\n",
      "hsv_v: 0.4\n",
      "degrees: 0.0\n",
      "translate: 0.1\n",
      "scale: 0.5\n",
      "shear: 0.0\n",
      "perspective: 0.0\n",
      "flipud: 0.0\n",
      "fliplr: 0.5\n",
      "bgr: 0.0\n",
      "mosaic: 1.0\n",
      "mixup: 0.0\n",
      "copy_paste: 0.0\n"
     ]
    }
   ],
   "source": [
    "model.tune(\n",
    "    data=f\"{DATASET_PATH}/data.yaml\",\n",
    "    epochs=3,  # Keep it low for tuning  \n",
    "    iterations=50  # Increase for better results\n",
    ")\n"
   ],
   "metadata": {
    "collapsed": false,
    "ExecuteTime": {
     "end_time": "2025-02-16T13:06:58.141494Z",
     "start_time": "2025-02-16T13:03:29.625471Z"
    }
   },
   "id": "274ed866657e266",
   "execution_count": 15
  },
  {
   "cell_type": "code",
   "outputs": [
    {
     "name": "stdout",
     "output_type": "stream",
     "text": [
      "Downloading https://github.com/ultralytics/assets/releases/download/v8.3.0/yolov8s.pt to 'yolov8s.pt'...\n"
     ]
    },
    {
     "name": "stderr",
     "output_type": "stream",
     "text": [
      "100%|██████████| 21.5M/21.5M [00:02<00:00, 8.70MB/s]\n"
     ]
    },
    {
     "name": "stdout",
     "output_type": "stream",
     "text": [
      "Ultralytics 8.3.75  Python-3.8.18 torch-2.2.1 CUDA:0 (NVIDIA GeForce RTX 3060, 12288MiB)\n",
      "\u001B[34m\u001B[1mengine\\trainer: \u001B[0mtask=detect, mode=train, model=yolov8s.pt, data=G:\\Drone Detection\\untitled\\DRONES_NEW-4/data.yaml, epochs=3, time=None, patience=100, batch=16, imgsz=640, save=True, save_period=-1, cache=False, device=None, workers=8, project=None, name=train71, exist_ok=False, pretrained=True, optimizer=auto, verbose=True, seed=0, deterministic=True, single_cls=False, rect=False, cos_lr=False, close_mosaic=10, resume=False, amp=True, fraction=1.0, profile=False, freeze=None, multi_scale=False, overlap_mask=True, mask_ratio=4, dropout=0.0, val=True, split=val, save_json=False, save_hybrid=False, conf=None, iou=0.7, max_det=300, half=False, dnn=False, plots=True, source=None, vid_stride=1, stream_buffer=False, visualize=False, augment=False, agnostic_nms=False, classes=None, retina_masks=False, embed=None, show=False, save_frames=False, save_txt=False, save_conf=False, save_crop=False, show_labels=True, show_conf=True, show_boxes=True, line_width=None, format=torchscript, keras=False, optimize=False, int8=False, dynamic=False, simplify=True, opset=None, workspace=None, nms=False, lr0=0.01, lrf=0.01, momentum=0.937, weight_decay=0.0005, warmup_epochs=3.0, warmup_momentum=0.8, warmup_bias_lr=0.1, box=7.5, cls=0.5, dfl=1.5, pose=12.0, kobj=1.0, nbs=64, hsv_h=0.015, hsv_s=0.7, hsv_v=0.4, degrees=0.0, translate=0.1, scale=0.5, shear=0.0, perspective=0.0, flipud=0.0, fliplr=0.5, bgr=0.0, mosaic=1.0, mixup=0.0, copy_paste=0.0, copy_paste_mode=flip, auto_augment=randaugment, erasing=0.4, crop_fraction=1.0, cfg=None, tracker=botsort.yaml, save_dir=runs\\detect\\train71\n",
      "Downloading https://ultralytics.com/assets/Arial.ttf to 'C:\\Users\\USER\\AppData\\Roaming\\Ultralytics\\Arial.ttf'...\n"
     ]
    },
    {
     "name": "stderr",
     "output_type": "stream",
     "text": [
      "100%|██████████| 755k/755k [00:00<00:00, 2.43MB/s]\n"
     ]
    },
    {
     "name": "stdout",
     "output_type": "stream",
     "text": [
      "Overriding model.yaml nc=80 with nc=1\n",
      "\n",
      "                   from  n    params  module                                       arguments                     \n",
      "  0                  -1  1       928  ultralytics.nn.modules.conv.Conv             [3, 32, 3, 2]                 \n",
      "  1                  -1  1     18560  ultralytics.nn.modules.conv.Conv             [32, 64, 3, 2]                \n",
      "  2                  -1  1     29056  ultralytics.nn.modules.block.C2f             [64, 64, 1, True]             \n",
      "  3                  -1  1     73984  ultralytics.nn.modules.conv.Conv             [64, 128, 3, 2]               \n",
      "  4                  -1  2    197632  ultralytics.nn.modules.block.C2f             [128, 128, 2, True]           \n",
      "  5                  -1  1    295424  ultralytics.nn.modules.conv.Conv             [128, 256, 3, 2]              \n",
      "  6                  -1  2    788480  ultralytics.nn.modules.block.C2f             [256, 256, 2, True]           \n",
      "  7                  -1  1   1180672  ultralytics.nn.modules.conv.Conv             [256, 512, 3, 2]              \n",
      "  8                  -1  1   1838080  ultralytics.nn.modules.block.C2f             [512, 512, 1, True]           \n",
      "  9                  -1  1    656896  ultralytics.nn.modules.block.SPPF            [512, 512, 5]                 \n",
      " 10                  -1  1         0  torch.nn.modules.upsampling.Upsample         [None, 2, 'nearest']          \n",
      " 11             [-1, 6]  1         0  ultralytics.nn.modules.conv.Concat           [1]                           \n",
      " 12                  -1  1    591360  ultralytics.nn.modules.block.C2f             [768, 256, 1]                 \n",
      " 13                  -1  1         0  torch.nn.modules.upsampling.Upsample         [None, 2, 'nearest']          \n",
      " 14             [-1, 4]  1         0  ultralytics.nn.modules.conv.Concat           [1]                           \n",
      " 15                  -1  1    148224  ultralytics.nn.modules.block.C2f             [384, 128, 1]                 \n",
      " 16                  -1  1    147712  ultralytics.nn.modules.conv.Conv             [128, 128, 3, 2]              \n",
      " 17            [-1, 12]  1         0  ultralytics.nn.modules.conv.Concat           [1]                           \n",
      " 18                  -1  1    493056  ultralytics.nn.modules.block.C2f             [384, 256, 1]                 \n",
      " 19                  -1  1    590336  ultralytics.nn.modules.conv.Conv             [256, 256, 3, 2]              \n",
      " 20             [-1, 9]  1         0  ultralytics.nn.modules.conv.Concat           [1]                           \n",
      " 21                  -1  1   1969152  ultralytics.nn.modules.block.C2f             [768, 512, 1]                 \n",
      " 22        [15, 18, 21]  1   2116435  ultralytics.nn.modules.head.Detect           [1, [128, 256, 512]]          \n",
      "Model summary: 225 layers, 11,135,987 parameters, 11,135,971 gradients, 28.6 GFLOPs\n",
      "\n",
      "Transferred 349/355 items from pretrained weights\n",
      "\u001B[34m\u001B[1mTensorBoard: \u001B[0mStart with 'tensorboard --logdir runs\\detect\\train71', view at http://localhost:6006/\n",
      "Freezing layer 'model.22.dfl.conv.weight'\n",
      "\u001B[34m\u001B[1mAMP: \u001B[0mrunning Automatic Mixed Precision (AMP) checks...\n",
      "Downloading https://github.com/ultralytics/assets/releases/download/v8.3.0/yolo11n.pt to 'yolo11n.pt'...\n"
     ]
    },
    {
     "name": "stderr",
     "output_type": "stream",
     "text": [
      "100%|██████████| 5.35M/5.35M [00:00<00:00, 6.53MB/s]\n"
     ]
    },
    {
     "name": "stdout",
     "output_type": "stream",
     "text": [
      "\u001B[34m\u001B[1mAMP: \u001B[0mchecks passed \n"
     ]
    },
    {
     "name": "stderr",
     "output_type": "stream",
     "text": [
      "\u001B[34m\u001B[1mtrain: \u001B[0mScanning G:\\Drone Detection\\untitled\\DRONES_NEW-4\\train\\labels... 20256 images, 189 backgrounds, 0 corrupt: 100%|██████████| 20256/20256 [00:32<00:00, 622.85it/s] "
     ]
    },
    {
     "name": "stdout",
     "output_type": "stream",
     "text": [
      "\u001B[34m\u001B[1mtrain: \u001B[0mWARNING  G:\\Drone Detection\\untitled\\DRONES_NEW-4\\train\\images\\pic_518_jpg.rf.7eb643482bea3c7d07ef3c81e96bdbf4.jpg: 1 duplicate labels removed\n",
      "\u001B[34m\u001B[1mtrain: \u001B[0mWARNING  G:\\Drone Detection\\untitled\\DRONES_NEW-4\\train\\images\\pic_518_jpg.rf.bfc8f0a655bf1592347e2d5f5b7d5564.jpg: 1 duplicate labels removed\n",
      "\u001B[34m\u001B[1mtrain: \u001B[0mWARNING  G:\\Drone Detection\\untitled\\DRONES_NEW-4\\train\\images\\pic_518_jpg.rf.cad8f4dc2f20c1d2691ac67c22536de2.jpg: 1 duplicate labels removed\n"
     ]
    },
    {
     "name": "stderr",
     "output_type": "stream",
     "text": [
      "\n"
     ]
    },
    {
     "name": "stdout",
     "output_type": "stream",
     "text": [
      "\u001B[34m\u001B[1mtrain: \u001B[0mNew cache created: G:\\Drone Detection\\untitled\\DRONES_NEW-4\\train\\labels.cache\n"
     ]
    },
    {
     "name": "stderr",
     "output_type": "stream",
     "text": [
      "\u001B[34m\u001B[1mval: \u001B[0mScanning G:\\Drone Detection\\untitled\\DRONES_NEW-4\\valid\\labels... 1679 images, 3 backgrounds, 0 corrupt: 100%|██████████| 1679/1679 [00:06<00:00, 261.56it/s]\n"
     ]
    },
    {
     "name": "stdout",
     "output_type": "stream",
     "text": [
      "\u001B[34m\u001B[1mval: \u001B[0mNew cache created: G:\\Drone Detection\\untitled\\DRONES_NEW-4\\valid\\labels.cache\n",
      "Plotting labels to runs\\detect\\train71\\labels.jpg... \n",
      "\u001B[34m\u001B[1moptimizer:\u001B[0m 'optimizer=auto' found, ignoring 'lr0=0.01' and 'momentum=0.937' and determining best 'optimizer', 'lr0' and 'momentum' automatically... \n",
      "\u001B[34m\u001B[1moptimizer:\u001B[0m AdamW(lr=0.002, momentum=0.9) with parameter groups 57 weight(decay=0.0), 64 weight(decay=0.0005), 63 bias(decay=0.0)\n",
      "\u001B[34m\u001B[1mTensorBoard: \u001B[0mmodel graph visualization added \n",
      "Image sizes 640 train, 640 val\n",
      "Using 8 dataloader workers\n",
      "Logging results to \u001B[1mruns\\detect\\train71\u001B[0m\n",
      "Starting training for 3 epochs...\n",
      "\n",
      "      Epoch    GPU_mem   box_loss   cls_loss   dfl_loss  Instances       Size\n"
     ]
    },
    {
     "name": "stderr",
     "output_type": "stream",
     "text": [
      "        1/3      4.25G      1.629      1.593      1.561         35        640: 100%|██████████| 1266/1266 [04:50<00:00,  4.36it/s]\n",
      "                 Class     Images  Instances      Box(P          R      mAP50  mAP50-95):  85%|████████▍ | 45/53 [00:10<00:01,  4.31it/s]\n"
     ]
    },
    {
     "ename": "RuntimeError",
     "evalue": "Caught RuntimeError in pin memory thread for device 0.\nOriginal Traceback (most recent call last):\n  File \"C:\\Users\\USER\\anaconda3\\envs\\cv_cuda\\lib\\site-packages\\torch\\utils\\data\\_utils\\pin_memory.py\", line 36, in do_one_step\n    data = pin_memory(data, device)\n  File \"C:\\Users\\USER\\anaconda3\\envs\\cv_cuda\\lib\\site-packages\\torch\\utils\\data\\_utils\\pin_memory.py\", line 62, in pin_memory\n    return type(data)({k: pin_memory(sample, device) for k, sample in data.items()})  # type: ignore[call-arg]\n  File \"C:\\Users\\USER\\anaconda3\\envs\\cv_cuda\\lib\\site-packages\\torch\\utils\\data\\_utils\\pin_memory.py\", line 62, in <dictcomp>\n    return type(data)({k: pin_memory(sample, device) for k, sample in data.items()})  # type: ignore[call-arg]\n  File \"C:\\Users\\USER\\anaconda3\\envs\\cv_cuda\\lib\\site-packages\\torch\\utils\\data\\_utils\\pin_memory.py\", line 57, in pin_memory\n    return data.pin_memory(device)\nRuntimeError: CUDA error: out of memory\nCUDA kernel errors might be asynchronously reported at some other API call, so the stacktrace below might be incorrect.\nFor debugging consider passing CUDA_LAUNCH_BLOCKING=1.\nCompile with `TORCH_USE_CUDA_DSA` to enable device-side assertions.\n\n",
     "output_type": "error",
     "traceback": [
      "\u001B[1;31m---------------------------------------------------------------------------\u001B[0m",
      "\u001B[1;31mRuntimeError\u001B[0m                              Traceback (most recent call last)",
      "Cell \u001B[1;32mIn[16], line 2\u001B[0m\n\u001B[0;32m      1\u001B[0m \u001B[38;5;28;01mfrom\u001B[39;00m \u001B[38;5;21;01multralytics\u001B[39;00m \u001B[38;5;28;01mimport\u001B[39;00m YOLO\n\u001B[1;32m----> 2\u001B[0m \u001B[43mYOLO\u001B[49m\u001B[43m(\u001B[49m\u001B[38;5;124;43m\"\u001B[39;49m\u001B[38;5;124;43myolov8s.pt\u001B[39;49m\u001B[38;5;124;43m\"\u001B[39;49m\u001B[43m)\u001B[49m\u001B[38;5;241;43m.\u001B[39;49m\u001B[43mtrain\u001B[49m\u001B[43m(\u001B[49m\u001B[43mdata\u001B[49m\u001B[38;5;241;43m=\u001B[39;49m\u001B[38;5;124;43mf\u001B[39;49m\u001B[38;5;124;43m\"\u001B[39;49m\u001B[38;5;132;43;01m{\u001B[39;49;00m\u001B[43mDATASET_PATH\u001B[49m\u001B[38;5;132;43;01m}\u001B[39;49;00m\u001B[38;5;124;43m/data.yaml\u001B[39;49m\u001B[38;5;124;43m\"\u001B[39;49m\u001B[43m,\u001B[49m\u001B[43m \u001B[49m\u001B[43mepochs\u001B[49m\u001B[38;5;241;43m=\u001B[39;49m\u001B[38;5;241;43m3\u001B[39;49m\u001B[43m,\u001B[49m\u001B[43m \u001B[49m\u001B[43mplots\u001B[49m\u001B[38;5;241;43m=\u001B[39;49m\u001B[38;5;28;43;01mTrue\u001B[39;49;00m\u001B[43m)\u001B[49m\n",
      "File \u001B[1;32m~\\anaconda3\\envs\\cv_cuda\\lib\\site-packages\\ultralytics\\engine\\model.py:809\u001B[0m, in \u001B[0;36mModel.train\u001B[1;34m(self, trainer, **kwargs)\u001B[0m\n\u001B[0;32m    806\u001B[0m     \u001B[38;5;28mself\u001B[39m\u001B[38;5;241m.\u001B[39mmodel \u001B[38;5;241m=\u001B[39m \u001B[38;5;28mself\u001B[39m\u001B[38;5;241m.\u001B[39mtrainer\u001B[38;5;241m.\u001B[39mmodel\n\u001B[0;32m    808\u001B[0m \u001B[38;5;28mself\u001B[39m\u001B[38;5;241m.\u001B[39mtrainer\u001B[38;5;241m.\u001B[39mhub_session \u001B[38;5;241m=\u001B[39m \u001B[38;5;28mself\u001B[39m\u001B[38;5;241m.\u001B[39msession  \u001B[38;5;66;03m# attach optional HUB session\u001B[39;00m\n\u001B[1;32m--> 809\u001B[0m \u001B[38;5;28;43mself\u001B[39;49m\u001B[38;5;241;43m.\u001B[39;49m\u001B[43mtrainer\u001B[49m\u001B[38;5;241;43m.\u001B[39;49m\u001B[43mtrain\u001B[49m\u001B[43m(\u001B[49m\u001B[43m)\u001B[49m\n\u001B[0;32m    810\u001B[0m \u001B[38;5;66;03m# Update model and cfg after training\u001B[39;00m\n\u001B[0;32m    811\u001B[0m \u001B[38;5;28;01mif\u001B[39;00m RANK \u001B[38;5;129;01min\u001B[39;00m {\u001B[38;5;241m-\u001B[39m\u001B[38;5;241m1\u001B[39m, \u001B[38;5;241m0\u001B[39m}:\n",
      "File \u001B[1;32m~\\anaconda3\\envs\\cv_cuda\\lib\\site-packages\\ultralytics\\engine\\trainer.py:208\u001B[0m, in \u001B[0;36mBaseTrainer.train\u001B[1;34m(self)\u001B[0m\n\u001B[0;32m    205\u001B[0m         ddp_cleanup(\u001B[38;5;28mself\u001B[39m, \u001B[38;5;28mstr\u001B[39m(file))\n\u001B[0;32m    207\u001B[0m \u001B[38;5;28;01melse\u001B[39;00m:\n\u001B[1;32m--> 208\u001B[0m     \u001B[38;5;28;43mself\u001B[39;49m\u001B[38;5;241;43m.\u001B[39;49m\u001B[43m_do_train\u001B[49m\u001B[43m(\u001B[49m\u001B[43mworld_size\u001B[49m\u001B[43m)\u001B[49m\n",
      "File \u001B[1;32m~\\anaconda3\\envs\\cv_cuda\\lib\\site-packages\\ultralytics\\engine\\trainer.py:433\u001B[0m, in \u001B[0;36mBaseTrainer._do_train\u001B[1;34m(self, world_size)\u001B[0m\n\u001B[0;32m    431\u001B[0m \u001B[38;5;66;03m# Validation\u001B[39;00m\n\u001B[0;32m    432\u001B[0m \u001B[38;5;28;01mif\u001B[39;00m \u001B[38;5;28mself\u001B[39m\u001B[38;5;241m.\u001B[39margs\u001B[38;5;241m.\u001B[39mval \u001B[38;5;129;01mor\u001B[39;00m final_epoch \u001B[38;5;129;01mor\u001B[39;00m \u001B[38;5;28mself\u001B[39m\u001B[38;5;241m.\u001B[39mstopper\u001B[38;5;241m.\u001B[39mpossible_stop \u001B[38;5;129;01mor\u001B[39;00m \u001B[38;5;28mself\u001B[39m\u001B[38;5;241m.\u001B[39mstop:\n\u001B[1;32m--> 433\u001B[0m     \u001B[38;5;28mself\u001B[39m\u001B[38;5;241m.\u001B[39mmetrics, \u001B[38;5;28mself\u001B[39m\u001B[38;5;241m.\u001B[39mfitness \u001B[38;5;241m=\u001B[39m \u001B[38;5;28;43mself\u001B[39;49m\u001B[38;5;241;43m.\u001B[39;49m\u001B[43mvalidate\u001B[49m\u001B[43m(\u001B[49m\u001B[43m)\u001B[49m\n\u001B[0;32m    434\u001B[0m \u001B[38;5;28mself\u001B[39m\u001B[38;5;241m.\u001B[39msave_metrics(metrics\u001B[38;5;241m=\u001B[39m{\u001B[38;5;241m*\u001B[39m\u001B[38;5;241m*\u001B[39m\u001B[38;5;28mself\u001B[39m\u001B[38;5;241m.\u001B[39mlabel_loss_items(\u001B[38;5;28mself\u001B[39m\u001B[38;5;241m.\u001B[39mtloss), \u001B[38;5;241m*\u001B[39m\u001B[38;5;241m*\u001B[39m\u001B[38;5;28mself\u001B[39m\u001B[38;5;241m.\u001B[39mmetrics, \u001B[38;5;241m*\u001B[39m\u001B[38;5;241m*\u001B[39m\u001B[38;5;28mself\u001B[39m\u001B[38;5;241m.\u001B[39mlr})\n\u001B[0;32m    435\u001B[0m \u001B[38;5;28mself\u001B[39m\u001B[38;5;241m.\u001B[39mstop \u001B[38;5;241m|\u001B[39m\u001B[38;5;241m=\u001B[39m \u001B[38;5;28mself\u001B[39m\u001B[38;5;241m.\u001B[39mstopper(epoch \u001B[38;5;241m+\u001B[39m \u001B[38;5;241m1\u001B[39m, \u001B[38;5;28mself\u001B[39m\u001B[38;5;241m.\u001B[39mfitness) \u001B[38;5;129;01mor\u001B[39;00m final_epoch\n",
      "File \u001B[1;32m~\\anaconda3\\envs\\cv_cuda\\lib\\site-packages\\ultralytics\\engine\\trainer.py:607\u001B[0m, in \u001B[0;36mBaseTrainer.validate\u001B[1;34m(self)\u001B[0m\n\u001B[0;32m    601\u001B[0m \u001B[38;5;28;01mdef\u001B[39;00m \u001B[38;5;21mvalidate\u001B[39m(\u001B[38;5;28mself\u001B[39m):\n\u001B[0;32m    602\u001B[0m \u001B[38;5;250m    \u001B[39m\u001B[38;5;124;03m\"\"\"\u001B[39;00m\n\u001B[0;32m    603\u001B[0m \u001B[38;5;124;03m    Runs validation on test set using self.validator.\u001B[39;00m\n\u001B[0;32m    604\u001B[0m \n\u001B[0;32m    605\u001B[0m \u001B[38;5;124;03m    The returned dict is expected to contain \"fitness\" key.\u001B[39;00m\n\u001B[0;32m    606\u001B[0m \u001B[38;5;124;03m    \"\"\"\u001B[39;00m\n\u001B[1;32m--> 607\u001B[0m     metrics \u001B[38;5;241m=\u001B[39m \u001B[38;5;28;43mself\u001B[39;49m\u001B[38;5;241;43m.\u001B[39;49m\u001B[43mvalidator\u001B[49m\u001B[43m(\u001B[49m\u001B[38;5;28;43mself\u001B[39;49m\u001B[43m)\u001B[49m\n\u001B[0;32m    608\u001B[0m     fitness \u001B[38;5;241m=\u001B[39m metrics\u001B[38;5;241m.\u001B[39mpop(\u001B[38;5;124m\"\u001B[39m\u001B[38;5;124mfitness\u001B[39m\u001B[38;5;124m\"\u001B[39m, \u001B[38;5;241m-\u001B[39m\u001B[38;5;28mself\u001B[39m\u001B[38;5;241m.\u001B[39mloss\u001B[38;5;241m.\u001B[39mdetach()\u001B[38;5;241m.\u001B[39mcpu()\u001B[38;5;241m.\u001B[39mnumpy())  \u001B[38;5;66;03m# use loss as fitness measure if not found\u001B[39;00m\n\u001B[0;32m    609\u001B[0m     \u001B[38;5;28;01mif\u001B[39;00m \u001B[38;5;129;01mnot\u001B[39;00m \u001B[38;5;28mself\u001B[39m\u001B[38;5;241m.\u001B[39mbest_fitness \u001B[38;5;129;01mor\u001B[39;00m \u001B[38;5;28mself\u001B[39m\u001B[38;5;241m.\u001B[39mbest_fitness \u001B[38;5;241m<\u001B[39m fitness:\n",
      "File \u001B[1;32m~\\anaconda3\\envs\\cv_cuda\\lib\\site-packages\\torch\\utils\\_contextlib.py:115\u001B[0m, in \u001B[0;36mcontext_decorator.<locals>.decorate_context\u001B[1;34m(*args, **kwargs)\u001B[0m\n\u001B[0;32m    112\u001B[0m \u001B[38;5;129m@functools\u001B[39m\u001B[38;5;241m.\u001B[39mwraps(func)\n\u001B[0;32m    113\u001B[0m \u001B[38;5;28;01mdef\u001B[39;00m \u001B[38;5;21mdecorate_context\u001B[39m(\u001B[38;5;241m*\u001B[39margs, \u001B[38;5;241m*\u001B[39m\u001B[38;5;241m*\u001B[39mkwargs):\n\u001B[0;32m    114\u001B[0m     \u001B[38;5;28;01mwith\u001B[39;00m ctx_factory():\n\u001B[1;32m--> 115\u001B[0m         \u001B[38;5;28;01mreturn\u001B[39;00m \u001B[43mfunc\u001B[49m\u001B[43m(\u001B[49m\u001B[38;5;241;43m*\u001B[39;49m\u001B[43margs\u001B[49m\u001B[43m,\u001B[49m\u001B[43m \u001B[49m\u001B[38;5;241;43m*\u001B[39;49m\u001B[38;5;241;43m*\u001B[39;49m\u001B[43mkwargs\u001B[49m\u001B[43m)\u001B[49m\n",
      "File \u001B[1;32m~\\anaconda3\\envs\\cv_cuda\\lib\\site-packages\\ultralytics\\engine\\validator.py:173\u001B[0m, in \u001B[0;36mBaseValidator.__call__\u001B[1;34m(self, trainer, model)\u001B[0m\n\u001B[0;32m    171\u001B[0m \u001B[38;5;28mself\u001B[39m\u001B[38;5;241m.\u001B[39minit_metrics(de_parallel(model))\n\u001B[0;32m    172\u001B[0m \u001B[38;5;28mself\u001B[39m\u001B[38;5;241m.\u001B[39mjdict \u001B[38;5;241m=\u001B[39m []  \u001B[38;5;66;03m# empty before each val\u001B[39;00m\n\u001B[1;32m--> 173\u001B[0m \u001B[38;5;28;01mfor\u001B[39;00m batch_i, batch \u001B[38;5;129;01min\u001B[39;00m \u001B[38;5;28menumerate\u001B[39m(bar):\n\u001B[0;32m    174\u001B[0m     \u001B[38;5;28mself\u001B[39m\u001B[38;5;241m.\u001B[39mrun_callbacks(\u001B[38;5;124m\"\u001B[39m\u001B[38;5;124mon_val_batch_start\u001B[39m\u001B[38;5;124m\"\u001B[39m)\n\u001B[0;32m    175\u001B[0m     \u001B[38;5;28mself\u001B[39m\u001B[38;5;241m.\u001B[39mbatch_i \u001B[38;5;241m=\u001B[39m batch_i\n",
      "File \u001B[1;32m~\\anaconda3\\envs\\cv_cuda\\lib\\site-packages\\tqdm\\std.py:1181\u001B[0m, in \u001B[0;36mtqdm.__iter__\u001B[1;34m(self)\u001B[0m\n\u001B[0;32m   1178\u001B[0m time \u001B[38;5;241m=\u001B[39m \u001B[38;5;28mself\u001B[39m\u001B[38;5;241m.\u001B[39m_time\n\u001B[0;32m   1180\u001B[0m \u001B[38;5;28;01mtry\u001B[39;00m:\n\u001B[1;32m-> 1181\u001B[0m     \u001B[38;5;28;01mfor\u001B[39;00m obj \u001B[38;5;129;01min\u001B[39;00m iterable:\n\u001B[0;32m   1182\u001B[0m         \u001B[38;5;28;01myield\u001B[39;00m obj\n\u001B[0;32m   1183\u001B[0m         \u001B[38;5;66;03m# Update and possibly print the progressbar.\u001B[39;00m\n\u001B[0;32m   1184\u001B[0m         \u001B[38;5;66;03m# Note: does not call self.update(1) for speed optimisation.\u001B[39;00m\n",
      "File \u001B[1;32m~\\anaconda3\\envs\\cv_cuda\\lib\\site-packages\\ultralytics\\data\\build.py:48\u001B[0m, in \u001B[0;36mInfiniteDataLoader.__iter__\u001B[1;34m(self)\u001B[0m\n\u001B[0;32m     46\u001B[0m \u001B[38;5;250m\u001B[39m\u001B[38;5;124;03m\"\"\"Creates a sampler that repeats indefinitely.\"\"\"\u001B[39;00m\n\u001B[0;32m     47\u001B[0m \u001B[38;5;28;01mfor\u001B[39;00m _ \u001B[38;5;129;01min\u001B[39;00m \u001B[38;5;28mrange\u001B[39m(\u001B[38;5;28mlen\u001B[39m(\u001B[38;5;28mself\u001B[39m)):\n\u001B[1;32m---> 48\u001B[0m     \u001B[38;5;28;01myield\u001B[39;00m \u001B[38;5;28;43mnext\u001B[39;49m\u001B[43m(\u001B[49m\u001B[38;5;28;43mself\u001B[39;49m\u001B[38;5;241;43m.\u001B[39;49m\u001B[43miterator\u001B[49m\u001B[43m)\u001B[49m\n",
      "File \u001B[1;32m~\\anaconda3\\envs\\cv_cuda\\lib\\site-packages\\torch\\utils\\data\\dataloader.py:631\u001B[0m, in \u001B[0;36m_BaseDataLoaderIter.__next__\u001B[1;34m(self)\u001B[0m\n\u001B[0;32m    628\u001B[0m \u001B[38;5;28;01mif\u001B[39;00m \u001B[38;5;28mself\u001B[39m\u001B[38;5;241m.\u001B[39m_sampler_iter \u001B[38;5;129;01mis\u001B[39;00m \u001B[38;5;28;01mNone\u001B[39;00m:\n\u001B[0;32m    629\u001B[0m     \u001B[38;5;66;03m# TODO(https://github.com/pytorch/pytorch/issues/76750)\u001B[39;00m\n\u001B[0;32m    630\u001B[0m     \u001B[38;5;28mself\u001B[39m\u001B[38;5;241m.\u001B[39m_reset()  \u001B[38;5;66;03m# type: ignore[call-arg]\u001B[39;00m\n\u001B[1;32m--> 631\u001B[0m data \u001B[38;5;241m=\u001B[39m \u001B[38;5;28;43mself\u001B[39;49m\u001B[38;5;241;43m.\u001B[39;49m\u001B[43m_next_data\u001B[49m\u001B[43m(\u001B[49m\u001B[43m)\u001B[49m\n\u001B[0;32m    632\u001B[0m \u001B[38;5;28mself\u001B[39m\u001B[38;5;241m.\u001B[39m_num_yielded \u001B[38;5;241m+\u001B[39m\u001B[38;5;241m=\u001B[39m \u001B[38;5;241m1\u001B[39m\n\u001B[0;32m    633\u001B[0m \u001B[38;5;28;01mif\u001B[39;00m \u001B[38;5;28mself\u001B[39m\u001B[38;5;241m.\u001B[39m_dataset_kind \u001B[38;5;241m==\u001B[39m _DatasetKind\u001B[38;5;241m.\u001B[39mIterable \u001B[38;5;129;01mand\u001B[39;00m \\\n\u001B[0;32m    634\u001B[0m         \u001B[38;5;28mself\u001B[39m\u001B[38;5;241m.\u001B[39m_IterableDataset_len_called \u001B[38;5;129;01mis\u001B[39;00m \u001B[38;5;129;01mnot\u001B[39;00m \u001B[38;5;28;01mNone\u001B[39;00m \u001B[38;5;129;01mand\u001B[39;00m \\\n\u001B[0;32m    635\u001B[0m         \u001B[38;5;28mself\u001B[39m\u001B[38;5;241m.\u001B[39m_num_yielded \u001B[38;5;241m>\u001B[39m \u001B[38;5;28mself\u001B[39m\u001B[38;5;241m.\u001B[39m_IterableDataset_len_called:\n",
      "File \u001B[1;32m~\\anaconda3\\envs\\cv_cuda\\lib\\site-packages\\torch\\utils\\data\\dataloader.py:1346\u001B[0m, in \u001B[0;36m_MultiProcessingDataLoaderIter._next_data\u001B[1;34m(self)\u001B[0m\n\u001B[0;32m   1344\u001B[0m \u001B[38;5;28;01melse\u001B[39;00m:\n\u001B[0;32m   1345\u001B[0m     \u001B[38;5;28;01mdel\u001B[39;00m \u001B[38;5;28mself\u001B[39m\u001B[38;5;241m.\u001B[39m_task_info[idx]\n\u001B[1;32m-> 1346\u001B[0m     \u001B[38;5;28;01mreturn\u001B[39;00m \u001B[38;5;28;43mself\u001B[39;49m\u001B[38;5;241;43m.\u001B[39;49m\u001B[43m_process_data\u001B[49m\u001B[43m(\u001B[49m\u001B[43mdata\u001B[49m\u001B[43m)\u001B[49m\n",
      "File \u001B[1;32m~\\anaconda3\\envs\\cv_cuda\\lib\\site-packages\\torch\\utils\\data\\dataloader.py:1372\u001B[0m, in \u001B[0;36m_MultiProcessingDataLoaderIter._process_data\u001B[1;34m(self, data)\u001B[0m\n\u001B[0;32m   1370\u001B[0m \u001B[38;5;28mself\u001B[39m\u001B[38;5;241m.\u001B[39m_try_put_index()\n\u001B[0;32m   1371\u001B[0m \u001B[38;5;28;01mif\u001B[39;00m \u001B[38;5;28misinstance\u001B[39m(data, ExceptionWrapper):\n\u001B[1;32m-> 1372\u001B[0m     \u001B[43mdata\u001B[49m\u001B[38;5;241;43m.\u001B[39;49m\u001B[43mreraise\u001B[49m\u001B[43m(\u001B[49m\u001B[43m)\u001B[49m\n\u001B[0;32m   1373\u001B[0m \u001B[38;5;28;01mreturn\u001B[39;00m data\n",
      "File \u001B[1;32m~\\anaconda3\\envs\\cv_cuda\\lib\\site-packages\\torch\\_utils.py:722\u001B[0m, in \u001B[0;36mExceptionWrapper.reraise\u001B[1;34m(self)\u001B[0m\n\u001B[0;32m    718\u001B[0m \u001B[38;5;28;01mexcept\u001B[39;00m \u001B[38;5;167;01mTypeError\u001B[39;00m:\n\u001B[0;32m    719\u001B[0m     \u001B[38;5;66;03m# If the exception takes multiple arguments, don't try to\u001B[39;00m\n\u001B[0;32m    720\u001B[0m     \u001B[38;5;66;03m# instantiate since we don't know how to\u001B[39;00m\n\u001B[0;32m    721\u001B[0m     \u001B[38;5;28;01mraise\u001B[39;00m \u001B[38;5;167;01mRuntimeError\u001B[39;00m(msg) \u001B[38;5;28;01mfrom\u001B[39;00m \u001B[38;5;28;01mNone\u001B[39;00m\n\u001B[1;32m--> 722\u001B[0m \u001B[38;5;28;01mraise\u001B[39;00m exception\n",
      "\u001B[1;31mRuntimeError\u001B[0m: Caught RuntimeError in pin memory thread for device 0.\nOriginal Traceback (most recent call last):\n  File \"C:\\Users\\USER\\anaconda3\\envs\\cv_cuda\\lib\\site-packages\\torch\\utils\\data\\_utils\\pin_memory.py\", line 36, in do_one_step\n    data = pin_memory(data, device)\n  File \"C:\\Users\\USER\\anaconda3\\envs\\cv_cuda\\lib\\site-packages\\torch\\utils\\data\\_utils\\pin_memory.py\", line 62, in pin_memory\n    return type(data)({k: pin_memory(sample, device) for k, sample in data.items()})  # type: ignore[call-arg]\n  File \"C:\\Users\\USER\\anaconda3\\envs\\cv_cuda\\lib\\site-packages\\torch\\utils\\data\\_utils\\pin_memory.py\", line 62, in <dictcomp>\n    return type(data)({k: pin_memory(sample, device) for k, sample in data.items()})  # type: ignore[call-arg]\n  File \"C:\\Users\\USER\\anaconda3\\envs\\cv_cuda\\lib\\site-packages\\torch\\utils\\data\\_utils\\pin_memory.py\", line 57, in pin_memory\n    return data.pin_memory(device)\nRuntimeError: CUDA error: out of memory\nCUDA kernel errors might be asynchronously reported at some other API call, so the stacktrace below might be incorrect.\nFor debugging consider passing CUDA_LAUNCH_BLOCKING=1.\nCompile with `TORCH_USE_CUDA_DSA` to enable device-side assertions.\n\n"
     ]
    }
   ],
   "source": [
    "from ultralytics import YOLO\n",
    "YOLO(\"yolov8s.pt\").train(data=f\"{DATASET_PATH}/data.yaml\", epochs=3, plots=True)\n"
   ],
   "metadata": {
    "collapsed": false,
    "ExecuteTime": {
     "end_time": "2025-02-16T13:16:08.056157Z",
     "start_time": "2025-02-16T13:09:08.264863Z"
    }
   },
   "id": "194e81b3a21b82f4",
   "execution_count": 16
  },
  {
   "cell_type": "code",
   "outputs": [
    {
     "name": "stdout",
     "output_type": "stream",
     "text": [
      "Ultralytics 8.3.75  Python-3.8.18 torch-2.2.1 CUDA:0 (NVIDIA GeForce RTX 3060, 12288MiB)\n",
      "\u001B[34m\u001B[1mengine\\trainer: \u001B[0mtask=detect, mode=train, model=yolov8s.yaml, data=G:\\Drone Detection\\untitled\\DRONES_NEW-4/data.yaml, epochs=100, time=None, patience=100, batch=4, imgsz=640, save=True, save_period=-1, cache=False, device=cuda, workers=8, project=None, name=train74, exist_ok=False, pretrained=True, optimizer=auto, verbose=True, seed=0, deterministic=True, single_cls=False, rect=False, cos_lr=False, close_mosaic=10, resume=False, amp=True, fraction=1.0, profile=False, freeze=None, multi_scale=False, overlap_mask=True, mask_ratio=4, dropout=0.0, val=True, split=val, save_json=False, save_hybrid=False, conf=None, iou=0.7, max_det=300, half=True, dnn=False, plots=True, source=None, vid_stride=1, stream_buffer=False, visualize=False, augment=False, agnostic_nms=False, classes=None, retina_masks=False, embed=None, show=False, save_frames=False, save_txt=False, save_conf=False, save_crop=False, show_labels=True, show_conf=True, show_boxes=True, line_width=None, format=torchscript, keras=False, optimize=False, int8=False, dynamic=False, simplify=True, opset=None, workspace=None, nms=False, lr0=0.01, lrf=0.01, momentum=0.937, weight_decay=0.0005, warmup_epochs=3.0, warmup_momentum=0.8, warmup_bias_lr=0.1, box=7.5, cls=0.5, dfl=1.5, pose=12.0, kobj=1.0, nbs=64, hsv_h=0.015, hsv_s=0.7, hsv_v=0.4, degrees=0.0, translate=0.1, scale=0.5, shear=0.0, perspective=0.0, flipud=0.0, fliplr=0.5, bgr=0.0, mosaic=1.0, mixup=0.0, copy_paste=0.0, copy_paste_mode=flip, auto_augment=randaugment, erasing=0.4, crop_fraction=1.0, cfg=None, tracker=botsort.yaml, save_dir=runs\\detect\\train74\n",
      "Overriding model.yaml nc=80 with nc=1\n",
      "\n",
      "                   from  n    params  module                                       arguments                     \n",
      "  0                  -1  1       928  ultralytics.nn.modules.conv.Conv             [3, 32, 3, 2]                 \n",
      "  1                  -1  1     18560  ultralytics.nn.modules.conv.Conv             [32, 64, 3, 2]                \n",
      "  2                  -1  1     29056  ultralytics.nn.modules.block.C2f             [64, 64, 1, True]             \n",
      "  3                  -1  1     73984  ultralytics.nn.modules.conv.Conv             [64, 128, 3, 2]               \n",
      "  4                  -1  2    197632  ultralytics.nn.modules.block.C2f             [128, 128, 2, True]           \n",
      "  5                  -1  1    295424  ultralytics.nn.modules.conv.Conv             [128, 256, 3, 2]              \n",
      "  6                  -1  2    788480  ultralytics.nn.modules.block.C2f             [256, 256, 2, True]           \n",
      "  7                  -1  1   1180672  ultralytics.nn.modules.conv.Conv             [256, 512, 3, 2]              \n",
      "  8                  -1  1   1838080  ultralytics.nn.modules.block.C2f             [512, 512, 1, True]           \n",
      "  9                  -1  1    656896  ultralytics.nn.modules.block.SPPF            [512, 512, 5]                 \n",
      " 10                  -1  1         0  torch.nn.modules.upsampling.Upsample         [None, 2, 'nearest']          \n",
      " 11             [-1, 6]  1         0  ultralytics.nn.modules.conv.Concat           [1]                           \n",
      " 12                  -1  1    591360  ultralytics.nn.modules.block.C2f             [768, 256, 1]                 \n",
      " 13                  -1  1         0  torch.nn.modules.upsampling.Upsample         [None, 2, 'nearest']          \n",
      " 14             [-1, 4]  1         0  ultralytics.nn.modules.conv.Concat           [1]                           \n",
      " 15                  -1  1    148224  ultralytics.nn.modules.block.C2f             [384, 128, 1]                 \n",
      " 16                  -1  1    147712  ultralytics.nn.modules.conv.Conv             [128, 128, 3, 2]              \n",
      " 17            [-1, 12]  1         0  ultralytics.nn.modules.conv.Concat           [1]                           \n",
      " 18                  -1  1    493056  ultralytics.nn.modules.block.C2f             [384, 256, 1]                 \n",
      " 19                  -1  1    590336  ultralytics.nn.modules.conv.Conv             [256, 256, 3, 2]              \n",
      " 20             [-1, 9]  1         0  ultralytics.nn.modules.conv.Concat           [1]                           \n",
      " 21                  -1  1   1969152  ultralytics.nn.modules.block.C2f             [768, 512, 1]                 \n",
      " 22        [15, 18, 21]  1   2116435  ultralytics.nn.modules.head.Detect           [1, [128, 256, 512]]          \n",
      "YOLOv8s summary: 225 layers, 11,135,987 parameters, 11,135,971 gradients, 28.6 GFLOPs\n",
      "\n",
      "\u001B[34m\u001B[1mTensorBoard: \u001B[0mStart with 'tensorboard --logdir runs\\detect\\train74', view at http://localhost:6006/\n",
      "Freezing layer 'model.22.dfl.conv.weight'\n",
      "\u001B[34m\u001B[1mAMP: \u001B[0mrunning Automatic Mixed Precision (AMP) checks...\n",
      "\u001B[34m\u001B[1mAMP: \u001B[0mchecks passed \n"
     ]
    },
    {
     "name": "stderr",
     "output_type": "stream",
     "text": [
      "\u001B[34m\u001B[1mtrain: \u001B[0mScanning G:\\Drone Detection\\untitled\\DRONES_NEW-4\\train\\labels.cache... 20256 images, 189 backgrounds, 0 corrupt: 100%|██████████| 20256/20256 [00:00<?, ?it/s]"
     ]
    },
    {
     "name": "stdout",
     "output_type": "stream",
     "text": [
      "\u001B[34m\u001B[1mtrain: \u001B[0mWARNING  G:\\Drone Detection\\untitled\\DRONES_NEW-4\\train\\images\\pic_518_jpg.rf.7eb643482bea3c7d07ef3c81e96bdbf4.jpg: 1 duplicate labels removed\n",
      "\u001B[34m\u001B[1mtrain: \u001B[0mWARNING  G:\\Drone Detection\\untitled\\DRONES_NEW-4\\train\\images\\pic_518_jpg.rf.bfc8f0a655bf1592347e2d5f5b7d5564.jpg: 1 duplicate labels removed\n",
      "\u001B[34m\u001B[1mtrain: \u001B[0mWARNING  G:\\Drone Detection\\untitled\\DRONES_NEW-4\\train\\images\\pic_518_jpg.rf.cad8f4dc2f20c1d2691ac67c22536de2.jpg: 1 duplicate labels removed\n"
     ]
    },
    {
     "name": "stderr",
     "output_type": "stream",
     "text": [
      "\n",
      "\u001B[34m\u001B[1mval: \u001B[0mScanning G:\\Drone Detection\\untitled\\DRONES_NEW-4\\valid\\labels.cache... 1679 images, 3 backgrounds, 0 corrupt: 100%|██████████| 1679/1679 [00:00<?, ?it/s]\n"
     ]
    },
    {
     "name": "stdout",
     "output_type": "stream",
     "text": [
      "Plotting labels to runs\\detect\\train74\\labels.jpg... \n",
      "\u001B[34m\u001B[1moptimizer:\u001B[0m 'optimizer=auto' found, ignoring 'lr0=0.01' and 'momentum=0.937' and determining best 'optimizer', 'lr0' and 'momentum' automatically... \n",
      "\u001B[34m\u001B[1moptimizer:\u001B[0m SGD(lr=0.01, momentum=0.9) with parameter groups 57 weight(decay=0.0), 64 weight(decay=0.0005), 63 bias(decay=0.0)\n",
      "\u001B[34m\u001B[1mTensorBoard: \u001B[0mmodel graph visualization added \n",
      "Image sizes 640 train, 640 val\n",
      "Using 8 dataloader workers\n",
      "Logging results to \u001B[1mruns\\detect\\train74\u001B[0m\n",
      "Starting training for 100 epochs...\n",
      "\n",
      "      Epoch    GPU_mem   box_loss   cls_loss   dfl_loss  Instances       Size\n"
     ]
    },
    {
     "name": "stderr",
     "output_type": "stream",
     "text": [
      "      1/100      1.52G      3.121      3.734      3.729         11        640: 100%|██████████| 5064/5064 [07:39<00:00, 11.03it/s]\n",
      "                 Class     Images  Instances      Box(P          R      mAP50  mAP50-95): 100%|██████████| 210/210 [00:16<00:00, 12.84it/s]"
     ]
    },
    {
     "name": "stdout",
     "output_type": "stream",
     "text": [
      "                   all       1679       1795      0.405      0.317      0.308      0.111\n"
     ]
    },
    {
     "name": "stderr",
     "output_type": "stream",
     "text": [
      "\n"
     ]
    },
    {
     "name": "stdout",
     "output_type": "stream",
     "text": [
      "\n",
      "      Epoch    GPU_mem   box_loss   cls_loss   dfl_loss  Instances       Size\n"
     ]
    },
    {
     "name": "stderr",
     "output_type": "stream",
     "text": [
      "      2/100       1.5G      2.193      2.304      2.517          7        640: 100%|██████████| 5064/5064 [07:28<00:00, 11.30it/s]\n",
      "                 Class     Images  Instances      Box(P          R      mAP50  mAP50-95): 100%|██████████| 210/210 [00:15<00:00, 13.60it/s]"
     ]
    },
    {
     "name": "stdout",
     "output_type": "stream",
     "text": [
      "                   all       1679       1795      0.574       0.57      0.577      0.282\n"
     ]
    },
    {
     "name": "stderr",
     "output_type": "stream",
     "text": [
      "\n"
     ]
    },
    {
     "name": "stdout",
     "output_type": "stream",
     "text": [
      "\n",
      "      Epoch    GPU_mem   box_loss   cls_loss   dfl_loss  Instances       Size\n"
     ]
    },
    {
     "name": "stderr",
     "output_type": "stream",
     "text": [
      "      3/100      1.49G       1.95      1.986      2.204         10        640: 100%|██████████| 5064/5064 [07:19<00:00, 11.51it/s]\n",
      "                 Class     Images  Instances      Box(P          R      mAP50  mAP50-95): 100%|██████████| 210/210 [00:15<00:00, 13.75it/s]"
     ]
    },
    {
     "name": "stdout",
     "output_type": "stream",
     "text": [
      "                   all       1679       1795      0.749      0.646      0.725      0.386\n"
     ]
    },
    {
     "name": "stderr",
     "output_type": "stream",
     "text": [
      "\n"
     ]
    },
    {
     "name": "stdout",
     "output_type": "stream",
     "text": [
      "\n",
      "      Epoch    GPU_mem   box_loss   cls_loss   dfl_loss  Instances       Size\n"
     ]
    },
    {
     "name": "stderr",
     "output_type": "stream",
     "text": [
      "      4/100      1.49G      1.848      1.831      2.073          9        640: 100%|██████████| 5064/5064 [07:20<00:00, 11.49it/s]\n",
      "                 Class     Images  Instances      Box(P          R      mAP50  mAP50-95): 100%|██████████| 210/210 [00:15<00:00, 13.53it/s]"
     ]
    },
    {
     "name": "stdout",
     "output_type": "stream",
     "text": [
      "                   all       1679       1795       0.82      0.719      0.783      0.426\n"
     ]
    },
    {
     "name": "stderr",
     "output_type": "stream",
     "text": [
      "\n"
     ]
    },
    {
     "name": "stdout",
     "output_type": "stream",
     "text": [
      "\n",
      "      Epoch    GPU_mem   box_loss   cls_loss   dfl_loss  Instances       Size\n"
     ]
    },
    {
     "name": "stderr",
     "output_type": "stream",
     "text": [
      "      5/100      1.54G      1.756      1.652      1.983          9        640: 100%|██████████| 5064/5064 [07:15<00:00, 11.64it/s]\n",
      "                 Class     Images  Instances      Box(P          R      mAP50  mAP50-95): 100%|██████████| 210/210 [00:14<00:00, 14.07it/s]"
     ]
    },
    {
     "name": "stdout",
     "output_type": "stream",
     "text": [
      "                   all       1679       1795      0.826      0.783      0.829      0.468\n"
     ]
    },
    {
     "name": "stderr",
     "output_type": "stream",
     "text": [
      "\n"
     ]
    },
    {
     "name": "stdout",
     "output_type": "stream",
     "text": [
      "\n",
      "      Epoch    GPU_mem   box_loss   cls_loss   dfl_loss  Instances       Size\n"
     ]
    },
    {
     "name": "stderr",
     "output_type": "stream",
     "text": [
      "      6/100      1.42G      1.702      1.543      1.929          4        640: 100%|██████████| 5064/5064 [07:08<00:00, 11.80it/s]\n",
      "                 Class     Images  Instances      Box(P          R      mAP50  mAP50-95): 100%|██████████| 210/210 [00:14<00:00, 14.19it/s]"
     ]
    },
    {
     "name": "stdout",
     "output_type": "stream",
     "text": [
      "                   all       1679       1795      0.848      0.824      0.867      0.508\n"
     ]
    },
    {
     "name": "stderr",
     "output_type": "stream",
     "text": [
      "\n"
     ]
    },
    {
     "name": "stdout",
     "output_type": "stream",
     "text": [
      "\n",
      "      Epoch    GPU_mem   box_loss   cls_loss   dfl_loss  Instances       Size\n"
     ]
    },
    {
     "name": "stderr",
     "output_type": "stream",
     "text": [
      "      7/100      1.53G       1.66      1.485      1.885         11        640: 100%|██████████| 5064/5064 [07:10<00:00, 11.76it/s]\n",
      "                 Class     Images  Instances      Box(P          R      mAP50  mAP50-95): 100%|██████████| 210/210 [00:15<00:00, 13.96it/s]"
     ]
    },
    {
     "name": "stdout",
     "output_type": "stream",
     "text": [
      "                   all       1679       1795      0.834      0.818      0.865      0.513\n"
     ]
    },
    {
     "name": "stderr",
     "output_type": "stream",
     "text": [
      "\n"
     ]
    },
    {
     "name": "stdout",
     "output_type": "stream",
     "text": [
      "\n",
      "      Epoch    GPU_mem   box_loss   cls_loss   dfl_loss  Instances       Size\n"
     ]
    },
    {
     "name": "stderr",
     "output_type": "stream",
     "text": [
      "      8/100      1.53G      1.621      1.408      1.851         13        640: 100%|██████████| 5064/5064 [07:20<00:00, 11.50it/s]\n",
      "                 Class     Images  Instances      Box(P          R      mAP50  mAP50-95): 100%|██████████| 210/210 [00:15<00:00, 13.64it/s]"
     ]
    },
    {
     "name": "stdout",
     "output_type": "stream",
     "text": [
      "                   all       1679       1795       0.85      0.848      0.883      0.536\n"
     ]
    },
    {
     "name": "stderr",
     "output_type": "stream",
     "text": [
      "\n"
     ]
    },
    {
     "name": "stdout",
     "output_type": "stream",
     "text": [
      "\n",
      "      Epoch    GPU_mem   box_loss   cls_loss   dfl_loss  Instances       Size\n"
     ]
    },
    {
     "name": "stderr",
     "output_type": "stream",
     "text": [
      "      9/100      1.53G        1.6      1.352      1.824         10        640: 100%|██████████| 5064/5064 [07:20<00:00, 11.51it/s]\n",
      "                 Class     Images  Instances      Box(P          R      mAP50  mAP50-95): 100%|██████████| 210/210 [00:14<00:00, 14.23it/s]"
     ]
    },
    {
     "name": "stdout",
     "output_type": "stream",
     "text": [
      "                   all       1679       1795      0.873       0.86      0.892      0.546\n"
     ]
    },
    {
     "name": "stderr",
     "output_type": "stream",
     "text": [
      "\n"
     ]
    },
    {
     "name": "stdout",
     "output_type": "stream",
     "text": [
      "\n",
      "      Epoch    GPU_mem   box_loss   cls_loss   dfl_loss  Instances       Size\n"
     ]
    },
    {
     "name": "stderr",
     "output_type": "stream",
     "text": [
      "     10/100      1.49G      1.583      1.309       1.81          9        640: 100%|██████████| 5064/5064 [07:21<00:00, 11.47it/s]\n",
      "                 Class     Images  Instances      Box(P          R      mAP50  mAP50-95): 100%|██████████| 210/210 [00:14<00:00, 14.75it/s]"
     ]
    },
    {
     "name": "stdout",
     "output_type": "stream",
     "text": [
      "                   all       1679       1795      0.868      0.863      0.901      0.558\n"
     ]
    },
    {
     "name": "stderr",
     "output_type": "stream",
     "text": [
      "\n"
     ]
    },
    {
     "name": "stdout",
     "output_type": "stream",
     "text": [
      "\n",
      "      Epoch    GPU_mem   box_loss   cls_loss   dfl_loss  Instances       Size\n"
     ]
    },
    {
     "name": "stderr",
     "output_type": "stream",
     "text": [
      "     11/100      1.51G      1.563      1.288      1.792          8        640: 100%|██████████| 5064/5064 [07:23<00:00, 11.42it/s]\n",
      "                 Class     Images  Instances      Box(P          R      mAP50  mAP50-95): 100%|██████████| 210/210 [00:14<00:00, 14.07it/s]"
     ]
    },
    {
     "name": "stdout",
     "output_type": "stream",
     "text": [
      "                   all       1679       1795       0.87      0.865      0.907      0.575\n"
     ]
    },
    {
     "name": "stderr",
     "output_type": "stream",
     "text": [
      "\n"
     ]
    },
    {
     "name": "stdout",
     "output_type": "stream",
     "text": [
      "\n",
      "      Epoch    GPU_mem   box_loss   cls_loss   dfl_loss  Instances       Size\n"
     ]
    },
    {
     "name": "stderr",
     "output_type": "stream",
     "text": [
      "     12/100      1.49G      1.535      1.241      1.766         11        640: 100%|██████████| 5064/5064 [07:21<00:00, 11.46it/s]\n",
      "                 Class     Images  Instances      Box(P          R      mAP50  mAP50-95): 100%|██████████| 210/210 [00:15<00:00, 13.96it/s]"
     ]
    },
    {
     "name": "stdout",
     "output_type": "stream",
     "text": [
      "                   all       1679       1795      0.877       0.89      0.917      0.584\n"
     ]
    },
    {
     "name": "stderr",
     "output_type": "stream",
     "text": [
      "\n"
     ]
    },
    {
     "name": "stdout",
     "output_type": "stream",
     "text": [
      "\n",
      "      Epoch    GPU_mem   box_loss   cls_loss   dfl_loss  Instances       Size\n"
     ]
    },
    {
     "name": "stderr",
     "output_type": "stream",
     "text": [
      "     13/100      1.52G      1.525      1.217      1.759         10        640: 100%|██████████| 5064/5064 [07:16<00:00, 11.60it/s]\n",
      "                 Class     Images  Instances      Box(P          R      mAP50  mAP50-95): 100%|██████████| 210/210 [00:14<00:00, 14.44it/s]\n"
     ]
    },
    {
     "name": "stdout",
     "output_type": "stream",
     "text": [
      "                   all       1679       1795      0.873      0.874      0.916      0.581\n",
      "\n",
      "      Epoch    GPU_mem   box_loss   cls_loss   dfl_loss  Instances       Size\n"
     ]
    },
    {
     "name": "stderr",
     "output_type": "stream",
     "text": [
      "     14/100      1.53G       1.51      1.194      1.747         13        640: 100%|██████████| 5064/5064 [07:14<00:00, 11.64it/s]\n",
      "                 Class     Images  Instances      Box(P          R      mAP50  mAP50-95): 100%|██████████| 210/210 [00:14<00:00, 14.20it/s]"
     ]
    },
    {
     "name": "stdout",
     "output_type": "stream",
     "text": [
      "                   all       1679       1795      0.883      0.895      0.925      0.588\n"
     ]
    },
    {
     "name": "stderr",
     "output_type": "stream",
     "text": [
      "\n"
     ]
    },
    {
     "name": "stdout",
     "output_type": "stream",
     "text": [
      "\n",
      "      Epoch    GPU_mem   box_loss   cls_loss   dfl_loss  Instances       Size\n"
     ]
    },
    {
     "name": "stderr",
     "output_type": "stream",
     "text": [
      "     15/100      1.53G      1.501      1.179      1.726          9        640: 100%|██████████| 5064/5064 [07:18<00:00, 11.55it/s]\n",
      "                 Class     Images  Instances      Box(P          R      mAP50  mAP50-95): 100%|██████████| 210/210 [00:14<00:00, 14.07it/s]"
     ]
    },
    {
     "name": "stdout",
     "output_type": "stream",
     "text": [
      "                   all       1679       1795      0.882      0.895      0.924      0.597\n"
     ]
    },
    {
     "name": "stderr",
     "output_type": "stream",
     "text": [
      "\n"
     ]
    },
    {
     "name": "stdout",
     "output_type": "stream",
     "text": [
      "\n",
      "      Epoch    GPU_mem   box_loss   cls_loss   dfl_loss  Instances       Size\n"
     ]
    },
    {
     "name": "stderr",
     "output_type": "stream",
     "text": [
      "     16/100      1.52G      1.486      1.163      1.722         11        640: 100%|██████████| 5064/5064 [07:20<00:00, 11.49it/s]\n",
      "                 Class     Images  Instances      Box(P          R      mAP50  mAP50-95): 100%|██████████| 210/210 [00:14<00:00, 14.00it/s]"
     ]
    },
    {
     "name": "stdout",
     "output_type": "stream",
     "text": [
      "                   all       1679       1795       0.88      0.895      0.924      0.603\n"
     ]
    },
    {
     "name": "stderr",
     "output_type": "stream",
     "text": [
      "\n"
     ]
    },
    {
     "name": "stdout",
     "output_type": "stream",
     "text": [
      "\n",
      "      Epoch    GPU_mem   box_loss   cls_loss   dfl_loss  Instances       Size\n"
     ]
    },
    {
     "name": "stderr",
     "output_type": "stream",
     "text": [
      "     17/100      1.53G      1.479      1.141      1.711         12        640: 100%|██████████| 5064/5064 [07:12<00:00, 11.70it/s]\n",
      "                 Class     Images  Instances      Box(P          R      mAP50  mAP50-95): 100%|██████████| 210/210 [00:14<00:00, 14.92it/s]"
     ]
    },
    {
     "name": "stdout",
     "output_type": "stream",
     "text": [
      "                   all       1679       1795      0.898      0.896      0.931      0.611\n"
     ]
    },
    {
     "name": "stderr",
     "output_type": "stream",
     "text": [
      "\n"
     ]
    },
    {
     "name": "stdout",
     "output_type": "stream",
     "text": [
      "\n",
      "      Epoch    GPU_mem   box_loss   cls_loss   dfl_loss  Instances       Size\n"
     ]
    },
    {
     "name": "stderr",
     "output_type": "stream",
     "text": [
      "     18/100      1.55G      1.469      1.131      1.699          8        640: 100%|██████████| 5064/5064 [07:12<00:00, 11.70it/s]\n",
      "                 Class     Images  Instances      Box(P          R      mAP50  mAP50-95): 100%|██████████| 210/210 [00:13<00:00, 15.35it/s]"
     ]
    },
    {
     "name": "stdout",
     "output_type": "stream",
     "text": [
      "                   all       1679       1795      0.921       0.91      0.942      0.621\n"
     ]
    },
    {
     "name": "stderr",
     "output_type": "stream",
     "text": [
      "\n"
     ]
    },
    {
     "name": "stdout",
     "output_type": "stream",
     "text": [
      "\n",
      "      Epoch    GPU_mem   box_loss   cls_loss   dfl_loss  Instances       Size\n"
     ]
    },
    {
     "name": "stderr",
     "output_type": "stream",
     "text": [
      "     19/100      1.52G       1.46       1.12      1.696          8        640: 100%|██████████| 5064/5064 [07:13<00:00, 11.69it/s]\n",
      "                 Class     Images  Instances      Box(P          R      mAP50  mAP50-95): 100%|██████████| 210/210 [00:14<00:00, 14.67it/s]"
     ]
    },
    {
     "name": "stdout",
     "output_type": "stream",
     "text": [
      "                   all       1679       1795      0.902      0.904      0.935       0.62\n"
     ]
    },
    {
     "name": "stderr",
     "output_type": "stream",
     "text": [
      "\n"
     ]
    },
    {
     "name": "stdout",
     "output_type": "stream",
     "text": [
      "\n",
      "      Epoch    GPU_mem   box_loss   cls_loss   dfl_loss  Instances       Size\n"
     ]
    },
    {
     "name": "stderr",
     "output_type": "stream",
     "text": [
      "     20/100      1.52G      1.446        1.1      1.683         11        640: 100%|██████████| 5064/5064 [07:08<00:00, 11.82it/s]\n",
      "                 Class     Images  Instances      Box(P          R      mAP50  mAP50-95): 100%|██████████| 210/210 [00:13<00:00, 15.27it/s]"
     ]
    },
    {
     "name": "stdout",
     "output_type": "stream",
     "text": [
      "                   all       1679       1795      0.906      0.916      0.941      0.625\n"
     ]
    },
    {
     "name": "stderr",
     "output_type": "stream",
     "text": [
      "\n"
     ]
    },
    {
     "name": "stdout",
     "output_type": "stream",
     "text": [
      "\n",
      "      Epoch    GPU_mem   box_loss   cls_loss   dfl_loss  Instances       Size\n"
     ]
    },
    {
     "name": "stderr",
     "output_type": "stream",
     "text": [
      "     21/100      1.54G       1.44      1.088      1.676         11        640: 100%|██████████| 5064/5064 [07:05<00:00, 11.89it/s]\n",
      "                 Class     Images  Instances      Box(P          R      mAP50  mAP50-95): 100%|██████████| 210/210 [00:14<00:00, 14.77it/s]"
     ]
    },
    {
     "name": "stdout",
     "output_type": "stream",
     "text": [
      "                   all       1679       1795      0.902      0.913      0.943      0.628\n"
     ]
    },
    {
     "name": "stderr",
     "output_type": "stream",
     "text": [
      "\n"
     ]
    },
    {
     "name": "stdout",
     "output_type": "stream",
     "text": [
      "\n",
      "      Epoch    GPU_mem   box_loss   cls_loss   dfl_loss  Instances       Size\n"
     ]
    },
    {
     "name": "stderr",
     "output_type": "stream",
     "text": [
      "     22/100      1.55G      1.439      1.072      1.671          8        640: 100%|██████████| 5064/5064 [07:07<00:00, 11.84it/s]\n",
      "                 Class     Images  Instances      Box(P          R      mAP50  mAP50-95): 100%|██████████| 210/210 [00:13<00:00, 15.10it/s]"
     ]
    },
    {
     "name": "stdout",
     "output_type": "stream",
     "text": [
      "                   all       1679       1795      0.911      0.921      0.943      0.632\n"
     ]
    },
    {
     "name": "stderr",
     "output_type": "stream",
     "text": [
      "\n"
     ]
    },
    {
     "name": "stdout",
     "output_type": "stream",
     "text": [
      "\n",
      "      Epoch    GPU_mem   box_loss   cls_loss   dfl_loss  Instances       Size\n"
     ]
    },
    {
     "name": "stderr",
     "output_type": "stream",
     "text": [
      "     23/100      1.53G      1.423      1.062      1.663         10        640: 100%|██████████| 5064/5064 [07:04<00:00, 11.93it/s]\n",
      "                 Class     Images  Instances      Box(P          R      mAP50  mAP50-95): 100%|██████████| 210/210 [00:14<00:00, 14.43it/s]"
     ]
    },
    {
     "name": "stdout",
     "output_type": "stream",
     "text": [
      "                   all       1679       1795      0.911      0.926      0.944      0.633\n"
     ]
    },
    {
     "name": "stderr",
     "output_type": "stream",
     "text": [
      "\n"
     ]
    },
    {
     "name": "stdout",
     "output_type": "stream",
     "text": [
      "\n",
      "      Epoch    GPU_mem   box_loss   cls_loss   dfl_loss  Instances       Size\n"
     ]
    },
    {
     "name": "stderr",
     "output_type": "stream",
     "text": [
      "     24/100      1.53G      1.415       1.06      1.655          8        640: 100%|██████████| 5064/5064 [07:04<00:00, 11.92it/s]\n",
      "                 Class     Images  Instances      Box(P          R      mAP50  mAP50-95): 100%|██████████| 210/210 [00:14<00:00, 14.39it/s]"
     ]
    },
    {
     "name": "stdout",
     "output_type": "stream",
     "text": [
      "                   all       1679       1795      0.908      0.926      0.946      0.639\n"
     ]
    },
    {
     "name": "stderr",
     "output_type": "stream",
     "text": [
      "\n"
     ]
    },
    {
     "name": "stdout",
     "output_type": "stream",
     "text": [
      "\n",
      "      Epoch    GPU_mem   box_loss   cls_loss   dfl_loss  Instances       Size\n"
     ]
    },
    {
     "name": "stderr",
     "output_type": "stream",
     "text": [
      "     25/100      1.52G       1.41      1.036      1.646          6        640: 100%|██████████| 5064/5064 [07:07<00:00, 11.83it/s]\n",
      "                 Class     Images  Instances      Box(P          R      mAP50  mAP50-95): 100%|██████████| 210/210 [00:15<00:00, 13.83it/s]"
     ]
    },
    {
     "name": "stdout",
     "output_type": "stream",
     "text": [
      "                   all       1679       1795      0.917      0.924      0.946      0.638\n"
     ]
    },
    {
     "name": "stderr",
     "output_type": "stream",
     "text": [
      "\n"
     ]
    },
    {
     "name": "stdout",
     "output_type": "stream",
     "text": [
      "\n",
      "      Epoch    GPU_mem   box_loss   cls_loss   dfl_loss  Instances       Size\n"
     ]
    },
    {
     "name": "stderr",
     "output_type": "stream",
     "text": [
      "     26/100      1.48G      1.401      1.026      1.638         10        640: 100%|██████████| 5064/5064 [07:13<00:00, 11.67it/s]\n",
      "                 Class     Images  Instances      Box(P          R      mAP50  mAP50-95): 100%|██████████| 210/210 [00:13<00:00, 15.11it/s]"
     ]
    },
    {
     "name": "stdout",
     "output_type": "stream",
     "text": [
      "                   all       1679       1795      0.922      0.929       0.95      0.637\n"
     ]
    },
    {
     "name": "stderr",
     "output_type": "stream",
     "text": [
      "\n"
     ]
    },
    {
     "name": "stdout",
     "output_type": "stream",
     "text": [
      "\n",
      "      Epoch    GPU_mem   box_loss   cls_loss   dfl_loss  Instances       Size\n"
     ]
    },
    {
     "name": "stderr",
     "output_type": "stream",
     "text": [
      "     27/100       1.4G      1.386      1.021      1.625          5        640: 100%|██████████| 5064/5064 [07:11<00:00, 11.73it/s]\n",
      "                 Class     Images  Instances      Box(P          R      mAP50  mAP50-95): 100%|██████████| 210/210 [00:15<00:00, 13.93it/s]"
     ]
    },
    {
     "name": "stdout",
     "output_type": "stream",
     "text": [
      "                   all       1679       1795      0.913      0.925      0.949      0.644\n"
     ]
    },
    {
     "name": "stderr",
     "output_type": "stream",
     "text": [
      "\n"
     ]
    },
    {
     "name": "stdout",
     "output_type": "stream",
     "text": [
      "\n",
      "      Epoch    GPU_mem   box_loss   cls_loss   dfl_loss  Instances       Size\n"
     ]
    },
    {
     "name": "stderr",
     "output_type": "stream",
     "text": [
      "     28/100      1.42G      1.388      1.012      1.623          5        640: 100%|██████████| 5064/5064 [07:12<00:00, 11.72it/s]\n",
      "                 Class     Images  Instances      Box(P          R      mAP50  mAP50-95): 100%|██████████| 210/210 [00:14<00:00, 14.71it/s]"
     ]
    },
    {
     "name": "stdout",
     "output_type": "stream",
     "text": [
      "                   all       1679       1795      0.918      0.931      0.952      0.649\n"
     ]
    },
    {
     "name": "stderr",
     "output_type": "stream",
     "text": [
      "\n"
     ]
    },
    {
     "name": "stdout",
     "output_type": "stream",
     "text": [
      "\n",
      "      Epoch    GPU_mem   box_loss   cls_loss   dfl_loss  Instances       Size\n"
     ]
    },
    {
     "name": "stderr",
     "output_type": "stream",
     "text": [
      "     29/100      1.54G      1.378      1.002      1.619          5        640: 100%|██████████| 5064/5064 [07:09<00:00, 11.79it/s]\n",
      "                 Class     Images  Instances      Box(P          R      mAP50  mAP50-95): 100%|██████████| 210/210 [00:14<00:00, 14.51it/s]"
     ]
    },
    {
     "name": "stdout",
     "output_type": "stream",
     "text": [
      "                   all       1679       1795       0.91      0.925      0.952       0.65\n"
     ]
    },
    {
     "name": "stderr",
     "output_type": "stream",
     "text": [
      "\n"
     ]
    },
    {
     "name": "stdout",
     "output_type": "stream",
     "text": [
      "\n",
      "      Epoch    GPU_mem   box_loss   cls_loss   dfl_loss  Instances       Size\n"
     ]
    },
    {
     "name": "stderr",
     "output_type": "stream",
     "text": [
      "     30/100      1.55G      1.373     0.9953      1.609          7        640: 100%|██████████| 5064/5064 [07:06<00:00, 11.87it/s]\n",
      "                 Class     Images  Instances      Box(P          R      mAP50  mAP50-95): 100%|██████████| 210/210 [00:14<00:00, 14.83it/s]"
     ]
    },
    {
     "name": "stdout",
     "output_type": "stream",
     "text": [
      "                   all       1679       1795      0.913      0.921      0.953       0.65\n"
     ]
    },
    {
     "name": "stderr",
     "output_type": "stream",
     "text": [
      "\n"
     ]
    },
    {
     "name": "stdout",
     "output_type": "stream",
     "text": [
      "\n",
      "      Epoch    GPU_mem   box_loss   cls_loss   dfl_loss  Instances       Size\n"
     ]
    },
    {
     "name": "stderr",
     "output_type": "stream",
     "text": [
      "     31/100      1.53G      1.357     0.9815      1.602          7        640: 100%|██████████| 5064/5064 [07:06<00:00, 11.88it/s]\n",
      "                 Class     Images  Instances      Box(P          R      mAP50  mAP50-95): 100%|██████████| 210/210 [00:15<00:00, 13.67it/s]"
     ]
    },
    {
     "name": "stdout",
     "output_type": "stream",
     "text": [
      "                   all       1679       1795      0.922      0.919      0.956      0.653\n"
     ]
    },
    {
     "name": "stderr",
     "output_type": "stream",
     "text": [
      "\n"
     ]
    },
    {
     "name": "stdout",
     "output_type": "stream",
     "text": [
      "\n",
      "      Epoch    GPU_mem   box_loss   cls_loss   dfl_loss  Instances       Size\n"
     ]
    },
    {
     "name": "stderr",
     "output_type": "stream",
     "text": [
      "     32/100      1.43G       1.36     0.9742        1.6          5        640: 100%|██████████| 5064/5064 [07:06<00:00, 11.86it/s]\n",
      "                 Class     Images  Instances      Box(P          R      mAP50  mAP50-95): 100%|██████████| 210/210 [00:14<00:00, 14.84it/s]"
     ]
    },
    {
     "name": "stdout",
     "output_type": "stream",
     "text": [
      "                   all       1679       1795      0.913      0.926      0.953      0.653\n"
     ]
    },
    {
     "name": "stderr",
     "output_type": "stream",
     "text": [
      "\n"
     ]
    },
    {
     "name": "stdout",
     "output_type": "stream",
     "text": [
      "\n",
      "      Epoch    GPU_mem   box_loss   cls_loss   dfl_loss  Instances       Size\n"
     ]
    },
    {
     "name": "stderr",
     "output_type": "stream",
     "text": [
      "     33/100      1.53G      1.363     0.9696      1.604          9        640: 100%|██████████| 5064/5064 [07:02<00:00, 11.97it/s]\n",
      "                 Class     Images  Instances      Box(P          R      mAP50  mAP50-95): 100%|██████████| 210/210 [00:14<00:00, 14.09it/s]"
     ]
    },
    {
     "name": "stdout",
     "output_type": "stream",
     "text": [
      "                   all       1679       1795      0.916      0.928      0.955      0.654\n"
     ]
    },
    {
     "name": "stderr",
     "output_type": "stream",
     "text": [
      "\n"
     ]
    },
    {
     "name": "stdout",
     "output_type": "stream",
     "text": [
      "\n",
      "      Epoch    GPU_mem   box_loss   cls_loss   dfl_loss  Instances       Size\n"
     ]
    },
    {
     "name": "stderr",
     "output_type": "stream",
     "text": [
      "     34/100      1.52G      1.353     0.9641       1.59          5        640: 100%|██████████| 5064/5064 [07:02<00:00, 11.99it/s]\n",
      "                 Class     Images  Instances      Box(P          R      mAP50  mAP50-95): 100%|██████████| 210/210 [00:13<00:00, 15.36it/s]"
     ]
    },
    {
     "name": "stdout",
     "output_type": "stream",
     "text": [
      "                   all       1679       1795      0.913      0.931      0.955      0.656\n"
     ]
    },
    {
     "name": "stderr",
     "output_type": "stream",
     "text": [
      "\n"
     ]
    },
    {
     "name": "stdout",
     "output_type": "stream",
     "text": [
      "\n",
      "      Epoch    GPU_mem   box_loss   cls_loss   dfl_loss  Instances       Size\n"
     ]
    },
    {
     "name": "stderr",
     "output_type": "stream",
     "text": [
      "     35/100       1.4G      1.334     0.9447      1.577         15        640: 100%|██████████| 5064/5064 [07:06<00:00, 11.86it/s]\n",
      "                 Class     Images  Instances      Box(P          R      mAP50  mAP50-95): 100%|██████████| 210/210 [00:14<00:00, 14.50it/s]"
     ]
    },
    {
     "name": "stdout",
     "output_type": "stream",
     "text": [
      "                   all       1679       1795      0.916      0.935      0.956      0.658\n"
     ]
    },
    {
     "name": "stderr",
     "output_type": "stream",
     "text": [
      "\n"
     ]
    },
    {
     "name": "stdout",
     "output_type": "stream",
     "text": [
      "\n",
      "      Epoch    GPU_mem   box_loss   cls_loss   dfl_loss  Instances       Size\n"
     ]
    },
    {
     "name": "stderr",
     "output_type": "stream",
     "text": [
      "     36/100      1.55G      1.332     0.9505      1.581         10        640: 100%|██████████| 5064/5064 [07:04<00:00, 11.93it/s]\n",
      "                 Class     Images  Instances      Box(P          R      mAP50  mAP50-95): 100%|██████████| 210/210 [00:14<00:00, 14.95it/s]"
     ]
    },
    {
     "name": "stdout",
     "output_type": "stream",
     "text": [
      "                   all       1679       1795      0.915      0.935      0.955      0.657\n"
     ]
    },
    {
     "name": "stderr",
     "output_type": "stream",
     "text": [
      "\n"
     ]
    },
    {
     "name": "stdout",
     "output_type": "stream",
     "text": [
      "\n",
      "      Epoch    GPU_mem   box_loss   cls_loss   dfl_loss  Instances       Size\n"
     ]
    },
    {
     "name": "stderr",
     "output_type": "stream",
     "text": [
      "     37/100      1.53G      1.329     0.9329       1.57         11        640: 100%|██████████| 5064/5064 [07:18<00:00, 11.55it/s]\n",
      "                 Class     Images  Instances      Box(P          R      mAP50  mAP50-95): 100%|██████████| 210/210 [00:15<00:00, 13.95it/s]"
     ]
    },
    {
     "name": "stdout",
     "output_type": "stream",
     "text": [
      "                   all       1679       1795      0.918      0.934      0.956      0.659\n"
     ]
    },
    {
     "name": "stderr",
     "output_type": "stream",
     "text": [
      "\n"
     ]
    },
    {
     "name": "stdout",
     "output_type": "stream",
     "text": [
      "\n",
      "      Epoch    GPU_mem   box_loss   cls_loss   dfl_loss  Instances       Size\n"
     ]
    },
    {
     "name": "stderr",
     "output_type": "stream",
     "text": [
      "     38/100      1.52G      1.322     0.9361      1.564          8        640: 100%|██████████| 5064/5064 [07:22<00:00, 11.45it/s]\n",
      "                 Class     Images  Instances      Box(P          R      mAP50  mAP50-95): 100%|██████████| 210/210 [00:14<00:00, 14.78it/s]"
     ]
    },
    {
     "name": "stdout",
     "output_type": "stream",
     "text": [
      "                   all       1679       1795      0.921      0.925      0.957      0.661\n"
     ]
    },
    {
     "name": "stderr",
     "output_type": "stream",
     "text": [
      "\n"
     ]
    },
    {
     "name": "stdout",
     "output_type": "stream",
     "text": [
      "\n",
      "      Epoch    GPU_mem   box_loss   cls_loss   dfl_loss  Instances       Size\n"
     ]
    },
    {
     "name": "stderr",
     "output_type": "stream",
     "text": [
      "     39/100      1.53G      1.322     0.9291      1.564          7        640: 100%|██████████| 5064/5064 [07:23<00:00, 11.43it/s]\n",
      "                 Class     Images  Instances      Box(P          R      mAP50  mAP50-95): 100%|██████████| 210/210 [00:14<00:00, 14.12it/s]"
     ]
    },
    {
     "name": "stdout",
     "output_type": "stream",
     "text": [
      "                   all       1679       1795      0.922      0.931      0.956      0.661\n"
     ]
    },
    {
     "name": "stderr",
     "output_type": "stream",
     "text": [
      "\n"
     ]
    },
    {
     "name": "stdout",
     "output_type": "stream",
     "text": [
      "\n",
      "      Epoch    GPU_mem   box_loss   cls_loss   dfl_loss  Instances       Size\n"
     ]
    },
    {
     "name": "stderr",
     "output_type": "stream",
     "text": [
      "     40/100      1.55G      1.314     0.9111       1.56          7        640: 100%|██████████| 5064/5064 [07:21<00:00, 11.48it/s]\n",
      "                 Class     Images  Instances      Box(P          R      mAP50  mAP50-95): 100%|██████████| 210/210 [00:14<00:00, 14.18it/s]"
     ]
    },
    {
     "name": "stdout",
     "output_type": "stream",
     "text": [
      "                   all       1679       1795      0.922      0.932      0.956      0.665\n"
     ]
    },
    {
     "name": "stderr",
     "output_type": "stream",
     "text": [
      "\n"
     ]
    },
    {
     "name": "stdout",
     "output_type": "stream",
     "text": [
      "\n",
      "      Epoch    GPU_mem   box_loss   cls_loss   dfl_loss  Instances       Size\n"
     ]
    },
    {
     "name": "stderr",
     "output_type": "stream",
     "text": [
      "     41/100      1.52G      1.307     0.9108      1.555          5        640: 100%|██████████| 5064/5064 [07:21<00:00, 11.48it/s]\n",
      "                 Class     Images  Instances      Box(P          R      mAP50  mAP50-95): 100%|██████████| 210/210 [00:15<00:00, 13.93it/s]"
     ]
    },
    {
     "name": "stdout",
     "output_type": "stream",
     "text": [
      "                   all       1679       1795      0.926      0.934      0.959      0.666\n"
     ]
    },
    {
     "name": "stderr",
     "output_type": "stream",
     "text": [
      "\n"
     ]
    },
    {
     "name": "stdout",
     "output_type": "stream",
     "text": [
      "\n",
      "      Epoch    GPU_mem   box_loss   cls_loss   dfl_loss  Instances       Size\n"
     ]
    },
    {
     "name": "stderr",
     "output_type": "stream",
     "text": [
      "     42/100      1.52G      1.302     0.9051      1.542          7        640: 100%|██████████| 5064/5064 [07:18<00:00, 11.55it/s]\n",
      "                 Class     Images  Instances      Box(P          R      mAP50  mAP50-95): 100%|██████████| 210/210 [00:14<00:00, 14.32it/s]"
     ]
    },
    {
     "name": "stdout",
     "output_type": "stream",
     "text": [
      "                   all       1679       1795      0.923      0.933      0.956      0.668\n"
     ]
    },
    {
     "name": "stderr",
     "output_type": "stream",
     "text": [
      "\n"
     ]
    },
    {
     "name": "stdout",
     "output_type": "stream",
     "text": [
      "\n",
      "      Epoch    GPU_mem   box_loss   cls_loss   dfl_loss  Instances       Size\n"
     ]
    },
    {
     "name": "stderr",
     "output_type": "stream",
     "text": [
      "     43/100      1.54G      1.301     0.8981       1.55          8        640: 100%|██████████| 5064/5064 [07:11<00:00, 11.74it/s]\n",
      "                 Class     Images  Instances      Box(P          R      mAP50  mAP50-95): 100%|██████████| 210/210 [00:14<00:00, 14.42it/s]"
     ]
    },
    {
     "name": "stdout",
     "output_type": "stream",
     "text": [
      "                   all       1679       1795      0.921      0.936      0.957      0.669\n"
     ]
    },
    {
     "name": "stderr",
     "output_type": "stream",
     "text": [
      "\n"
     ]
    },
    {
     "name": "stdout",
     "output_type": "stream",
     "text": [
      "\n",
      "      Epoch    GPU_mem   box_loss   cls_loss   dfl_loss  Instances       Size\n"
     ]
    },
    {
     "name": "stderr",
     "output_type": "stream",
     "text": [
      "     44/100      1.55G      1.291     0.8849      1.536          8        640: 100%|██████████| 5064/5064 [07:12<00:00, 11.70it/s]\n",
      "                 Class     Images  Instances      Box(P          R      mAP50  mAP50-95): 100%|██████████| 210/210 [00:14<00:00, 14.15it/s]"
     ]
    },
    {
     "name": "stdout",
     "output_type": "stream",
     "text": [
      "                   all       1679       1795      0.919      0.941      0.958      0.669\n"
     ]
    },
    {
     "name": "stderr",
     "output_type": "stream",
     "text": [
      "\n"
     ]
    },
    {
     "name": "stdout",
     "output_type": "stream",
     "text": [
      "\n",
      "      Epoch    GPU_mem   box_loss   cls_loss   dfl_loss  Instances       Size\n"
     ]
    },
    {
     "name": "stderr",
     "output_type": "stream",
     "text": [
      "     45/100      1.53G      1.291     0.8839      1.533          5        640: 100%|██████████| 5064/5064 [07:12<00:00, 11.72it/s]\n",
      "                 Class     Images  Instances      Box(P          R      mAP50  mAP50-95): 100%|██████████| 210/210 [00:14<00:00, 14.88it/s]"
     ]
    },
    {
     "name": "stdout",
     "output_type": "stream",
     "text": [
      "                   all       1679       1795       0.92       0.94      0.958       0.67\n"
     ]
    },
    {
     "name": "stderr",
     "output_type": "stream",
     "text": [
      "\n"
     ]
    },
    {
     "name": "stdout",
     "output_type": "stream",
     "text": [
      "\n",
      "      Epoch    GPU_mem   box_loss   cls_loss   dfl_loss  Instances       Size\n"
     ]
    },
    {
     "name": "stderr",
     "output_type": "stream",
     "text": [
      "     46/100      1.53G      1.285     0.8848      1.532          9        640: 100%|██████████| 5064/5064 [07:13<00:00, 11.69it/s]\n",
      "                 Class     Images  Instances      Box(P          R      mAP50  mAP50-95): 100%|██████████| 210/210 [00:13<00:00, 15.27it/s]"
     ]
    },
    {
     "name": "stdout",
     "output_type": "stream",
     "text": [
      "                   all       1679       1795       0.92      0.941      0.959       0.67\n"
     ]
    },
    {
     "name": "stderr",
     "output_type": "stream",
     "text": [
      "\n"
     ]
    },
    {
     "name": "stdout",
     "output_type": "stream",
     "text": [
      "\n",
      "      Epoch    GPU_mem   box_loss   cls_loss   dfl_loss  Instances       Size\n"
     ]
    },
    {
     "name": "stderr",
     "output_type": "stream",
     "text": [
      "     47/100      1.52G      1.282     0.8765      1.527         10        640: 100%|██████████| 5064/5064 [07:06<00:00, 11.87it/s]\n",
      "                 Class     Images  Instances      Box(P          R      mAP50  mAP50-95): 100%|██████████| 210/210 [00:14<00:00, 14.51it/s]"
     ]
    },
    {
     "name": "stdout",
     "output_type": "stream",
     "text": [
      "                   all       1679       1795      0.917      0.945       0.96      0.672\n"
     ]
    },
    {
     "name": "stderr",
     "output_type": "stream",
     "text": [
      "\n"
     ]
    },
    {
     "name": "stdout",
     "output_type": "stream",
     "text": [
      "\n",
      "      Epoch    GPU_mem   box_loss   cls_loss   dfl_loss  Instances       Size\n"
     ]
    },
    {
     "name": "stderr",
     "output_type": "stream",
     "text": [
      "     48/100      1.48G      1.279      0.875      1.524          5        640: 100%|██████████| 5064/5064 [07:05<00:00, 11.89it/s]\n",
      "                 Class     Images  Instances      Box(P          R      mAP50  mAP50-95): 100%|██████████| 210/210 [00:14<00:00, 14.26it/s]"
     ]
    },
    {
     "name": "stdout",
     "output_type": "stream",
     "text": [
      "                   all       1679       1795      0.921      0.942      0.961      0.673\n"
     ]
    },
    {
     "name": "stderr",
     "output_type": "stream",
     "text": [
      "\n"
     ]
    },
    {
     "name": "stdout",
     "output_type": "stream",
     "text": [
      "\n",
      "      Epoch    GPU_mem   box_loss   cls_loss   dfl_loss  Instances       Size\n"
     ]
    },
    {
     "name": "stderr",
     "output_type": "stream",
     "text": [
      "     49/100       1.4G      1.266      0.862      1.518          7        640: 100%|██████████| 5064/5064 [07:04<00:00, 11.93it/s]\n",
      "                 Class     Images  Instances      Box(P          R      mAP50  mAP50-95): 100%|██████████| 210/210 [00:14<00:00, 14.62it/s]"
     ]
    },
    {
     "name": "stdout",
     "output_type": "stream",
     "text": [
      "                   all       1679       1795      0.921      0.943       0.96      0.673\n"
     ]
    },
    {
     "name": "stderr",
     "output_type": "stream",
     "text": [
      "\n"
     ]
    },
    {
     "name": "stdout",
     "output_type": "stream",
     "text": [
      "\n",
      "      Epoch    GPU_mem   box_loss   cls_loss   dfl_loss  Instances       Size\n"
     ]
    },
    {
     "name": "stderr",
     "output_type": "stream",
     "text": [
      "     50/100      1.42G      1.267     0.8577      1.516          8        640: 100%|██████████| 5064/5064 [07:04<00:00, 11.92it/s]\n",
      "                 Class     Images  Instances      Box(P          R      mAP50  mAP50-95): 100%|██████████| 210/210 [00:14<00:00, 14.39it/s]"
     ]
    },
    {
     "name": "stdout",
     "output_type": "stream",
     "text": [
      "                   all       1679       1795      0.923      0.945      0.962      0.673\n"
     ]
    },
    {
     "name": "stderr",
     "output_type": "stream",
     "text": [
      "\n"
     ]
    },
    {
     "name": "stdout",
     "output_type": "stream",
     "text": [
      "\n",
      "      Epoch    GPU_mem   box_loss   cls_loss   dfl_loss  Instances       Size\n"
     ]
    },
    {
     "name": "stderr",
     "output_type": "stream",
     "text": [
      "     51/100      1.54G      1.259     0.8512      1.511          9        640: 100%|██████████| 5064/5064 [07:06<00:00, 11.87it/s]\n",
      "                 Class     Images  Instances      Box(P          R      mAP50  mAP50-95): 100%|██████████| 210/210 [00:14<00:00, 14.69it/s]"
     ]
    },
    {
     "name": "stdout",
     "output_type": "stream",
     "text": [
      "                   all       1679       1795      0.922      0.948      0.961      0.674\n"
     ]
    },
    {
     "name": "stderr",
     "output_type": "stream",
     "text": [
      "\n"
     ]
    },
    {
     "name": "stdout",
     "output_type": "stream",
     "text": [
      "\n",
      "      Epoch    GPU_mem   box_loss   cls_loss   dfl_loss  Instances       Size\n"
     ]
    },
    {
     "name": "stderr",
     "output_type": "stream",
     "text": [
      "     52/100      1.55G      1.249     0.8507      1.503          8        640: 100%|██████████| 5064/5064 [07:02<00:00, 12.00it/s] \n",
      "                 Class     Images  Instances      Box(P          R      mAP50  mAP50-95): 100%|██████████| 210/210 [00:14<00:00, 14.01it/s]"
     ]
    },
    {
     "name": "stdout",
     "output_type": "stream",
     "text": [
      "                   all       1679       1795      0.922      0.948      0.962      0.675\n"
     ]
    },
    {
     "name": "stderr",
     "output_type": "stream",
     "text": [
      "\n"
     ]
    },
    {
     "name": "stdout",
     "output_type": "stream",
     "text": [
      "\n",
      "      Epoch    GPU_mem   box_loss   cls_loss   dfl_loss  Instances       Size\n"
     ]
    },
    {
     "name": "stderr",
     "output_type": "stream",
     "text": [
      "     53/100      1.53G      1.253     0.8375      1.499         10        640: 100%|██████████| 5064/5064 [07:07<00:00, 11.85it/s]\n",
      "                 Class     Images  Instances      Box(P          R      mAP50  mAP50-95): 100%|██████████| 210/210 [00:13<00:00, 15.14it/s]"
     ]
    },
    {
     "name": "stdout",
     "output_type": "stream",
     "text": [
      "                   all       1679       1795      0.923      0.946      0.963      0.675\n"
     ]
    },
    {
     "name": "stderr",
     "output_type": "stream",
     "text": [
      "\n"
     ]
    },
    {
     "name": "stdout",
     "output_type": "stream",
     "text": [
      "\n",
      "      Epoch    GPU_mem   box_loss   cls_loss   dfl_loss  Instances       Size\n"
     ]
    },
    {
     "name": "stderr",
     "output_type": "stream",
     "text": [
      "     54/100      1.43G      1.239     0.8364      1.491          4        640: 100%|██████████| 5064/5064 [07:06<00:00, 11.88it/s]\n",
      "                 Class     Images  Instances      Box(P          R      mAP50  mAP50-95): 100%|██████████| 210/210 [00:14<00:00, 14.57it/s]"
     ]
    },
    {
     "name": "stdout",
     "output_type": "stream",
     "text": [
      "                   all       1679       1795      0.924      0.951      0.965      0.676\n"
     ]
    },
    {
     "name": "stderr",
     "output_type": "stream",
     "text": [
      "\n"
     ]
    },
    {
     "name": "stdout",
     "output_type": "stream",
     "text": [
      "\n",
      "      Epoch    GPU_mem   box_loss   cls_loss   dfl_loss  Instances       Size\n"
     ]
    },
    {
     "name": "stderr",
     "output_type": "stream",
     "text": [
      "     55/100      1.53G      1.246     0.8356      1.499          8        640: 100%|██████████| 5064/5064 [07:06<00:00, 11.88it/s]\n",
      "                 Class     Images  Instances      Box(P          R      mAP50  mAP50-95): 100%|██████████| 210/210 [00:13<00:00, 15.33it/s]"
     ]
    },
    {
     "name": "stdout",
     "output_type": "stream",
     "text": [
      "                   all       1679       1795      0.923      0.953      0.965      0.678\n"
     ]
    },
    {
     "name": "stderr",
     "output_type": "stream",
     "text": [
      "\n"
     ]
    },
    {
     "name": "stdout",
     "output_type": "stream",
     "text": [
      "\n",
      "      Epoch    GPU_mem   box_loss   cls_loss   dfl_loss  Instances       Size\n"
     ]
    },
    {
     "name": "stderr",
     "output_type": "stream",
     "text": [
      "     56/100      1.52G      1.238     0.8324      1.491          8        640: 100%|██████████| 5064/5064 [07:04<00:00, 11.94it/s]\n",
      "                 Class     Images  Instances      Box(P          R      mAP50  mAP50-95): 100%|██████████| 210/210 [00:14<00:00, 14.79it/s]"
     ]
    },
    {
     "name": "stdout",
     "output_type": "stream",
     "text": [
      "                   all       1679       1795      0.927      0.951      0.965      0.677\n"
     ]
    },
    {
     "name": "stderr",
     "output_type": "stream",
     "text": [
      "\n"
     ]
    },
    {
     "name": "stdout",
     "output_type": "stream",
     "text": [
      "\n",
      "      Epoch    GPU_mem   box_loss   cls_loss   dfl_loss  Instances       Size\n"
     ]
    },
    {
     "name": "stderr",
     "output_type": "stream",
     "text": [
      "     57/100       1.4G      1.227     0.8188      1.476          8        640: 100%|██████████| 5064/5064 [07:04<00:00, 11.94it/s]\n",
      "                 Class     Images  Instances      Box(P          R      mAP50  mAP50-95): 100%|██████████| 210/210 [00:14<00:00, 14.85it/s]"
     ]
    },
    {
     "name": "stdout",
     "output_type": "stream",
     "text": [
      "                   all       1679       1795      0.931       0.95      0.965      0.677\n"
     ]
    },
    {
     "name": "stderr",
     "output_type": "stream",
     "text": [
      "\n"
     ]
    },
    {
     "name": "stdout",
     "output_type": "stream",
     "text": [
      "\n",
      "      Epoch    GPU_mem   box_loss   cls_loss   dfl_loss  Instances       Size\n"
     ]
    },
    {
     "name": "stderr",
     "output_type": "stream",
     "text": [
      "     58/100      1.55G       1.22     0.8185      1.478         12        640: 100%|██████████| 5064/5064 [07:03<00:00, 11.97it/s]\n",
      "                 Class     Images  Instances      Box(P          R      mAP50  mAP50-95): 100%|██████████| 210/210 [00:14<00:00, 14.50it/s]"
     ]
    },
    {
     "name": "stdout",
     "output_type": "stream",
     "text": [
      "                   all       1679       1795      0.933      0.948      0.964      0.678\n"
     ]
    },
    {
     "name": "stderr",
     "output_type": "stream",
     "text": [
      "\n"
     ]
    },
    {
     "name": "stdout",
     "output_type": "stream",
     "text": [
      "\n",
      "      Epoch    GPU_mem   box_loss   cls_loss   dfl_loss  Instances       Size\n"
     ]
    },
    {
     "name": "stderr",
     "output_type": "stream",
     "text": [
      "     59/100      1.54G      1.221     0.8086      1.474          7        640: 100%|██████████| 5064/5064 [07:07<00:00, 11.85it/s]\n",
      "                 Class     Images  Instances      Box(P          R      mAP50  mAP50-95): 100%|██████████| 210/210 [00:14<00:00, 14.27it/s]"
     ]
    },
    {
     "name": "stdout",
     "output_type": "stream",
     "text": [
      "                   all       1679       1795      0.932      0.949      0.965      0.679\n"
     ]
    },
    {
     "name": "stderr",
     "output_type": "stream",
     "text": [
      "\n"
     ]
    },
    {
     "name": "stdout",
     "output_type": "stream",
     "text": [
      "\n",
      "      Epoch    GPU_mem   box_loss   cls_loss   dfl_loss  Instances       Size\n"
     ]
    },
    {
     "name": "stderr",
     "output_type": "stream",
     "text": [
      "     60/100      1.42G      1.204      0.803      1.466          6        640: 100%|██████████| 5064/5064 [07:08<00:00, 11.81it/s]\n",
      "                 Class     Images  Instances      Box(P          R      mAP50  mAP50-95): 100%|██████████| 210/210 [00:14<00:00, 14.49it/s]"
     ]
    },
    {
     "name": "stdout",
     "output_type": "stream",
     "text": [
      "                   all       1679       1795      0.931      0.948      0.965      0.679\n"
     ]
    },
    {
     "name": "stderr",
     "output_type": "stream",
     "text": [
      "\n"
     ]
    },
    {
     "name": "stdout",
     "output_type": "stream",
     "text": [
      "\n",
      "      Epoch    GPU_mem   box_loss   cls_loss   dfl_loss  Instances       Size\n"
     ]
    },
    {
     "name": "stderr",
     "output_type": "stream",
     "text": [
      "     61/100      1.53G      1.208     0.8001      1.469          5        640: 100%|██████████| 5064/5064 [07:04<00:00, 11.94it/s]\n",
      "                 Class     Images  Instances      Box(P          R      mAP50  mAP50-95): 100%|██████████| 210/210 [00:15<00:00, 13.74it/s]"
     ]
    },
    {
     "name": "stdout",
     "output_type": "stream",
     "text": [
      "                   all       1679       1795       0.93      0.948      0.965       0.68\n"
     ]
    },
    {
     "name": "stderr",
     "output_type": "stream",
     "text": [
      "\n"
     ]
    },
    {
     "name": "stdout",
     "output_type": "stream",
     "text": [
      "\n",
      "      Epoch    GPU_mem   box_loss   cls_loss   dfl_loss  Instances       Size\n"
     ]
    },
    {
     "name": "stderr",
     "output_type": "stream",
     "text": [
      "     62/100      1.52G      1.203       0.79      1.464          5        640: 100%|██████████| 5064/5064 [07:03<00:00, 11.95it/s]\n",
      "                 Class     Images  Instances      Box(P          R      mAP50  mAP50-95): 100%|██████████| 210/210 [00:14<00:00, 14.65it/s]"
     ]
    },
    {
     "name": "stdout",
     "output_type": "stream",
     "text": [
      "                   all       1679       1795       0.93      0.947      0.963      0.681\n"
     ]
    },
    {
     "name": "stderr",
     "output_type": "stream",
     "text": [
      "\n"
     ]
    },
    {
     "name": "stdout",
     "output_type": "stream",
     "text": [
      "\n",
      "      Epoch    GPU_mem   box_loss   cls_loss   dfl_loss  Instances       Size\n"
     ]
    },
    {
     "name": "stderr",
     "output_type": "stream",
     "text": [
      "     63/100      1.53G      1.197     0.7869      1.458         10        640: 100%|██████████| 5064/5064 [07:04<00:00, 11.92it/s]\n",
      "                 Class     Images  Instances      Box(P          R      mAP50  mAP50-95): 100%|██████████| 210/210 [00:14<00:00, 14.09it/s]"
     ]
    },
    {
     "name": "stdout",
     "output_type": "stream",
     "text": [
      "                   all       1679       1795      0.932      0.948      0.963      0.682\n"
     ]
    },
    {
     "name": "stderr",
     "output_type": "stream",
     "text": [
      "\n"
     ]
    },
    {
     "name": "stdout",
     "output_type": "stream",
     "text": [
      "\n",
      "      Epoch    GPU_mem   box_loss   cls_loss   dfl_loss  Instances       Size\n"
     ]
    },
    {
     "name": "stderr",
     "output_type": "stream",
     "text": [
      "     64/100      1.52G      1.196     0.7878      1.452          9        640: 100%|██████████| 5064/5064 [07:06<00:00, 11.88it/s]\n",
      "                 Class     Images  Instances      Box(P          R      mAP50  mAP50-95): 100%|██████████| 210/210 [00:14<00:00, 14.52it/s]\n"
     ]
    },
    {
     "name": "stdout",
     "output_type": "stream",
     "text": [
      "                   all       1679       1795      0.933      0.949      0.964      0.682\n",
      "\n",
      "      Epoch    GPU_mem   box_loss   cls_loss   dfl_loss  Instances       Size\n"
     ]
    },
    {
     "name": "stderr",
     "output_type": "stream",
     "text": [
      "     65/100      1.52G      1.187     0.7811      1.446          7        640: 100%|██████████| 5064/5064 [07:07<00:00, 11.84it/s]\n",
      "                 Class     Images  Instances      Box(P          R      mAP50  mAP50-95): 100%|██████████| 210/210 [00:14<00:00, 14.02it/s]"
     ]
    },
    {
     "name": "stdout",
     "output_type": "stream",
     "text": [
      "                   all       1679       1795      0.932      0.949      0.963      0.683\n"
     ]
    },
    {
     "name": "stderr",
     "output_type": "stream",
     "text": [
      "\n"
     ]
    },
    {
     "name": "stdout",
     "output_type": "stream",
     "text": [
      "\n",
      "      Epoch    GPU_mem   box_loss   cls_loss   dfl_loss  Instances       Size\n"
     ]
    },
    {
     "name": "stderr",
     "output_type": "stream",
     "text": [
      "     66/100       1.5G       1.19     0.7811       1.45          9        640: 100%|██████████| 5064/5064 [07:06<00:00, 11.89it/s]\n",
      "                 Class     Images  Instances      Box(P          R      mAP50  mAP50-95): 100%|██████████| 210/210 [00:14<00:00, 14.02it/s]"
     ]
    },
    {
     "name": "stdout",
     "output_type": "stream",
     "text": [
      "                   all       1679       1795      0.933       0.95      0.964      0.683\n"
     ]
    },
    {
     "name": "stderr",
     "output_type": "stream",
     "text": [
      "\n"
     ]
    },
    {
     "name": "stdout",
     "output_type": "stream",
     "text": [
      "\n",
      "      Epoch    GPU_mem   box_loss   cls_loss   dfl_loss  Instances       Size\n"
     ]
    },
    {
     "name": "stderr",
     "output_type": "stream",
     "text": [
      "     67/100       1.4G      1.184     0.7699      1.443         12        640: 100%|██████████| 5064/5064 [07:03<00:00, 11.95it/s]\n",
      "                 Class     Images  Instances      Box(P          R      mAP50  mAP50-95): 100%|██████████| 210/210 [00:14<00:00, 14.41it/s]"
     ]
    },
    {
     "name": "stdout",
     "output_type": "stream",
     "text": [
      "                   all       1679       1795      0.933      0.949      0.963      0.684\n"
     ]
    },
    {
     "name": "stderr",
     "output_type": "stream",
     "text": [
      "\n"
     ]
    },
    {
     "name": "stdout",
     "output_type": "stream",
     "text": [
      "\n",
      "      Epoch    GPU_mem   box_loss   cls_loss   dfl_loss  Instances       Size\n"
     ]
    },
    {
     "name": "stderr",
     "output_type": "stream",
     "text": [
      "     68/100      1.55G      1.177      0.767      1.434          9        640: 100%|██████████| 5064/5064 [07:01<00:00, 12.00it/s]\n",
      "                 Class     Images  Instances      Box(P          R      mAP50  mAP50-95): 100%|██████████| 210/210 [00:15<00:00, 13.73it/s]"
     ]
    },
    {
     "name": "stdout",
     "output_type": "stream",
     "text": [
      "                   all       1679       1795      0.934       0.95      0.966      0.685\n"
     ]
    },
    {
     "name": "stderr",
     "output_type": "stream",
     "text": [
      "\n"
     ]
    },
    {
     "name": "stdout",
     "output_type": "stream",
     "text": [
      "\n",
      "      Epoch    GPU_mem   box_loss   cls_loss   dfl_loss  Instances       Size\n"
     ]
    },
    {
     "name": "stderr",
     "output_type": "stream",
     "text": [
      "     69/100      1.54G      1.177      0.772       1.44          9        640: 100%|██████████| 5064/5064 [07:06<00:00, 11.87it/s]\n",
      "                 Class     Images  Instances      Box(P          R      mAP50  mAP50-95): 100%|██████████| 210/210 [00:13<00:00, 15.35it/s]"
     ]
    },
    {
     "name": "stdout",
     "output_type": "stream",
     "text": [
      "                   all       1679       1795      0.934       0.95      0.965      0.686\n"
     ]
    },
    {
     "name": "stderr",
     "output_type": "stream",
     "text": [
      "\n"
     ]
    },
    {
     "name": "stdout",
     "output_type": "stream",
     "text": [
      "\n",
      "      Epoch    GPU_mem   box_loss   cls_loss   dfl_loss  Instances       Size\n"
     ]
    },
    {
     "name": "stderr",
     "output_type": "stream",
     "text": [
      "     70/100      1.55G      1.165     0.7592      1.428          4        640: 100%|██████████| 5064/5064 [07:03<00:00, 11.95it/s]\n",
      "                 Class     Images  Instances      Box(P          R      mAP50  mAP50-95): 100%|██████████| 210/210 [00:14<00:00, 14.77it/s]"
     ]
    },
    {
     "name": "stdout",
     "output_type": "stream",
     "text": [
      "                   all       1679       1795      0.935       0.95      0.965      0.687\n"
     ]
    },
    {
     "name": "stderr",
     "output_type": "stream",
     "text": [
      "\n"
     ]
    },
    {
     "name": "stdout",
     "output_type": "stream",
     "text": [
      "\n",
      "      Epoch    GPU_mem   box_loss   cls_loss   dfl_loss  Instances       Size\n"
     ]
    },
    {
     "name": "stderr",
     "output_type": "stream",
     "text": [
      "     71/100      1.53G      1.166     0.7545       1.43         10        640: 100%|██████████| 5064/5064 [07:04<00:00, 11.94it/s]\n",
      "                 Class     Images  Instances      Box(P          R      mAP50  mAP50-95): 100%|██████████| 210/210 [00:14<00:00, 14.64it/s]"
     ]
    },
    {
     "name": "stdout",
     "output_type": "stream",
     "text": [
      "                   all       1679       1795      0.935      0.949      0.966      0.688\n"
     ]
    },
    {
     "name": "stderr",
     "output_type": "stream",
     "text": [
      "\n"
     ]
    },
    {
     "name": "stdout",
     "output_type": "stream",
     "text": [
      "\n",
      "      Epoch    GPU_mem   box_loss   cls_loss   dfl_loss  Instances       Size\n"
     ]
    },
    {
     "name": "stderr",
     "output_type": "stream",
     "text": [
      "     72/100      1.53G      1.158     0.7521      1.417          5        640: 100%|██████████| 5064/5064 [07:02<00:00, 11.97it/s]\n",
      "                 Class     Images  Instances      Box(P          R      mAP50  mAP50-95): 100%|██████████| 210/210 [00:14<00:00, 14.59it/s]"
     ]
    },
    {
     "name": "stdout",
     "output_type": "stream",
     "text": [
      "                   all       1679       1795      0.937       0.95      0.966      0.688\n"
     ]
    },
    {
     "name": "stderr",
     "output_type": "stream",
     "text": [
      "\n"
     ]
    },
    {
     "name": "stdout",
     "output_type": "stream",
     "text": [
      "\n",
      "      Epoch    GPU_mem   box_loss   cls_loss   dfl_loss  Instances       Size\n"
     ]
    },
    {
     "name": "stderr",
     "output_type": "stream",
     "text": [
      "     73/100      1.52G      1.151     0.7426      1.416          4        640: 100%|██████████| 5064/5064 [07:05<00:00, 11.91it/s]\n",
      "                 Class     Images  Instances      Box(P          R      mAP50  mAP50-95): 100%|██████████| 210/210 [00:14<00:00, 14.07it/s]"
     ]
    },
    {
     "name": "stdout",
     "output_type": "stream",
     "text": [
      "                   all       1679       1795      0.936       0.95      0.965      0.688\n"
     ]
    },
    {
     "name": "stderr",
     "output_type": "stream",
     "text": [
      "\n"
     ]
    },
    {
     "name": "stdout",
     "output_type": "stream",
     "text": [
      "\n",
      "      Epoch    GPU_mem   box_loss   cls_loss   dfl_loss  Instances       Size\n"
     ]
    },
    {
     "name": "stderr",
     "output_type": "stream",
     "text": [
      "     74/100      1.52G       1.15     0.7402      1.415          9        640: 100%|██████████| 5064/5064 [07:04<00:00, 11.92it/s]\n",
      "                 Class     Images  Instances      Box(P          R      mAP50  mAP50-95): 100%|██████████| 210/210 [00:14<00:00, 14.72it/s]"
     ]
    },
    {
     "name": "stdout",
     "output_type": "stream",
     "text": [
      "                   all       1679       1795      0.936      0.952      0.966      0.689\n"
     ]
    },
    {
     "name": "stderr",
     "output_type": "stream",
     "text": [
      "\n"
     ]
    },
    {
     "name": "stdout",
     "output_type": "stream",
     "text": [
      "\n",
      "      Epoch    GPU_mem   box_loss   cls_loss   dfl_loss  Instances       Size\n"
     ]
    },
    {
     "name": "stderr",
     "output_type": "stream",
     "text": [
      "     75/100      1.53G      1.149     0.7397      1.416          7        640: 100%|██████████| 5064/5064 [07:05<00:00, 11.90it/s]\n",
      "                 Class     Images  Instances      Box(P          R      mAP50  mAP50-95): 100%|██████████| 210/210 [00:15<00:00, 13.94it/s]"
     ]
    },
    {
     "name": "stdout",
     "output_type": "stream",
     "text": [
      "                   all       1679       1795      0.937      0.952      0.966       0.69\n"
     ]
    },
    {
     "name": "stderr",
     "output_type": "stream",
     "text": [
      "\n"
     ]
    },
    {
     "name": "stdout",
     "output_type": "stream",
     "text": [
      "\n",
      "      Epoch    GPU_mem   box_loss   cls_loss   dfl_loss  Instances       Size\n"
     ]
    },
    {
     "name": "stderr",
     "output_type": "stream",
     "text": [
      "     76/100      1.55G      1.139     0.7311      1.409          8        640: 100%|██████████| 5064/5064 [07:03<00:00, 11.95it/s]\n",
      "                 Class     Images  Instances      Box(P          R      mAP50  mAP50-95): 100%|██████████| 210/210 [00:13<00:00, 15.07it/s]"
     ]
    },
    {
     "name": "stdout",
     "output_type": "stream",
     "text": [
      "                   all       1679       1795      0.938      0.953      0.966      0.691\n"
     ]
    },
    {
     "name": "stderr",
     "output_type": "stream",
     "text": [
      "\n"
     ]
    },
    {
     "name": "stdout",
     "output_type": "stream",
     "text": [
      "\n",
      "      Epoch    GPU_mem   box_loss   cls_loss   dfl_loss  Instances       Size\n"
     ]
    },
    {
     "name": "stderr",
     "output_type": "stream",
     "text": [
      "     77/100      1.54G      1.137     0.7319      1.402          4        640: 100%|██████████| 5064/5064 [07:03<00:00, 11.97it/s]\n",
      "                 Class     Images  Instances      Box(P          R      mAP50  mAP50-95): 100%|██████████| 210/210 [00:14<00:00, 14.75it/s]"
     ]
    },
    {
     "name": "stdout",
     "output_type": "stream",
     "text": [
      "                   all       1679       1795      0.939      0.953      0.966      0.691\n"
     ]
    },
    {
     "name": "stderr",
     "output_type": "stream",
     "text": [
      "\n"
     ]
    },
    {
     "name": "stdout",
     "output_type": "stream",
     "text": [
      "\n",
      "      Epoch    GPU_mem   box_loss   cls_loss   dfl_loss  Instances       Size\n"
     ]
    },
    {
     "name": "stderr",
     "output_type": "stream",
     "text": [
      "     78/100      1.42G      1.125     0.7193      1.397          8        640: 100%|██████████| 5064/5064 [07:08<00:00, 11.83it/s]\n",
      "                 Class     Images  Instances      Box(P          R      mAP50  mAP50-95): 100%|██████████| 210/210 [00:13<00:00, 15.13it/s]"
     ]
    },
    {
     "name": "stdout",
     "output_type": "stream",
     "text": [
      "                   all       1679       1795      0.939      0.953      0.966      0.692\n"
     ]
    },
    {
     "name": "stderr",
     "output_type": "stream",
     "text": [
      "\n"
     ]
    },
    {
     "name": "stdout",
     "output_type": "stream",
     "text": [
      "\n",
      "      Epoch    GPU_mem   box_loss   cls_loss   dfl_loss  Instances       Size\n"
     ]
    },
    {
     "name": "stderr",
     "output_type": "stream",
     "text": [
      "     79/100      1.53G      1.125     0.7137      1.393          9        640: 100%|██████████| 5064/5064 [07:06<00:00, 11.87it/s]\n",
      "                 Class     Images  Instances      Box(P          R      mAP50  mAP50-95): 100%|██████████| 210/210 [00:13<00:00, 15.08it/s]"
     ]
    },
    {
     "name": "stdout",
     "output_type": "stream",
     "text": [
      "                   all       1679       1795       0.94      0.953      0.966      0.692\n"
     ]
    },
    {
     "name": "stderr",
     "output_type": "stream",
     "text": [
      "\n"
     ]
    },
    {
     "name": "stdout",
     "output_type": "stream",
     "text": [
      "\n",
      "      Epoch    GPU_mem   box_loss   cls_loss   dfl_loss  Instances       Size\n"
     ]
    },
    {
     "name": "stderr",
     "output_type": "stream",
     "text": [
      "     80/100      1.55G      1.116     0.7145      1.388          8        640: 100%|██████████| 5064/5064 [07:03<00:00, 11.96it/s]\n",
      "                 Class     Images  Instances      Box(P          R      mAP50  mAP50-95): 100%|██████████| 210/210 [00:14<00:00, 14.31it/s]"
     ]
    },
    {
     "name": "stdout",
     "output_type": "stream",
     "text": [
      "                   all       1679       1795      0.941      0.953      0.966      0.692\n"
     ]
    },
    {
     "name": "stderr",
     "output_type": "stream",
     "text": [
      "\n"
     ]
    },
    {
     "name": "stdout",
     "output_type": "stream",
     "text": [
      "\n",
      "      Epoch    GPU_mem   box_loss   cls_loss   dfl_loss  Instances       Size\n"
     ]
    },
    {
     "name": "stderr",
     "output_type": "stream",
     "text": [
      "     81/100      1.53G      1.115     0.7102      1.385         11        640: 100%|██████████| 5064/5064 [07:05<00:00, 11.89it/s]\n",
      "                 Class     Images  Instances      Box(P          R      mAP50  mAP50-95): 100%|██████████| 210/210 [00:13<00:00, 15.17it/s]"
     ]
    },
    {
     "name": "stdout",
     "output_type": "stream",
     "text": [
      "                   all       1679       1795      0.937      0.953      0.967      0.693\n"
     ]
    },
    {
     "name": "stderr",
     "output_type": "stream",
     "text": [
      "\n"
     ]
    },
    {
     "name": "stdout",
     "output_type": "stream",
     "text": [
      "\n",
      "      Epoch    GPU_mem   box_loss   cls_loss   dfl_loss  Instances       Size\n"
     ]
    },
    {
     "name": "stderr",
     "output_type": "stream",
     "text": [
      "     82/100      1.52G      1.117     0.7075      1.385         12        640: 100%|██████████| 5064/5064 [07:03<00:00, 11.95it/s]\n",
      "                 Class     Images  Instances      Box(P          R      mAP50  mAP50-95): 100%|██████████| 210/210 [00:13<00:00, 15.13it/s]"
     ]
    },
    {
     "name": "stdout",
     "output_type": "stream",
     "text": [
      "                   all       1679       1795      0.938      0.953      0.967      0.694\n"
     ]
    },
    {
     "name": "stderr",
     "output_type": "stream",
     "text": [
      "\n"
     ]
    },
    {
     "name": "stdout",
     "output_type": "stream",
     "text": [
      "\n",
      "      Epoch    GPU_mem   box_loss   cls_loss   dfl_loss  Instances       Size\n"
     ]
    },
    {
     "name": "stderr",
     "output_type": "stream",
     "text": [
      "     83/100       1.4G      1.099     0.6987      1.382          9        640: 100%|██████████| 5064/5064 [07:03<00:00, 11.96it/s]\n",
      "                 Class     Images  Instances      Box(P          R      mAP50  mAP50-95): 100%|██████████| 210/210 [00:13<00:00, 15.35it/s]"
     ]
    },
    {
     "name": "stdout",
     "output_type": "stream",
     "text": [
      "                   all       1679       1795      0.938      0.953      0.967      0.695\n"
     ]
    },
    {
     "name": "stderr",
     "output_type": "stream",
     "text": [
      "\n"
     ]
    },
    {
     "name": "stdout",
     "output_type": "stream",
     "text": [
      "\n",
      "      Epoch    GPU_mem   box_loss   cls_loss   dfl_loss  Instances       Size\n"
     ]
    },
    {
     "name": "stderr",
     "output_type": "stream",
     "text": [
      "     84/100      1.53G      1.101     0.6924      1.374          6        640: 100%|██████████| 5064/5064 [07:07<00:00, 11.83it/s]\n",
      "                 Class     Images  Instances      Box(P          R      mAP50  mAP50-95): 100%|██████████| 210/210 [00:14<00:00, 14.03it/s]"
     ]
    },
    {
     "name": "stdout",
     "output_type": "stream",
     "text": [
      "                   all       1679       1795      0.939      0.953      0.967      0.695\n"
     ]
    },
    {
     "name": "stderr",
     "output_type": "stream",
     "text": [
      "\n"
     ]
    },
    {
     "name": "stdout",
     "output_type": "stream",
     "text": [
      "\n",
      "      Epoch    GPU_mem   box_loss   cls_loss   dfl_loss  Instances       Size\n"
     ]
    },
    {
     "name": "stderr",
     "output_type": "stream",
     "text": [
      "     85/100      1.54G      1.095     0.6847       1.37         13        640: 100%|██████████| 5064/5064 [07:03<00:00, 11.97it/s]\n",
      "                 Class     Images  Instances      Box(P          R      mAP50  mAP50-95): 100%|██████████| 210/210 [00:14<00:00, 14.57it/s]"
     ]
    },
    {
     "name": "stdout",
     "output_type": "stream",
     "text": [
      "                   all       1679       1795      0.938      0.953      0.967      0.695\n"
     ]
    },
    {
     "name": "stderr",
     "output_type": "stream",
     "text": [
      "\n"
     ]
    },
    {
     "name": "stdout",
     "output_type": "stream",
     "text": [
      "\n",
      "      Epoch    GPU_mem   box_loss   cls_loss   dfl_loss  Instances       Size\n"
     ]
    },
    {
     "name": "stderr",
     "output_type": "stream",
     "text": [
      "     86/100      1.42G      1.077     0.6836      1.362         11        640: 100%|██████████| 5064/5064 [07:03<00:00, 11.95it/s]\n",
      "                 Class     Images  Instances      Box(P          R      mAP50  mAP50-95): 100%|██████████| 210/210 [00:14<00:00, 14.13it/s]\n"
     ]
    },
    {
     "name": "stdout",
     "output_type": "stream",
     "text": [
      "                   all       1679       1795      0.938      0.953      0.968      0.695\n",
      "\n",
      "      Epoch    GPU_mem   box_loss   cls_loss   dfl_loss  Instances       Size\n"
     ]
    },
    {
     "name": "stderr",
     "output_type": "stream",
     "text": [
      "     87/100      1.53G      1.085     0.6817      1.364          9        640: 100%|██████████| 5064/5064 [07:02<00:00, 12.00it/s]\n",
      "                 Class     Images  Instances      Box(P          R      mAP50  mAP50-95): 100%|██████████| 210/210 [00:14<00:00, 14.12it/s]"
     ]
    },
    {
     "name": "stdout",
     "output_type": "stream",
     "text": [
      "                   all       1679       1795      0.939      0.955      0.969      0.696\n"
     ]
    },
    {
     "name": "stderr",
     "output_type": "stream",
     "text": [
      "\n"
     ]
    },
    {
     "name": "stdout",
     "output_type": "stream",
     "text": [
      "\n",
      "      Epoch    GPU_mem   box_loss   cls_loss   dfl_loss  Instances       Size\n"
     ]
    },
    {
     "name": "stderr",
     "output_type": "stream",
     "text": [
      "     88/100      1.51G      1.077     0.6779      1.359          9        640: 100%|██████████| 5064/5064 [07:07<00:00, 11.85it/s]\n",
      "                 Class     Images  Instances      Box(P          R      mAP50  mAP50-95): 100%|██████████| 210/210 [00:15<00:00, 13.96it/s]\n"
     ]
    },
    {
     "name": "stdout",
     "output_type": "stream",
     "text": [
      "                   all       1679       1795      0.939      0.955      0.969      0.697\n",
      "\n",
      "      Epoch    GPU_mem   box_loss   cls_loss   dfl_loss  Instances       Size\n"
     ]
    },
    {
     "name": "stderr",
     "output_type": "stream",
     "text": [
      "     89/100      1.53G      1.066     0.6666      1.349          8        640: 100%|██████████| 5064/5064 [07:06<00:00, 11.88it/s]\n",
      "                 Class     Images  Instances      Box(P          R      mAP50  mAP50-95): 100%|██████████| 210/210 [00:15<00:00, 13.96it/s]"
     ]
    },
    {
     "name": "stdout",
     "output_type": "stream",
     "text": [
      "                   all       1679       1795      0.939      0.955      0.969      0.697\n"
     ]
    },
    {
     "name": "stderr",
     "output_type": "stream",
     "text": [
      "\n"
     ]
    },
    {
     "name": "stdout",
     "output_type": "stream",
     "text": [
      "\n",
      "      Epoch    GPU_mem   box_loss   cls_loss   dfl_loss  Instances       Size\n"
     ]
    },
    {
     "name": "stderr",
     "output_type": "stream",
     "text": [
      "     90/100      1.53G      1.073      0.672      1.351          8        640: 100%|██████████| 5064/5064 [07:02<00:00, 11.97it/s]\n",
      "                 Class     Images  Instances      Box(P          R      mAP50  mAP50-95): 100%|██████████| 210/210 [00:14<00:00, 14.93it/s]"
     ]
    },
    {
     "name": "stdout",
     "output_type": "stream",
     "text": [
      "                   all       1679       1795      0.941      0.953      0.969      0.697\n"
     ]
    },
    {
     "name": "stderr",
     "output_type": "stream",
     "text": [
      "\n"
     ]
    },
    {
     "name": "stdout",
     "output_type": "stream",
     "text": [
      "Closing dataloader mosaic\n",
      "\n",
      "      Epoch    GPU_mem   box_loss   cls_loss   dfl_loss  Instances       Size\n"
     ]
    },
    {
     "name": "stderr",
     "output_type": "stream",
     "text": [
      "     91/100      1.52G      1.013     0.5075      1.291          4        640: 100%|██████████| 5064/5064 [07:03<00:00, 11.96it/s]\n",
      "                 Class     Images  Instances      Box(P          R      mAP50  mAP50-95): 100%|██████████| 210/210 [00:14<00:00, 14.06it/s]"
     ]
    },
    {
     "name": "stdout",
     "output_type": "stream",
     "text": [
      "                   all       1679       1795       0.94      0.953      0.969      0.698\n"
     ]
    },
    {
     "name": "stderr",
     "output_type": "stream",
     "text": [
      "\n"
     ]
    },
    {
     "name": "stdout",
     "output_type": "stream",
     "text": [
      "\n",
      "      Epoch    GPU_mem   box_loss   cls_loss   dfl_loss  Instances       Size\n"
     ]
    },
    {
     "name": "stderr",
     "output_type": "stream",
     "text": [
      "     92/100      1.54G     0.9977     0.4953      1.281          3        640: 100%|██████████| 5064/5064 [07:01<00:00, 12.01it/s]\n",
      "                 Class     Images  Instances      Box(P          R      mAP50  mAP50-95): 100%|██████████| 210/210 [00:13<00:00, 15.12it/s]"
     ]
    },
    {
     "name": "stdout",
     "output_type": "stream",
     "text": [
      "                   all       1679       1795      0.942      0.954      0.969      0.699\n"
     ]
    },
    {
     "name": "stderr",
     "output_type": "stream",
     "text": [
      "\n"
     ]
    },
    {
     "name": "stdout",
     "output_type": "stream",
     "text": [
      "\n",
      "      Epoch    GPU_mem   box_loss   cls_loss   dfl_loss  Instances       Size\n"
     ]
    },
    {
     "name": "stderr",
     "output_type": "stream",
     "text": [
      "     93/100       1.4G     0.9925      0.492      1.274          4        640: 100%|██████████| 5064/5064 [07:01<00:00, 12.01it/s]\n",
      "                 Class     Images  Instances      Box(P          R      mAP50  mAP50-95): 100%|██████████| 210/210 [00:14<00:00, 14.36it/s]"
     ]
    },
    {
     "name": "stdout",
     "output_type": "stream",
     "text": [
      "                   all       1679       1795      0.942      0.954      0.969      0.699\n"
     ]
    },
    {
     "name": "stderr",
     "output_type": "stream",
     "text": [
      "\n"
     ]
    },
    {
     "name": "stdout",
     "output_type": "stream",
     "text": [
      "\n",
      "      Epoch    GPU_mem   box_loss   cls_loss   dfl_loss  Instances       Size\n"
     ]
    },
    {
     "name": "stderr",
     "output_type": "stream",
     "text": [
      "     94/100      1.42G     0.9854     0.4874      1.271          5        640: 100%|██████████| 5064/5064 [07:02<00:00, 11.97it/s]\n",
      "                 Class     Images  Instances      Box(P          R      mAP50  mAP50-95): 100%|██████████| 210/210 [00:14<00:00, 14.06it/s]"
     ]
    },
    {
     "name": "stdout",
     "output_type": "stream",
     "text": [
      "                   all       1679       1795      0.943      0.954      0.969        0.7\n"
     ]
    },
    {
     "name": "stderr",
     "output_type": "stream",
     "text": [
      "\n"
     ]
    },
    {
     "name": "stdout",
     "output_type": "stream",
     "text": [
      "\n",
      "      Epoch    GPU_mem   box_loss   cls_loss   dfl_loss  Instances       Size\n"
     ]
    },
    {
     "name": "stderr",
     "output_type": "stream",
     "text": [
      "     95/100      1.54G     0.9747     0.4806      1.261          4        640: 100%|██████████| 5064/5064 [06:58<00:00, 12.09it/s]\n",
      "                 Class     Images  Instances      Box(P          R      mAP50  mAP50-95): 100%|██████████| 210/210 [00:14<00:00, 14.81it/s]"
     ]
    },
    {
     "name": "stdout",
     "output_type": "stream",
     "text": [
      "                   all       1679       1795      0.943      0.954       0.97        0.7\n"
     ]
    },
    {
     "name": "stderr",
     "output_type": "stream",
     "text": [
      "\n"
     ]
    },
    {
     "name": "stdout",
     "output_type": "stream",
     "text": [
      "\n",
      "      Epoch    GPU_mem   box_loss   cls_loss   dfl_loss  Instances       Size\n"
     ]
    },
    {
     "name": "stderr",
     "output_type": "stream",
     "text": [
      "     96/100      1.55G     0.9643     0.4727      1.255          4        640: 100%|██████████| 5064/5064 [07:01<00:00, 12.02it/s]\n",
      "                 Class     Images  Instances      Box(P          R      mAP50  mAP50-95): 100%|██████████| 210/210 [00:14<00:00, 14.18it/s]"
     ]
    },
    {
     "name": "stdout",
     "output_type": "stream",
     "text": [
      "                   all       1679       1795      0.943      0.953       0.97      0.701\n"
     ]
    },
    {
     "name": "stderr",
     "output_type": "stream",
     "text": [
      "\n"
     ]
    },
    {
     "name": "stdout",
     "output_type": "stream",
     "text": [
      "\n",
      "      Epoch    GPU_mem   box_loss   cls_loss   dfl_loss  Instances       Size\n"
     ]
    },
    {
     "name": "stderr",
     "output_type": "stream",
     "text": [
      "     97/100      1.53G     0.9582     0.4712      1.248          4        640: 100%|██████████| 5064/5064 [07:03<00:00, 11.95it/s]\n",
      "                 Class     Images  Instances      Box(P          R      mAP50  mAP50-95): 100%|██████████| 210/210 [00:14<00:00, 14.79it/s]"
     ]
    },
    {
     "name": "stdout",
     "output_type": "stream",
     "text": [
      "                   all       1679       1795      0.944      0.953       0.97      0.701\n"
     ]
    },
    {
     "name": "stderr",
     "output_type": "stream",
     "text": [
      "\n"
     ]
    },
    {
     "name": "stdout",
     "output_type": "stream",
     "text": [
      "\n",
      "      Epoch    GPU_mem   box_loss   cls_loss   dfl_loss  Instances       Size\n"
     ]
    },
    {
     "name": "stderr",
     "output_type": "stream",
     "text": [
      "     98/100      1.51G     0.9516     0.4677      1.242          4        640: 100%|██████████| 5064/5064 [07:00<00:00, 12.04it/s]\n",
      "                 Class     Images  Instances      Box(P          R      mAP50  mAP50-95): 100%|██████████| 210/210 [00:14<00:00, 14.78it/s]"
     ]
    },
    {
     "name": "stdout",
     "output_type": "stream",
     "text": [
      "                   all       1679       1795      0.944      0.953       0.97      0.702\n"
     ]
    },
    {
     "name": "stderr",
     "output_type": "stream",
     "text": [
      "\n"
     ]
    },
    {
     "name": "stdout",
     "output_type": "stream",
     "text": [
      "\n",
      "      Epoch    GPU_mem   box_loss   cls_loss   dfl_loss  Instances       Size\n"
     ]
    },
    {
     "name": "stderr",
     "output_type": "stream",
     "text": [
      "     99/100      1.53G     0.9509     0.4652      1.242          5        640: 100%|██████████| 5064/5064 [07:00<00:00, 12.06it/s]\n",
      "                 Class     Images  Instances      Box(P          R      mAP50  mAP50-95): 100%|██████████| 210/210 [00:14<00:00, 14.37it/s]"
     ]
    },
    {
     "name": "stdout",
     "output_type": "stream",
     "text": [
      "                   all       1679       1795      0.946      0.954       0.97      0.702\n"
     ]
    },
    {
     "name": "stderr",
     "output_type": "stream",
     "text": [
      "\n"
     ]
    },
    {
     "name": "stdout",
     "output_type": "stream",
     "text": [
      "\n",
      "      Epoch    GPU_mem   box_loss   cls_loss   dfl_loss  Instances       Size\n"
     ]
    },
    {
     "name": "stderr",
     "output_type": "stream",
     "text": [
      "    100/100      1.55G     0.9399     0.4609      1.234          4        640: 100%|██████████| 5064/5064 [07:00<00:00, 12.05it/s]\n",
      "                 Class     Images  Instances      Box(P          R      mAP50  mAP50-95): 100%|██████████| 210/210 [00:13<00:00, 15.13it/s]"
     ]
    },
    {
     "name": "stdout",
     "output_type": "stream",
     "text": [
      "                   all       1679       1795      0.947      0.954       0.97      0.703\n"
     ]
    },
    {
     "name": "stderr",
     "output_type": "stream",
     "text": [
      "\n"
     ]
    },
    {
     "name": "stdout",
     "output_type": "stream",
     "text": [
      "\n",
      "100 epochs completed in 12.367 hours.\n",
      "Optimizer stripped from runs\\detect\\train74\\weights\\last.pt, 22.5MB\n",
      "Optimizer stripped from runs\\detect\\train74\\weights\\best.pt, 22.5MB\n",
      "\n",
      "Validating runs\\detect\\train74\\weights\\best.pt...\n",
      "Ultralytics 8.3.75  Python-3.8.18 torch-2.2.1 CUDA:0 (NVIDIA GeForce RTX 3060, 12288MiB)\n",
      "YOLOv8s summary (fused): 168 layers, 11,125,971 parameters, 0 gradients, 28.4 GFLOPs\n"
     ]
    },
    {
     "name": "stderr",
     "output_type": "stream",
     "text": [
      "                 Class     Images  Instances      Box(P          R      mAP50  mAP50-95): 100%|██████████| 210/210 [00:13<00:00, 15.69it/s]\n"
     ]
    },
    {
     "name": "stdout",
     "output_type": "stream",
     "text": [
      "                   all       1679       1795      0.947      0.954       0.97      0.702\n",
      "Speed: 0.2ms preprocess, 2.9ms inference, 0.0ms loss, 1.2ms postprocess per image\n",
      "Results saved to \u001B[1mruns\\detect\\train74\u001B[0m\n",
      "Model saved at: runs/detect/train/weights/best.pt\n"
     ]
    }
   ],
   "source": [
    "from ultralytics import YOLO\n",
    "\n",
    "# Load YOLOv8 model\n",
    "model = YOLO(\"yolov8s.yaml\")  # Change to \"yolov8s.yaml\" or \"yolov8m.yaml\" for larger models\n",
    "\n",
    "# Train the model\n",
    "model.train(data=f\"{DATASET_PATH}/data.yaml\", epochs=100, batch=4, imgsz=640, device=\"cuda\", half=True, cache=False)\n",
    "\n",
    "# Save trained model\n",
    "model_path = \"runs/detect/train/weights/best.pt\"\n",
    "print(f\"Model saved at: {model_path}\")\n"
   ],
   "metadata": {
    "collapsed": false,
    "ExecuteTime": {
     "end_time": "2025-02-17T02:35:17.488371Z",
     "start_time": "2025-02-16T14:11:52.784682Z"
    }
   },
   "id": "6203fd7d4377b956",
   "execution_count": 8
  },
  {
   "cell_type": "code",
   "outputs": [
    {
     "name": "stdout",
     "output_type": "stream",
     "text": [
      "Ultralytics 8.3.75  Python-3.8.18 torch-2.2.1 CUDA:0 (NVIDIA GeForce RTX 3060, 12288MiB)\n",
      "YOLOv8s summary (fused): 168 layers, 11,125,971 parameters, 0 gradients, 28.4 GFLOPs\n"
     ]
    },
    {
     "name": "stderr",
     "output_type": "stream",
     "text": [
      "\u001B[34m\u001B[1mval: \u001B[0mScanning G:\\Drone Detection\\untitled\\DRONES_NEW-4\\test\\labels... 1063 images, 1 backgrounds, 0 corrupt: 100%|██████████| 1063/1063 [00:01<00:00, 531.73it/s]\n"
     ]
    },
    {
     "name": "stdout",
     "output_type": "stream",
     "text": [
      "\u001B[34m\u001B[1mval: \u001B[0mNew cache created: G:\\Drone Detection\\untitled\\DRONES_NEW-4\\test\\labels.cache\n"
     ]
    },
    {
     "name": "stderr",
     "output_type": "stream",
     "text": [
      "                 Class     Images  Instances      Box(P          R      mAP50  mAP50-95): 100%|██████████| 67/67 [00:10<00:00,  6.42it/s]\n"
     ]
    },
    {
     "name": "stdout",
     "output_type": "stream",
     "text": [
      "                   all       1063       1124      0.928      0.952      0.969      0.678\n",
      "Speed: 0.2ms preprocess, 5.1ms inference, 0.0ms loss, 0.7ms postprocess per image\n",
      "Results saved to \u001B[1mruns\\detect\\val\u001B[0m\n",
      "ultralytics.utils.metrics.DetMetrics object with attributes:\n",
      "\n",
      "ap_class_index: array([0])\n",
      "box: ultralytics.utils.metrics.Metric object\n",
      "confusion_matrix: <ultralytics.utils.metrics.ConfusionMatrix object at 0x0000024DC1144310>\n",
      "curves: ['Precision-Recall(B)', 'F1-Confidence(B)', 'Precision-Confidence(B)', 'Recall-Confidence(B)']\n",
      "curves_results: [[array([          0,    0.001001,    0.002002,    0.003003,    0.004004,    0.005005,    0.006006,    0.007007,    0.008008,    0.009009,     0.01001,    0.011011,    0.012012,    0.013013,    0.014014,    0.015015,    0.016016,    0.017017,    0.018018,    0.019019,     0.02002,    0.021021,    0.022022,    0.023023,\n",
      "          0.024024,    0.025025,    0.026026,    0.027027,    0.028028,    0.029029,     0.03003,    0.031031,    0.032032,    0.033033,    0.034034,    0.035035,    0.036036,    0.037037,    0.038038,    0.039039,     0.04004,    0.041041,    0.042042,    0.043043,    0.044044,    0.045045,    0.046046,    0.047047,\n",
      "          0.048048,    0.049049,     0.05005,    0.051051,    0.052052,    0.053053,    0.054054,    0.055055,    0.056056,    0.057057,    0.058058,    0.059059,     0.06006,    0.061061,    0.062062,    0.063063,    0.064064,    0.065065,    0.066066,    0.067067,    0.068068,    0.069069,     0.07007,    0.071071,\n",
      "          0.072072,    0.073073,    0.074074,    0.075075,    0.076076,    0.077077,    0.078078,    0.079079,     0.08008,    0.081081,    0.082082,    0.083083,    0.084084,    0.085085,    0.086086,    0.087087,    0.088088,    0.089089,     0.09009,    0.091091,    0.092092,    0.093093,    0.094094,    0.095095,\n",
      "          0.096096,    0.097097,    0.098098,    0.099099,      0.1001,      0.1011,      0.1021,      0.1031,      0.1041,     0.10511,     0.10611,     0.10711,     0.10811,     0.10911,     0.11011,     0.11111,     0.11211,     0.11311,     0.11411,     0.11512,     0.11612,     0.11712,     0.11812,     0.11912,\n",
      "           0.12012,     0.12112,     0.12212,     0.12312,     0.12412,     0.12513,     0.12613,     0.12713,     0.12813,     0.12913,     0.13013,     0.13113,     0.13213,     0.13313,     0.13413,     0.13514,     0.13614,     0.13714,     0.13814,     0.13914,     0.14014,     0.14114,     0.14214,     0.14314,\n",
      "           0.14414,     0.14515,     0.14615,     0.14715,     0.14815,     0.14915,     0.15015,     0.15115,     0.15215,     0.15315,     0.15415,     0.15516,     0.15616,     0.15716,     0.15816,     0.15916,     0.16016,     0.16116,     0.16216,     0.16316,     0.16416,     0.16517,     0.16617,     0.16717,\n",
      "           0.16817,     0.16917,     0.17017,     0.17117,     0.17217,     0.17317,     0.17417,     0.17518,     0.17618,     0.17718,     0.17818,     0.17918,     0.18018,     0.18118,     0.18218,     0.18318,     0.18418,     0.18519,     0.18619,     0.18719,     0.18819,     0.18919,     0.19019,     0.19119,\n",
      "           0.19219,     0.19319,     0.19419,      0.1952,      0.1962,      0.1972,      0.1982,      0.1992,      0.2002,      0.2012,      0.2022,      0.2032,      0.2042,     0.20521,     0.20621,     0.20721,     0.20821,     0.20921,     0.21021,     0.21121,     0.21221,     0.21321,     0.21421,     0.21522,\n",
      "           0.21622,     0.21722,     0.21822,     0.21922,     0.22022,     0.22122,     0.22222,     0.22322,     0.22422,     0.22523,     0.22623,     0.22723,     0.22823,     0.22923,     0.23023,     0.23123,     0.23223,     0.23323,     0.23423,     0.23524,     0.23624,     0.23724,     0.23824,     0.23924,\n",
      "           0.24024,     0.24124,     0.24224,     0.24324,     0.24424,     0.24525,     0.24625,     0.24725,     0.24825,     0.24925,     0.25025,     0.25125,     0.25225,     0.25325,     0.25425,     0.25526,     0.25626,     0.25726,     0.25826,     0.25926,     0.26026,     0.26126,     0.26226,     0.26326,\n",
      "           0.26426,     0.26527,     0.26627,     0.26727,     0.26827,     0.26927,     0.27027,     0.27127,     0.27227,     0.27327,     0.27427,     0.27528,     0.27628,     0.27728,     0.27828,     0.27928,     0.28028,     0.28128,     0.28228,     0.28328,     0.28428,     0.28529,     0.28629,     0.28729,\n",
      "           0.28829,     0.28929,     0.29029,     0.29129,     0.29229,     0.29329,     0.29429,      0.2953,      0.2963,      0.2973,      0.2983,      0.2993,      0.3003,      0.3013,      0.3023,      0.3033,      0.3043,     0.30531,     0.30631,     0.30731,     0.30831,     0.30931,     0.31031,     0.31131,\n",
      "           0.31231,     0.31331,     0.31431,     0.31532,     0.31632,     0.31732,     0.31832,     0.31932,     0.32032,     0.32132,     0.32232,     0.32332,     0.32432,     0.32533,     0.32633,     0.32733,     0.32833,     0.32933,     0.33033,     0.33133,     0.33233,     0.33333,     0.33433,     0.33534,\n",
      "           0.33634,     0.33734,     0.33834,     0.33934,     0.34034,     0.34134,     0.34234,     0.34334,     0.34434,     0.34535,     0.34635,     0.34735,     0.34835,     0.34935,     0.35035,     0.35135,     0.35235,     0.35335,     0.35435,     0.35536,     0.35636,     0.35736,     0.35836,     0.35936,\n",
      "           0.36036,     0.36136,     0.36236,     0.36336,     0.36436,     0.36537,     0.36637,     0.36737,     0.36837,     0.36937,     0.37037,     0.37137,     0.37237,     0.37337,     0.37437,     0.37538,     0.37638,     0.37738,     0.37838,     0.37938,     0.38038,     0.38138,     0.38238,     0.38338,\n",
      "           0.38438,     0.38539,     0.38639,     0.38739,     0.38839,     0.38939,     0.39039,     0.39139,     0.39239,     0.39339,     0.39439,      0.3954,      0.3964,      0.3974,      0.3984,      0.3994,      0.4004,      0.4014,      0.4024,      0.4034,      0.4044,     0.40541,     0.40641,     0.40741,\n",
      "           0.40841,     0.40941,     0.41041,     0.41141,     0.41241,     0.41341,     0.41441,     0.41542,     0.41642,     0.41742,     0.41842,     0.41942,     0.42042,     0.42142,     0.42242,     0.42342,     0.42442,     0.42543,     0.42643,     0.42743,     0.42843,     0.42943,     0.43043,     0.43143,\n",
      "           0.43243,     0.43343,     0.43443,     0.43544,     0.43644,     0.43744,     0.43844,     0.43944,     0.44044,     0.44144,     0.44244,     0.44344,     0.44444,     0.44545,     0.44645,     0.44745,     0.44845,     0.44945,     0.45045,     0.45145,     0.45245,     0.45345,     0.45445,     0.45546,\n",
      "           0.45646,     0.45746,     0.45846,     0.45946,     0.46046,     0.46146,     0.46246,     0.46346,     0.46446,     0.46547,     0.46647,     0.46747,     0.46847,     0.46947,     0.47047,     0.47147,     0.47247,     0.47347,     0.47447,     0.47548,     0.47648,     0.47748,     0.47848,     0.47948,\n",
      "           0.48048,     0.48148,     0.48248,     0.48348,     0.48448,     0.48549,     0.48649,     0.48749,     0.48849,     0.48949,     0.49049,     0.49149,     0.49249,     0.49349,     0.49449,      0.4955,      0.4965,      0.4975,      0.4985,      0.4995,      0.5005,      0.5015,      0.5025,      0.5035,\n",
      "            0.5045,     0.50551,     0.50651,     0.50751,     0.50851,     0.50951,     0.51051,     0.51151,     0.51251,     0.51351,     0.51451,     0.51552,     0.51652,     0.51752,     0.51852,     0.51952,     0.52052,     0.52152,     0.52252,     0.52352,     0.52452,     0.52553,     0.52653,     0.52753,\n",
      "           0.52853,     0.52953,     0.53053,     0.53153,     0.53253,     0.53353,     0.53453,     0.53554,     0.53654,     0.53754,     0.53854,     0.53954,     0.54054,     0.54154,     0.54254,     0.54354,     0.54454,     0.54555,     0.54655,     0.54755,     0.54855,     0.54955,     0.55055,     0.55155,\n",
      "           0.55255,     0.55355,     0.55455,     0.55556,     0.55656,     0.55756,     0.55856,     0.55956,     0.56056,     0.56156,     0.56256,     0.56356,     0.56456,     0.56557,     0.56657,     0.56757,     0.56857,     0.56957,     0.57057,     0.57157,     0.57257,     0.57357,     0.57457,     0.57558,\n",
      "           0.57658,     0.57758,     0.57858,     0.57958,     0.58058,     0.58158,     0.58258,     0.58358,     0.58458,     0.58559,     0.58659,     0.58759,     0.58859,     0.58959,     0.59059,     0.59159,     0.59259,     0.59359,     0.59459,      0.5956,      0.5966,      0.5976,      0.5986,      0.5996,\n",
      "            0.6006,      0.6016,      0.6026,      0.6036,      0.6046,     0.60561,     0.60661,     0.60761,     0.60861,     0.60961,     0.61061,     0.61161,     0.61261,     0.61361,     0.61461,     0.61562,     0.61662,     0.61762,     0.61862,     0.61962,     0.62062,     0.62162,     0.62262,     0.62362,\n",
      "           0.62462,     0.62563,     0.62663,     0.62763,     0.62863,     0.62963,     0.63063,     0.63163,     0.63263,     0.63363,     0.63463,     0.63564,     0.63664,     0.63764,     0.63864,     0.63964,     0.64064,     0.64164,     0.64264,     0.64364,     0.64464,     0.64565,     0.64665,     0.64765,\n",
      "           0.64865,     0.64965,     0.65065,     0.65165,     0.65265,     0.65365,     0.65465,     0.65566,     0.65666,     0.65766,     0.65866,     0.65966,     0.66066,     0.66166,     0.66266,     0.66366,     0.66466,     0.66567,     0.66667,     0.66767,     0.66867,     0.66967,     0.67067,     0.67167,\n",
      "           0.67267,     0.67367,     0.67467,     0.67568,     0.67668,     0.67768,     0.67868,     0.67968,     0.68068,     0.68168,     0.68268,     0.68368,     0.68468,     0.68569,     0.68669,     0.68769,     0.68869,     0.68969,     0.69069,     0.69169,     0.69269,     0.69369,     0.69469,      0.6957,\n",
      "            0.6967,      0.6977,      0.6987,      0.6997,      0.7007,      0.7017,      0.7027,      0.7037,      0.7047,     0.70571,     0.70671,     0.70771,     0.70871,     0.70971,     0.71071,     0.71171,     0.71271,     0.71371,     0.71471,     0.71572,     0.71672,     0.71772,     0.71872,     0.71972,\n",
      "           0.72072,     0.72172,     0.72272,     0.72372,     0.72472,     0.72573,     0.72673,     0.72773,     0.72873,     0.72973,     0.73073,     0.73173,     0.73273,     0.73373,     0.73473,     0.73574,     0.73674,     0.73774,     0.73874,     0.73974,     0.74074,     0.74174,     0.74274,     0.74374,\n",
      "           0.74474,     0.74575,     0.74675,     0.74775,     0.74875,     0.74975,     0.75075,     0.75175,     0.75275,     0.75375,     0.75475,     0.75576,     0.75676,     0.75776,     0.75876,     0.75976,     0.76076,     0.76176,     0.76276,     0.76376,     0.76476,     0.76577,     0.76677,     0.76777,\n",
      "           0.76877,     0.76977,     0.77077,     0.77177,     0.77277,     0.77377,     0.77477,     0.77578,     0.77678,     0.77778,     0.77878,     0.77978,     0.78078,     0.78178,     0.78278,     0.78378,     0.78478,     0.78579,     0.78679,     0.78779,     0.78879,     0.78979,     0.79079,     0.79179,\n",
      "           0.79279,     0.79379,     0.79479,      0.7958,      0.7968,      0.7978,      0.7988,      0.7998,      0.8008,      0.8018,      0.8028,      0.8038,      0.8048,     0.80581,     0.80681,     0.80781,     0.80881,     0.80981,     0.81081,     0.81181,     0.81281,     0.81381,     0.81481,     0.81582,\n",
      "           0.81682,     0.81782,     0.81882,     0.81982,     0.82082,     0.82182,     0.82282,     0.82382,     0.82482,     0.82583,     0.82683,     0.82783,     0.82883,     0.82983,     0.83083,     0.83183,     0.83283,     0.83383,     0.83483,     0.83584,     0.83684,     0.83784,     0.83884,     0.83984,\n",
      "           0.84084,     0.84184,     0.84284,     0.84384,     0.84484,     0.84585,     0.84685,     0.84785,     0.84885,     0.84985,     0.85085,     0.85185,     0.85285,     0.85385,     0.85485,     0.85586,     0.85686,     0.85786,     0.85886,     0.85986,     0.86086,     0.86186,     0.86286,     0.86386,\n",
      "           0.86486,     0.86587,     0.86687,     0.86787,     0.86887,     0.86987,     0.87087,     0.87187,     0.87287,     0.87387,     0.87487,     0.87588,     0.87688,     0.87788,     0.87888,     0.87988,     0.88088,     0.88188,     0.88288,     0.88388,     0.88488,     0.88589,     0.88689,     0.88789,\n",
      "           0.88889,     0.88989,     0.89089,     0.89189,     0.89289,     0.89389,     0.89489,      0.8959,      0.8969,      0.8979,      0.8989,      0.8999,      0.9009,      0.9019,      0.9029,      0.9039,      0.9049,     0.90591,     0.90691,     0.90791,     0.90891,     0.90991,     0.91091,     0.91191,\n",
      "           0.91291,     0.91391,     0.91491,     0.91592,     0.91692,     0.91792,     0.91892,     0.91992,     0.92092,     0.92192,     0.92292,     0.92392,     0.92492,     0.92593,     0.92693,     0.92793,     0.92893,     0.92993,     0.93093,     0.93193,     0.93293,     0.93393,     0.93493,     0.93594,\n",
      "           0.93694,     0.93794,     0.93894,     0.93994,     0.94094,     0.94194,     0.94294,     0.94394,     0.94494,     0.94595,     0.94695,     0.94795,     0.94895,     0.94995,     0.95095,     0.95195,     0.95295,     0.95395,     0.95495,     0.95596,     0.95696,     0.95796,     0.95896,     0.95996,\n",
      "           0.96096,     0.96196,     0.96296,     0.96396,     0.96496,     0.96597,     0.96697,     0.96797,     0.96897,     0.96997,     0.97097,     0.97197,     0.97297,     0.97397,     0.97497,     0.97598,     0.97698,     0.97798,     0.97898,     0.97998,     0.98098,     0.98198,     0.98298,     0.98398,\n",
      "           0.98498,     0.98599,     0.98699,     0.98799,     0.98899,     0.98999,     0.99099,     0.99199,     0.99299,     0.99399,     0.99499,       0.996,       0.997,       0.998,       0.999,           1]), array([[          1,           1,           1,           1,           1,           1,           1,           1,           1,           1,           1,           1,           1,           1,           1,           1,           1,           1,           1,           1,           1,           1,           1,\n",
      "                  1,           1,           1,           1,           1,           1,           1,           1,           1,           1,           1,           1,           1,           1,           1,           1,           1,           1,           1,           1,           1,           1,           1,\n",
      "                  1,           1,           1,           1,           1,           1,           1,           1,           1,           1,           1,           1,           1,           1,           1,           1,           1,           1,           1,           1,           1,           1,           1,\n",
      "                  1,           1,           1,           1,           1,           1,           1,           1,           1,           1,           1,           1,           1,           1,           1,           1,           1,           1,           1,           1,           1,           1,           1,\n",
      "                  1,           1,           1,           1,           1,           1,           1,           1,           1,           1,           1,           1,           1,           1,           1,           1,           1,           1,           1,           1,           1,           1,           1,\n",
      "                  1,           1,           1,           1,           1,           1,           1,           1,           1,           1,           1,           1,           1,           1,           1,           1,           1,           1,           1,           1,           1,           1,           1,\n",
      "                  1,           1,           1,           1,           1,           1,           1,           1,           1,           1,           1,           1,           1,           1,           1,           1,           1,           1,           1,           1,           1,           1,           1,\n",
      "                  1,           1,           1,           1,           1,           1,           1,           1,           1,           1,           1,           1,           1,           1,           1,           1,           1,           1,           1,           1,           1,           1,           1,\n",
      "                  1,           1,           1,           1,           1,           1,           1,           1,           1,           1,           1,           1,           1,           1,           1,           1,           1,           1,           1,           1,           1,           1,           1,\n",
      "                  1,           1,           1,           1,           1,           1,           1,           1,           1,           1,           1,           1,           1,           1,           1,           1,           1,           1,           1,           1,           1,           1,           1,\n",
      "                  1,           1,     0.99712,     0.99712,     0.99712,     0.99712,     0.99712,     0.99712,     0.99712,     0.99712,     0.99712,     0.99712,     0.99712,     0.99712,     0.99712,     0.99712,     0.99712,     0.99712,     0.99712,     0.99712,     0.99712,     0.99712,     0.99712,\n",
      "            0.99712,     0.99712,     0.99712,     0.99712,     0.99712,     0.99712,     0.99712,     0.99712,     0.99712,     0.99712,     0.99712,     0.99712,     0.99712,     0.99712,     0.99712,     0.99712,     0.99712,     0.99712,     0.99712,     0.99712,     0.99712,     0.99712,     0.99712,\n",
      "            0.99712,     0.99712,     0.99712,     0.99712,     0.99712,     0.99712,     0.99712,     0.99712,     0.99712,     0.99712,     0.99712,     0.99712,     0.99712,     0.99712,     0.99712,     0.99712,     0.99712,     0.99712,     0.99712,     0.99712,     0.99712,     0.99712,     0.99712,\n",
      "            0.99712,     0.99712,     0.99712,     0.99712,     0.99712,     0.99712,     0.99712,     0.99712,     0.99712,     0.99465,     0.99465,     0.99465,     0.99465,     0.99465,     0.99465,     0.99465,     0.99465,     0.99465,     0.99465,     0.99465,     0.99465,     0.99465,     0.99465,\n",
      "            0.99465,     0.99465,     0.99465,     0.99465,     0.99465,     0.99465,     0.99465,     0.99465,     0.99465,     0.99286,     0.99286,     0.99286,     0.99286,     0.99286,     0.99286,     0.99286,     0.99286,     0.99286,     0.99286,     0.99286,     0.99286,     0.99286,     0.99286,\n",
      "            0.99286,     0.99286,     0.99286,     0.99286,     0.99286,     0.99286,     0.99286,     0.99286,     0.99286,     0.99286,     0.99286,     0.99286,     0.99286,     0.99286,     0.99286,     0.99286,     0.99286,     0.99286,     0.99286,     0.99286,     0.99286,     0.99286,     0.99286,\n",
      "            0.99286,     0.99286,     0.99286,     0.99215,     0.99215,     0.99215,     0.99215,     0.99215,     0.99215,     0.99215,     0.99215,     0.99215,     0.99215,     0.99215,     0.99215,     0.99215,     0.99215,     0.99215,     0.99215,     0.99215,     0.99215,     0.99215,     0.99215,\n",
      "            0.99215,     0.99215,     0.99215,     0.99215,     0.99215,     0.99215,     0.99215,     0.99215,     0.99215,     0.99215,     0.99215,     0.99215,     0.99215,     0.99215,     0.99215,     0.99215,     0.99215,     0.99215,     0.99215,     0.99215,     0.99215,     0.99215,     0.99215,\n",
      "            0.99215,     0.99215,     0.99215,     0.99215,     0.99215,     0.99215,     0.99215,     0.99215,     0.99215,     0.99215,     0.99215,     0.99215,     0.99215,     0.99215,     0.99215,     0.99215,     0.99215,     0.99215,     0.99215,     0.99215,     0.99215,     0.99215,     0.99215,\n",
      "            0.99215,     0.99215,     0.99215,     0.99215,     0.99215,     0.99215,     0.99215,     0.99215,     0.99215,     0.99215,     0.99215,     0.99215,     0.99215,     0.99215,     0.99215,     0.99215,     0.99215,     0.99215,     0.99215,     0.99215,     0.99215,     0.99215,     0.99215,\n",
      "            0.99215,     0.99215,     0.99215,     0.99215,     0.99215,     0.99215,     0.99215,     0.99215,     0.99215,     0.99215,     0.99215,     0.99215,     0.99215,     0.99215,     0.99215,     0.99215,     0.99215,     0.99215,     0.99215,     0.99215,     0.99215,     0.99215,     0.99215,\n",
      "            0.99215,     0.99215,     0.99215,     0.99215,     0.99215,     0.99215,     0.99215,     0.99215,     0.99215,     0.99215,     0.99215,     0.99215,     0.99215,     0.99215,     0.99215,     0.99215,     0.99215,     0.99215,     0.99215,     0.99215,     0.99215,     0.99215,     0.99215,\n",
      "            0.99215,     0.99215,     0.99215,     0.99215,     0.99215,     0.99215,     0.99215,     0.99215,     0.99215,     0.99215,     0.99215,     0.99215,     0.99215,     0.99215,     0.99215,     0.99215,     0.99215,     0.99215,     0.99215,     0.99215,     0.99215,     0.99215,     0.99215,\n",
      "            0.99215,     0.99215,     0.99215,     0.99215,     0.99215,     0.99215,     0.99215,     0.99215,     0.99215,     0.99215,     0.99215,     0.99215,     0.99215,     0.99215,     0.99215,     0.99215,     0.99215,     0.99215,     0.99215,     0.99215,     0.99215,     0.99215,     0.99215,\n",
      "            0.99215,     0.99215,     0.99215,     0.99215,     0.99215,     0.99215,     0.99215,     0.99215,     0.99215,     0.99215,     0.99215,     0.99215,     0.99215,     0.99215,     0.99215,     0.99215,     0.99215,     0.99215,     0.99215,     0.99215,     0.99215,     0.99215,     0.99215,\n",
      "            0.99215,     0.99215,     0.99215,     0.99215,     0.99215,     0.99215,     0.99215,     0.99215,     0.99215,     0.99215,     0.99215,     0.99215,     0.99215,     0.99215,     0.99215,     0.99215,     0.99215,     0.99215,     0.99215,     0.99215,     0.99215,     0.99215,     0.99215,\n",
      "            0.99215,     0.99215,     0.99215,     0.99215,     0.99215,     0.99215,     0.99215,     0.99215,     0.99215,     0.99215,     0.99215,     0.99215,     0.99215,     0.99215,     0.99215,     0.99215,     0.99215,     0.99215,     0.99215,     0.99215,     0.99215,     0.99215,     0.99215,\n",
      "            0.99215,     0.99215,     0.99215,     0.99215,     0.99215,     0.99215,     0.99215,     0.99215,     0.99215,     0.99215,     0.99215,     0.99215,     0.99215,     0.99215,     0.99215,     0.99215,     0.99215,     0.99215,     0.99215,     0.99215,     0.99215,     0.99215,     0.99215,\n",
      "            0.99215,     0.99215,     0.99215,     0.99215,     0.99215,     0.99215,     0.99215,     0.99215,     0.99215,     0.99215,     0.99215,     0.99215,     0.99215,     0.99215,     0.99215,     0.99215,     0.99215,     0.99215,     0.99215,     0.99215,     0.99215,     0.99215,     0.99215,\n",
      "            0.99215,     0.99215,     0.99215,     0.99215,     0.99215,     0.99215,     0.99215,     0.99094,     0.99094,     0.99094,     0.99094,     0.99094,     0.99094,     0.99094,     0.99024,     0.99024,     0.99024,     0.99024,     0.99024,     0.99024,     0.99024,     0.99024,     0.99024,\n",
      "            0.99024,     0.99024,     0.99024,     0.99024,     0.99024,     0.99024,     0.99024,     0.99024,     0.99024,     0.99024,     0.99024,     0.99024,     0.99024,     0.99024,     0.99024,     0.99024,     0.99024,     0.99024,     0.99024,     0.99024,     0.99024,     0.99024,     0.99024,\n",
      "            0.99024,     0.99024,     0.99024,     0.99024,     0.99024,     0.99024,     0.99024,     0.99024,     0.99024,     0.98937,     0.98937,     0.98937,     0.98937,     0.98937,     0.98937,     0.98937,     0.98937,     0.98937,     0.98937,     0.98937,     0.98937,     0.98937,     0.98937,\n",
      "            0.98937,     0.98937,     0.98937,     0.98937,     0.98937,     0.98937,     0.98937,     0.98937,     0.98937,     0.98856,     0.98856,     0.98856,     0.98856,     0.98856,     0.98856,     0.98856,     0.98856,     0.98856,     0.98856,     0.98856,     0.98856,     0.98856,     0.98856,\n",
      "            0.98856,     0.98856,     0.98856,     0.98856,     0.98856,     0.98856,     0.98856,     0.98856,     0.98856,     0.98754,     0.98754,     0.98754,     0.98754,     0.98754,     0.98754,     0.98754,     0.98754,      0.9868,      0.9868,      0.9868,      0.9868,      0.9868,      0.9868,\n",
      "             0.9868,      0.9868,      0.9868,      0.9868,      0.9868,      0.9868,      0.9868,      0.9868,      0.9868,      0.9868,      0.9868,      0.9868,      0.9868,      0.9868,      0.9868,      0.9868,     0.98587,     0.98587,     0.98587,     0.98587,     0.98587,     0.98587,     0.98587,\n",
      "            0.98587,     0.98587,     0.98485,     0.98485,     0.98391,     0.98391,     0.98391,     0.98391,     0.98391,     0.98391,     0.98391,     0.98292,     0.98292,     0.98292,     0.98193,     0.98193,     0.98193,     0.97921,     0.97921,     0.97921,     0.97921,     0.97921,     0.97921,\n",
      "            0.97921,     0.97921,     0.97921,     0.97921,     0.97921,     0.97921,     0.97921,     0.97921,     0.97921,     0.97921,     0.97835,     0.97835,     0.97835,     0.97835,     0.97835,     0.97835,     0.97748,     0.97748,     0.97748,     0.97748,     0.97748,     0.97655,     0.97655,\n",
      "            0.97655,     0.97558,     0.97172,     0.97172,     0.97172,     0.97082,     0.97082,     0.96994,     0.96994,     0.96994,       0.969,     0.96806,     0.96729,     0.96729,     0.96729,     0.96729,     0.96729,      0.9645,      0.9645,     0.96358,     0.96188,     0.96188,     0.96188,\n",
      "            0.96188,     0.95934,     0.95934,     0.95934,     0.95934,     0.95934,     0.95934,     0.95861,     0.95861,     0.95861,     0.95861,     0.95861,     0.95781,     0.95781,     0.95698,     0.95698,      0.9552,     0.95261,     0.95261,     0.95261,     0.95189,     0.95189,     0.95189,\n",
      "            0.95154,     0.95154,     0.95154,     0.95154,     0.95154,     0.95154,     0.95154,     0.95154,     0.95154,     0.95154,     0.95154,      0.9482,      0.9482,      0.9482,      0.9482,     0.94679,     0.94679,     0.94679,     0.94679,     0.94679,     0.94679,     0.94597,     0.94283,\n",
      "            0.94283,     0.94283,     0.94283,     0.94283,     0.94208,     0.94208,     0.94049,     0.94049,     0.93991,     0.93991,     0.93991,     0.93991,     0.93934,     0.93934,     0.93934,     0.93934,     0.93778,     0.93778,     0.93722,     0.93722,     0.93722,     0.93722,     0.93722,\n",
      "            0.93662,     0.93662,     0.93662,     0.93427,     0.93427,     0.93275,     0.93275,       0.932,     0.93124,     0.92734,      0.9258,     0.92506,     0.92275,     0.92123,     0.91973,     0.91667,     0.91209,     0.90696,     0.90696,     0.90628,     0.87844,     0.87571,      0.8585,\n",
      "            0.84723,     0.84669,     0.83846,     0.82278,     0.81798,     0.80963,     0.80857,     0.79869,     0.79651,     0.79092,     0.73709,     0.71661,     0.64499,      0.6045,     0.59269,     0.50993,     0.45718,     0.39913,     0.24003,     0.23328,     0.16846,     0.16772,     0.15173,\n",
      "            0.13794,     0.12414,     0.11035,    0.096555,    0.082761,    0.068968,    0.055174,    0.041381,    0.027587,    0.013794,           0]]), 'Recall', 'Precision'], [array([          0,    0.001001,    0.002002,    0.003003,    0.004004,    0.005005,    0.006006,    0.007007,    0.008008,    0.009009,     0.01001,    0.011011,    0.012012,    0.013013,    0.014014,    0.015015,    0.016016,    0.017017,    0.018018,    0.019019,     0.02002,    0.021021,    0.022022,    0.023023,\n",
      "          0.024024,    0.025025,    0.026026,    0.027027,    0.028028,    0.029029,     0.03003,    0.031031,    0.032032,    0.033033,    0.034034,    0.035035,    0.036036,    0.037037,    0.038038,    0.039039,     0.04004,    0.041041,    0.042042,    0.043043,    0.044044,    0.045045,    0.046046,    0.047047,\n",
      "          0.048048,    0.049049,     0.05005,    0.051051,    0.052052,    0.053053,    0.054054,    0.055055,    0.056056,    0.057057,    0.058058,    0.059059,     0.06006,    0.061061,    0.062062,    0.063063,    0.064064,    0.065065,    0.066066,    0.067067,    0.068068,    0.069069,     0.07007,    0.071071,\n",
      "          0.072072,    0.073073,    0.074074,    0.075075,    0.076076,    0.077077,    0.078078,    0.079079,     0.08008,    0.081081,    0.082082,    0.083083,    0.084084,    0.085085,    0.086086,    0.087087,    0.088088,    0.089089,     0.09009,    0.091091,    0.092092,    0.093093,    0.094094,    0.095095,\n",
      "          0.096096,    0.097097,    0.098098,    0.099099,      0.1001,      0.1011,      0.1021,      0.1031,      0.1041,     0.10511,     0.10611,     0.10711,     0.10811,     0.10911,     0.11011,     0.11111,     0.11211,     0.11311,     0.11411,     0.11512,     0.11612,     0.11712,     0.11812,     0.11912,\n",
      "           0.12012,     0.12112,     0.12212,     0.12312,     0.12412,     0.12513,     0.12613,     0.12713,     0.12813,     0.12913,     0.13013,     0.13113,     0.13213,     0.13313,     0.13413,     0.13514,     0.13614,     0.13714,     0.13814,     0.13914,     0.14014,     0.14114,     0.14214,     0.14314,\n",
      "           0.14414,     0.14515,     0.14615,     0.14715,     0.14815,     0.14915,     0.15015,     0.15115,     0.15215,     0.15315,     0.15415,     0.15516,     0.15616,     0.15716,     0.15816,     0.15916,     0.16016,     0.16116,     0.16216,     0.16316,     0.16416,     0.16517,     0.16617,     0.16717,\n",
      "           0.16817,     0.16917,     0.17017,     0.17117,     0.17217,     0.17317,     0.17417,     0.17518,     0.17618,     0.17718,     0.17818,     0.17918,     0.18018,     0.18118,     0.18218,     0.18318,     0.18418,     0.18519,     0.18619,     0.18719,     0.18819,     0.18919,     0.19019,     0.19119,\n",
      "           0.19219,     0.19319,     0.19419,      0.1952,      0.1962,      0.1972,      0.1982,      0.1992,      0.2002,      0.2012,      0.2022,      0.2032,      0.2042,     0.20521,     0.20621,     0.20721,     0.20821,     0.20921,     0.21021,     0.21121,     0.21221,     0.21321,     0.21421,     0.21522,\n",
      "           0.21622,     0.21722,     0.21822,     0.21922,     0.22022,     0.22122,     0.22222,     0.22322,     0.22422,     0.22523,     0.22623,     0.22723,     0.22823,     0.22923,     0.23023,     0.23123,     0.23223,     0.23323,     0.23423,     0.23524,     0.23624,     0.23724,     0.23824,     0.23924,\n",
      "           0.24024,     0.24124,     0.24224,     0.24324,     0.24424,     0.24525,     0.24625,     0.24725,     0.24825,     0.24925,     0.25025,     0.25125,     0.25225,     0.25325,     0.25425,     0.25526,     0.25626,     0.25726,     0.25826,     0.25926,     0.26026,     0.26126,     0.26226,     0.26326,\n",
      "           0.26426,     0.26527,     0.26627,     0.26727,     0.26827,     0.26927,     0.27027,     0.27127,     0.27227,     0.27327,     0.27427,     0.27528,     0.27628,     0.27728,     0.27828,     0.27928,     0.28028,     0.28128,     0.28228,     0.28328,     0.28428,     0.28529,     0.28629,     0.28729,\n",
      "           0.28829,     0.28929,     0.29029,     0.29129,     0.29229,     0.29329,     0.29429,      0.2953,      0.2963,      0.2973,      0.2983,      0.2993,      0.3003,      0.3013,      0.3023,      0.3033,      0.3043,     0.30531,     0.30631,     0.30731,     0.30831,     0.30931,     0.31031,     0.31131,\n",
      "           0.31231,     0.31331,     0.31431,     0.31532,     0.31632,     0.31732,     0.31832,     0.31932,     0.32032,     0.32132,     0.32232,     0.32332,     0.32432,     0.32533,     0.32633,     0.32733,     0.32833,     0.32933,     0.33033,     0.33133,     0.33233,     0.33333,     0.33433,     0.33534,\n",
      "           0.33634,     0.33734,     0.33834,     0.33934,     0.34034,     0.34134,     0.34234,     0.34334,     0.34434,     0.34535,     0.34635,     0.34735,     0.34835,     0.34935,     0.35035,     0.35135,     0.35235,     0.35335,     0.35435,     0.35536,     0.35636,     0.35736,     0.35836,     0.35936,\n",
      "           0.36036,     0.36136,     0.36236,     0.36336,     0.36436,     0.36537,     0.36637,     0.36737,     0.36837,     0.36937,     0.37037,     0.37137,     0.37237,     0.37337,     0.37437,     0.37538,     0.37638,     0.37738,     0.37838,     0.37938,     0.38038,     0.38138,     0.38238,     0.38338,\n",
      "           0.38438,     0.38539,     0.38639,     0.38739,     0.38839,     0.38939,     0.39039,     0.39139,     0.39239,     0.39339,     0.39439,      0.3954,      0.3964,      0.3974,      0.3984,      0.3994,      0.4004,      0.4014,      0.4024,      0.4034,      0.4044,     0.40541,     0.40641,     0.40741,\n",
      "           0.40841,     0.40941,     0.41041,     0.41141,     0.41241,     0.41341,     0.41441,     0.41542,     0.41642,     0.41742,     0.41842,     0.41942,     0.42042,     0.42142,     0.42242,     0.42342,     0.42442,     0.42543,     0.42643,     0.42743,     0.42843,     0.42943,     0.43043,     0.43143,\n",
      "           0.43243,     0.43343,     0.43443,     0.43544,     0.43644,     0.43744,     0.43844,     0.43944,     0.44044,     0.44144,     0.44244,     0.44344,     0.44444,     0.44545,     0.44645,     0.44745,     0.44845,     0.44945,     0.45045,     0.45145,     0.45245,     0.45345,     0.45445,     0.45546,\n",
      "           0.45646,     0.45746,     0.45846,     0.45946,     0.46046,     0.46146,     0.46246,     0.46346,     0.46446,     0.46547,     0.46647,     0.46747,     0.46847,     0.46947,     0.47047,     0.47147,     0.47247,     0.47347,     0.47447,     0.47548,     0.47648,     0.47748,     0.47848,     0.47948,\n",
      "           0.48048,     0.48148,     0.48248,     0.48348,     0.48448,     0.48549,     0.48649,     0.48749,     0.48849,     0.48949,     0.49049,     0.49149,     0.49249,     0.49349,     0.49449,      0.4955,      0.4965,      0.4975,      0.4985,      0.4995,      0.5005,      0.5015,      0.5025,      0.5035,\n",
      "            0.5045,     0.50551,     0.50651,     0.50751,     0.50851,     0.50951,     0.51051,     0.51151,     0.51251,     0.51351,     0.51451,     0.51552,     0.51652,     0.51752,     0.51852,     0.51952,     0.52052,     0.52152,     0.52252,     0.52352,     0.52452,     0.52553,     0.52653,     0.52753,\n",
      "           0.52853,     0.52953,     0.53053,     0.53153,     0.53253,     0.53353,     0.53453,     0.53554,     0.53654,     0.53754,     0.53854,     0.53954,     0.54054,     0.54154,     0.54254,     0.54354,     0.54454,     0.54555,     0.54655,     0.54755,     0.54855,     0.54955,     0.55055,     0.55155,\n",
      "           0.55255,     0.55355,     0.55455,     0.55556,     0.55656,     0.55756,     0.55856,     0.55956,     0.56056,     0.56156,     0.56256,     0.56356,     0.56456,     0.56557,     0.56657,     0.56757,     0.56857,     0.56957,     0.57057,     0.57157,     0.57257,     0.57357,     0.57457,     0.57558,\n",
      "           0.57658,     0.57758,     0.57858,     0.57958,     0.58058,     0.58158,     0.58258,     0.58358,     0.58458,     0.58559,     0.58659,     0.58759,     0.58859,     0.58959,     0.59059,     0.59159,     0.59259,     0.59359,     0.59459,      0.5956,      0.5966,      0.5976,      0.5986,      0.5996,\n",
      "            0.6006,      0.6016,      0.6026,      0.6036,      0.6046,     0.60561,     0.60661,     0.60761,     0.60861,     0.60961,     0.61061,     0.61161,     0.61261,     0.61361,     0.61461,     0.61562,     0.61662,     0.61762,     0.61862,     0.61962,     0.62062,     0.62162,     0.62262,     0.62362,\n",
      "           0.62462,     0.62563,     0.62663,     0.62763,     0.62863,     0.62963,     0.63063,     0.63163,     0.63263,     0.63363,     0.63463,     0.63564,     0.63664,     0.63764,     0.63864,     0.63964,     0.64064,     0.64164,     0.64264,     0.64364,     0.64464,     0.64565,     0.64665,     0.64765,\n",
      "           0.64865,     0.64965,     0.65065,     0.65165,     0.65265,     0.65365,     0.65465,     0.65566,     0.65666,     0.65766,     0.65866,     0.65966,     0.66066,     0.66166,     0.66266,     0.66366,     0.66466,     0.66567,     0.66667,     0.66767,     0.66867,     0.66967,     0.67067,     0.67167,\n",
      "           0.67267,     0.67367,     0.67467,     0.67568,     0.67668,     0.67768,     0.67868,     0.67968,     0.68068,     0.68168,     0.68268,     0.68368,     0.68468,     0.68569,     0.68669,     0.68769,     0.68869,     0.68969,     0.69069,     0.69169,     0.69269,     0.69369,     0.69469,      0.6957,\n",
      "            0.6967,      0.6977,      0.6987,      0.6997,      0.7007,      0.7017,      0.7027,      0.7037,      0.7047,     0.70571,     0.70671,     0.70771,     0.70871,     0.70971,     0.71071,     0.71171,     0.71271,     0.71371,     0.71471,     0.71572,     0.71672,     0.71772,     0.71872,     0.71972,\n",
      "           0.72072,     0.72172,     0.72272,     0.72372,     0.72472,     0.72573,     0.72673,     0.72773,     0.72873,     0.72973,     0.73073,     0.73173,     0.73273,     0.73373,     0.73473,     0.73574,     0.73674,     0.73774,     0.73874,     0.73974,     0.74074,     0.74174,     0.74274,     0.74374,\n",
      "           0.74474,     0.74575,     0.74675,     0.74775,     0.74875,     0.74975,     0.75075,     0.75175,     0.75275,     0.75375,     0.75475,     0.75576,     0.75676,     0.75776,     0.75876,     0.75976,     0.76076,     0.76176,     0.76276,     0.76376,     0.76476,     0.76577,     0.76677,     0.76777,\n",
      "           0.76877,     0.76977,     0.77077,     0.77177,     0.77277,     0.77377,     0.77477,     0.77578,     0.77678,     0.77778,     0.77878,     0.77978,     0.78078,     0.78178,     0.78278,     0.78378,     0.78478,     0.78579,     0.78679,     0.78779,     0.78879,     0.78979,     0.79079,     0.79179,\n",
      "           0.79279,     0.79379,     0.79479,      0.7958,      0.7968,      0.7978,      0.7988,      0.7998,      0.8008,      0.8018,      0.8028,      0.8038,      0.8048,     0.80581,     0.80681,     0.80781,     0.80881,     0.80981,     0.81081,     0.81181,     0.81281,     0.81381,     0.81481,     0.81582,\n",
      "           0.81682,     0.81782,     0.81882,     0.81982,     0.82082,     0.82182,     0.82282,     0.82382,     0.82482,     0.82583,     0.82683,     0.82783,     0.82883,     0.82983,     0.83083,     0.83183,     0.83283,     0.83383,     0.83483,     0.83584,     0.83684,     0.83784,     0.83884,     0.83984,\n",
      "           0.84084,     0.84184,     0.84284,     0.84384,     0.84484,     0.84585,     0.84685,     0.84785,     0.84885,     0.84985,     0.85085,     0.85185,     0.85285,     0.85385,     0.85485,     0.85586,     0.85686,     0.85786,     0.85886,     0.85986,     0.86086,     0.86186,     0.86286,     0.86386,\n",
      "           0.86486,     0.86587,     0.86687,     0.86787,     0.86887,     0.86987,     0.87087,     0.87187,     0.87287,     0.87387,     0.87487,     0.87588,     0.87688,     0.87788,     0.87888,     0.87988,     0.88088,     0.88188,     0.88288,     0.88388,     0.88488,     0.88589,     0.88689,     0.88789,\n",
      "           0.88889,     0.88989,     0.89089,     0.89189,     0.89289,     0.89389,     0.89489,      0.8959,      0.8969,      0.8979,      0.8989,      0.8999,      0.9009,      0.9019,      0.9029,      0.9039,      0.9049,     0.90591,     0.90691,     0.90791,     0.90891,     0.90991,     0.91091,     0.91191,\n",
      "           0.91291,     0.91391,     0.91491,     0.91592,     0.91692,     0.91792,     0.91892,     0.91992,     0.92092,     0.92192,     0.92292,     0.92392,     0.92492,     0.92593,     0.92693,     0.92793,     0.92893,     0.92993,     0.93093,     0.93193,     0.93293,     0.93393,     0.93493,     0.93594,\n",
      "           0.93694,     0.93794,     0.93894,     0.93994,     0.94094,     0.94194,     0.94294,     0.94394,     0.94494,     0.94595,     0.94695,     0.94795,     0.94895,     0.94995,     0.95095,     0.95195,     0.95295,     0.95395,     0.95495,     0.95596,     0.95696,     0.95796,     0.95896,     0.95996,\n",
      "           0.96096,     0.96196,     0.96296,     0.96396,     0.96496,     0.96597,     0.96697,     0.96797,     0.96897,     0.96997,     0.97097,     0.97197,     0.97297,     0.97397,     0.97497,     0.97598,     0.97698,     0.97798,     0.97898,     0.97998,     0.98098,     0.98198,     0.98298,     0.98398,\n",
      "           0.98498,     0.98599,     0.98699,     0.98799,     0.98899,     0.98999,     0.99099,     0.99199,     0.99299,     0.99399,     0.99499,       0.996,       0.997,       0.998,       0.999,           1]), array([[    0.27449,     0.27457,     0.36264,     0.42529,     0.46885,     0.50382,     0.53105,      0.5566,     0.57368,     0.58914,     0.60731,      0.6213,     0.63514,     0.65155,     0.66491,     0.67451,     0.68509,     0.69578,     0.70558,     0.71383,     0.72001,     0.72461,     0.73309,\n",
      "            0.73827,     0.74095,     0.74876,     0.75598,     0.76168,     0.76841,      0.7735,     0.77754,      0.7808,     0.78521,     0.79032,     0.79349,     0.79705,     0.80193,     0.80519,     0.80916,     0.81156,     0.81436,     0.81818,      0.8212,     0.82347,     0.82579,     0.82786,\n",
      "            0.83037,     0.83241,     0.83377,      0.8352,     0.83628,     0.83835,     0.83978,     0.84062,     0.84189,     0.84445,     0.84586,     0.84813,     0.85007,     0.85193,     0.85456,     0.85543,      0.8574,     0.85962,     0.86043,     0.86236,     0.86324,     0.86418,     0.86512,\n",
      "            0.86723,     0.86907,     0.87032,     0.87078,     0.87209,     0.87229,     0.87288,     0.87338,     0.87434,      0.8748,     0.87507,     0.87546,     0.87645,     0.87751,     0.87753,     0.87888,     0.87939,      0.8806,     0.88137,     0.88277,     0.88321,     0.88323,     0.88413,\n",
      "            0.88548,     0.88598,     0.88659,     0.88717,     0.88775,     0.88814,     0.88868,      0.8905,     0.89076,     0.89313,     0.89344,      0.8955,     0.89623,     0.89668,     0.89755,     0.89859,     0.89923,     0.89929,     0.89974,         0.9,      0.9001,      0.9002,     0.90029,\n",
      "            0.90043,     0.90072,     0.90215,     0.90243,     0.90286,     0.90317,     0.90296,       0.903,     0.90299,     0.90367,     0.90418,     0.90622,     0.90693,      0.9072,     0.90781,     0.90852,     0.90868,     0.90894,      0.9089,     0.90948,     0.90963,     0.90978,     0.91003,\n",
      "            0.91069,      0.9109,      0.9113,     0.91191,     0.91235,     0.91278,      0.9133,     0.91381,     0.91399,     0.91432,     0.91504,     0.91579,     0.91604,     0.91612,      0.9162,     0.91629,     0.91637,     0.91654,     0.91673,     0.91698,     0.91762,     0.91793,     0.91796,\n",
      "            0.91807,     0.91817,     0.91835,     0.91913,     0.91931,     0.91921,     0.91947,     0.91974,     0.92031,     0.92054,     0.92076,      0.9211,     0.92158,     0.92179,     0.92191,     0.92204,     0.92235,     0.92258,     0.92271,     0.92284,     0.92339,     0.92362,     0.92393,\n",
      "            0.92474,      0.9256,     0.92625,     0.92654,      0.9267,     0.92685,     0.92695,     0.92705,     0.92715,     0.92765,     0.92791,      0.9289,     0.92908,     0.92927,     0.92947,     0.92971,     0.93036,     0.93052,     0.93063,     0.93074,     0.93088,     0.93105,     0.93123,\n",
      "            0.93136,     0.93149,     0.93169,     0.93229,     0.93271,     0.93366,     0.93385,       0.934,     0.93382,     0.93385,     0.93372,      0.9336,     0.93313,     0.93322,      0.9334,     0.93357,     0.93373,     0.93387,     0.93396,     0.93404,     0.93412,      0.9342,     0.93432,\n",
      "            0.93451,     0.93477,     0.93467,     0.93483,     0.93499,     0.93529,     0.93501,     0.93517,     0.93532,     0.93538,     0.93541,     0.93544,     0.93548,     0.93551,     0.93554,     0.93557,      0.9356,     0.93563,     0.93566,     0.93569,     0.93572,     0.93576,     0.93629,\n",
      "            0.93669,     0.93703,      0.9371,     0.93717,     0.93724,     0.93732,     0.93739,     0.93734,     0.93728,     0.93723,     0.93717,     0.93712,     0.93706,     0.93701,     0.93695,      0.9371,     0.93736,     0.93748,     0.93759,     0.93771,     0.93789,      0.9381,      0.9384,\n",
      "            0.93816,     0.93839,     0.93862,     0.93868,     0.93892,     0.93908,     0.93924,       0.939,     0.93885,     0.93894,     0.93902,     0.93911,     0.93919,     0.93929,     0.93939,     0.93949,     0.93959,     0.93967,     0.93974,     0.93981,     0.93988,     0.93995,     0.94001,\n",
      "            0.93963,     0.93992,     0.93967,     0.93988,     0.94019,     0.94033,     0.94028,     0.94023,     0.94019,     0.94014,     0.94009,     0.94005,        0.94,     0.93995,     0.93991,     0.93992,     0.93999,     0.94005,     0.94012,     0.94018,     0.94025,     0.94027,     0.94014,\n",
      "            0.94002,     0.93989,     0.94017,      0.9403,     0.94037,     0.94044,      0.9405,     0.94057,     0.94063,     0.94073,     0.94084,     0.94095,     0.94106,     0.94141,      0.9412,     0.94106,     0.94129,     0.94117,     0.94102,     0.94109,     0.94116,     0.94123,      0.9413,\n",
      "            0.94138,     0.94121,     0.94102,     0.94057,     0.94088,       0.941,     0.94111,     0.94122,     0.94119,     0.94099,     0.94066,      0.9405,     0.94068,     0.94114,     0.94137,     0.94158,     0.94133,     0.94109,     0.94096,     0.94084,     0.94071,     0.94009,     0.93992,\n",
      "            0.93975,     0.93968,     0.93813,     0.93792,     0.93768,     0.93756,     0.93744,     0.93731,     0.93729,     0.93736,     0.93744,     0.93751,     0.93759,     0.93766,     0.93806,     0.93767,     0.93718,     0.93612,      0.9359,     0.93574,     0.93593,     0.93612,     0.93548,\n",
      "            0.93527,     0.93507,     0.93486,     0.93403,     0.93396,     0.93369,     0.93399,     0.93374,      0.9334,     0.93329,     0.93339,     0.93314,      0.9329,     0.93268,      0.9325,     0.93236,     0.93223,     0.93209,     0.93098,     0.93066,     0.93111,     0.93136,     0.93171,\n",
      "             0.9321,     0.93211,     0.93219,     0.93185,     0.93112,     0.93012,     0.92969,     0.92957,     0.92944,     0.92967,       0.929,     0.92851,     0.92802,     0.92785,     0.92815,      0.9286,     0.92925,     0.92794,     0.92769,     0.92651,     0.92631,      0.9261,     0.92556,\n",
      "            0.92423,     0.92403,     0.92397,     0.92391,     0.92385,     0.92379,     0.92373,     0.92367,     0.92362,     0.92384,     0.92293,     0.92273,     0.92253,     0.92243,     0.92182,     0.92142,     0.92156,      0.9217,     0.92184,     0.92201,     0.92218,     0.92184,     0.92204,\n",
      "            0.92243,     0.92209,     0.92163,     0.92175,     0.92186,     0.92198,     0.92185,      0.9216,     0.92096,     0.92084,     0.92073,     0.92061,     0.92059,     0.92089,     0.92053,     0.91994,     0.91923,     0.91875,     0.91829,     0.91785,     0.91702,     0.91621,     0.91605,\n",
      "            0.91589,     0.91569,     0.91547,      0.9155,     0.91601,     0.91639,     0.91661,     0.91503,     0.91489,     0.91474,      0.9146,     0.91447,     0.91435,     0.91422,     0.91411,     0.91447,     0.91463,     0.91405,     0.91428,     0.91453,     0.91504,     0.91443,     0.91418,\n",
      "            0.91355,     0.91334,     0.91312,     0.91238,     0.91221,      0.9123,     0.91199,     0.91209,      0.9122,      0.9123,      0.9113,     0.91108,     0.91087,     0.91114,        0.91,      0.9101,     0.90967,     0.90871,     0.90908,      0.9097,     0.91023,     0.90981,     0.91003,\n",
      "            0.91017,      0.9099,     0.90932,     0.90906,     0.90894,     0.90881,     0.90868,     0.90773,     0.90714,     0.90666,     0.90619,     0.90627,     0.90591,     0.90547,     0.90513,     0.90463,     0.90305,     0.90306,     0.90293,      0.9028,     0.90267,     0.90134,     0.89933,\n",
      "            0.89904,     0.89778,     0.89747,     0.89641,     0.89562,     0.89541,      0.8951,     0.89435,     0.89377,     0.89411,     0.89421,     0.89431,     0.89441,     0.89465,     0.89363,     0.89374,     0.89346,     0.89265,     0.89209,     0.89164,     0.89189,     0.89197,     0.89188,\n",
      "            0.89178,     0.89168,     0.89158,     0.89146,     0.89054,      0.8892,     0.88823,     0.88783,     0.88747,     0.88742,     0.88717,     0.88684,     0.88595,     0.88507,     0.88449,     0.88419,     0.88415,     0.88411,     0.88407,     0.88402,     0.88398,     0.88394,      0.8839,\n",
      "            0.88386,     0.88382,     0.88378,     0.88374,     0.88369,     0.88365,     0.88324,     0.88291,     0.88263,     0.88223,     0.88173,     0.88133,     0.88089,     0.87997,     0.87901,     0.87865,     0.87803,     0.87786,      0.8777,     0.87753,     0.87723,     0.87668,     0.87571,\n",
      "            0.87531,     0.87413,     0.87326,     0.87296,     0.87283,      0.8727,     0.87256,     0.87238,     0.87192,     0.87131,     0.87107,     0.87083,       0.869,     0.86873,     0.86859,     0.86885,     0.86846,     0.86626,     0.86597,     0.86579,      0.8656,      0.8652,     0.86466,\n",
      "            0.86409,     0.86348,     0.86294,     0.86142,      0.8605,     0.85965,      0.8587,     0.85838,     0.85816,      0.8577,     0.85518,     0.85386,     0.85361,     0.85304,     0.85257,     0.85232,     0.85138,     0.85002,     0.85017,     0.84962,     0.84854,     0.84834,     0.84813,\n",
      "            0.84763,      0.8466,     0.84534,     0.84464,     0.84396,     0.84334,     0.84142,     0.83957,     0.83798,     0.83711,     0.83553,     0.83505,     0.83509,      0.8345,     0.83398,     0.83229,     0.83195,     0.83162,     0.83131,     0.83077,     0.82908,     0.82857,     0.82758,\n",
      "            0.82647,     0.82553,     0.82448,     0.82396,     0.82307,     0.82272,     0.82056,     0.81897,     0.81782,     0.81683,     0.81548,     0.81399,      0.8117,     0.81088,     0.81049,     0.80993,      0.8094,     0.80724,     0.80704,     0.80654,     0.80531,     0.80324,      0.8025,\n",
      "            0.80086,     0.80051,     0.79921,     0.79661,     0.79468,     0.79256,     0.79211,     0.79128,       0.791,     0.78984,      0.7875,     0.78683,     0.78493,      0.7837,      0.7813,     0.77915,     0.77624,     0.77519,     0.77206,     0.77052,      0.7688,     0.76631,     0.76165,\n",
      "            0.76042,     0.75888,      0.7582,     0.75585,     0.75195,     0.74886,     0.74372,      0.7427,      0.7407,     0.73886,     0.73776,     0.73532,     0.73259,      0.7315,     0.73017,      0.7295,     0.72891,     0.72844,     0.72595,      0.7208,     0.71847,     0.71621,     0.71276,\n",
      "            0.71207,     0.71024,     0.70833,      0.7057,     0.70346,     0.70124,     0.69776,     0.69471,     0.69366,     0.69254,     0.69044,     0.68709,      0.6855,     0.68354,     0.68304,     0.68124,      0.6792,     0.67546,      0.6724,      0.6669,     0.66291,     0.66009,      0.6575,\n",
      "             0.6547,     0.65124,     0.64689,     0.64435,     0.64264,     0.63966,     0.63046,     0.62547,       0.624,     0.62054,       0.617,     0.61377,     0.61069,     0.60972,     0.60817,      0.6066,       0.603,     0.59969,     0.59624,     0.59354,     0.58788,     0.58581,     0.58219,\n",
      "            0.57867,     0.57485,     0.57334,     0.56755,     0.56347,     0.55996,     0.55392,     0.55041,     0.54815,     0.54541,     0.54236,     0.53966,     0.53529,     0.53301,     0.52749,     0.52331,     0.52016,     0.51451,     0.51086,     0.50841,     0.50215,     0.49741,     0.49484,\n",
      "            0.48849,     0.48136,     0.47811,     0.47459,     0.47094,     0.46555,      0.4605,     0.45134,     0.44801,     0.44576,     0.44027,     0.43716,     0.43447,     0.43133,     0.43025,      0.4274,     0.42357,     0.42128,     0.41612,     0.41098,     0.40579,     0.40112,     0.39445,\n",
      "            0.39004,     0.38826,     0.38717,     0.38235,     0.37463,     0.37017,     0.36662,     0.36194,     0.35899,     0.35303,     0.34889,     0.34746,     0.34428,      0.3425,     0.33999,      0.3355,     0.33173,     0.32946,     0.32629,     0.32265,      0.3203,     0.31584,     0.31218,\n",
      "            0.30751,     0.30129,     0.29841,     0.29638,      0.2914,     0.28877,     0.28498,     0.28099,      0.2795,       0.276,     0.27414,     0.27249,     0.27027,     0.26953,     0.26907,     0.26865,     0.26823,     0.26306,     0.25623,      0.2478,     0.24706,     0.24503,     0.24396,\n",
      "            0.24182,     0.23962,     0.23852,      0.2364,     0.23537,     0.23194,     0.22543,     0.22374,     0.22297,     0.21613,     0.21356,        0.21,     0.20879,     0.20398,     0.19805,     0.19527,     0.19373,     0.19185,     0.18422,     0.17945,     0.17882,     0.17458,      0.1719,\n",
      "            0.16839,     0.16119,      0.1544,     0.14796,     0.14676,     0.14286,     0.13633,     0.13009,     0.12542,     0.11975,     0.11448,     0.10764,     0.10466,     0.09774,    0.084589,    0.074431,    0.067296,    0.060184,    0.056373,    0.051086,    0.046974,    0.039609,    0.029404,\n",
      "           0.028213,     0.02351,    0.018846,    0.017746,    0.014324,    0.013007,    0.011228,    0.009376,   0.0082533,   0.0073823,   0.0053525,   0.0049771,   0.0046264,   0.0042756,   0.0039246,   0.0035735,           0,           0,           0,           0,           0,           0,           0,\n",
      "                  0,           0,           0,           0,           0,           0,           0,           0,           0,           0,           0,           0,           0,           0,           0,           0,           0,           0,           0,           0,           0,           0,           0,\n",
      "                  0,           0,           0,           0,           0,           0,           0,           0,           0,           0,           0]]), 'Confidence', 'F1'], [array([          0,    0.001001,    0.002002,    0.003003,    0.004004,    0.005005,    0.006006,    0.007007,    0.008008,    0.009009,     0.01001,    0.011011,    0.012012,    0.013013,    0.014014,    0.015015,    0.016016,    0.017017,    0.018018,    0.019019,     0.02002,    0.021021,    0.022022,    0.023023,\n",
      "          0.024024,    0.025025,    0.026026,    0.027027,    0.028028,    0.029029,     0.03003,    0.031031,    0.032032,    0.033033,    0.034034,    0.035035,    0.036036,    0.037037,    0.038038,    0.039039,     0.04004,    0.041041,    0.042042,    0.043043,    0.044044,    0.045045,    0.046046,    0.047047,\n",
      "          0.048048,    0.049049,     0.05005,    0.051051,    0.052052,    0.053053,    0.054054,    0.055055,    0.056056,    0.057057,    0.058058,    0.059059,     0.06006,    0.061061,    0.062062,    0.063063,    0.064064,    0.065065,    0.066066,    0.067067,    0.068068,    0.069069,     0.07007,    0.071071,\n",
      "          0.072072,    0.073073,    0.074074,    0.075075,    0.076076,    0.077077,    0.078078,    0.079079,     0.08008,    0.081081,    0.082082,    0.083083,    0.084084,    0.085085,    0.086086,    0.087087,    0.088088,    0.089089,     0.09009,    0.091091,    0.092092,    0.093093,    0.094094,    0.095095,\n",
      "          0.096096,    0.097097,    0.098098,    0.099099,      0.1001,      0.1011,      0.1021,      0.1031,      0.1041,     0.10511,     0.10611,     0.10711,     0.10811,     0.10911,     0.11011,     0.11111,     0.11211,     0.11311,     0.11411,     0.11512,     0.11612,     0.11712,     0.11812,     0.11912,\n",
      "           0.12012,     0.12112,     0.12212,     0.12312,     0.12412,     0.12513,     0.12613,     0.12713,     0.12813,     0.12913,     0.13013,     0.13113,     0.13213,     0.13313,     0.13413,     0.13514,     0.13614,     0.13714,     0.13814,     0.13914,     0.14014,     0.14114,     0.14214,     0.14314,\n",
      "           0.14414,     0.14515,     0.14615,     0.14715,     0.14815,     0.14915,     0.15015,     0.15115,     0.15215,     0.15315,     0.15415,     0.15516,     0.15616,     0.15716,     0.15816,     0.15916,     0.16016,     0.16116,     0.16216,     0.16316,     0.16416,     0.16517,     0.16617,     0.16717,\n",
      "           0.16817,     0.16917,     0.17017,     0.17117,     0.17217,     0.17317,     0.17417,     0.17518,     0.17618,     0.17718,     0.17818,     0.17918,     0.18018,     0.18118,     0.18218,     0.18318,     0.18418,     0.18519,     0.18619,     0.18719,     0.18819,     0.18919,     0.19019,     0.19119,\n",
      "           0.19219,     0.19319,     0.19419,      0.1952,      0.1962,      0.1972,      0.1982,      0.1992,      0.2002,      0.2012,      0.2022,      0.2032,      0.2042,     0.20521,     0.20621,     0.20721,     0.20821,     0.20921,     0.21021,     0.21121,     0.21221,     0.21321,     0.21421,     0.21522,\n",
      "           0.21622,     0.21722,     0.21822,     0.21922,     0.22022,     0.22122,     0.22222,     0.22322,     0.22422,     0.22523,     0.22623,     0.22723,     0.22823,     0.22923,     0.23023,     0.23123,     0.23223,     0.23323,     0.23423,     0.23524,     0.23624,     0.23724,     0.23824,     0.23924,\n",
      "           0.24024,     0.24124,     0.24224,     0.24324,     0.24424,     0.24525,     0.24625,     0.24725,     0.24825,     0.24925,     0.25025,     0.25125,     0.25225,     0.25325,     0.25425,     0.25526,     0.25626,     0.25726,     0.25826,     0.25926,     0.26026,     0.26126,     0.26226,     0.26326,\n",
      "           0.26426,     0.26527,     0.26627,     0.26727,     0.26827,     0.26927,     0.27027,     0.27127,     0.27227,     0.27327,     0.27427,     0.27528,     0.27628,     0.27728,     0.27828,     0.27928,     0.28028,     0.28128,     0.28228,     0.28328,     0.28428,     0.28529,     0.28629,     0.28729,\n",
      "           0.28829,     0.28929,     0.29029,     0.29129,     0.29229,     0.29329,     0.29429,      0.2953,      0.2963,      0.2973,      0.2983,      0.2993,      0.3003,      0.3013,      0.3023,      0.3033,      0.3043,     0.30531,     0.30631,     0.30731,     0.30831,     0.30931,     0.31031,     0.31131,\n",
      "           0.31231,     0.31331,     0.31431,     0.31532,     0.31632,     0.31732,     0.31832,     0.31932,     0.32032,     0.32132,     0.32232,     0.32332,     0.32432,     0.32533,     0.32633,     0.32733,     0.32833,     0.32933,     0.33033,     0.33133,     0.33233,     0.33333,     0.33433,     0.33534,\n",
      "           0.33634,     0.33734,     0.33834,     0.33934,     0.34034,     0.34134,     0.34234,     0.34334,     0.34434,     0.34535,     0.34635,     0.34735,     0.34835,     0.34935,     0.35035,     0.35135,     0.35235,     0.35335,     0.35435,     0.35536,     0.35636,     0.35736,     0.35836,     0.35936,\n",
      "           0.36036,     0.36136,     0.36236,     0.36336,     0.36436,     0.36537,     0.36637,     0.36737,     0.36837,     0.36937,     0.37037,     0.37137,     0.37237,     0.37337,     0.37437,     0.37538,     0.37638,     0.37738,     0.37838,     0.37938,     0.38038,     0.38138,     0.38238,     0.38338,\n",
      "           0.38438,     0.38539,     0.38639,     0.38739,     0.38839,     0.38939,     0.39039,     0.39139,     0.39239,     0.39339,     0.39439,      0.3954,      0.3964,      0.3974,      0.3984,      0.3994,      0.4004,      0.4014,      0.4024,      0.4034,      0.4044,     0.40541,     0.40641,     0.40741,\n",
      "           0.40841,     0.40941,     0.41041,     0.41141,     0.41241,     0.41341,     0.41441,     0.41542,     0.41642,     0.41742,     0.41842,     0.41942,     0.42042,     0.42142,     0.42242,     0.42342,     0.42442,     0.42543,     0.42643,     0.42743,     0.42843,     0.42943,     0.43043,     0.43143,\n",
      "           0.43243,     0.43343,     0.43443,     0.43544,     0.43644,     0.43744,     0.43844,     0.43944,     0.44044,     0.44144,     0.44244,     0.44344,     0.44444,     0.44545,     0.44645,     0.44745,     0.44845,     0.44945,     0.45045,     0.45145,     0.45245,     0.45345,     0.45445,     0.45546,\n",
      "           0.45646,     0.45746,     0.45846,     0.45946,     0.46046,     0.46146,     0.46246,     0.46346,     0.46446,     0.46547,     0.46647,     0.46747,     0.46847,     0.46947,     0.47047,     0.47147,     0.47247,     0.47347,     0.47447,     0.47548,     0.47648,     0.47748,     0.47848,     0.47948,\n",
      "           0.48048,     0.48148,     0.48248,     0.48348,     0.48448,     0.48549,     0.48649,     0.48749,     0.48849,     0.48949,     0.49049,     0.49149,     0.49249,     0.49349,     0.49449,      0.4955,      0.4965,      0.4975,      0.4985,      0.4995,      0.5005,      0.5015,      0.5025,      0.5035,\n",
      "            0.5045,     0.50551,     0.50651,     0.50751,     0.50851,     0.50951,     0.51051,     0.51151,     0.51251,     0.51351,     0.51451,     0.51552,     0.51652,     0.51752,     0.51852,     0.51952,     0.52052,     0.52152,     0.52252,     0.52352,     0.52452,     0.52553,     0.52653,     0.52753,\n",
      "           0.52853,     0.52953,     0.53053,     0.53153,     0.53253,     0.53353,     0.53453,     0.53554,     0.53654,     0.53754,     0.53854,     0.53954,     0.54054,     0.54154,     0.54254,     0.54354,     0.54454,     0.54555,     0.54655,     0.54755,     0.54855,     0.54955,     0.55055,     0.55155,\n",
      "           0.55255,     0.55355,     0.55455,     0.55556,     0.55656,     0.55756,     0.55856,     0.55956,     0.56056,     0.56156,     0.56256,     0.56356,     0.56456,     0.56557,     0.56657,     0.56757,     0.56857,     0.56957,     0.57057,     0.57157,     0.57257,     0.57357,     0.57457,     0.57558,\n",
      "           0.57658,     0.57758,     0.57858,     0.57958,     0.58058,     0.58158,     0.58258,     0.58358,     0.58458,     0.58559,     0.58659,     0.58759,     0.58859,     0.58959,     0.59059,     0.59159,     0.59259,     0.59359,     0.59459,      0.5956,      0.5966,      0.5976,      0.5986,      0.5996,\n",
      "            0.6006,      0.6016,      0.6026,      0.6036,      0.6046,     0.60561,     0.60661,     0.60761,     0.60861,     0.60961,     0.61061,     0.61161,     0.61261,     0.61361,     0.61461,     0.61562,     0.61662,     0.61762,     0.61862,     0.61962,     0.62062,     0.62162,     0.62262,     0.62362,\n",
      "           0.62462,     0.62563,     0.62663,     0.62763,     0.62863,     0.62963,     0.63063,     0.63163,     0.63263,     0.63363,     0.63463,     0.63564,     0.63664,     0.63764,     0.63864,     0.63964,     0.64064,     0.64164,     0.64264,     0.64364,     0.64464,     0.64565,     0.64665,     0.64765,\n",
      "           0.64865,     0.64965,     0.65065,     0.65165,     0.65265,     0.65365,     0.65465,     0.65566,     0.65666,     0.65766,     0.65866,     0.65966,     0.66066,     0.66166,     0.66266,     0.66366,     0.66466,     0.66567,     0.66667,     0.66767,     0.66867,     0.66967,     0.67067,     0.67167,\n",
      "           0.67267,     0.67367,     0.67467,     0.67568,     0.67668,     0.67768,     0.67868,     0.67968,     0.68068,     0.68168,     0.68268,     0.68368,     0.68468,     0.68569,     0.68669,     0.68769,     0.68869,     0.68969,     0.69069,     0.69169,     0.69269,     0.69369,     0.69469,      0.6957,\n",
      "            0.6967,      0.6977,      0.6987,      0.6997,      0.7007,      0.7017,      0.7027,      0.7037,      0.7047,     0.70571,     0.70671,     0.70771,     0.70871,     0.70971,     0.71071,     0.71171,     0.71271,     0.71371,     0.71471,     0.71572,     0.71672,     0.71772,     0.71872,     0.71972,\n",
      "           0.72072,     0.72172,     0.72272,     0.72372,     0.72472,     0.72573,     0.72673,     0.72773,     0.72873,     0.72973,     0.73073,     0.73173,     0.73273,     0.73373,     0.73473,     0.73574,     0.73674,     0.73774,     0.73874,     0.73974,     0.74074,     0.74174,     0.74274,     0.74374,\n",
      "           0.74474,     0.74575,     0.74675,     0.74775,     0.74875,     0.74975,     0.75075,     0.75175,     0.75275,     0.75375,     0.75475,     0.75576,     0.75676,     0.75776,     0.75876,     0.75976,     0.76076,     0.76176,     0.76276,     0.76376,     0.76476,     0.76577,     0.76677,     0.76777,\n",
      "           0.76877,     0.76977,     0.77077,     0.77177,     0.77277,     0.77377,     0.77477,     0.77578,     0.77678,     0.77778,     0.77878,     0.77978,     0.78078,     0.78178,     0.78278,     0.78378,     0.78478,     0.78579,     0.78679,     0.78779,     0.78879,     0.78979,     0.79079,     0.79179,\n",
      "           0.79279,     0.79379,     0.79479,      0.7958,      0.7968,      0.7978,      0.7988,      0.7998,      0.8008,      0.8018,      0.8028,      0.8038,      0.8048,     0.80581,     0.80681,     0.80781,     0.80881,     0.80981,     0.81081,     0.81181,     0.81281,     0.81381,     0.81481,     0.81582,\n",
      "           0.81682,     0.81782,     0.81882,     0.81982,     0.82082,     0.82182,     0.82282,     0.82382,     0.82482,     0.82583,     0.82683,     0.82783,     0.82883,     0.82983,     0.83083,     0.83183,     0.83283,     0.83383,     0.83483,     0.83584,     0.83684,     0.83784,     0.83884,     0.83984,\n",
      "           0.84084,     0.84184,     0.84284,     0.84384,     0.84484,     0.84585,     0.84685,     0.84785,     0.84885,     0.84985,     0.85085,     0.85185,     0.85285,     0.85385,     0.85485,     0.85586,     0.85686,     0.85786,     0.85886,     0.85986,     0.86086,     0.86186,     0.86286,     0.86386,\n",
      "           0.86486,     0.86587,     0.86687,     0.86787,     0.86887,     0.86987,     0.87087,     0.87187,     0.87287,     0.87387,     0.87487,     0.87588,     0.87688,     0.87788,     0.87888,     0.87988,     0.88088,     0.88188,     0.88288,     0.88388,     0.88488,     0.88589,     0.88689,     0.88789,\n",
      "           0.88889,     0.88989,     0.89089,     0.89189,     0.89289,     0.89389,     0.89489,      0.8959,      0.8969,      0.8979,      0.8989,      0.8999,      0.9009,      0.9019,      0.9029,      0.9039,      0.9049,     0.90591,     0.90691,     0.90791,     0.90891,     0.90991,     0.91091,     0.91191,\n",
      "           0.91291,     0.91391,     0.91491,     0.91592,     0.91692,     0.91792,     0.91892,     0.91992,     0.92092,     0.92192,     0.92292,     0.92392,     0.92492,     0.92593,     0.92693,     0.92793,     0.92893,     0.92993,     0.93093,     0.93193,     0.93293,     0.93393,     0.93493,     0.93594,\n",
      "           0.93694,     0.93794,     0.93894,     0.93994,     0.94094,     0.94194,     0.94294,     0.94394,     0.94494,     0.94595,     0.94695,     0.94795,     0.94895,     0.94995,     0.95095,     0.95195,     0.95295,     0.95395,     0.95495,     0.95596,     0.95696,     0.95796,     0.95896,     0.95996,\n",
      "           0.96096,     0.96196,     0.96296,     0.96396,     0.96496,     0.96597,     0.96697,     0.96797,     0.96897,     0.96997,     0.97097,     0.97197,     0.97297,     0.97397,     0.97497,     0.97598,     0.97698,     0.97798,     0.97898,     0.97998,     0.98098,     0.98198,     0.98298,     0.98398,\n",
      "           0.98498,     0.98599,     0.98699,     0.98799,     0.98899,     0.98999,     0.99099,     0.99199,     0.99299,     0.99399,     0.99499,       0.996,       0.997,       0.998,       0.999,           1]), array([[    0.15937,     0.15943,     0.22214,      0.2712,     0.30765,     0.33849,     0.36365,     0.38806,     0.40502,      0.4206,     0.43936,     0.45416,     0.46931,     0.48745,     0.50256,     0.51386,     0.52624,     0.53896,     0.55081,     0.56093,      0.5686,     0.57437,     0.58509,\n",
      "            0.59171,     0.59549,     0.60598,      0.6155,      0.6231,     0.63216,     0.63908,     0.64486,     0.64949,     0.65563,     0.66278,     0.66725,      0.6723,     0.67927,     0.68397,     0.68971,      0.6932,     0.69731,     0.70292,     0.70739,     0.71077,     0.71423,     0.71781,\n",
      "             0.7216,     0.72469,     0.72675,     0.72892,     0.73058,     0.73374,     0.73594,     0.73772,     0.73968,     0.74364,     0.74583,     0.74937,     0.75241,     0.75532,     0.75947,     0.76085,     0.76398,     0.76751,      0.7688,     0.77189,     0.77329,     0.77529,     0.77688,\n",
      "            0.78028,     0.78327,      0.7853,     0.78606,     0.78818,     0.78851,     0.78948,     0.79079,     0.79247,     0.79321,     0.79366,     0.79431,     0.79594,     0.79827,     0.79892,     0.80116,     0.80201,     0.80402,     0.80529,     0.80764,     0.80837,     0.80964,     0.81116,\n",
      "            0.81343,     0.81428,      0.8153,     0.81628,     0.81727,     0.81793,     0.81949,     0.82274,     0.82367,     0.82773,     0.82827,     0.83181,     0.83307,     0.83384,     0.83536,     0.83716,     0.83843,     0.83904,     0.83983,     0.84028,     0.84045,     0.84062,     0.84079,\n",
      "            0.84102,     0.84154,     0.84403,     0.84452,     0.84546,     0.84649,      0.8468,     0.84718,     0.84755,     0.84875,     0.84966,     0.85326,     0.85452,       0.855,     0.85609,     0.85735,     0.85762,     0.85809,     0.85843,     0.85976,     0.86003,      0.8603,     0.86074,\n",
      "            0.86192,     0.86231,     0.86301,     0.86411,      0.8649,     0.86568,     0.86661,     0.86753,     0.86786,     0.86845,     0.86976,     0.87111,     0.87156,     0.87171,     0.87186,     0.87201,     0.87215,     0.87246,     0.87281,     0.87327,     0.87442,     0.87562,     0.87578,\n",
      "            0.87597,     0.87615,     0.87648,     0.87792,     0.87823,      0.8784,     0.87927,     0.87976,     0.88081,     0.88124,     0.88163,     0.88225,     0.88314,     0.88352,     0.88375,     0.88398,     0.88456,     0.88497,     0.88521,     0.88545,     0.88646,     0.88689,     0.88747,\n",
      "            0.88896,     0.89054,     0.89176,      0.8923,     0.89259,     0.89287,     0.89305,     0.89323,     0.89342,     0.89435,     0.89483,     0.89669,     0.89702,     0.89736,     0.89774,     0.89819,     0.89941,     0.89971,     0.89991,     0.90012,     0.90037,      0.9007,     0.90102,\n",
      "            0.90127,     0.90153,     0.90189,     0.90301,     0.90381,     0.90559,     0.90594,     0.90627,     0.90667,     0.90694,     0.90692,      0.9069,     0.90681,     0.90713,     0.90748,      0.9078,      0.9081,     0.90837,     0.90852,     0.90868,     0.90884,     0.90899,     0.90922,\n",
      "            0.90957,     0.91006,     0.91067,     0.91098,     0.91128,     0.91184,     0.91213,     0.91243,     0.91272,     0.91283,     0.91289,     0.91295,     0.91301,     0.91307,     0.91313,     0.91319,     0.91325,     0.91331,     0.91337,     0.91342,     0.91348,     0.91354,     0.91457,\n",
      "            0.91533,     0.91597,     0.91611,     0.91625,     0.91638,     0.91652,     0.91666,     0.91666,     0.91665,     0.91664,     0.91663,     0.91662,     0.91662,     0.91661,      0.9166,     0.91693,     0.91742,     0.91765,     0.91787,     0.91809,     0.91843,     0.91885,      0.9197,\n",
      "            0.91967,     0.92022,     0.92119,      0.9216,     0.92206,     0.92237,     0.92268,     0.92271,     0.92276,     0.92292,     0.92309,     0.92325,     0.92342,      0.9236,      0.9238,     0.92399,     0.92418,     0.92434,     0.92448,     0.92461,     0.92474,     0.92487,     0.92501,\n",
      "             0.9251,     0.92566,     0.92601,     0.92642,     0.92702,     0.92733,     0.92733,     0.92732,     0.92731,     0.92731,      0.9273,     0.92729,     0.92729,     0.92728,     0.92728,     0.92734,     0.92747,     0.92759,     0.92772,     0.92785,     0.92798,     0.92807,     0.92806,\n",
      "            0.92804,     0.92802,     0.92867,     0.92893,     0.92906,     0.92919,     0.92932,     0.92945,     0.92958,     0.92976,     0.92998,      0.9302,     0.93042,     0.93123,     0.93121,     0.93125,     0.93171,     0.93196,     0.93204,     0.93218,     0.93232,     0.93246,      0.9326,\n",
      "            0.93273,     0.93273,     0.93271,     0.93288,     0.93349,     0.93371,     0.93393,     0.93415,     0.93426,     0.93423,     0.93419,     0.93446,     0.93482,     0.93572,     0.93618,     0.93659,     0.93659,     0.93656,     0.93654,     0.93653,     0.93651,     0.93644,     0.93642,\n",
      "             0.9364,     0.93717,     0.93764,     0.93775,     0.93772,      0.9377,     0.93769,     0.93767,     0.93774,     0.93789,     0.93804,     0.93819,     0.93835,      0.9385,     0.93934,     0.93929,     0.93924,     0.93911,     0.93909,     0.93912,      0.9395,     0.93988,     0.93984,\n",
      "            0.93981,     0.93979,     0.93977,     0.93967,     0.94046,     0.94043,     0.94208,     0.94205,     0.94201,     0.94237,     0.94282,     0.94279,     0.94277,     0.94274,     0.94272,     0.94271,     0.94269,     0.94268,     0.94256,     0.94252,     0.94351,     0.94401,     0.94473,\n",
      "            0.94553,     0.94595,     0.94678,     0.94675,     0.94667,     0.94657,     0.94653,     0.94735,     0.94764,     0.94812,     0.94813,     0.94808,     0.94803,      0.9482,     0.94883,     0.94976,     0.95112,      0.9514,     0.95137,     0.95126,     0.95125,     0.95123,     0.95118,\n",
      "            0.95105,     0.95103,     0.95103,     0.95102,     0.95102,     0.95101,       0.951,       0.951,     0.95099,     0.95187,     0.95179,     0.95177,     0.95175,     0.95261,     0.95255,     0.95347,     0.95377,     0.95406,     0.95437,     0.95473,     0.95509,     0.95516,     0.95581,\n",
      "            0.95697,     0.95694,       0.957,     0.95724,     0.95749,     0.95774,      0.9578,     0.95778,     0.95773,     0.95772,     0.95771,      0.9577,     0.95786,      0.9585,     0.95858,     0.95853,     0.95848,     0.95909,      0.9593,     0.95926,      0.9592,     0.95913,     0.95912,\n",
      "            0.95911,     0.95909,     0.95907,     0.95941,     0.96052,     0.96134,     0.96184,     0.96176,     0.96175,     0.96174,     0.96173,     0.96172,     0.96171,      0.9617,     0.96172,      0.9625,     0.96356,     0.96444,     0.96536,     0.96593,     0.96706,     0.96725,     0.96723,\n",
      "            0.96719,     0.96718,     0.96717,     0.96776,     0.96804,     0.96872,     0.96912,     0.96936,      0.9696,     0.96984,     0.96988,     0.96987,     0.96985,      0.9706,     0.97075,     0.97172,     0.97169,     0.97164,      0.9728,     0.97421,     0.97544,     0.97563,     0.97613,\n",
      "            0.97655,     0.97654,     0.97651,      0.9765,      0.9765,     0.97649,     0.97648,     0.97742,      0.9774,     0.97737,     0.97735,     0.97804,     0.97833,     0.97831,      0.9783,     0.97827,     0.97894,     0.97921,      0.9792,     0.97919,     0.97919,     0.97914,     0.97905,\n",
      "            0.97904,     0.97899,     0.97897,     0.97893,      0.9789,     0.97889,     0.97888,     0.97884,     0.97882,        0.98,     0.98023,     0.98047,     0.98071,      0.9813,     0.98189,     0.98292,     0.98291,     0.98289,     0.98287,     0.98297,     0.98359,      0.9839,      0.9839,\n",
      "             0.9839,     0.98389,     0.98389,     0.98389,     0.98386,     0.98381,     0.98484,     0.98482,     0.98481,     0.98587,     0.98586,     0.98585,     0.98583,      0.9858,     0.98579,     0.98578,     0.98578,     0.98577,     0.98577,     0.98577,     0.98577,     0.98577,     0.98577,\n",
      "            0.98577,     0.98577,     0.98576,     0.98576,     0.98576,     0.98576,     0.98575,     0.98574,     0.98573,     0.98626,     0.98678,     0.98677,     0.98676,     0.98673,     0.98671,      0.9867,     0.98668,     0.98668,     0.98667,     0.98667,     0.98666,     0.98665,     0.98662,\n",
      "            0.98661,     0.98658,     0.98655,     0.98655,     0.98654,     0.98654,     0.98653,     0.98653,     0.98652,      0.9865,     0.98649,     0.98649,     0.98644,     0.98643,     0.98659,     0.98727,     0.98753,     0.98747,     0.98747,     0.98746,     0.98746,     0.98745,     0.98803,\n",
      "            0.98854,     0.98853,     0.98851,     0.98848,     0.98846,     0.98844,     0.98842,     0.98841,      0.9884,     0.98839,     0.98833,      0.9883,      0.9883,     0.98828,     0.98827,     0.98827,     0.98824,     0.98821,     0.98937,     0.98936,     0.98934,     0.98933,     0.98933,\n",
      "            0.98932,     0.98929,     0.98927,     0.98925,     0.98924,     0.98922,     0.98918,     0.98914,      0.9891,     0.98909,     0.98905,     0.98904,     0.99024,     0.99023,     0.99022,     0.99018,     0.99018,     0.99017,     0.99016,     0.99015,     0.99012,     0.99011,     0.99009,\n",
      "            0.99006,     0.99005,     0.99002,     0.99001,        0.99,     0.98999,     0.98994,     0.98991,     0.98989,     0.98987,     0.98984,     0.98981,     0.98976,     0.98974,     0.98973,     0.98972,     0.98971,      0.9899,     0.99093,     0.99092,      0.9909,     0.99086,     0.99214,\n",
      "            0.99211,     0.99211,     0.99209,     0.99204,     0.99201,     0.99198,     0.99197,     0.99195,     0.99195,     0.99193,     0.99189,     0.99188,     0.99185,     0.99183,     0.99179,     0.99175,      0.9917,     0.99168,     0.99163,      0.9916,     0.99157,     0.99152,     0.99144,\n",
      "            0.99142,     0.99139,     0.99138,     0.99134,     0.99126,     0.99121,     0.99111,     0.99109,     0.99105,     0.99102,       0.991,     0.99095,      0.9909,     0.99088,     0.99085,     0.99084,     0.99083,     0.99082,     0.99077,     0.99066,     0.99062,     0.99057,      0.9905,\n",
      "            0.99049,     0.99045,     0.99041,     0.99036,     0.99031,     0.99026,     0.99019,     0.99012,      0.9901,     0.99008,     0.99003,     0.98996,     0.98992,     0.98988,     0.98987,     0.98983,     0.98978,      0.9897,     0.98963,     0.99054,     0.99115,     0.99109,     0.99104,\n",
      "            0.99098,     0.99091,     0.99082,     0.99077,     0.99073,     0.99067,     0.99047,     0.99036,     0.99033,     0.99025,     0.99017,      0.9901,     0.99003,     0.99198,     0.99195,     0.99192,     0.99185,     0.99179,     0.99172,     0.99167,     0.99155,     0.99151,     0.99144,\n",
      "            0.99137,     0.99129,     0.99125,     0.99113,     0.99104,     0.99096,     0.99083,     0.99075,      0.9907,     0.99063,     0.99056,     0.99285,     0.99277,     0.99273,     0.99262,     0.99254,     0.99248,     0.99237,      0.9923,     0.99225,     0.99212,     0.99202,     0.99463,\n",
      "            0.99453,     0.99443,     0.99438,     0.99432,     0.99427,     0.99708,     0.99704,     0.99696,     0.99693,     0.99691,     0.99686,     0.99683,     0.99681,     0.99678,     0.99677,     0.99674,      0.9967,     0.99668,     0.99663,     0.99657,     0.99652,     0.99647,     0.99639,\n",
      "            0.99634,     0.99632,     0.99631,     0.99625,           1,           1,           1,           1,           1,           1,           1,           1,           1,           1,           1,           1,           1,           1,           1,           1,           1,           1,           1,\n",
      "                  1,           1,           1,           1,           1,           1,           1,           1,           1,           1,           1,           1,           1,           1,           1,           1,           1,           1,           1,           1,           1,           1,           1,\n",
      "                  1,           1,           1,           1,           1,           1,           1,           1,           1,           1,           1,           1,           1,           1,           1,           1,           1,           1,           1,           1,           1,           1,           1,\n",
      "                  1,           1,           1,           1,           1,           1,           1,           1,           1,           1,           1,           1,           1,           1,           1,           1,           1,           1,           1,           1,           1,           1,           1,\n",
      "                  1,           1,           1,           1,           1,           1,           1,           1,           1,           1,           1,           1,           1,           1,           1,           1,           1,           1,           1,           1,           1,           1,           1,\n",
      "                  1,           1,           1,           1,           1,           1,           1,           1,           1,           1,           1,           1,           1,           1,           1,           1,           1,           1,           1,           1,           1,           1,           1,\n",
      "                  1,           1,           1,           1,           1,           1,           1,           1,           1,           1,           1]]), 'Confidence', 'Precision'], [array([          0,    0.001001,    0.002002,    0.003003,    0.004004,    0.005005,    0.006006,    0.007007,    0.008008,    0.009009,     0.01001,    0.011011,    0.012012,    0.013013,    0.014014,    0.015015,    0.016016,    0.017017,    0.018018,    0.019019,     0.02002,    0.021021,    0.022022,    0.023023,\n",
      "          0.024024,    0.025025,    0.026026,    0.027027,    0.028028,    0.029029,     0.03003,    0.031031,    0.032032,    0.033033,    0.034034,    0.035035,    0.036036,    0.037037,    0.038038,    0.039039,     0.04004,    0.041041,    0.042042,    0.043043,    0.044044,    0.045045,    0.046046,    0.047047,\n",
      "          0.048048,    0.049049,     0.05005,    0.051051,    0.052052,    0.053053,    0.054054,    0.055055,    0.056056,    0.057057,    0.058058,    0.059059,     0.06006,    0.061061,    0.062062,    0.063063,    0.064064,    0.065065,    0.066066,    0.067067,    0.068068,    0.069069,     0.07007,    0.071071,\n",
      "          0.072072,    0.073073,    0.074074,    0.075075,    0.076076,    0.077077,    0.078078,    0.079079,     0.08008,    0.081081,    0.082082,    0.083083,    0.084084,    0.085085,    0.086086,    0.087087,    0.088088,    0.089089,     0.09009,    0.091091,    0.092092,    0.093093,    0.094094,    0.095095,\n",
      "          0.096096,    0.097097,    0.098098,    0.099099,      0.1001,      0.1011,      0.1021,      0.1031,      0.1041,     0.10511,     0.10611,     0.10711,     0.10811,     0.10911,     0.11011,     0.11111,     0.11211,     0.11311,     0.11411,     0.11512,     0.11612,     0.11712,     0.11812,     0.11912,\n",
      "           0.12012,     0.12112,     0.12212,     0.12312,     0.12412,     0.12513,     0.12613,     0.12713,     0.12813,     0.12913,     0.13013,     0.13113,     0.13213,     0.13313,     0.13413,     0.13514,     0.13614,     0.13714,     0.13814,     0.13914,     0.14014,     0.14114,     0.14214,     0.14314,\n",
      "           0.14414,     0.14515,     0.14615,     0.14715,     0.14815,     0.14915,     0.15015,     0.15115,     0.15215,     0.15315,     0.15415,     0.15516,     0.15616,     0.15716,     0.15816,     0.15916,     0.16016,     0.16116,     0.16216,     0.16316,     0.16416,     0.16517,     0.16617,     0.16717,\n",
      "           0.16817,     0.16917,     0.17017,     0.17117,     0.17217,     0.17317,     0.17417,     0.17518,     0.17618,     0.17718,     0.17818,     0.17918,     0.18018,     0.18118,     0.18218,     0.18318,     0.18418,     0.18519,     0.18619,     0.18719,     0.18819,     0.18919,     0.19019,     0.19119,\n",
      "           0.19219,     0.19319,     0.19419,      0.1952,      0.1962,      0.1972,      0.1982,      0.1992,      0.2002,      0.2012,      0.2022,      0.2032,      0.2042,     0.20521,     0.20621,     0.20721,     0.20821,     0.20921,     0.21021,     0.21121,     0.21221,     0.21321,     0.21421,     0.21522,\n",
      "           0.21622,     0.21722,     0.21822,     0.21922,     0.22022,     0.22122,     0.22222,     0.22322,     0.22422,     0.22523,     0.22623,     0.22723,     0.22823,     0.22923,     0.23023,     0.23123,     0.23223,     0.23323,     0.23423,     0.23524,     0.23624,     0.23724,     0.23824,     0.23924,\n",
      "           0.24024,     0.24124,     0.24224,     0.24324,     0.24424,     0.24525,     0.24625,     0.24725,     0.24825,     0.24925,     0.25025,     0.25125,     0.25225,     0.25325,     0.25425,     0.25526,     0.25626,     0.25726,     0.25826,     0.25926,     0.26026,     0.26126,     0.26226,     0.26326,\n",
      "           0.26426,     0.26527,     0.26627,     0.26727,     0.26827,     0.26927,     0.27027,     0.27127,     0.27227,     0.27327,     0.27427,     0.27528,     0.27628,     0.27728,     0.27828,     0.27928,     0.28028,     0.28128,     0.28228,     0.28328,     0.28428,     0.28529,     0.28629,     0.28729,\n",
      "           0.28829,     0.28929,     0.29029,     0.29129,     0.29229,     0.29329,     0.29429,      0.2953,      0.2963,      0.2973,      0.2983,      0.2993,      0.3003,      0.3013,      0.3023,      0.3033,      0.3043,     0.30531,     0.30631,     0.30731,     0.30831,     0.30931,     0.31031,     0.31131,\n",
      "           0.31231,     0.31331,     0.31431,     0.31532,     0.31632,     0.31732,     0.31832,     0.31932,     0.32032,     0.32132,     0.32232,     0.32332,     0.32432,     0.32533,     0.32633,     0.32733,     0.32833,     0.32933,     0.33033,     0.33133,     0.33233,     0.33333,     0.33433,     0.33534,\n",
      "           0.33634,     0.33734,     0.33834,     0.33934,     0.34034,     0.34134,     0.34234,     0.34334,     0.34434,     0.34535,     0.34635,     0.34735,     0.34835,     0.34935,     0.35035,     0.35135,     0.35235,     0.35335,     0.35435,     0.35536,     0.35636,     0.35736,     0.35836,     0.35936,\n",
      "           0.36036,     0.36136,     0.36236,     0.36336,     0.36436,     0.36537,     0.36637,     0.36737,     0.36837,     0.36937,     0.37037,     0.37137,     0.37237,     0.37337,     0.37437,     0.37538,     0.37638,     0.37738,     0.37838,     0.37938,     0.38038,     0.38138,     0.38238,     0.38338,\n",
      "           0.38438,     0.38539,     0.38639,     0.38739,     0.38839,     0.38939,     0.39039,     0.39139,     0.39239,     0.39339,     0.39439,      0.3954,      0.3964,      0.3974,      0.3984,      0.3994,      0.4004,      0.4014,      0.4024,      0.4034,      0.4044,     0.40541,     0.40641,     0.40741,\n",
      "           0.40841,     0.40941,     0.41041,     0.41141,     0.41241,     0.41341,     0.41441,     0.41542,     0.41642,     0.41742,     0.41842,     0.41942,     0.42042,     0.42142,     0.42242,     0.42342,     0.42442,     0.42543,     0.42643,     0.42743,     0.42843,     0.42943,     0.43043,     0.43143,\n",
      "           0.43243,     0.43343,     0.43443,     0.43544,     0.43644,     0.43744,     0.43844,     0.43944,     0.44044,     0.44144,     0.44244,     0.44344,     0.44444,     0.44545,     0.44645,     0.44745,     0.44845,     0.44945,     0.45045,     0.45145,     0.45245,     0.45345,     0.45445,     0.45546,\n",
      "           0.45646,     0.45746,     0.45846,     0.45946,     0.46046,     0.46146,     0.46246,     0.46346,     0.46446,     0.46547,     0.46647,     0.46747,     0.46847,     0.46947,     0.47047,     0.47147,     0.47247,     0.47347,     0.47447,     0.47548,     0.47648,     0.47748,     0.47848,     0.47948,\n",
      "           0.48048,     0.48148,     0.48248,     0.48348,     0.48448,     0.48549,     0.48649,     0.48749,     0.48849,     0.48949,     0.49049,     0.49149,     0.49249,     0.49349,     0.49449,      0.4955,      0.4965,      0.4975,      0.4985,      0.4995,      0.5005,      0.5015,      0.5025,      0.5035,\n",
      "            0.5045,     0.50551,     0.50651,     0.50751,     0.50851,     0.50951,     0.51051,     0.51151,     0.51251,     0.51351,     0.51451,     0.51552,     0.51652,     0.51752,     0.51852,     0.51952,     0.52052,     0.52152,     0.52252,     0.52352,     0.52452,     0.52553,     0.52653,     0.52753,\n",
      "           0.52853,     0.52953,     0.53053,     0.53153,     0.53253,     0.53353,     0.53453,     0.53554,     0.53654,     0.53754,     0.53854,     0.53954,     0.54054,     0.54154,     0.54254,     0.54354,     0.54454,     0.54555,     0.54655,     0.54755,     0.54855,     0.54955,     0.55055,     0.55155,\n",
      "           0.55255,     0.55355,     0.55455,     0.55556,     0.55656,     0.55756,     0.55856,     0.55956,     0.56056,     0.56156,     0.56256,     0.56356,     0.56456,     0.56557,     0.56657,     0.56757,     0.56857,     0.56957,     0.57057,     0.57157,     0.57257,     0.57357,     0.57457,     0.57558,\n",
      "           0.57658,     0.57758,     0.57858,     0.57958,     0.58058,     0.58158,     0.58258,     0.58358,     0.58458,     0.58559,     0.58659,     0.58759,     0.58859,     0.58959,     0.59059,     0.59159,     0.59259,     0.59359,     0.59459,      0.5956,      0.5966,      0.5976,      0.5986,      0.5996,\n",
      "            0.6006,      0.6016,      0.6026,      0.6036,      0.6046,     0.60561,     0.60661,     0.60761,     0.60861,     0.60961,     0.61061,     0.61161,     0.61261,     0.61361,     0.61461,     0.61562,     0.61662,     0.61762,     0.61862,     0.61962,     0.62062,     0.62162,     0.62262,     0.62362,\n",
      "           0.62462,     0.62563,     0.62663,     0.62763,     0.62863,     0.62963,     0.63063,     0.63163,     0.63263,     0.63363,     0.63463,     0.63564,     0.63664,     0.63764,     0.63864,     0.63964,     0.64064,     0.64164,     0.64264,     0.64364,     0.64464,     0.64565,     0.64665,     0.64765,\n",
      "           0.64865,     0.64965,     0.65065,     0.65165,     0.65265,     0.65365,     0.65465,     0.65566,     0.65666,     0.65766,     0.65866,     0.65966,     0.66066,     0.66166,     0.66266,     0.66366,     0.66466,     0.66567,     0.66667,     0.66767,     0.66867,     0.66967,     0.67067,     0.67167,\n",
      "           0.67267,     0.67367,     0.67467,     0.67568,     0.67668,     0.67768,     0.67868,     0.67968,     0.68068,     0.68168,     0.68268,     0.68368,     0.68468,     0.68569,     0.68669,     0.68769,     0.68869,     0.68969,     0.69069,     0.69169,     0.69269,     0.69369,     0.69469,      0.6957,\n",
      "            0.6967,      0.6977,      0.6987,      0.6997,      0.7007,      0.7017,      0.7027,      0.7037,      0.7047,     0.70571,     0.70671,     0.70771,     0.70871,     0.70971,     0.71071,     0.71171,     0.71271,     0.71371,     0.71471,     0.71572,     0.71672,     0.71772,     0.71872,     0.71972,\n",
      "           0.72072,     0.72172,     0.72272,     0.72372,     0.72472,     0.72573,     0.72673,     0.72773,     0.72873,     0.72973,     0.73073,     0.73173,     0.73273,     0.73373,     0.73473,     0.73574,     0.73674,     0.73774,     0.73874,     0.73974,     0.74074,     0.74174,     0.74274,     0.74374,\n",
      "           0.74474,     0.74575,     0.74675,     0.74775,     0.74875,     0.74975,     0.75075,     0.75175,     0.75275,     0.75375,     0.75475,     0.75576,     0.75676,     0.75776,     0.75876,     0.75976,     0.76076,     0.76176,     0.76276,     0.76376,     0.76476,     0.76577,     0.76677,     0.76777,\n",
      "           0.76877,     0.76977,     0.77077,     0.77177,     0.77277,     0.77377,     0.77477,     0.77578,     0.77678,     0.77778,     0.77878,     0.77978,     0.78078,     0.78178,     0.78278,     0.78378,     0.78478,     0.78579,     0.78679,     0.78779,     0.78879,     0.78979,     0.79079,     0.79179,\n",
      "           0.79279,     0.79379,     0.79479,      0.7958,      0.7968,      0.7978,      0.7988,      0.7998,      0.8008,      0.8018,      0.8028,      0.8038,      0.8048,     0.80581,     0.80681,     0.80781,     0.80881,     0.80981,     0.81081,     0.81181,     0.81281,     0.81381,     0.81481,     0.81582,\n",
      "           0.81682,     0.81782,     0.81882,     0.81982,     0.82082,     0.82182,     0.82282,     0.82382,     0.82482,     0.82583,     0.82683,     0.82783,     0.82883,     0.82983,     0.83083,     0.83183,     0.83283,     0.83383,     0.83483,     0.83584,     0.83684,     0.83784,     0.83884,     0.83984,\n",
      "           0.84084,     0.84184,     0.84284,     0.84384,     0.84484,     0.84585,     0.84685,     0.84785,     0.84885,     0.84985,     0.85085,     0.85185,     0.85285,     0.85385,     0.85485,     0.85586,     0.85686,     0.85786,     0.85886,     0.85986,     0.86086,     0.86186,     0.86286,     0.86386,\n",
      "           0.86486,     0.86587,     0.86687,     0.86787,     0.86887,     0.86987,     0.87087,     0.87187,     0.87287,     0.87387,     0.87487,     0.87588,     0.87688,     0.87788,     0.87888,     0.87988,     0.88088,     0.88188,     0.88288,     0.88388,     0.88488,     0.88589,     0.88689,     0.88789,\n",
      "           0.88889,     0.88989,     0.89089,     0.89189,     0.89289,     0.89389,     0.89489,      0.8959,      0.8969,      0.8979,      0.8989,      0.8999,      0.9009,      0.9019,      0.9029,      0.9039,      0.9049,     0.90591,     0.90691,     0.90791,     0.90891,     0.90991,     0.91091,     0.91191,\n",
      "           0.91291,     0.91391,     0.91491,     0.91592,     0.91692,     0.91792,     0.91892,     0.91992,     0.92092,     0.92192,     0.92292,     0.92392,     0.92492,     0.92593,     0.92693,     0.92793,     0.92893,     0.92993,     0.93093,     0.93193,     0.93293,     0.93393,     0.93493,     0.93594,\n",
      "           0.93694,     0.93794,     0.93894,     0.93994,     0.94094,     0.94194,     0.94294,     0.94394,     0.94494,     0.94595,     0.94695,     0.94795,     0.94895,     0.94995,     0.95095,     0.95195,     0.95295,     0.95395,     0.95495,     0.95596,     0.95696,     0.95796,     0.95896,     0.95996,\n",
      "           0.96096,     0.96196,     0.96296,     0.96396,     0.96496,     0.96597,     0.96697,     0.96797,     0.96897,     0.96997,     0.97097,     0.97197,     0.97297,     0.97397,     0.97497,     0.97598,     0.97698,     0.97798,     0.97898,     0.97998,     0.98098,     0.98198,     0.98298,     0.98398,\n",
      "           0.98498,     0.98599,     0.98699,     0.98799,     0.98899,     0.98999,     0.99099,     0.99199,     0.99299,     0.99399,     0.99499,       0.996,       0.997,       0.998,       0.999,           1]), array([[    0.98843,     0.98843,     0.98665,     0.98488,     0.98488,     0.98488,     0.98399,     0.98399,      0.9831,      0.9831,      0.9831,      0.9831,     0.98221,     0.98221,     0.98221,     0.98132,     0.98132,     0.98132,     0.98132,     0.98132,     0.98132,     0.98132,     0.98132,\n",
      "            0.98132,     0.98043,     0.97954,     0.97954,     0.97954,     0.97954,     0.97954,     0.97896,     0.97865,     0.97865,     0.97865,     0.97865,     0.97865,     0.97865,     0.97865,     0.97865,     0.97865,     0.97865,     0.97865,     0.97865,     0.97865,     0.97865,     0.97776,\n",
      "            0.97776,     0.97776,     0.97776,     0.97776,     0.97776,     0.97776,     0.97776,     0.97687,     0.97687,     0.97687,     0.97687,     0.97687,     0.97687,     0.97687,     0.97687,     0.97687,     0.97687,     0.97687,     0.97687,     0.97687,     0.97687,     0.97611,     0.97598,\n",
      "            0.97598,     0.97598,     0.97598,     0.97598,     0.97598,     0.97598,     0.97598,     0.97524,     0.97509,     0.97509,     0.97509,     0.97509,     0.97509,      0.9742,     0.97331,     0.97331,     0.97331,     0.97331,     0.97331,     0.97331,     0.97331,     0.97153,     0.97153,\n",
      "            0.97153,     0.97153,     0.97153,     0.97153,     0.97153,     0.97153,     0.97064,     0.97042,     0.96975,     0.96975,     0.96975,     0.96975,     0.96975,     0.96975,     0.96975,     0.96975,     0.96954,     0.96886,     0.96886,     0.96886,     0.96886,     0.96886,     0.96886,\n",
      "            0.96886,     0.96886,     0.96886,     0.96886,     0.96862,     0.96797,     0.96708,      0.9667,     0.96619,     0.96619,     0.96619,     0.96619,     0.96619,     0.96619,     0.96619,     0.96619,     0.96619,     0.96619,     0.96568,      0.9653,      0.9653,      0.9653,      0.9653,\n",
      "             0.9653,      0.9653,      0.9653,      0.9653,      0.9653,      0.9653,      0.9653,      0.9653,      0.9653,      0.9653,      0.9653,      0.9653,      0.9653,      0.9653,      0.9653,      0.9653,      0.9653,      0.9653,      0.9653,      0.9653,      0.9653,     0.96454,     0.96441,\n",
      "            0.96441,     0.96441,     0.96441,     0.96441,     0.96441,       0.964,     0.96352,     0.96352,     0.96352,     0.96352,     0.96352,     0.96352,     0.96352,     0.96352,     0.96352,     0.96352,     0.96352,     0.96352,     0.96352,     0.96352,     0.96352,     0.96352,     0.96352,\n",
      "            0.96352,     0.96352,     0.96352,     0.96352,     0.96352,     0.96352,     0.96352,     0.96352,     0.96352,     0.96352,     0.96352,     0.96352,     0.96352,     0.96352,     0.96352,     0.96352,     0.96352,     0.96352,     0.96352,     0.96352,     0.96352,     0.96352,     0.96352,\n",
      "            0.96352,     0.96352,     0.96352,     0.96352,     0.96352,     0.96352,     0.96352,     0.96347,     0.96263,      0.9624,     0.96216,     0.96193,     0.96101,     0.96085,     0.96085,     0.96085,     0.96085,     0.96085,     0.96085,     0.96085,     0.96085,     0.96085,     0.96085,\n",
      "            0.96085,     0.96085,     0.95996,     0.95996,     0.95996,     0.95996,     0.95907,     0.95907,     0.95907,     0.95907,     0.95907,     0.95907,     0.95907,     0.95907,     0.95907,     0.95907,     0.95907,     0.95907,     0.95907,     0.95907,     0.95907,     0.95907,     0.95907,\n",
      "            0.95907,     0.95907,     0.95907,     0.95907,     0.95907,     0.95907,     0.95907,     0.95897,     0.95887,     0.95876,     0.95866,     0.95855,     0.95844,     0.95834,     0.95823,     0.95819,     0.95819,     0.95819,     0.95819,     0.95819,     0.95819,     0.95819,     0.95787,\n",
      "            0.95742,      0.9573,     0.95673,     0.95641,     0.95641,     0.95641,     0.95641,     0.95587,     0.95552,     0.95552,     0.95552,     0.95552,     0.95552,     0.95552,     0.95552,     0.95552,     0.95552,     0.95552,     0.95552,     0.95552,     0.95552,     0.95552,     0.95552,\n",
      "            0.95463,     0.95463,     0.95374,     0.95374,     0.95374,     0.95369,      0.9536,     0.95351,     0.95342,     0.95333,     0.95324,     0.95316,     0.95307,     0.95298,     0.95289,     0.95285,     0.95285,     0.95285,     0.95285,     0.95285,     0.95285,     0.95279,     0.95255,\n",
      "            0.95231,     0.95206,     0.95196,     0.95196,     0.95196,     0.95196,     0.95196,     0.95196,     0.95196,     0.95196,     0.95196,     0.95196,     0.95196,      0.9518,     0.95141,     0.95107,     0.95107,     0.95056,     0.95018,     0.95018,     0.95018,     0.95018,     0.95018,\n",
      "            0.95018,     0.94986,     0.94949,      0.9484,      0.9484,      0.9484,      0.9484,      0.9484,     0.94822,     0.94785,     0.94722,     0.94662,     0.94662,     0.94662,     0.94662,     0.94662,     0.94611,     0.94566,     0.94542,     0.94518,     0.94494,     0.94377,     0.94345,\n",
      "            0.94313,     0.94219,     0.93861,      0.9381,     0.93765,     0.93742,     0.93719,     0.93695,     0.93683,     0.93683,     0.93683,     0.93683,     0.93683,     0.93683,     0.93678,     0.93605,     0.93513,     0.93315,     0.93274,     0.93238,     0.93238,     0.93238,     0.93116,\n",
      "            0.93078,      0.9304,     0.93001,     0.92845,     0.92756,     0.92705,     0.92605,     0.92558,     0.92495,     0.92438,     0.92415,     0.92368,     0.92325,     0.92283,     0.92249,     0.92224,     0.92199,     0.92174,     0.91968,      0.9191,     0.91904,     0.91904,     0.91904,\n",
      "            0.91904,     0.91866,     0.91804,     0.91741,     0.91607,     0.91423,     0.91344,     0.91244,     0.91192,     0.91192,     0.91063,     0.90974,     0.90884,     0.90836,     0.90836,     0.90836,     0.90836,     0.90561,     0.90515,     0.90301,     0.90264,     0.90227,     0.90128,\n",
      "            0.89889,     0.89851,      0.8984,      0.8983,     0.89819,     0.89809,     0.89798,     0.89788,     0.89777,     0.89741,     0.89576,      0.8954,     0.89504,      0.8941,       0.893,     0.89146,     0.89146,     0.89146,     0.89146,     0.89146,     0.89146,     0.89076,     0.89057,\n",
      "             0.8903,      0.8897,     0.88879,     0.88879,     0.88879,     0.88879,     0.88849,     0.88806,     0.88692,     0.88671,     0.88649,     0.88628,     0.88612,     0.88612,     0.88539,     0.88433,     0.88308,     0.88167,     0.88065,     0.87986,     0.87839,     0.87697,     0.87669,\n",
      "             0.8764,     0.87604,     0.87566,     0.87544,     0.87544,     0.87544,     0.87544,     0.87263,     0.87238,     0.87213,     0.87188,     0.87165,     0.87143,     0.87121,       0.871,       0.871,     0.87043,     0.86866,     0.86833,     0.86833,     0.86833,     0.86708,     0.86664,\n",
      "            0.86555,     0.86517,      0.8648,     0.86299,     0.86246,      0.8621,     0.86121,     0.86121,     0.86121,     0.86121,      0.8594,     0.85902,     0.85864,     0.85854,     0.85641,     0.85583,     0.85509,     0.85344,      0.8532,      0.8532,      0.8532,     0.85231,     0.85231,\n",
      "            0.85223,     0.85177,     0.85077,     0.85034,     0.85012,      0.8499,     0.84968,     0.84732,      0.8463,     0.84549,     0.84468,     0.84431,     0.84347,     0.84272,     0.84214,     0.84129,     0.83808,     0.83789,     0.83768,     0.83746,     0.83724,       0.835,     0.83162,\n",
      "            0.83112,     0.82901,     0.82849,     0.82672,     0.82541,     0.82505,     0.82453,     0.82328,     0.82232,     0.82206,     0.82206,     0.82206,     0.82206,     0.82206,     0.81992,     0.81939,     0.81893,     0.81758,     0.81667,     0.81584,     0.81584,     0.81576,     0.81559,\n",
      "            0.81543,     0.81527,     0.81511,      0.8149,      0.8134,     0.81119,     0.80888,     0.80823,     0.80763,     0.80686,     0.80644,      0.8059,     0.80445,     0.80302,     0.80208,     0.80158,     0.80152,     0.80145,     0.80138,     0.80132,     0.80125,     0.80118,     0.80111,\n",
      "            0.80105,     0.80098,     0.80091,     0.80085,     0.80078,     0.80071,     0.80005,     0.79951,     0.79906,     0.79804,     0.79689,     0.79624,     0.79553,     0.79406,     0.79251,     0.79192,     0.79093,     0.79066,      0.7904,     0.79013,     0.78965,     0.78876,     0.78721,\n",
      "            0.78657,     0.78469,      0.7833,     0.78283,     0.78262,     0.78241,      0.7822,      0.7819,     0.78118,      0.7802,     0.77982,     0.77944,     0.77655,     0.77613,      0.7758,      0.7758,     0.77501,     0.77154,      0.7711,     0.77081,     0.77052,     0.76989,     0.76868,\n",
      "            0.76747,     0.76651,     0.76567,     0.76331,     0.76188,     0.76056,     0.75909,     0.75859,     0.75825,     0.75753,     0.75365,     0.75162,     0.75124,     0.75036,     0.74963,     0.74925,     0.74781,     0.74574,      0.7453,     0.74447,     0.74283,     0.74252,      0.7422,\n",
      "            0.74144,     0.73989,     0.73797,     0.73691,     0.73589,     0.73496,     0.73207,     0.72929,     0.72691,     0.72562,     0.72326,     0.72255,     0.72198,      0.7211,     0.72032,     0.71782,     0.71732,     0.71684,     0.71638,     0.71558,     0.71309,     0.71234,     0.71089,\n",
      "            0.70928,      0.7079,     0.70637,     0.70561,     0.70431,     0.70381,     0.70068,     0.69837,     0.69671,     0.69529,     0.69335,     0.69121,     0.68793,     0.68678,     0.68622,     0.68542,     0.68466,     0.68149,     0.68072,     0.68002,     0.67828,     0.67535,     0.67373,\n",
      "            0.67143,     0.67094,     0.66912,     0.66551,     0.66283,     0.65991,     0.65929,     0.65814,     0.65775,     0.65616,     0.65295,     0.65203,     0.64945,     0.64777,     0.64451,     0.64161,     0.63769,     0.63628,      0.6321,     0.63004,     0.62776,     0.62446,     0.61833,\n",
      "            0.61673,     0.61471,     0.61383,     0.61077,     0.60572,     0.60173,     0.59517,     0.59387,     0.59132,       0.589,      0.5876,     0.58454,     0.58111,     0.57974,     0.57809,     0.57725,     0.57651,     0.57593,     0.57284,     0.56649,     0.56363,     0.56086,     0.55667,\n",
      "            0.55583,     0.55362,     0.55131,     0.54815,     0.54546,     0.54281,     0.53867,     0.53507,     0.53383,     0.53251,     0.53004,     0.52612,     0.52427,       0.522,     0.52142,     0.51934,     0.51698,     0.51268,     0.50918,     0.50267,     0.49799,     0.49483,     0.49194,\n",
      "            0.48883,     0.48499,      0.4802,     0.47742,     0.47555,     0.47231,      0.4624,     0.45707,     0.45551,     0.45184,     0.44811,     0.44473,     0.44152,     0.44012,     0.43851,     0.43689,     0.43318,     0.42978,     0.42625,     0.42352,     0.41779,     0.41571,     0.41209,\n",
      "            0.40858,      0.4048,     0.40331,     0.39762,     0.39364,     0.39023,     0.38442,     0.38105,      0.3789,     0.37629,     0.37341,     0.37053,     0.36643,      0.3643,     0.35918,     0.35533,     0.35244,     0.34728,     0.34397,     0.34176,     0.33614,     0.33192,     0.32934,\n",
      "            0.32375,     0.31753,     0.31471,     0.31168,     0.30854,     0.30366,     0.29939,      0.2917,     0.28892,     0.28705,     0.28252,     0.27997,     0.27777,     0.27521,     0.27433,     0.27202,     0.26893,     0.26709,     0.26296,     0.25887,     0.25476,      0.2511,      0.2459,\n",
      "            0.24248,     0.24111,     0.24027,     0.23658,     0.23049,     0.22712,     0.22445,     0.22096,     0.21876,     0.21435,     0.21131,     0.21026,     0.20793,     0.20664,     0.20481,     0.20156,     0.19885,     0.19722,     0.19495,     0.19236,     0.19069,     0.18753,     0.18496,\n",
      "            0.18169,     0.17736,     0.17537,     0.17397,     0.17055,     0.16875,     0.16617,     0.16346,     0.16246,     0.16009,     0.15884,     0.15774,     0.15625,     0.15575,     0.15545,     0.15517,     0.15489,     0.15145,     0.14694,     0.14142,     0.14094,     0.13962,     0.13893,\n",
      "            0.13754,     0.13612,     0.13541,     0.13405,     0.13338,     0.13118,     0.12703,     0.12596,     0.12547,     0.12116,     0.11955,     0.11732,     0.11656,     0.11357,     0.10991,      0.1082,     0.10725,     0.10611,     0.10146,    0.098571,    0.098186,    0.095637,    0.094031,\n",
      "           0.091936,    0.087658,    0.083659,    0.079892,     0.07919,    0.076925,     0.07315,    0.069571,    0.066905,    0.063687,    0.060713,    0.056882,    0.055218,    0.051381,    0.044162,    0.038654,    0.034819,    0.031026,    0.029004,    0.026213,    0.024052,    0.020205,    0.014921,\n",
      "           0.014308,    0.011895,   0.0095124,   0.0089526,   0.0072138,   0.0065461,   0.0056456,   0.0047101,   0.0041438,   0.0037048,   0.0026834,   0.0024948,   0.0023186,   0.0021424,   0.0019662,     0.00179,           0,           0,           0,           0,           0,           0,           0,\n",
      "                  0,           0,           0,           0,           0,           0,           0,           0,           0,           0,           0,           0,           0,           0,           0,           0,           0,           0,           0,           0,           0,           0,           0,\n",
      "                  0,           0,           0,           0,           0,           0,           0,           0,           0,           0,           0]]), 'Confidence', 'Recall']]\n",
      "fitness: 0.7073476383860441\n",
      "keys: ['metrics/precision(B)', 'metrics/recall(B)', 'metrics/mAP50(B)', 'metrics/mAP50-95(B)']\n",
      "maps: array([    0.67824])\n",
      "names: {0: 'drone'}\n",
      "plot: True\n",
      "results_dict: {'metrics/precision(B)': 0.9280382636298982, 'metrics/recall(B)': 0.9523051079612894, 'metrics/mAP50(B)': 0.9693326288181736, 'metrics/mAP50-95(B)': 0.6782381950046964, 'fitness': 0.7073476383860441}\n",
      "save_dir: WindowsPath('runs/detect/val')\n",
      "speed: {'preprocess': 0.1975193790764428, 'inference': 5.146142709273092, 'loss': 0.0005365003528763817, 'postprocess': 0.7262161805244953}\n",
      "task: 'detect'\n"
     ]
    }
   ],
   "source": [
    "from ultralytics import YOLO\n",
    "\n",
    "# Load trained YOLOv8 model\n",
    "MODEL_PATH = \"runs/detect/train74/weights/best.pt\"\n",
    "model = YOLO(MODEL_PATH)\n",
    "\n",
    "# Path to test dataset YAML file\n",
    "TEST_DATASET_YAML = f\"{DATASET_PATH}/data.yaml\"  # Change this\n",
    "\n",
    "# Run evaluation on the test dataset\n",
    "metrics = model.val(data=TEST_DATASET_YAML, split=\"test\")  # Use split=\"test\" for test dataset\n",
    "\n",
    "# Print key accuracy metrics\n",
    "print(metrics)  # mAP, precision, recall, F1-score, etc.\n"
   ],
   "metadata": {
    "collapsed": false,
    "ExecuteTime": {
     "end_time": "2025-02-17T10:32:26.773509Z",
     "start_time": "2025-02-17T10:31:55.225060Z"
    }
   },
   "id": "5033d3fde22c4fe4",
   "execution_count": 9
  },
  {
   "cell_type": "code",
   "outputs": [
    {
     "name": "stdout",
     "output_type": "stream",
     "text": [
      "0: 384x640 2 drones, 8.1ms\n",
      "Speed: 2.2ms preprocess, 8.1ms inference, 1.2ms postprocess per image at shape (1, 3, 384, 640)\n",
      "\n",
      "0: 384x640 2 drones, 7.2ms\n",
      "Speed: 1.5ms preprocess, 7.2ms inference, 1.1ms postprocess per image at shape (1, 3, 384, 640)\n",
      "0: 384x640 2 drones, 13.0ms\n",
      "Speed: 1.4ms preprocess, 13.0ms inference, 2.5ms postprocess per image at shape (1, 3, 384, 640)\n",
      "\n",
      "0: 384x640 2 drones, 7.1ms\n",
      "Speed: 1.3ms preprocess, 7.1ms inference, 1.1ms postprocess per image at shape (1, 3, 384, 640)\n",
      "0: 384x640 2 drones, 7.7ms\n",
      "Speed: 1.2ms preprocess, 7.7ms inference, 1.1ms postprocess per image at shape (1, 3, 384, 640)\n",
      "\n",
      "0: 384x640 2 drones, 7.5ms\n",
      "Speed: 1.4ms preprocess, 7.5ms inference, 1.1ms postprocess per image at shape (1, 3, 384, 640)\n",
      "0: 384x640 2 drones, 7.6ms\n",
      "Speed: 1.3ms preprocess, 7.6ms inference, 1.9ms postprocess per image at shape (1, 3, 384, 640)\n",
      "\n",
      "0: 384x640 2 drones, 7.7ms\n",
      "Speed: 1.3ms preprocess, 7.7ms inference, 1.2ms postprocess per image at shape (1, 3, 384, 640)\n",
      "0: 384x640 3 drones, 7.3ms\n",
      "Speed: 1.1ms preprocess, 7.3ms inference, 1.1ms postprocess per image at shape (1, 3, 384, 640)\n",
      "\n",
      "0: 384x640 1 drone, 7.4ms\n",
      "Speed: 1.2ms preprocess, 7.4ms inference, 1.1ms postprocess per image at shape (1, 3, 384, 640)\n",
      "\n",
      "0: 384x640 1 drone, 7.1ms\n",
      "Speed: 1.2ms preprocess, 7.1ms inference, 1.1ms postprocess per image at shape (1, 3, 384, 640)\n",
      "\n",
      "0: 384x640 2 drones, 7.9ms\n",
      "Speed: 1.6ms preprocess, 7.9ms inference, 1.2ms postprocess per image at shape (1, 3, 384, 640)\n",
      "\n",
      "0: 384x640 1 drone, 10.7ms\n",
      "Speed: 1.4ms preprocess, 10.7ms inference, 1.6ms postprocess per image at shape (1, 3, 384, 640)\n",
      "\n",
      "0: 384x640 1 drone, 7.3ms\n",
      "Speed: 1.5ms preprocess, 7.3ms inference, 1.1ms postprocess per image at shape (1, 3, 384, 640)\n",
      "0: 384x640 1 drone, 7.6ms\n",
      "Speed: 1.3ms preprocess, 7.6ms inference, 2.8ms postprocess per image at shape (1, 3, 384, 640)\n",
      "\n",
      "0: 384x640 1 drone, 7.5ms\n",
      "Speed: 1.6ms preprocess, 7.5ms inference, 1.4ms postprocess per image at shape (1, 3, 384, 640)\n",
      "0: 384x640 1 drone, 8.2ms\n",
      "Speed: 1.5ms preprocess, 8.2ms inference, 1.3ms postprocess per image at shape (1, 3, 384, 640)\n",
      "\n",
      "0: 384x640 1 drone, 7.5ms\n",
      "Speed: 1.5ms preprocess, 7.5ms inference, 1.2ms postprocess per image at shape (1, 3, 384, 640)\n",
      "0: 384x640 1 drone, 13.1ms\n",
      "Speed: 1.7ms preprocess, 13.1ms inference, 2.5ms postprocess per image at shape (1, 3, 384, 640)\n",
      "\n",
      "0: 384x640 1 drone, 7.7ms\n",
      "Speed: 1.3ms preprocess, 7.7ms inference, 1.1ms postprocess per image at shape (1, 3, 384, 640)\n",
      "0: 384x640 1 drone, 13.1ms\n",
      "Speed: 1.7ms preprocess, 13.1ms inference, 2.4ms postprocess per image at shape (1, 3, 384, 640)\n",
      "\n",
      "0: 384x640 1 drone, 7.2ms\n",
      "Speed: 1.3ms preprocess, 7.2ms inference, 1.1ms postprocess per image at shape (1, 3, 384, 640)\n",
      "\n",
      "0: 384x640 1 drone, 7.4ms\n",
      "Speed: 1.4ms preprocess, 7.4ms inference, 1.1ms postprocess per image at shape (1, 3, 384, 640)\n",
      "0: 384x640 1 drone, 8.9ms\n",
      "Speed: 1.5ms preprocess, 8.9ms inference, 1.5ms postprocess per image at shape (1, 3, 384, 640)\n",
      "\n",
      "0: 384x640 1 drone, 7.3ms\n",
      "Speed: 1.5ms preprocess, 7.3ms inference, 1.6ms postprocess per image at shape (1, 3, 384, 640)\n",
      "0: 384x640 2 drones, 7.2ms\n",
      "Speed: 1.3ms preprocess, 7.2ms inference, 1.1ms postprocess per image at shape (1, 3, 384, 640)\n",
      "\n",
      "0: 384x640 1 drone, 7.3ms\n",
      "Speed: 1.6ms preprocess, 7.3ms inference, 1.2ms postprocess per image at shape (1, 3, 384, 640)\n",
      "0: 384x640 2 drones, 7.1ms\n",
      "Speed: 1.3ms preprocess, 7.1ms inference, 1.1ms postprocess per image at shape (1, 3, 384, 640)\n",
      "\n",
      "0: 384x640 1 drone, 7.5ms\n",
      "Speed: 1.3ms preprocess, 7.5ms inference, 1.1ms postprocess per image at shape (1, 3, 384, 640)\n",
      "0: 384x640 2 drones, 7.1ms\n",
      "Speed: 1.7ms preprocess, 7.1ms inference, 1.1ms postprocess per image at shape (1, 3, 384, 640)\n",
      "\n",
      "0: 384x640 1 drone, 7.5ms\n",
      "Speed: 1.3ms preprocess, 7.5ms inference, 1.6ms postprocess per image at shape (1, 3, 384, 640)\n",
      "0: 384x640 1 drone, 7.3ms\n",
      "Speed: 1.3ms preprocess, 7.3ms inference, 1.1ms postprocess per image at shape (1, 3, 384, 640)\n",
      "\n",
      "0: 384x640 1 drone, 7.6ms\n",
      "Speed: 1.5ms preprocess, 7.6ms inference, 1.1ms postprocess per image at shape (1, 3, 384, 640)\n",
      "0: 384x640 1 drone, 7.2ms\n",
      "Speed: 1.3ms preprocess, 7.2ms inference, 1.1ms postprocess per image at shape (1, 3, 384, 640)\n",
      "\n",
      "0: 384x640 1 drone, 7.4ms\n",
      "Speed: 1.2ms preprocess, 7.4ms inference, 1.3ms postprocess per image at shape (1, 3, 384, 640)\n",
      "0: 384x640 1 drone, 7.1ms\n",
      "Speed: 1.3ms preprocess, 7.1ms inference, 1.1ms postprocess per image at shape (1, 3, 384, 640)\n",
      "\n",
      "0: 384x640 1 drone, 7.1ms\n",
      "Speed: 1.4ms preprocess, 7.1ms inference, 2.2ms postprocess per image at shape (1, 3, 384, 640)\n",
      "0: 384x640 1 drone, 7.1ms\n",
      "Speed: 1.3ms preprocess, 7.1ms inference, 1.1ms postprocess per image at shape (1, 3, 384, 640)\n",
      "\n",
      "0: 384x640 1 drone, 7.1ms\n",
      "Speed: 1.2ms preprocess, 7.1ms inference, 1.1ms postprocess per image at shape (1, 3, 384, 640)\n",
      "0: 384x640 2 drones, 9.0ms\n",
      "Speed: 1.3ms preprocess, 9.0ms inference, 1.3ms postprocess per image at shape (1, 3, 384, 640)\n",
      "\n",
      "0: 384x640 1 drone, 7.1ms\n",
      "Speed: 1.3ms preprocess, 7.1ms inference, 1.2ms postprocess per image at shape (1, 3, 384, 640)\n",
      "0: 384x640 1 drone, 7.0ms\n",
      "Speed: 1.2ms preprocess, 7.0ms inference, 1.1ms postprocess per image at shape (1, 3, 384, 640)\n",
      "\n",
      "0: 384x640 2 drones, 6.9ms\n",
      "Speed: 1.2ms preprocess, 6.9ms inference, 1.1ms postprocess per image at shape (1, 3, 384, 640)\n",
      "\n",
      "0: 384x640 2 drones, 7.2ms\n",
      "Speed: 1.2ms preprocess, 7.2ms inference, 1.1ms postprocess per image at shape (1, 3, 384, 640)\n",
      "\n",
      "0: 384x640 2 drones, 7.5ms\n",
      "Speed: 1.2ms preprocess, 7.5ms inference, 1.1ms postprocess per image at shape (1, 3, 384, 640)\n",
      "\n",
      "0: 384x640 1 drone, 8.2ms\n",
      "Speed: 1.3ms preprocess, 8.2ms inference, 1.2ms postprocess per image at shape (1, 3, 384, 640)\n",
      "0: 384x640 1 drone, 7.3ms\n",
      "Speed: 1.3ms preprocess, 7.3ms inference, 1.1ms postprocess per image at shape (1, 3, 384, 640)\n",
      "\n",
      "0: 384x640 1 drone, 7.7ms\n",
      "Speed: 1.4ms preprocess, 7.7ms inference, 1.1ms postprocess per image at shape (1, 3, 384, 640)\n",
      "0: 384x640 1 drone, 7.5ms\n",
      "Speed: 1.4ms preprocess, 7.5ms inference, 1.2ms postprocess per image at shape (1, 3, 384, 640)\n",
      "\n",
      "0: 384x640 1 drone, 7.5ms\n",
      "Speed: 1.3ms preprocess, 7.5ms inference, 1.3ms postprocess per image at shape (1, 3, 384, 640)\n",
      "0: 384x640 1 drone, 9.0ms\n",
      "Speed: 1.3ms preprocess, 9.0ms inference, 1.6ms postprocess per image at shape (1, 3, 384, 640)\n",
      "\n",
      "0: 384x640 1 drone, 9.4ms\n",
      "Speed: 1.3ms preprocess, 9.4ms inference, 1.6ms postprocess per image at shape (1, 3, 384, 640)\n",
      "0: 384x640 1 drone, 7.3ms\n",
      "Speed: 1.3ms preprocess, 7.3ms inference, 1.1ms postprocess per image at shape (1, 3, 384, 640)\n",
      "\n",
      "0: 384x640 1 drone, 7.5ms\n",
      "Speed: 1.3ms preprocess, 7.5ms inference, 1.8ms postprocess per image at shape (1, 3, 384, 640)\n",
      "0: 384x640 1 drone, 7.2ms\n",
      "Speed: 1.3ms preprocess, 7.2ms inference, 1.1ms postprocess per image at shape (1, 3, 384, 640)\n",
      "\n",
      "0: 384x640 1 drone, 9.2ms\n",
      "Speed: 1.3ms preprocess, 9.2ms inference, 1.6ms postprocess per image at shape (1, 3, 384, 640)\n",
      "0: 384x640 1 drone, 7.1ms\n",
      "Speed: 1.3ms preprocess, 7.1ms inference, 1.1ms postprocess per image at shape (1, 3, 384, 640)\n",
      "\n",
      "0: 384x640 1 drone, 7.2ms\n",
      "Speed: 1.4ms preprocess, 7.2ms inference, 1.3ms postprocess per image at shape (1, 3, 384, 640)\n",
      "0: 384x640 1 drone, 7.3ms\n",
      "Speed: 1.3ms preprocess, 7.3ms inference, 1.1ms postprocess per image at shape (1, 3, 384, 640)\n",
      "\n",
      "0: 384x640 1 drone, 7.3ms\n",
      "Speed: 1.3ms preprocess, 7.3ms inference, 1.3ms postprocess per image at shape (1, 3, 384, 640)\n",
      "0: 384x640 1 drone, 7.4ms\n",
      "Speed: 1.4ms preprocess, 7.4ms inference, 1.2ms postprocess per image at shape (1, 3, 384, 640)\n",
      "\n",
      "0: 384x640 1 drone, 7.9ms\n",
      "Speed: 1.4ms preprocess, 7.9ms inference, 1.4ms postprocess per image at shape (1, 3, 384, 640)\n",
      "0: 384x640 1 drone, 7.7ms\n",
      "Speed: 1.5ms preprocess, 7.7ms inference, 1.2ms postprocess per image at shape (1, 3, 384, 640)\n",
      "\n",
      "0: 384x640 1 drone, 9.0ms\n",
      "Speed: 1.4ms preprocess, 9.0ms inference, 2.5ms postprocess per image at shape (1, 3, 384, 640)\n",
      "\n",
      "0: 384x640 1 drone, 7.2ms\n",
      "Speed: 1.7ms preprocess, 7.2ms inference, 1.1ms postprocess per image at shape (1, 3, 384, 640)\n",
      "0: 384x640 1 drone, 7.7ms\n",
      "Speed: 1.4ms preprocess, 7.7ms inference, 1.1ms postprocess per image at shape (1, 3, 384, 640)\n",
      "\n",
      "0: 384x640 1 drone, 7.4ms\n",
      "Speed: 1.6ms preprocess, 7.4ms inference, 1.2ms postprocess per image at shape (1, 3, 384, 640)\n",
      "0: 384x640 1 drone, 7.1ms\n",
      "Speed: 1.7ms preprocess, 7.1ms inference, 1.1ms postprocess per image at shape (1, 3, 384, 640)\n",
      "\n",
      "0: 384x640 1 drone, 7.6ms\n",
      "Speed: 1.6ms preprocess, 7.6ms inference, 1.6ms postprocess per image at shape (1, 3, 384, 640)\n",
      "0: 384x640 1 drone, 7.7ms\n",
      "Speed: 1.5ms preprocess, 7.7ms inference, 1.5ms postprocess per image at shape (1, 3, 384, 640)\n",
      "\n",
      "0: 384x640 1 drone, 7.2ms\n",
      "Speed: 1.4ms preprocess, 7.2ms inference, 1.1ms postprocess per image at shape (1, 3, 384, 640)\n",
      "0: 384x640 1 drone, 7.2ms\n",
      "Speed: 1.4ms preprocess, 7.2ms inference, 1.1ms postprocess per image at shape (1, 3, 384, 640)\n",
      "\n",
      "0: 384x640 1 drone, 7.2ms\n",
      "Speed: 1.4ms preprocess, 7.2ms inference, 1.1ms postprocess per image at shape (1, 3, 384, 640)\n",
      "0: 384x640 2 drones, 7.3ms\n",
      "Speed: 1.3ms preprocess, 7.3ms inference, 1.7ms postprocess per image at shape (1, 3, 384, 640)\n",
      "\n",
      "0: 384x640 1 drone, 7.2ms\n",
      "Speed: 1.7ms preprocess, 7.2ms inference, 1.1ms postprocess per image at shape (1, 3, 384, 640)\n",
      "0: 384x640 1 drone, 8.9ms\n",
      "Speed: 1.4ms preprocess, 8.9ms inference, 1.6ms postprocess per image at shape (1, 3, 384, 640)\n",
      "\n",
      "0: 384x640 1 drone, 7.1ms\n",
      "Speed: 1.6ms preprocess, 7.1ms inference, 1.1ms postprocess per image at shape (1, 3, 384, 640)\n",
      "\n",
      "0: 384x640 1 drone, 7.0ms\n",
      "Speed: 1.2ms preprocess, 7.0ms inference, 1.1ms postprocess per image at shape (1, 3, 384, 640)\n",
      "\n",
      "0: 384x640 1 drone, 6.9ms\n",
      "Speed: 1.1ms preprocess, 6.9ms inference, 1.1ms postprocess per image at shape (1, 3, 384, 640)\n",
      "\n",
      "0: 384x640 1 drone, 7.4ms\n",
      "Speed: 1.3ms preprocess, 7.4ms inference, 1.8ms postprocess per image at shape (1, 3, 384, 640)\n",
      "0: 384x640 1 drone, 7.7ms\n",
      "Speed: 1.3ms preprocess, 7.7ms inference, 1.2ms postprocess per image at shape (1, 3, 384, 640)\n",
      "\n",
      "0: 384x640 1 drone, 7.2ms\n",
      "Speed: 1.5ms preprocess, 7.2ms inference, 1.2ms postprocess per image at shape (1, 3, 384, 640)\n",
      "0: 384x640 1 drone, 9.3ms\n",
      "Speed: 1.4ms preprocess, 9.3ms inference, 1.6ms postprocess per image at shape (1, 3, 384, 640)\n",
      "\n",
      "0: 384x640 1 drone, 7.1ms\n",
      "Speed: 1.4ms preprocess, 7.1ms inference, 1.2ms postprocess per image at shape (1, 3, 384, 640)\n",
      "0: 384x640 1 drone, 9.3ms\n",
      "Speed: 1.5ms preprocess, 9.3ms inference, 1.6ms postprocess per image at shape (1, 3, 384, 640)\n",
      "\n",
      "0: 384x640 1 drone, 7.5ms\n",
      "Speed: 1.7ms preprocess, 7.5ms inference, 1.1ms postprocess per image at shape (1, 3, 384, 640)\n",
      "0: 384x640 1 drone, 7.6ms\n",
      "Speed: 1.4ms preprocess, 7.6ms inference, 1.2ms postprocess per image at shape (1, 3, 384, 640)\n",
      "\n",
      "0: 384x640 1 drone, 7.7ms\n",
      "Speed: 1.5ms preprocess, 7.7ms inference, 1.2ms postprocess per image at shape (1, 3, 384, 640)\n",
      "0: 384x640 1 drone, 7.5ms\n",
      "Speed: 1.4ms preprocess, 7.5ms inference, 1.8ms postprocess per image at shape (1, 3, 384, 640)\n",
      "\n",
      "0: 384x640 1 drone, 7.4ms\n",
      "Speed: 1.3ms preprocess, 7.4ms inference, 1.2ms postprocess per image at shape (1, 3, 384, 640)\n",
      "0: 384x640 2 drones, 8.0ms\n",
      "Speed: 1.4ms preprocess, 8.0ms inference, 1.2ms postprocess per image at shape (1, 3, 384, 640)\n",
      "\n",
      "0: 384x640 1 drone, 7.4ms\n",
      "Speed: 1.3ms preprocess, 7.4ms inference, 1.1ms postprocess per image at shape (1, 3, 384, 640)\n",
      "0: 384x640 1 drone, 7.7ms\n",
      "Speed: 1.6ms preprocess, 7.7ms inference, 1.7ms postprocess per image at shape (1, 3, 384, 640)\n",
      "\n",
      "0: 384x640 1 drone, 8.8ms\n",
      "Speed: 1.4ms preprocess, 8.8ms inference, 1.5ms postprocess per image at shape (1, 3, 384, 640)\n",
      "0: 384x640 1 drone, 9.2ms\n",
      "Speed: 1.5ms preprocess, 9.2ms inference, 1.6ms postprocess per image at shape (1, 3, 384, 640)\n",
      "\n",
      "0: 384x640 1 drone, 7.1ms\n",
      "Speed: 1.4ms preprocess, 7.1ms inference, 1.1ms postprocess per image at shape (1, 3, 384, 640)\n",
      "0: 384x640 1 drone, 9.1ms\n",
      "Speed: 1.5ms preprocess, 9.1ms inference, 2.0ms postprocess per image at shape (1, 3, 384, 640)\n",
      "\n",
      "0: 384x640 1 drone, 8.8ms\n",
      "Speed: 1.3ms preprocess, 8.8ms inference, 1.5ms postprocess per image at shape (1, 3, 384, 640)\n",
      "\n",
      "0: 384x640 1 drone, 7.4ms\n",
      "Speed: 1.3ms preprocess, 7.4ms inference, 1.3ms postprocess per image at shape (1, 3, 384, 640)\n",
      "0: 384x640 1 drone, 7.7ms\n",
      "Speed: 1.3ms preprocess, 7.7ms inference, 1.2ms postprocess per image at shape (1, 3, 384, 640)\n",
      "\n",
      "0: 384x640 1 drone, 7.5ms\n",
      "Speed: 1.6ms preprocess, 7.5ms inference, 1.4ms postprocess per image at shape (1, 3, 384, 640)\n",
      "0: 384x640 1 drone, 7.2ms\n",
      "Speed: 1.4ms preprocess, 7.2ms inference, 1.5ms postprocess per image at shape (1, 3, 384, 640)\n",
      "\n",
      "0: 384x640 1 drone, 7.5ms\n",
      "Speed: 1.5ms preprocess, 7.5ms inference, 2.0ms postprocess per image at shape (1, 3, 384, 640)\n",
      "0: 384x640 1 drone, 9.3ms\n",
      "Speed: 1.3ms preprocess, 9.3ms inference, 1.6ms postprocess per image at shape (1, 3, 384, 640)\n",
      "\n",
      "0: 384x640 1 drone, 9.3ms\n",
      "Speed: 1.4ms preprocess, 9.3ms inference, 1.5ms postprocess per image at shape (1, 3, 384, 640)\n",
      "0: 384x640 1 drone, 7.9ms\n",
      "Speed: 1.5ms preprocess, 7.9ms inference, 1.2ms postprocess per image at shape (1, 3, 384, 640)\n",
      "\n",
      "0: 384x640 1 drone, 9.2ms\n",
      "Speed: 1.4ms preprocess, 9.2ms inference, 1.5ms postprocess per image at shape (1, 3, 384, 640)\n",
      "0: 384x640 1 drone, 7.4ms\n",
      "Speed: 1.3ms preprocess, 7.4ms inference, 1.2ms postprocess per image at shape (1, 3, 384, 640)\n",
      "\n",
      "0: 384x640 1 drone, 7.6ms\n",
      "Speed: 1.6ms preprocess, 7.6ms inference, 1.3ms postprocess per image at shape (1, 3, 384, 640)\n",
      "0: 384x640 1 drone, 7.6ms\n",
      "Speed: 1.5ms preprocess, 7.6ms inference, 1.2ms postprocess per image at shape (1, 3, 384, 640)\n",
      "\n",
      "0: 384x640 1 drone, 11.8ms\n",
      "Speed: 1.8ms preprocess, 11.8ms inference, 2.3ms postprocess per image at shape (1, 3, 384, 640)\n",
      "\n",
      "0: 384x640 1 drone, 7.1ms\n",
      "Speed: 1.2ms preprocess, 7.1ms inference, 1.1ms postprocess per image at shape (1, 3, 384, 640)\n",
      "\n",
      "0: 384x640 2 drones, 8.7ms\n",
      "Speed: 1.3ms preprocess, 8.7ms inference, 1.4ms postprocess per image at shape (1, 3, 384, 640)\n",
      "\n",
      "0: 384x640 2 drones, 7.9ms\n",
      "Speed: 1.3ms preprocess, 7.9ms inference, 1.7ms postprocess per image at shape (1, 3, 384, 640)\n",
      "0: 384x640 2 drones, 8.2ms\n",
      "Speed: 1.5ms preprocess, 8.2ms inference, 1.2ms postprocess per image at shape (1, 3, 384, 640)\n",
      "\n",
      "0: 384x640 2 drones, 8.3ms\n",
      "Speed: 1.4ms preprocess, 8.3ms inference, 1.5ms postprocess per image at shape (1, 3, 384, 640)\n",
      "0: 384x640 2 drones, 7.3ms\n",
      "Speed: 1.5ms preprocess, 7.3ms inference, 1.3ms postprocess per image at shape (1, 3, 384, 640)\n",
      "\n",
      "0: 384x640 1 drone, 7.4ms\n",
      "Speed: 1.3ms preprocess, 7.4ms inference, 1.1ms postprocess per image at shape (1, 3, 384, 640)\n",
      "0: 384x640 1 drone, 7.6ms\n",
      "Speed: 1.3ms preprocess, 7.6ms inference, 1.4ms postprocess per image at shape (1, 3, 384, 640)\n",
      "\n",
      "0: 384x640 1 drone, 9.2ms\n",
      "Speed: 1.6ms preprocess, 9.2ms inference, 1.6ms postprocess per image at shape (1, 3, 384, 640)\n",
      "\n",
      "0: 384x640 1 drone, 7.9ms\n",
      "Speed: 1.7ms preprocess, 7.9ms inference, 1.5ms postprocess per image at shape (1, 3, 384, 640)\n",
      "\n",
      "0: 384x640 1 drone, 7.1ms\n",
      "Speed: 1.6ms preprocess, 7.1ms inference, 1.1ms postprocess per image at shape (1, 3, 384, 640)\n",
      "\n",
      "0: 384x640 1 drone, 7.4ms\n",
      "Speed: 1.5ms preprocess, 7.4ms inference, 1.2ms postprocess per image at shape (1, 3, 384, 640)\n",
      "\n",
      "0: 384x640 1 drone, 7.0ms\n",
      "Speed: 1.3ms preprocess, 7.0ms inference, 1.1ms postprocess per image at shape (1, 3, 384, 640)\n",
      "0: 384x640 1 drone, 7.7ms\n",
      "Speed: 1.5ms preprocess, 7.7ms inference, 2.0ms postprocess per image at shape (1, 3, 384, 640)\n",
      "\n",
      "0: 384x640 2 drones, 7.3ms\n",
      "Speed: 1.4ms preprocess, 7.3ms inference, 1.1ms postprocess per image at shape (1, 3, 384, 640)\n",
      "0: 384x640 1 drone, 7.2ms\n",
      "Speed: 1.3ms preprocess, 7.2ms inference, 1.4ms postprocess per image at shape (1, 3, 384, 640)\n",
      "\n",
      "0: 384x640 1 drone, 7.0ms\n",
      "Speed: 1.3ms preprocess, 7.0ms inference, 1.6ms postprocess per image at shape (1, 3, 384, 640)\n",
      "0: 384x640 1 drone, 9.3ms\n",
      "Speed: 1.4ms preprocess, 9.3ms inference, 2.4ms postprocess per image at shape (1, 3, 384, 640)\n",
      "\n",
      "0: 384x640 1 drone, 8.8ms\n",
      "Speed: 1.4ms preprocess, 8.8ms inference, 1.6ms postprocess per image at shape (1, 3, 384, 640)\n",
      "\n",
      "0: 384x640 1 drone, 7.9ms\n",
      "Speed: 1.3ms preprocess, 7.9ms inference, 1.8ms postprocess per image at shape (1, 3, 384, 640)\n",
      "0: 384x640 2 drones, 7.2ms\n",
      "Speed: 1.6ms preprocess, 7.2ms inference, 1.3ms postprocess per image at shape (1, 3, 384, 640)\n",
      "\n",
      "0: 384x640 2 drones, 7.8ms\n",
      "Speed: 1.3ms preprocess, 7.8ms inference, 1.2ms postprocess per image at shape (1, 3, 384, 640)\n",
      "0: 384x640 2 drones, 9.2ms\n",
      "Speed: 1.6ms preprocess, 9.2ms inference, 1.6ms postprocess per image at shape (1, 3, 384, 640)\n",
      "\n",
      "0: 384x640 1 drone, 9.3ms\n",
      "Speed: 1.4ms preprocess, 9.3ms inference, 1.6ms postprocess per image at shape (1, 3, 384, 640)\n",
      "0: 384x640 1 drone, 7.3ms\n",
      "Speed: 1.4ms preprocess, 7.3ms inference, 1.2ms postprocess per image at shape (1, 3, 384, 640)\n",
      "\n",
      "0: 384x640 1 drone, 7.4ms\n",
      "Speed: 1.4ms preprocess, 7.4ms inference, 1.1ms postprocess per image at shape (1, 3, 384, 640)\n",
      "0: 384x640 2 drones, 7.3ms\n",
      "Speed: 1.3ms preprocess, 7.3ms inference, 1.1ms postprocess per image at shape (1, 3, 384, 640)\n",
      "\n",
      "0: 384x640 1 drone, 7.6ms\n",
      "Speed: 1.3ms preprocess, 7.6ms inference, 1.4ms postprocess per image at shape (1, 3, 384, 640)\n",
      "0: 384x640 2 drones, 7.3ms\n",
      "Speed: 1.3ms preprocess, 7.3ms inference, 1.1ms postprocess per image at shape (1, 3, 384, 640)\n",
      "\n",
      "0: 384x640 2 drones, 8.0ms\n",
      "Speed: 1.4ms preprocess, 8.0ms inference, 1.8ms postprocess per image at shape (1, 3, 384, 640)\n",
      "0: 384x640 2 drones, 7.3ms\n",
      "Speed: 1.4ms preprocess, 7.3ms inference, 1.1ms postprocess per image at shape (1, 3, 384, 640)\n",
      "\n",
      "0: 384x640 1 drone, 7.2ms\n",
      "Speed: 1.4ms preprocess, 7.2ms inference, 1.5ms postprocess per image at shape (1, 3, 384, 640)\n",
      "0: 384x640 1 drone, 7.4ms\n",
      "Speed: 1.4ms preprocess, 7.4ms inference, 1.2ms postprocess per image at shape (1, 3, 384, 640)\n",
      "\n",
      "0: 384x640 1 drone, 7.5ms\n",
      "Speed: 1.3ms preprocess, 7.5ms inference, 1.1ms postprocess per image at shape (1, 3, 384, 640)\n",
      "\n",
      "0: 384x640 1 drone, 9.1ms\n",
      "Speed: 1.3ms preprocess, 9.1ms inference, 1.5ms postprocess per image at shape (1, 3, 384, 640)\n",
      "\n",
      "0: 384x640 1 drone, 10.3ms\n",
      "Speed: 1.3ms preprocess, 10.3ms inference, 1.7ms postprocess per image at shape (1, 3, 384, 640)\n",
      "\n",
      "0: 384x640 1 drone, 7.2ms\n",
      "Speed: 1.4ms preprocess, 7.2ms inference, 1.4ms postprocess per image at shape (1, 3, 384, 640)\n",
      "\n",
      "0: 384x640 1 drone, 7.8ms\n",
      "Speed: 1.5ms preprocess, 7.8ms inference, 1.7ms postprocess per image at shape (1, 3, 384, 640)\n",
      "\n",
      "0: 384x640 2 drones, 7.2ms\n",
      "Speed: 1.4ms preprocess, 7.2ms inference, 1.1ms postprocess per image at shape (1, 3, 384, 640)\n",
      "\n",
      "0: 384x640 2 drones, 7.3ms\n",
      "Speed: 1.4ms preprocess, 7.3ms inference, 1.1ms postprocess per image at shape (1, 3, 384, 640)\n",
      "0: 384x640 1 drone, 7.1ms\n",
      "Speed: 1.4ms preprocess, 7.1ms inference, 1.2ms postprocess per image at shape (1, 3, 384, 640)\n",
      "\n",
      "0: 384x640 2 drones, 7.4ms\n",
      "Speed: 1.9ms preprocess, 7.4ms inference, 1.7ms postprocess per image at shape (1, 3, 384, 640)\n",
      "0: 384x640 1 drone, 7.3ms\n",
      "Speed: 1.4ms preprocess, 7.3ms inference, 1.1ms postprocess per image at shape (1, 3, 384, 640)\n",
      "\n",
      "0: 384x640 2 drones, 7.4ms\n",
      "Speed: 1.3ms preprocess, 7.4ms inference, 1.6ms postprocess per image at shape (1, 3, 384, 640)\n",
      "0: 384x640 2 drones, 7.2ms\n",
      "Speed: 1.4ms preprocess, 7.2ms inference, 1.1ms postprocess per image at shape (1, 3, 384, 640)\n",
      "\n",
      "0: 384x640 1 drone, 7.1ms\n",
      "Speed: 1.3ms preprocess, 7.1ms inference, 1.1ms postprocess per image at shape (1, 3, 384, 640)\n",
      "0: 384x640 2 drones, 7.1ms\n",
      "Speed: 1.3ms preprocess, 7.1ms inference, 1.6ms postprocess per image at shape (1, 3, 384, 640)\n",
      "\n",
      "0: 384x640 1 drone, 9.3ms\n",
      "Speed: 1.4ms preprocess, 9.3ms inference, 1.5ms postprocess per image at shape (1, 3, 384, 640)\n",
      "\n",
      "0: 384x640 1 drone, 9.0ms\n",
      "Speed: 1.4ms preprocess, 9.0ms inference, 1.5ms postprocess per image at shape (1, 3, 384, 640)\n",
      "0: 384x640 1 drone, 9.1ms\n",
      "Speed: 1.3ms preprocess, 9.1ms inference, 1.7ms postprocess per image at shape (1, 3, 384, 640)\n",
      "\n",
      "0: 384x640 1 drone, 7.2ms\n",
      "Speed: 1.3ms preprocess, 7.2ms inference, 1.1ms postprocess per image at shape (1, 3, 384, 640)\n",
      "0: 384x640 1 drone, 8.0ms\n",
      "Speed: 1.4ms preprocess, 8.0ms inference, 1.2ms postprocess per image at shape (1, 3, 384, 640)\n",
      "\n",
      "0: 384x640 1 drone, 7.7ms\n",
      "Speed: 1.5ms preprocess, 7.7ms inference, 1.2ms postprocess per image at shape (1, 3, 384, 640)\n",
      "0: 384x640 1 drone, 9.0ms\n",
      "Speed: 1.5ms preprocess, 9.0ms inference, 1.7ms postprocess per image at shape (1, 3, 384, 640)\n",
      "\n",
      "0: 384x640 1 drone, 7.1ms\n",
      "Speed: 1.4ms preprocess, 7.1ms inference, 1.1ms postprocess per image at shape (1, 3, 384, 640)\n",
      "0: 384x640 1 drone, 9.6ms\n",
      "Speed: 1.3ms preprocess, 9.6ms inference, 1.7ms postprocess per image at shape (1, 3, 384, 640)\n",
      "\n",
      "0: 384x640 1 drone, 8.9ms\n",
      "Speed: 1.4ms preprocess, 8.9ms inference, 2.2ms postprocess per image at shape (1, 3, 384, 640)\n",
      "\n",
      "0: 384x640 1 drone, 7.4ms\n",
      "Speed: 1.6ms preprocess, 7.4ms inference, 1.2ms postprocess per image at shape (1, 3, 384, 640)\n",
      "0: 384x640 2 drones, 8.9ms\n",
      "Speed: 1.3ms preprocess, 8.9ms inference, 1.6ms postprocess per image at shape (1, 3, 384, 640)\n",
      "\n",
      "0: 384x640 1 drone, 7.6ms\n",
      "Speed: 1.4ms preprocess, 7.6ms inference, 1.6ms postprocess per image at shape (1, 3, 384, 640)\n",
      "0: 384x640 1 drone, 9.2ms\n",
      "Speed: 1.4ms preprocess, 9.2ms inference, 1.6ms postprocess per image at shape (1, 3, 384, 640)\n",
      "\n",
      "0: 384x640 1 drone, 8.7ms\n",
      "Speed: 1.5ms preprocess, 8.7ms inference, 1.6ms postprocess per image at shape (1, 3, 384, 640)\n",
      "\n",
      "0: 384x640 1 drone, 7.2ms\n",
      "Speed: 1.4ms preprocess, 7.2ms inference, 1.2ms postprocess per image at shape (1, 3, 384, 640)\n",
      "0: 384x640 1 drone, 7.2ms\n",
      "Speed: 1.3ms preprocess, 7.2ms inference, 1.1ms postprocess per image at shape (1, 3, 384, 640)\n",
      "\n",
      "0: 384x640 1 drone, 7.1ms\n",
      "Speed: 1.2ms preprocess, 7.1ms inference, 1.1ms postprocess per image at shape (1, 3, 384, 640)\n",
      "\n",
      "0: 384x640 1 drone, 7.4ms\n",
      "Speed: 1.8ms preprocess, 7.4ms inference, 1.7ms postprocess per image at shape (1, 3, 384, 640)\n",
      "\n",
      "0: 384x640 1 drone, 7.8ms\n",
      "Speed: 1.4ms preprocess, 7.8ms inference, 1.2ms postprocess per image at shape (1, 3, 384, 640)\n",
      "\n",
      "0: 384x640 1 drone, 7.4ms\n",
      "Speed: 1.4ms preprocess, 7.4ms inference, 1.2ms postprocess per image at shape (1, 3, 384, 640)\n",
      "0: 384x640 1 drone, 7.2ms\n",
      "Speed: 1.4ms preprocess, 7.2ms inference, 1.2ms postprocess per image at shape (1, 3, 384, 640)\n",
      "\n",
      "0: 384x640 1 drone, 9.1ms\n",
      "Speed: 1.3ms preprocess, 9.1ms inference, 1.6ms postprocess per image at shape (1, 3, 384, 640)\n",
      "\n",
      "0: 384x640 1 drone, 7.4ms\n",
      "Speed: 1.4ms preprocess, 7.4ms inference, 1.3ms postprocess per image at shape (1, 3, 384, 640)\n",
      "\n",
      "0: 384x640 2 drones, 7.2ms\n",
      "Speed: 1.4ms preprocess, 7.2ms inference, 1.1ms postprocess per image at shape (1, 3, 384, 640)\n",
      "0: 384x640 2 drones, 7.2ms\n",
      "Speed: 1.4ms preprocess, 7.2ms inference, 1.1ms postprocess per image at shape (1, 3, 384, 640)\n",
      "\n",
      "0: 384x640 2 drones, 9.3ms\n",
      "Speed: 1.5ms preprocess, 9.3ms inference, 1.6ms postprocess per image at shape (1, 3, 384, 640)\n",
      "0: 384x640 2 drones, 9.0ms\n",
      "Speed: 1.3ms preprocess, 9.0ms inference, 2.2ms postprocess per image at shape (1, 3, 384, 640)\n",
      "\n",
      "0: 384x640 2 drones, 7.2ms\n",
      "Speed: 1.4ms preprocess, 7.2ms inference, 1.1ms postprocess per image at shape (1, 3, 384, 640)\n",
      "0: 384x640 1 drone, 7.1ms\n",
      "Speed: 1.4ms preprocess, 7.1ms inference, 1.7ms postprocess per image at shape (1, 3, 384, 640)\n",
      "\n",
      "0: 384x640 1 drone, 7.1ms\n",
      "Speed: 1.4ms preprocess, 7.1ms inference, 1.1ms postprocess per image at shape (1, 3, 384, 640)\n",
      "\n",
      "0: 384x640 2 drones, 7.6ms\n",
      "Speed: 1.4ms preprocess, 7.6ms inference, 1.3ms postprocess per image at shape (1, 3, 384, 640)\n",
      "0: 384x640 1 drone, 9.0ms\n",
      "Speed: 1.4ms preprocess, 9.0ms inference, 1.6ms postprocess per image at shape (1, 3, 384, 640)\n",
      "\n",
      "0: 384x640 2 drones, 9.1ms\n",
      "Speed: 1.3ms preprocess, 9.1ms inference, 1.7ms postprocess per image at shape (1, 3, 384, 640)\n",
      "0: 384x640 2 drones, 7.2ms\n",
      "Speed: 1.4ms preprocess, 7.2ms inference, 1.1ms postprocess per image at shape (1, 3, 384, 640)\n",
      "\n",
      "0: 384x640 1 drone, 8.0ms\n",
      "Speed: 1.3ms preprocess, 8.0ms inference, 1.2ms postprocess per image at shape (1, 3, 384, 640)\n",
      "0: 384x640 1 drone, 7.2ms\n",
      "Speed: 1.4ms preprocess, 7.2ms inference, 1.1ms postprocess per image at shape (1, 3, 384, 640)\n",
      "\n",
      "0: 384x640 1 drone, 7.5ms\n",
      "Speed: 1.4ms preprocess, 7.5ms inference, 1.2ms postprocess per image at shape (1, 3, 384, 640)\n",
      "0: 384x640 1 drone, 7.5ms\n",
      "Speed: 1.3ms preprocess, 7.5ms inference, 1.2ms postprocess per image at shape (1, 3, 384, 640)\n",
      "\n",
      "0: 384x640 2 drones, 7.2ms\n",
      "Speed: 1.4ms preprocess, 7.2ms inference, 1.8ms postprocess per image at shape (1, 3, 384, 640)\n",
      "0: 384x640 1 drone, 7.2ms\n",
      "Speed: 1.4ms preprocess, 7.2ms inference, 1.2ms postprocess per image at shape (1, 3, 384, 640)\n",
      "\n",
      "0: 384x640 1 drone, 7.7ms\n",
      "Speed: 1.4ms preprocess, 7.7ms inference, 1.2ms postprocess per image at shape (1, 3, 384, 640)\n",
      "0: 384x640 1 drone, 7.4ms\n",
      "Speed: 1.8ms preprocess, 7.4ms inference, 1.2ms postprocess per image at shape (1, 3, 384, 640)\n",
      "\n",
      "0: 384x640 1 drone, 10.2ms\n",
      "Speed: 1.7ms preprocess, 10.2ms inference, 1.8ms postprocess per image at shape (1, 3, 384, 640)\n",
      "\n",
      "0: 384x640 1 drone, 7.3ms\n",
      "Speed: 1.3ms preprocess, 7.3ms inference, 1.4ms postprocess per image at shape (1, 3, 384, 640)\n",
      "0: 384x640 1 drone, 7.2ms\n",
      "Speed: 1.3ms preprocess, 7.2ms inference, 1.4ms postprocess per image at shape (1, 3, 384, 640)\n",
      "\n",
      "0: 384x640 1 drone, 7.2ms\n",
      "Speed: 2.2ms preprocess, 7.2ms inference, 1.2ms postprocess per image at shape (1, 3, 384, 640)\n",
      "\n",
      "0: 384x640 1 drone, 8.3ms\n",
      "Speed: 1.4ms preprocess, 8.3ms inference, 1.2ms postprocess per image at shape (1, 3, 384, 640)\n",
      "0: 384x640 1 drone, 7.3ms\n",
      "Speed: 1.3ms preprocess, 7.3ms inference, 1.2ms postprocess per image at shape (1, 3, 384, 640)\n",
      "\n",
      "0: 384x640 1 drone, 7.3ms\n",
      "Speed: 1.2ms preprocess, 7.3ms inference, 1.2ms postprocess per image at shape (1, 3, 384, 640)\n",
      "\n",
      "0: 384x640 2 drones, 7.5ms\n",
      "Speed: 1.3ms preprocess, 7.5ms inference, 1.2ms postprocess per image at shape (1, 3, 384, 640)\n",
      "\n",
      "0: 384x640 2 drones, 8.5ms\n",
      "Speed: 1.3ms preprocess, 8.5ms inference, 1.7ms postprocess per image at shape (1, 3, 384, 640)\n",
      "0: 384x640 1 drone, 9.2ms\n",
      "Speed: 1.4ms preprocess, 9.2ms inference, 1.4ms postprocess per image at shape (1, 3, 384, 640)\n",
      "\n",
      "0: 384x640 1 drone, 8.3ms\n",
      "Speed: 2.2ms preprocess, 8.3ms inference, 1.2ms postprocess per image at shape (1, 3, 384, 640)\n",
      "\n",
      "0: 384x640 1 drone, 7.2ms\n",
      "Speed: 1.7ms preprocess, 7.2ms inference, 1.1ms postprocess per image at shape (1, 3, 384, 640)\n",
      "0: 384x640 1 drone, 7.3ms\n",
      "Speed: 1.5ms preprocess, 7.3ms inference, 1.3ms postprocess per image at shape (1, 3, 384, 640)\n",
      "\n",
      "0: 384x640 1 drone, 7.4ms\n",
      "Speed: 1.4ms preprocess, 7.4ms inference, 1.2ms postprocess per image at shape (1, 3, 384, 640)\n",
      "0: 384x640 1 drone, 8.1ms\n",
      "Speed: 1.4ms preprocess, 8.1ms inference, 2.0ms postprocess per image at shape (1, 3, 384, 640)\n",
      "\n",
      "0: 384x640 1 drone, 7.2ms\n",
      "Speed: 1.3ms preprocess, 7.2ms inference, 1.1ms postprocess per image at shape (1, 3, 384, 640)\n",
      "\n",
      "0: 384x640 1 drone, 7.1ms\n",
      "Speed: 1.6ms preprocess, 7.1ms inference, 1.1ms postprocess per image at shape (1, 3, 384, 640)\n",
      "\n",
      "0: 384x640 1 drone, 7.1ms\n",
      "Speed: 1.4ms preprocess, 7.1ms inference, 1.1ms postprocess per image at shape (1, 3, 384, 640)\n",
      "\n",
      "0: 384x640 1 drone, 6.9ms\n",
      "Speed: 1.3ms preprocess, 6.9ms inference, 1.3ms postprocess per image at shape (1, 3, 384, 640)\n",
      "\n",
      "0: 384x640 1 drone, 7.2ms\n",
      "Speed: 1.4ms preprocess, 7.2ms inference, 1.4ms postprocess per image at shape (1, 3, 384, 640)\n",
      "\n",
      "0: 384x640 1 drone, 7.2ms\n",
      "Speed: 1.4ms preprocess, 7.2ms inference, 1.1ms postprocess per image at shape (1, 3, 384, 640)\n",
      "\n",
      "0: 384x640 1 drone, 7.4ms\n",
      "Speed: 1.4ms preprocess, 7.4ms inference, 1.1ms postprocess per image at shape (1, 3, 384, 640)\n",
      "0: 384x640 1 drone, 7.8ms\n",
      "Speed: 1.3ms preprocess, 7.8ms inference, 1.2ms postprocess per image at shape (1, 3, 384, 640)\n",
      "\n",
      "0: 384x640 1 drone, 7.2ms\n",
      "Speed: 1.5ms preprocess, 7.2ms inference, 1.1ms postprocess per image at shape (1, 3, 384, 640)\n",
      "0: 384x640 1 drone, 7.7ms\n",
      "Speed: 1.2ms preprocess, 7.7ms inference, 1.8ms postprocess per image at shape (1, 3, 384, 640)\n",
      "\n",
      "0: 384x640 1 drone, 9.0ms\n",
      "Speed: 1.4ms preprocess, 9.0ms inference, 1.5ms postprocess per image at shape (1, 3, 384, 640)\n",
      "0: 384x640 1 drone, 7.4ms\n",
      "Speed: 1.3ms preprocess, 7.4ms inference, 1.9ms postprocess per image at shape (1, 3, 384, 640)\n",
      "\n",
      "0: 384x640 1 drone, 7.4ms\n",
      "Speed: 1.5ms preprocess, 7.4ms inference, 1.2ms postprocess per image at shape (1, 3, 384, 640)\n",
      "0: 384x640 1 drone, 7.1ms\n",
      "Speed: 1.3ms preprocess, 7.1ms inference, 1.5ms postprocess per image at shape (1, 3, 384, 640)\n",
      "\n",
      "0: 384x640 1 drone, 7.2ms\n",
      "Speed: 1.2ms preprocess, 7.2ms inference, 1.1ms postprocess per image at shape (1, 3, 384, 640)\n",
      "0: 384x640 1 drone, 7.1ms\n",
      "Speed: 1.3ms preprocess, 7.1ms inference, 1.1ms postprocess per image at shape (1, 3, 384, 640)\n",
      "\n",
      "0: 384x640 1 drone, 7.1ms\n",
      "Speed: 1.4ms preprocess, 7.1ms inference, 1.1ms postprocess per image at shape (1, 3, 384, 640)\n",
      "0: 384x640 1 drone, 7.0ms\n",
      "Speed: 1.3ms preprocess, 7.0ms inference, 1.1ms postprocess per image at shape (1, 3, 384, 640)\n",
      "\n",
      "0: 384x640 1 drone, 7.7ms\n",
      "Speed: 1.5ms preprocess, 7.7ms inference, 1.2ms postprocess per image at shape (1, 3, 384, 640)\n",
      "0: 384x640 1 drone, 7.0ms\n",
      "Speed: 1.3ms preprocess, 7.0ms inference, 1.1ms postprocess per image at shape (1, 3, 384, 640)\n",
      "\n",
      "0: 384x640 1 drone, 7.7ms\n",
      "Speed: 1.6ms preprocess, 7.7ms inference, 1.1ms postprocess per image at shape (1, 3, 384, 640)\n",
      "0: 384x640 2 drones, 7.2ms\n",
      "Speed: 1.3ms preprocess, 7.2ms inference, 1.1ms postprocess per image at shape (1, 3, 384, 640)\n",
      "\n",
      "0: 384x640 2 drones, 9.2ms\n",
      "Speed: 1.4ms preprocess, 9.2ms inference, 1.5ms postprocess per image at shape (1, 3, 384, 640)\n",
      "\n",
      "0: 384x640 2 drones, 7.1ms\n",
      "Speed: 1.3ms preprocess, 7.1ms inference, 1.4ms postprocess per image at shape (1, 3, 384, 640)\n",
      "0: 384x640 1 drone, 7.5ms\n",
      "Speed: 1.3ms preprocess, 7.5ms inference, 1.1ms postprocess per image at shape (1, 3, 384, 640)\n",
      "\n",
      "0: 384x640 1 drone, 7.3ms\n",
      "Speed: 1.2ms preprocess, 7.3ms inference, 1.1ms postprocess per image at shape (1, 3, 384, 640)\n",
      "\n",
      "0: 384x640 2 drones, 8.7ms\n",
      "Speed: 1.1ms preprocess, 8.7ms inference, 1.1ms postprocess per image at shape (1, 3, 384, 640)\n",
      "\n",
      "0: 384x640 2 drones, 7.0ms\n",
      "Speed: 1.1ms preprocess, 7.0ms inference, 1.1ms postprocess per image at shape (1, 3, 384, 640)\n",
      "\n",
      "0: 384x640 2 drones, 7.6ms\n",
      "Speed: 1.4ms preprocess, 7.6ms inference, 2.1ms postprocess per image at shape (1, 3, 384, 640)\n",
      "0: 384x640 2 drones, 7.2ms\n",
      "Speed: 1.2ms preprocess, 7.2ms inference, 1.1ms postprocess per image at shape (1, 3, 384, 640)\n",
      "\n",
      "0: 384x640 1 drone, 8.0ms\n",
      "Speed: 1.3ms preprocess, 8.0ms inference, 1.2ms postprocess per image at shape (1, 3, 384, 640)\n",
      "\n",
      "0: 384x640 2 drones, 7.3ms\n",
      "Speed: 1.4ms preprocess, 7.3ms inference, 1.1ms postprocess per image at shape (1, 3, 384, 640)\n",
      "0: 384x640 1 drone, 9.0ms\n",
      "Speed: 1.3ms preprocess, 9.0ms inference, 1.6ms postprocess per image at shape (1, 3, 384, 640)\n",
      "\n",
      "0: 384x640 1 drone, 9.0ms\n",
      "Speed: 1.3ms preprocess, 9.0ms inference, 1.5ms postprocess per image at shape (1, 3, 384, 640)\n",
      "0: 384x640 1 drone, 7.3ms\n",
      "Speed: 1.5ms preprocess, 7.3ms inference, 2.3ms postprocess per image at shape (1, 3, 384, 640)\n",
      "\n",
      "0: 384x640 1 drone, 7.1ms\n",
      "Speed: 1.5ms preprocess, 7.1ms inference, 1.1ms postprocess per image at shape (1, 3, 384, 640)\n",
      "0: 384x640 1 drone, 7.2ms\n",
      "Speed: 1.2ms preprocess, 7.2ms inference, 1.1ms postprocess per image at shape (1, 3, 384, 640)\n",
      "\n",
      "0: 384x640 2 drones, 7.6ms\n",
      "Speed: 1.5ms preprocess, 7.6ms inference, 1.1ms postprocess per image at shape (1, 3, 384, 640)\n",
      "0: 384x640 1 drone, 9.3ms\n",
      "Speed: 1.5ms preprocess, 9.3ms inference, 1.6ms postprocess per image at shape (1, 3, 384, 640)\n",
      "\n",
      "0: 384x640 1 drone, 7.1ms\n",
      "Speed: 1.3ms preprocess, 7.1ms inference, 1.1ms postprocess per image at shape (1, 3, 384, 640)\n",
      "0: 384x640 1 drone, 9.1ms\n",
      "Speed: 1.4ms preprocess, 9.1ms inference, 1.6ms postprocess per image at shape (1, 3, 384, 640)\n",
      "\n",
      "0: 384x640 1 drone, 7.2ms\n",
      "Speed: 1.8ms preprocess, 7.2ms inference, 1.1ms postprocess per image at shape (1, 3, 384, 640)\n",
      "0: 384x640 1 drone, 7.3ms\n",
      "Speed: 1.4ms preprocess, 7.3ms inference, 1.2ms postprocess per image at shape (1, 3, 384, 640)\n",
      "\n",
      "0: 384x640 1 drone, 7.2ms\n",
      "Speed: 1.6ms preprocess, 7.2ms inference, 1.6ms postprocess per image at shape (1, 3, 384, 640)\n",
      "0: 384x640 2 drones, 7.1ms\n",
      "Speed: 1.2ms preprocess, 7.1ms inference, 1.1ms postprocess per image at shape (1, 3, 384, 640)\n",
      "\n",
      "0: 384x640 2 drones, 7.5ms\n",
      "Speed: 1.3ms preprocess, 7.5ms inference, 1.5ms postprocess per image at shape (1, 3, 384, 640)\n",
      "0: 384x640 2 drones, 7.4ms\n",
      "Speed: 1.4ms preprocess, 7.4ms inference, 1.2ms postprocess per image at shape (1, 3, 384, 640)\n",
      "\n",
      "0: 384x640 1 drone, 7.9ms\n",
      "Speed: 1.4ms preprocess, 7.9ms inference, 1.1ms postprocess per image at shape (1, 3, 384, 640)\n",
      "0: 384x640 1 drone, 9.3ms\n",
      "Speed: 1.3ms preprocess, 9.3ms inference, 2.2ms postprocess per image at shape (1, 3, 384, 640)\n",
      "\n",
      "0: 384x640 1 drone, 7.3ms\n",
      "Speed: 1.4ms preprocess, 7.3ms inference, 1.2ms postprocess per image at shape (1, 3, 384, 640)\n",
      "0: 384x640 1 drone, 7.1ms\n",
      "Speed: 1.6ms preprocess, 7.1ms inference, 1.1ms postprocess per image at shape (1, 3, 384, 640)\n",
      "\n",
      "0: 384x640 1 drone, 7.5ms\n",
      "Speed: 1.2ms preprocess, 7.5ms inference, 1.1ms postprocess per image at shape (1, 3, 384, 640)\n",
      "0: 384x640 1 drone, 9.1ms\n",
      "Speed: 1.4ms preprocess, 9.1ms inference, 1.5ms postprocess per image at shape (1, 3, 384, 640)\n",
      "\n",
      "0: 384x640 1 drone, 7.4ms\n",
      "Speed: 1.3ms preprocess, 7.4ms inference, 1.1ms postprocess per image at shape (1, 3, 384, 640)\n",
      "0: 384x640 1 drone, 7.2ms\n",
      "Speed: 1.4ms preprocess, 7.2ms inference, 1.3ms postprocess per image at shape (1, 3, 384, 640)\n",
      "\n",
      "0: 384x640 1 drone, 7.6ms\n",
      "Speed: 1.3ms preprocess, 7.6ms inference, 1.2ms postprocess per image at shape (1, 3, 384, 640)\n",
      "0: 384x640 1 drone, 7.4ms\n",
      "Speed: 1.2ms preprocess, 7.4ms inference, 1.1ms postprocess per image at shape (1, 3, 384, 640)\n",
      "\n",
      "0: 384x640 1 drone, 7.8ms\n",
      "Speed: 1.3ms preprocess, 7.8ms inference, 1.3ms postprocess per image at shape (1, 3, 384, 640)\n",
      "0: 384x640 1 drone, 7.0ms\n",
      "Speed: 1.4ms preprocess, 7.0ms inference, 1.1ms postprocess per image at shape (1, 3, 384, 640)\n",
      "\n",
      "0: 384x640 1 drone, 7.2ms\n",
      "Speed: 1.5ms preprocess, 7.2ms inference, 2.0ms postprocess per image at shape (1, 3, 384, 640)\n",
      "0: 384x640 1 drone, 7.1ms\n",
      "Speed: 1.2ms preprocess, 7.1ms inference, 1.2ms postprocess per image at shape (1, 3, 384, 640)\n",
      "\n",
      "0: 384x640 1 drone, 6.9ms\n",
      "Speed: 1.1ms preprocess, 6.9ms inference, 1.1ms postprocess per image at shape (1, 3, 384, 640)\n",
      "\n",
      "0: 384x640 1 drone, 6.9ms\n",
      "Speed: 1.2ms preprocess, 6.9ms inference, 1.1ms postprocess per image at shape (1, 3, 384, 640)\n",
      "\n",
      "0: 384x640 2 drones, 8.8ms\n",
      "Speed: 1.2ms preprocess, 8.8ms inference, 1.6ms postprocess per image at shape (1, 3, 384, 640)\n",
      "\n",
      "0: 384x640 1 drone, 8.0ms\n",
      "Speed: 1.5ms preprocess, 8.0ms inference, 1.4ms postprocess per image at shape (1, 3, 384, 640)\n",
      "0: 384x640 1 drone, 7.3ms\n",
      "Speed: 1.3ms preprocess, 7.3ms inference, 1.2ms postprocess per image at shape (1, 3, 384, 640)\n",
      "\n",
      "0: 384x640 1 drone, 7.3ms\n",
      "Speed: 1.8ms preprocess, 7.3ms inference, 1.8ms postprocess per image at shape (1, 3, 384, 640)\n",
      "\n",
      "0: 384x640 1 drone, 7.2ms\n",
      "Speed: 1.4ms preprocess, 7.2ms inference, 1.1ms postprocess per image at shape (1, 3, 384, 640)\n",
      "\n",
      "0: 384x640 1 drone, 8.0ms\n",
      "Speed: 1.2ms preprocess, 8.0ms inference, 1.1ms postprocess per image at shape (1, 3, 384, 640)\n",
      "0: 384x640 1 drone, 7.3ms\n",
      "Speed: 1.3ms preprocess, 7.3ms inference, 1.1ms postprocess per image at shape (1, 3, 384, 640)\n",
      "\n",
      "0: 384x640 2 drones, 7.7ms\n",
      "Speed: 1.2ms preprocess, 7.7ms inference, 1.1ms postprocess per image at shape (1, 3, 384, 640)\n",
      "0: 384x640 2 drones, 6.9ms\n",
      "Speed: 1.3ms preprocess, 6.9ms inference, 1.2ms postprocess per image at shape (1, 3, 384, 640)\n",
      "\n",
      "0: 384x640 2 drones, 7.0ms\n",
      "Speed: 1.3ms preprocess, 7.0ms inference, 1.3ms postprocess per image at shape (1, 3, 384, 640)\n",
      "0: 384x640 2 drones, 7.0ms\n",
      "Speed: 1.2ms preprocess, 7.0ms inference, 1.1ms postprocess per image at shape (1, 3, 384, 640)\n",
      "\n",
      "0: 384x640 2 drones, 7.1ms\n",
      "Speed: 1.3ms preprocess, 7.1ms inference, 1.2ms postprocess per image at shape (1, 3, 384, 640)\n",
      "0: 384x640 2 drones, 7.0ms\n",
      "Speed: 1.3ms preprocess, 7.0ms inference, 1.1ms postprocess per image at shape (1, 3, 384, 640)\n",
      "\n",
      "0: 384x640 1 drone, 7.1ms\n",
      "Speed: 1.4ms preprocess, 7.1ms inference, 1.1ms postprocess per image at shape (1, 3, 384, 640)\n",
      "0: 384x640 2 drones, 9.2ms\n",
      "Speed: 1.5ms preprocess, 9.2ms inference, 1.6ms postprocess per image at shape (1, 3, 384, 640)\n",
      "\n",
      "0: 384x640 1 drone, 9.1ms\n",
      "Speed: 1.5ms preprocess, 9.1ms inference, 2.8ms postprocess per image at shape (1, 3, 384, 640)\n",
      "0: 384x640 1 drone, 7.4ms\n",
      "Speed: 1.2ms preprocess, 7.4ms inference, 1.1ms postprocess per image at shape (1, 3, 384, 640)\n",
      "\n",
      "0: 384x640 2 drones, 11.2ms\n",
      "Speed: 1.3ms preprocess, 11.2ms inference, 2.4ms postprocess per image at shape (1, 3, 384, 640)\n",
      "\n",
      "0: 384x640 2 drones, 7.4ms\n",
      "Speed: 1.3ms preprocess, 7.4ms inference, 1.5ms postprocess per image at shape (1, 3, 384, 640)\n",
      "0: 384x640 2 drones, 9.2ms\n",
      "Speed: 1.4ms preprocess, 9.2ms inference, 1.5ms postprocess per image at shape (1, 3, 384, 640)\n",
      "\n",
      "0: 384x640 1 drone, 9.0ms\n",
      "Speed: 1.2ms preprocess, 9.0ms inference, 1.6ms postprocess per image at shape (1, 3, 384, 640)\n",
      "Inference completed! Processed video saved at: G:\\Drone Detection\\untitled\\output_video.mp4\n"
     ]
    }
   ],
   "source": [
    "import cv2\n",
    "from ultralytics import YOLO\n",
    "\n",
    "# Load trained YOLOv8 model\n",
    "MODEL_PATH = \"runs/detect/train74/weights/best.pt\"\n",
    "model = YOLO(MODEL_PATH)\n",
    "\n",
    "# Input and output video paths\n",
    "VIDEO_PATH = r\"G:\\Drone Detection\\untitled\\27363-363524166_small.mp4\"   # Change this\n",
    "OUTPUT_PATH = r\"G:\\Drone Detection\\untitled\\output_video.mp4\"  # Change this\n",
    "\n",
    "# Set a higher confidence threshold\n",
    "CONF_THRESHOLD = 0.5  # Increase for better accuracy (e.g., 0.6, 0.7)\n",
    "\n",
    "# Open video file\n",
    "cap = cv2.VideoCapture(VIDEO_PATH)\n",
    "width = int(cap.get(cv2.CAP_PROP_FRAME_WIDTH))\n",
    "height = int(cap.get(cv2.CAP_PROP_FRAME_HEIGHT))\n",
    "fps = int(cap.get(cv2.CAP_PROP_FPS))\n",
    "\n",
    "# Define video writer\n",
    "fourcc = cv2.VideoWriter_fourcc(*\"mp4v\")  # MP4 codec\n",
    "out = cv2.VideoWriter(OUTPUT_PATH, fourcc, fps, (width, height))\n",
    "\n",
    "# Process video frame by frame\n",
    "frame_count = 0  # Track frames\n",
    "while cap.isOpened():\n",
    "    ret, frame = cap.read()\n",
    "    if not ret:\n",
    "        break  # Exit if no frame is read\n",
    "\n",
    "    # Run YOLO inference with higher confidence threshold\n",
    "    results = model(frame)[0]  # Get first result\n",
    "\n",
    "    # Draw bounding boxes on the frame\n",
    "    for box in results.boxes:\n",
    "        conf = box.conf[0].item()  # Confidence score\n",
    "        if conf < CONF_THRESHOLD:\n",
    "            continue  # Skip low-confidence detections\n",
    "\n",
    "        x1, y1, x2, y2 = map(int, box.xyxy[0])  # Bounding box coordinates\n",
    "        cls = int(box.cls[0].item())  # Class index\n",
    "        label = f\"{model.names[cls]}: {conf:.2f}\"  # Class label with confidence\n",
    "\n",
    "        # Draw rectangle and label\n",
    "        cv2.rectangle(frame, (x1, y1), (x2, y2), (0, 255, 0), 2)\n",
    "        cv2.putText(frame, label, (x1, y1 - 10), cv2.FONT_HERSHEY_SIMPLEX, 0.5, (0, 255, 0), 2)\n",
    "\n",
    "    # Write the frame to output video\n",
    "    out.write(frame)\n",
    "\n",
    "    frame_count += 1\n",
    "\n",
    "# Release resources\n",
    "cap.release()\n",
    "out.release()\n",
    "\n",
    "print(f\"Inference completed! Processed video saved at: {OUTPUT_PATH}\")\n"
   ],
   "metadata": {
    "collapsed": false,
    "ExecuteTime": {
     "end_time": "2025-02-17T10:41:49.620523Z",
     "start_time": "2025-02-17T10:41:44.165584Z"
    }
   },
   "id": "c02da1395026267b",
   "execution_count": 14
  },
  {
   "cell_type": "code",
   "outputs": [],
   "source": [],
   "metadata": {
    "collapsed": false
   },
   "id": "a9bed11ce8372571"
  }
 ],
 "metadata": {
  "kernelspec": {
   "display_name": "Python 3",
   "language": "python",
   "name": "python3"
  },
  "language_info": {
   "codemirror_mode": {
    "name": "ipython",
    "version": 2
   },
   "file_extension": ".py",
   "mimetype": "text/x-python",
   "name": "python",
   "nbconvert_exporter": "python",
   "pygments_lexer": "ipython2",
   "version": "2.7.6"
  }
 },
 "nbformat": 4,
 "nbformat_minor": 5
}
